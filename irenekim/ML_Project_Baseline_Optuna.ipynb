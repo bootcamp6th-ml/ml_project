{
  "cells": [
    {
      "cell_type": "markdown",
      "metadata": {
        "id": "view-in-github",
        "colab_type": "text"
      },
      "source": [
        "<a href=\"https://colab.research.google.com/github/JaeminKIM-Irene/FC_AI_ML_Project/blob/main/irenekim/ML_Project_Baseline_Optuna.ipynb\" target=\"_parent\"><img src=\"https://colab.research.google.com/assets/colab-badge.svg\" alt=\"Open In Colab\"/></a>"
      ]
    },
    {
      "cell_type": "code",
      "execution_count": null,
      "metadata": {
        "colab": {
          "base_uri": "https://localhost:8080/"
        },
        "id": "lbtR1wYDzced",
        "outputId": "44fb7c30-ac52-4bcd-bafd-462a7a681c17"
      },
      "outputs": [
        {
          "name": "stdout",
          "output_type": "stream",
          "text": [
            "Requirement already satisfied: xgboost in c:\\users\\tt21\\anaconda3\\lib\\site-packages (2.0.0)\n",
            "Requirement already satisfied: optuna in c:\\users\\tt21\\anaconda3\\lib\\site-packages (3.3.0)\n",
            "Requirement already satisfied: numpy in c:\\users\\tt21\\anaconda3\\lib\\site-packages (from xgboost) (1.23.5)\n",
            "Requirement already satisfied: scipy in c:\\users\\tt21\\anaconda3\\lib\\site-packages (from xgboost) (1.10.1)\n",
            "Requirement already satisfied: alembic>=1.5.0 in c:\\users\\tt21\\anaconda3\\lib\\site-packages (from optuna) (1.12.0)\n",
            "Requirement already satisfied: cmaes>=0.10.0 in c:\\users\\tt21\\anaconda3\\lib\\site-packages (from optuna) (0.10.0)\n",
            "Requirement already satisfied: colorlog in c:\\users\\tt21\\anaconda3\\lib\\site-packages (from optuna) (6.7.0)\n",
            "Requirement already satisfied: packaging>=20.0 in c:\\users\\tt21\\anaconda3\\lib\\site-packages (from optuna) (23.0)\n",
            "Requirement already satisfied: sqlalchemy>=1.3.0 in c:\\users\\tt21\\anaconda3\\lib\\site-packages (from optuna) (1.4.39)\n",
            "Requirement already satisfied: tqdm in c:\\users\\tt21\\anaconda3\\lib\\site-packages (from optuna) (4.65.0)\n",
            "Requirement already satisfied: PyYAML in c:\\users\\tt21\\anaconda3\\lib\\site-packages (from optuna) (6.0)\n",
            "Requirement already satisfied: Mako in c:\\users\\tt21\\anaconda3\\lib\\site-packages (from alembic>=1.5.0->optuna) (1.2.4)\n",
            "Requirement already satisfied: typing-extensions>=4 in c:\\users\\tt21\\anaconda3\\lib\\site-packages (from alembic>=1.5.0->optuna) (4.6.3)\n",
            "Requirement already satisfied: greenlet!=0.4.17 in c:\\users\\tt21\\anaconda3\\lib\\site-packages (from sqlalchemy>=1.3.0->optuna) (2.0.1)\n",
            "Requirement already satisfied: colorama in c:\\users\\tt21\\anaconda3\\lib\\site-packages (from colorlog->optuna) (0.4.6)\n",
            "Requirement already satisfied: MarkupSafe>=0.9.2 in c:\\users\\tt21\\anaconda3\\lib\\site-packages (from Mako->alembic>=1.5.0->optuna) (2.1.1)\n"
          ]
        }
      ],
      "source": [
        "# 설치에 필요한 라이브러리들이 있다면 모두 적어둡니다. anaconda에 기본적으로 설치되지 않은 라이브러리들을 적어두세요.\n",
        "!pip install xgboost optuna"
      ]
    },
    {
      "cell_type": "code",
      "execution_count": null,
      "metadata": {
        "id": "FZXOedhNz3CE"
      },
      "outputs": [],
      "source": [
        "import numpy as np\n",
        "import pandas as pd\n",
        "import matplotlib.pyplot as plt\n",
        "import seaborn as sns\n",
        "\n",
        "from lightgbm import LGBMClassifier\n",
        "from xgboost import XGBClassifier\n",
        "from sklearn.ensemble import ExtraTreesClassifier\n",
        "from catboost import CatBoostClassifier\n",
        "from sklearn.ensemble import RandomForestClassifier\n",
        "\n",
        "from sklearn.model_selection import KFold\n",
        "\n",
        "from sklearn.model_selection import StratifiedKFold\n",
        "from functools import partial\n",
        "\n",
        "from sklearn.metrics import roc_auc_score\n",
        "\n",
        "import optuna\n",
        "\n",
        "from sklearn.model_selection import StratifiedKFold\n",
        "from functools import partial\n",
        "\n",
        "from sklearn.metrics import roc_auc_score\n",
        "from sklearn.metrics import f1_score\n",
        "from sklearn.metrics import accuracy_score\n",
        "\n",
        "from sklearn.metrics import confusion_matrix"
      ]
    },
    {
      "cell_type": "code",
      "execution_count": null,
      "metadata": {
        "colab": {
          "base_uri": "https://localhost:8080/"
        },
        "id": "_3XtSOYZ0Doh",
        "outputId": "4a4fcaf8-a50b-4c66-e60b-c1e6ad3d71bf"
      },
      "outputs": [
        {
          "name": "stdout",
          "output_type": "stream",
          "text": [
            "Drive already mounted at /content/drive; to attempt to forcibly remount, call drive.mount(\"/content/drive\", force_remount=True).\n"
          ]
        }
      ],
      "source": [
        "# google drive mount\n",
        "from google.colab import drive\n",
        "drive.mount('/content/drive')"
      ]
    },
    {
      "cell_type": "code",
      "execution_count": null,
      "metadata": {
        "colab": {
          "base_uri": "https://localhost:8080/",
          "height": 349
        },
        "id": "hH_h_uby0GGs",
        "outputId": "d5288cf8-8d1c-4f5f-97e0-9695c08c4843"
      },
      "outputs": [
        {
          "data": {
            "text/html": [
              "<div>\n",
              "<style scoped>\n",
              "    .dataframe tbody tr th:only-of-type {\n",
              "        vertical-align: middle;\n",
              "    }\n",
              "\n",
              "    .dataframe tbody tr th {\n",
              "        vertical-align: top;\n",
              "    }\n",
              "\n",
              "    .dataframe thead th {\n",
              "        text-align: right;\n",
              "    }\n",
              "</style>\n",
              "<table border=\"1\" class=\"dataframe\">\n",
              "  <thead>\n",
              "    <tr style=\"text-align: right;\">\n",
              "      <th></th>\n",
              "      <th>loc</th>\n",
              "      <th>v(g)</th>\n",
              "      <th>ev(g)</th>\n",
              "      <th>iv(g)</th>\n",
              "      <th>n</th>\n",
              "      <th>v</th>\n",
              "      <th>l</th>\n",
              "      <th>d</th>\n",
              "      <th>i</th>\n",
              "      <th>e</th>\n",
              "      <th>...</th>\n",
              "      <th>lOCode</th>\n",
              "      <th>lOComment</th>\n",
              "      <th>lOBlank</th>\n",
              "      <th>locCodeAndComment</th>\n",
              "      <th>uniq_Op</th>\n",
              "      <th>uniq_Opnd</th>\n",
              "      <th>total_Op</th>\n",
              "      <th>total_Opnd</th>\n",
              "      <th>branchCount</th>\n",
              "      <th>defects</th>\n",
              "    </tr>\n",
              "    <tr>\n",
              "      <th>id</th>\n",
              "      <th></th>\n",
              "      <th></th>\n",
              "      <th></th>\n",
              "      <th></th>\n",
              "      <th></th>\n",
              "      <th></th>\n",
              "      <th></th>\n",
              "      <th></th>\n",
              "      <th></th>\n",
              "      <th></th>\n",
              "      <th></th>\n",
              "      <th></th>\n",
              "      <th></th>\n",
              "      <th></th>\n",
              "      <th></th>\n",
              "      <th></th>\n",
              "      <th></th>\n",
              "      <th></th>\n",
              "      <th></th>\n",
              "      <th></th>\n",
              "      <th></th>\n",
              "    </tr>\n",
              "  </thead>\n",
              "  <tbody>\n",
              "    <tr>\n",
              "      <th>0</th>\n",
              "      <td>22.0</td>\n",
              "      <td>3.0</td>\n",
              "      <td>1.0</td>\n",
              "      <td>2.0</td>\n",
              "      <td>60.0</td>\n",
              "      <td>278.63</td>\n",
              "      <td>0.06</td>\n",
              "      <td>19.56</td>\n",
              "      <td>14.25</td>\n",
              "      <td>5448.79</td>\n",
              "      <td>...</td>\n",
              "      <td>17</td>\n",
              "      <td>1</td>\n",
              "      <td>1</td>\n",
              "      <td>0</td>\n",
              "      <td>16.0</td>\n",
              "      <td>9.0</td>\n",
              "      <td>38.0</td>\n",
              "      <td>22.0</td>\n",
              "      <td>5.0</td>\n",
              "      <td>False</td>\n",
              "    </tr>\n",
              "    <tr>\n",
              "      <th>1</th>\n",
              "      <td>14.0</td>\n",
              "      <td>2.0</td>\n",
              "      <td>1.0</td>\n",
              "      <td>2.0</td>\n",
              "      <td>32.0</td>\n",
              "      <td>151.27</td>\n",
              "      <td>0.14</td>\n",
              "      <td>7.00</td>\n",
              "      <td>21.11</td>\n",
              "      <td>936.71</td>\n",
              "      <td>...</td>\n",
              "      <td>11</td>\n",
              "      <td>0</td>\n",
              "      <td>1</td>\n",
              "      <td>0</td>\n",
              "      <td>11.0</td>\n",
              "      <td>11.0</td>\n",
              "      <td>18.0</td>\n",
              "      <td>14.0</td>\n",
              "      <td>3.0</td>\n",
              "      <td>False</td>\n",
              "    </tr>\n",
              "    <tr>\n",
              "      <th>2</th>\n",
              "      <td>11.0</td>\n",
              "      <td>2.0</td>\n",
              "      <td>1.0</td>\n",
              "      <td>2.0</td>\n",
              "      <td>45.0</td>\n",
              "      <td>197.65</td>\n",
              "      <td>0.11</td>\n",
              "      <td>8.05</td>\n",
              "      <td>22.76</td>\n",
              "      <td>1754.01</td>\n",
              "      <td>...</td>\n",
              "      <td>8</td>\n",
              "      <td>0</td>\n",
              "      <td>1</td>\n",
              "      <td>0</td>\n",
              "      <td>12.0</td>\n",
              "      <td>11.0</td>\n",
              "      <td>28.0</td>\n",
              "      <td>17.0</td>\n",
              "      <td>3.0</td>\n",
              "      <td>False</td>\n",
              "    </tr>\n",
              "    <tr>\n",
              "      <th>...</th>\n",
              "      <td>...</td>\n",
              "      <td>...</td>\n",
              "      <td>...</td>\n",
              "      <td>...</td>\n",
              "      <td>...</td>\n",
              "      <td>...</td>\n",
              "      <td>...</td>\n",
              "      <td>...</td>\n",
              "      <td>...</td>\n",
              "      <td>...</td>\n",
              "      <td>...</td>\n",
              "      <td>...</td>\n",
              "      <td>...</td>\n",
              "      <td>...</td>\n",
              "      <td>...</td>\n",
              "      <td>...</td>\n",
              "      <td>...</td>\n",
              "      <td>...</td>\n",
              "      <td>...</td>\n",
              "      <td>...</td>\n",
              "      <td>...</td>\n",
              "    </tr>\n",
              "    <tr>\n",
              "      <th>101760</th>\n",
              "      <td>26.0</td>\n",
              "      <td>1.0</td>\n",
              "      <td>1.0</td>\n",
              "      <td>1.0</td>\n",
              "      <td>83.0</td>\n",
              "      <td>360.17</td>\n",
              "      <td>0.04</td>\n",
              "      <td>22.75</td>\n",
              "      <td>12.56</td>\n",
              "      <td>5893.69</td>\n",
              "      <td>...</td>\n",
              "      <td>20</td>\n",
              "      <td>0</td>\n",
              "      <td>4</td>\n",
              "      <td>0</td>\n",
              "      <td>10.0</td>\n",
              "      <td>8.0</td>\n",
              "      <td>51.0</td>\n",
              "      <td>28.0</td>\n",
              "      <td>1.0</td>\n",
              "      <td>False</td>\n",
              "    </tr>\n",
              "    <tr>\n",
              "      <th>101761</th>\n",
              "      <td>10.0</td>\n",
              "      <td>2.0</td>\n",
              "      <td>1.0</td>\n",
              "      <td>2.0</td>\n",
              "      <td>43.0</td>\n",
              "      <td>191.76</td>\n",
              "      <td>0.15</td>\n",
              "      <td>6.46</td>\n",
              "      <td>29.53</td>\n",
              "      <td>1534.04</td>\n",
              "      <td>...</td>\n",
              "      <td>7</td>\n",
              "      <td>0</td>\n",
              "      <td>1</td>\n",
              "      <td>0</td>\n",
              "      <td>11.0</td>\n",
              "      <td>14.0</td>\n",
              "      <td>24.0</td>\n",
              "      <td>19.0</td>\n",
              "      <td>3.0</td>\n",
              "      <td>False</td>\n",
              "    </tr>\n",
              "    <tr>\n",
              "      <th>101762</th>\n",
              "      <td>136.0</td>\n",
              "      <td>18.0</td>\n",
              "      <td>18.0</td>\n",
              "      <td>1.0</td>\n",
              "      <td>296.0</td>\n",
              "      <td>1704.57</td>\n",
              "      <td>0.02</td>\n",
              "      <td>44.82</td>\n",
              "      <td>44.08</td>\n",
              "      <td>77011.02</td>\n",
              "      <td>...</td>\n",
              "      <td>102</td>\n",
              "      <td>1</td>\n",
              "      <td>11</td>\n",
              "      <td>0</td>\n",
              "      <td>22.0</td>\n",
              "      <td>31.0</td>\n",
              "      <td>162.0</td>\n",
              "      <td>135.0</td>\n",
              "      <td>35.0</td>\n",
              "      <td>False</td>\n",
              "    </tr>\n",
              "  </tbody>\n",
              "</table>\n",
              "<p>101763 rows × 22 columns</p>\n",
              "</div>"
            ],
            "text/plain": [
              "          loc  v(g)  ev(g)  iv(g)      n        v     l      d      i  \\\n",
              "id                                                                      \n",
              "0        22.0   3.0    1.0    2.0   60.0   278.63  0.06  19.56  14.25   \n",
              "1        14.0   2.0    1.0    2.0   32.0   151.27  0.14   7.00  21.11   \n",
              "2        11.0   2.0    1.0    2.0   45.0   197.65  0.11   8.05  22.76   \n",
              "...       ...   ...    ...    ...    ...      ...   ...    ...    ...   \n",
              "101760   26.0   1.0    1.0    1.0   83.0   360.17  0.04  22.75  12.56   \n",
              "101761   10.0   2.0    1.0    2.0   43.0   191.76  0.15   6.46  29.53   \n",
              "101762  136.0  18.0   18.0    1.0  296.0  1704.57  0.02  44.82  44.08   \n",
              "\n",
              "               e  ...  lOCode  lOComment  lOBlank  locCodeAndComment  uniq_Op  \\\n",
              "id                ...                                                           \n",
              "0        5448.79  ...      17          1        1                  0     16.0   \n",
              "1         936.71  ...      11          0        1                  0     11.0   \n",
              "2        1754.01  ...       8          0        1                  0     12.0   \n",
              "...          ...  ...     ...        ...      ...                ...      ...   \n",
              "101760   5893.69  ...      20          0        4                  0     10.0   \n",
              "101761   1534.04  ...       7          0        1                  0     11.0   \n",
              "101762  77011.02  ...     102          1       11                  0     22.0   \n",
              "\n",
              "        uniq_Opnd  total_Op  total_Opnd  branchCount  defects  \n",
              "id                                                             \n",
              "0             9.0      38.0        22.0          5.0    False  \n",
              "1            11.0      18.0        14.0          3.0    False  \n",
              "2            11.0      28.0        17.0          3.0    False  \n",
              "...           ...       ...         ...          ...      ...  \n",
              "101760        8.0      51.0        28.0          1.0    False  \n",
              "101761       14.0      24.0        19.0          3.0    False  \n",
              "101762       31.0     162.0       135.0         35.0    False  \n",
              "\n",
              "[101763 rows x 22 columns]"
            ]
          },
          "metadata": {},
          "output_type": "display_data"
        }
      ],
      "source": [
        "# read data\n",
        "result_list = []\n",
        "base_url = './playground-series-s3e23/'\n",
        "train = pd.read_csv(base_url+'train.csv', index_col='id')\n",
        "test = pd.read_csv(base_url+'test.csv', index_col='id')\n",
        "submission = pd.read_csv(base_url+'sample_submission.csv', index_col='id')\n",
        "\n",
        "with pd.option_context('display.min_rows', 6) :\n",
        "  display(train)"
      ]
    },
    {
      "cell_type": "code",
      "execution_count": null,
      "metadata": {
        "id": "cPE2SWjs07bc"
      },
      "outputs": [],
      "source": [
        "# data split for baseline model\n",
        "from sklearn.model_selection import train_test_split\n",
        "\n",
        "X = train.drop(columns=['defects'])\n",
        "y = train.defects\n",
        "\n",
        "X_train, X_val, y_train, y_val = train_test_split(X, y, test_size=0.2, random_state=6, stratify=y)"
      ]
    },
    {
      "cell_type": "code",
      "execution_count": null,
      "metadata": {
        "colab": {
          "base_uri": "https://localhost:8080/"
        },
        "id": "wTRvtY9I1sHX",
        "outputId": "81d6fd4b-e1af-42ed-dc70-4db367ec5fb8"
      },
      "outputs": [
        {
          "name": "stdout",
          "output_type": "stream",
          "text": [
            "(81410, 21) (81410,) (20353, 21) (20353,)\n"
          ]
        }
      ],
      "source": [
        "print(X_train.shape, y_train.shape, X_val.shape, y_val.shape)"
      ]
    },
    {
      "cell_type": "markdown",
      "metadata": {
        "id": "GavXEb7M30MX"
      },
      "source": [
        "## Baseline Model"
      ]
    },
    {
      "cell_type": "code",
      "execution_count": null,
      "metadata": {
        "id": "mnrw9QThhoqN"
      },
      "outputs": [],
      "source": [
        "def optimizer(trial, X, y) :\n",
        "    #max_depth = trial.suggest_int('max_depth', 5, 15)\n",
        "    max_depth=6\n",
        "    #colsample_bynode = trial.suggest_float('colsample_bynode', 0.5, 0.8)\n",
        "    colsample_bynode = 0.5196407298366663\n",
        "    reg_lambda = trial.suggest_float('reg_lambda', 0.5, 5.0)\n",
        "    #reg_lambda = 4.6191759538097585\n",
        "    #learning_rate = trial.suggest_float('learning_rate', 0.001, 0.3)\n",
        "    learning_rate=0.03293571843473565\n",
        "    n_estimators = trial.suggest_int('n_estimators', 50, 200)\n",
        "    #n_estimators = 192\n",
        "\n",
        "\n",
        "    model = XGBClassifier(max_depth=max_depth,\n",
        "                            colsample_bynode=colsample_bynode,\n",
        "                            reg_lambda=reg_lambda,\n",
        "                            learning_rate=learning_rate,\n",
        "                            n_estimators=n_estimators,\n",
        "                            evaluation_metric = roc_auc_score,\n",
        "                            random_state=61)\n",
        "\n",
        "    model.fit(X_train, y_train)\n",
        "    y_val_pred = model.predict_proba(X_val)[:,1]\n",
        "\n",
        "    auc = roc_auc_score(y_val, y_val_pred)\n",
        "\n",
        "    return auc"
      ]
    },
    {
      "cell_type": "code",
      "execution_count": null,
      "metadata": {
        "id": "tMxhGWa3HiI8",
        "outputId": "ee380616-33f4-4b4f-8873-9b627c8012da"
      },
      "outputs": [
        {
          "name": "stderr",
          "output_type": "stream",
          "text": [
            "[I 2023-10-19 18:52:35,926] A new study created in memory with name: no-name-609d7faa-19a7-4b73-bb98-2deb75c16e70\n",
            "[I 2023-10-19 18:52:37,224] Trial 0 finished with value: 0.7973939664464081 and parameters: {'reg_lambda': 0.998573669611533, 'n_estimators': 151}. Best is trial 0 with value: 0.7973939664464081.\n",
            "[I 2023-10-19 18:52:38,138] Trial 1 finished with value: 0.7974288107940902 and parameters: {'reg_lambda': 1.5349267178339474, 'n_estimators': 105}. Best is trial 1 with value: 0.7974288107940902.\n",
            "[I 2023-10-19 18:52:39,382] Trial 2 finished with value: 0.7974260563002024 and parameters: {'reg_lambda': 4.922244322817401, 'n_estimators': 198}. Best is trial 1 with value: 0.7974288107940902.\n",
            "[I 2023-10-19 18:52:40,516] Trial 3 finished with value: 0.7971897689282621 and parameters: {'reg_lambda': 0.5225272687225345, 'n_estimators': 172}. Best is trial 1 with value: 0.7974288107940902.\n",
            "[I 2023-10-19 18:52:41,139] Trial 4 finished with value: 0.7970530771690745 and parameters: {'reg_lambda': 2.9939039455723053, 'n_estimators': 58}. Best is trial 1 with value: 0.7974288107940902.\n",
            "[I 2023-10-19 18:52:42,117] Trial 5 finished with value: 0.7973489442438102 and parameters: {'reg_lambda': 0.7748614626863332, 'n_estimators': 84}. Best is trial 1 with value: 0.7974288107940902.\n",
            "[I 2023-10-19 18:52:42,819] Trial 6 finished with value: 0.7973021935962975 and parameters: {'reg_lambda': 2.730042255500558, 'n_estimators': 82}. Best is trial 1 with value: 0.7974288107940902.\n",
            "[I 2023-10-19 18:52:44,084] Trial 7 finished with value: 0.7974314482219879 and parameters: {'reg_lambda': 1.1224881461049478, 'n_estimators': 181}. Best is trial 7 with value: 0.7974314482219879.\n",
            "[I 2023-10-19 18:52:45,415] Trial 8 finished with value: 0.7974799686318236 and parameters: {'reg_lambda': 2.897187006212868, 'n_estimators': 178}. Best is trial 8 with value: 0.7974799686318236.\n",
            "[I 2023-10-19 18:52:46,286] Trial 9 finished with value: 0.7974580910641189 and parameters: {'reg_lambda': 4.8052135404808896, 'n_estimators': 107}. Best is trial 8 with value: 0.7974799686318236.\n",
            "[I 2023-10-19 18:52:47,253] Trial 10 finished with value: 0.7973500598138348 and parameters: {'reg_lambda': 3.3071122431962308, 'n_estimators': 140}. Best is trial 8 with value: 0.7974799686318236.\n",
            "[I 2023-10-19 18:52:48,116] Trial 11 finished with value: 0.797555083680147 and parameters: {'reg_lambda': 4.995674822371087, 'n_estimators': 121}. Best is trial 11 with value: 0.797555083680147.\n",
            "[I 2023-10-19 18:52:49,078] Trial 12 finished with value: 0.7974556808819669 and parameters: {'reg_lambda': 4.124548598915908, 'n_estimators': 130}. Best is trial 11 with value: 0.797555083680147.\n",
            "[I 2023-10-19 18:52:50,207] Trial 13 finished with value: 0.7975721959734258 and parameters: {'reg_lambda': 3.9852279688681502, 'n_estimators': 162}. Best is trial 13 with value: 0.7975721959734258.\n",
            "[I 2023-10-19 18:52:51,408] Trial 14 finished with value: 0.797325944219846 and parameters: {'reg_lambda': 4.001188792756641, 'n_estimators': 155}. Best is trial 13 with value: 0.7975721959734258.\n",
            "[I 2023-10-19 18:52:52,364] Trial 15 finished with value: 0.7974153206602742 and parameters: {'reg_lambda': 4.44856542457786, 'n_estimators': 116}. Best is trial 13 with value: 0.7975721959734258.\n",
            "[I 2023-10-19 18:52:53,405] Trial 16 finished with value: 0.7973428223811443 and parameters: {'reg_lambda': 3.892493439007584, 'n_estimators': 157}. Best is trial 13 with value: 0.7975721959734258.\n",
            "[I 2023-10-19 18:52:54,393] Trial 17 finished with value: 0.7974990435019974 and parameters: {'reg_lambda': 4.852860136951162, 'n_estimators': 131}. Best is trial 13 with value: 0.7975721959734258.\n",
            "[I 2023-10-19 18:52:55,162] Trial 18 finished with value: 0.7974350015191034 and parameters: {'reg_lambda': 3.755211737717179, 'n_estimators': 89}. Best is trial 13 with value: 0.7975721959734258.\n",
            "[I 2023-10-19 18:52:56,071] Trial 19 finished with value: 0.7969918034525376 and parameters: {'reg_lambda': 4.489007829024931, 'n_estimators': 53}. Best is trial 13 with value: 0.7975721959734258.\n",
            "[I 2023-10-19 18:52:57,696] Trial 20 finished with value: 0.7974887141499177 and parameters: {'reg_lambda': 4.497181458340149, 'n_estimators': 200}. Best is trial 13 with value: 0.7975721959734258.\n",
            "[I 2023-10-19 18:52:58,903] Trial 21 finished with value: 0.7974804162370805 and parameters: {'reg_lambda': 4.97302713622622, 'n_estimators': 135}. Best is trial 13 with value: 0.7975721959734258.\n",
            "[I 2023-10-19 18:53:00,001] Trial 22 finished with value: 0.797501508774027 and parameters: {'reg_lambda': 4.46044907593102, 'n_estimators': 120}. Best is trial 13 with value: 0.7975721959734258.\n",
            "[I 2023-10-19 18:53:01,025] Trial 23 finished with value: 0.7973524975409256 and parameters: {'reg_lambda': 4.2595428579747425, 'n_estimators': 118}. Best is trial 13 with value: 0.7975721959734258.\n",
            "[I 2023-10-19 18:53:02,256] Trial 24 finished with value: 0.7976314520231894 and parameters: {'reg_lambda': 4.5269470744486995, 'n_estimators': 146}. Best is trial 24 with value: 0.7976314520231894.\n",
            "[I 2023-10-19 18:53:03,590] Trial 25 finished with value: 0.7973909365031314 and parameters: {'reg_lambda': 3.8831110515123033, 'n_estimators': 166}. Best is trial 24 with value: 0.7976314520231894.\n",
            "[I 2023-10-19 18:53:04,704] Trial 26 finished with value: 0.7976504098273731 and parameters: {'reg_lambda': 4.641476125263317, 'n_estimators': 146}. Best is trial 26 with value: 0.7976504098273731.\n",
            "[I 2023-10-19 18:53:05,895] Trial 27 finished with value: 0.7972165701537915 and parameters: {'reg_lambda': 3.595671288336381, 'n_estimators': 148}. Best is trial 26 with value: 0.7976504098273731.\n",
            "[I 2023-10-19 18:53:07,917] Trial 28 finished with value: 0.7973860472764804 and parameters: {'reg_lambda': 3.61978924864116, 'n_estimators': 186}. Best is trial 26 with value: 0.7976504098273731.\n",
            "[I 2023-10-19 18:53:09,100] Trial 29 finished with value: 0.7976903913061562 and parameters: {'reg_lambda': 4.1926186069195746, 'n_estimators': 145}. Best is trial 29 with value: 0.7976903913061562.\n",
            "[I 2023-10-19 18:53:10,146] Trial 30 finished with value: 0.7976635487632185 and parameters: {'reg_lambda': 4.66782775484921, 'n_estimators': 144}. Best is trial 29 with value: 0.7976903913061562.\n",
            "[I 2023-10-19 18:53:11,238] Trial 31 finished with value: 0.7977768548692978 and parameters: {'reg_lambda': 4.5995908437546555, 'n_estimators': 146}. Best is trial 31 with value: 0.7977768548692978.\n",
            "[I 2023-10-19 18:53:12,251] Trial 32 finished with value: 0.7973075992905526 and parameters: {'reg_lambda': 4.22445236279615, 'n_estimators': 147}. Best is trial 31 with value: 0.7977768548692978.\n",
            "[I 2023-10-19 18:53:13,237] Trial 33 finished with value: 0.7976594514535602 and parameters: {'reg_lambda': 4.637296543688869, 'n_estimators': 140}. Best is trial 31 with value: 0.7977768548692978.\n",
            "[I 2023-10-19 18:53:14,266] Trial 34 finished with value: 0.7976227065050954 and parameters: {'reg_lambda': 4.665079455320531, 'n_estimators': 138}. Best is trial 31 with value: 0.7977768548692978.\n",
            "[I 2023-10-19 18:53:15,369] Trial 35 finished with value: 0.7973555825740801 and parameters: {'reg_lambda': 4.250077499438405, 'n_estimators': 161}. Best is trial 31 with value: 0.7977768548692978.\n",
            "[I 2023-10-19 18:53:16,171] Trial 36 finished with value: 0.7975808450842338 and parameters: {'reg_lambda': 4.753652731508696, 'n_estimators': 108}. Best is trial 31 with value: 0.7977768548692978.\n",
            "[I 2023-10-19 18:53:17,359] Trial 37 finished with value: 0.7972928145446092 and parameters: {'reg_lambda': 4.146180882748062, 'n_estimators': 171}. Best is trial 31 with value: 0.7977768548692978.\n",
            "[I 2023-10-19 18:53:18,443] Trial 38 finished with value: 0.7975715693260663 and parameters: {'reg_lambda': 4.737521604081611, 'n_estimators': 126}. Best is trial 31 with value: 0.7977768548692978.\n",
            "[I 2023-10-19 18:53:19,215] Trial 39 finished with value: 0.7972125899101237 and parameters: {'reg_lambda': 4.326971393516571, 'n_estimators': 97}. Best is trial 31 with value: 0.7977768548692978.\n",
            "[I 2023-10-19 18:53:20,389] Trial 40 finished with value: 0.7972619504405951 and parameters: {'reg_lambda': 2.5903779043054387, 'n_estimators': 187}. Best is trial 31 with value: 0.7977768548692978.\n",
            "[I 2023-10-19 18:53:21,412] Trial 41 finished with value: 0.797593887612793 and parameters: {'reg_lambda': 4.620891902603666, 'n_estimators': 141}. Best is trial 31 with value: 0.7977768548692978.\n",
            "[I 2023-10-19 18:53:22,450] Trial 42 finished with value: 0.7974499239897411 and parameters: {'reg_lambda': 4.731586872591886, 'n_estimators': 153}. Best is trial 31 with value: 0.7977768548692978.\n",
            "[I 2023-10-19 18:53:23,442] Trial 43 finished with value: 0.7975917873112035 and parameters: {'reg_lambda': 4.952373775730517, 'n_estimators': 143}. Best is trial 31 with value: 0.7977768548692978.\n",
            "[I 2023-10-19 18:53:24,388] Trial 44 finished with value: 0.797476911143608 and parameters: {'reg_lambda': 4.651823320341327, 'n_estimators': 132}. Best is trial 31 with value: 0.7977768548692978.\n",
            "[I 2023-10-19 18:53:25,552] Trial 45 finished with value: 0.7977287751784843 and parameters: {'reg_lambda': 4.373891982986723, 'n_estimators': 171}. Best is trial 31 with value: 0.7977768548692978.\n",
            "[I 2023-10-19 18:53:26,749] Trial 46 finished with value: 0.7973907368023245 and parameters: {'reg_lambda': 4.352312080894272, 'n_estimators': 173}. Best is trial 31 with value: 0.7977768548692978.\n",
            "[I 2023-10-19 18:53:28,021] Trial 47 finished with value: 0.7976046163664865 and parameters: {'reg_lambda': 4.09227393340841, 'n_estimators': 163}. Best is trial 31 with value: 0.7977768548692978.\n",
            "[I 2023-10-19 18:53:29,421] Trial 48 finished with value: 0.7975841298181953 and parameters: {'reg_lambda': 4.9678156959462525, 'n_estimators': 193}. Best is trial 31 with value: 0.7977768548692978.\n",
            "[I 2023-10-19 18:53:30,121] Trial 49 finished with value: 0.7972643055328692 and parameters: {'reg_lambda': 4.343801840343946, 'n_estimators': 72}. Best is trial 31 with value: 0.7977768548692978.\n"
          ]
        }
      ],
      "source": [
        "opt_func = partial(optimizer, X=X_train, y=y_train)\n",
        "\n",
        "study = optuna.create_study(direction='maximize')\n",
        "study.optimize(opt_func, n_trials=50)"
      ]
    },
    {
      "cell_type": "code",
      "execution_count": null,
      "metadata": {
        "id": "8cz4RylBHiI8",
        "outputId": "961153dd-6bc5-43a4-a66c-b565c3a7a104"
      },
      "outputs": [
        {
          "name": "stdout",
          "output_type": "stream",
          "text": [
            "Best Score: 0.7974\n",
            "Best Params:  {'max_depth': 6, 'colsample_bynode': 0.5868936331808812, 'reg_lambda': 3.212598061860882, 'learning_rate': 0.03349458692256137, 'n_estimators': 92}\n"
          ]
        }
      ],
      "source": [
        "print('Best Score: %.4f' % study.best_value)\n",
        "print('Best Params: ', study.best_trial.params)"
      ]
    },
    {
      "cell_type": "code",
      "execution_count": null,
      "metadata": {
        "id": "pSknr_PKHiI9",
        "outputId": "0d208e29-5569-42dd-a885-fe95fd862f0b"
      },
      "outputs": [
        {
          "name": "stdout",
          "output_type": "stream",
          "text": [
            "Best Score: 0.7975\n",
            "Best Params:  {'colsample_bynode': 0.6168230097939055, 'reg_lambda': 2.0127253867640773, 'learning_rate': 0.03293571843473565, 'n_estimators': 145}\n"
          ]
        }
      ],
      "source": [
        "# fix max_depth 6\n",
        "print('Best Score: %.4f' % study.best_value)\n",
        "print('Best Params: ', study.best_trial.params)"
      ]
    },
    {
      "cell_type": "code",
      "execution_count": null,
      "metadata": {
        "id": "_k8hS7kjHiI9",
        "outputId": "56b1f1b1-a117-41b5-a5a5-9179100ba740"
      },
      "outputs": [
        {
          "name": "stdout",
          "output_type": "stream",
          "text": [
            "Best Score: 0.7976\n",
            "Best Params:  {'colsample_bynode': 0.5196407298366663, 'reg_lambda': 0.5198621963041086, 'n_estimators': 142}\n"
          ]
        }
      ],
      "source": [
        "# fix max_depth 6 + learning_rate 0.03293571843473565\n",
        "print('Best Score: %.4f' % study.best_value)\n",
        "print('Best Params: ', study.best_trial.params)"
      ]
    },
    {
      "cell_type": "code",
      "execution_count": null,
      "metadata": {
        "id": "_jbqKZFwHiI-",
        "outputId": "a878f792-3a7f-4fa8-d00e-2f37623b453c"
      },
      "outputs": [
        {
          "name": "stdout",
          "output_type": "stream",
          "text": [
            "Best Score: 0.7978\n",
            "Best Params:  {'reg_lambda': 4.5995908437546555, 'n_estimators': 146}\n"
          ]
        }
      ],
      "source": [
        "# fix max_depth 6 + learning_rate 0.03293571843473565 colsample_bynode 0.5196407298366663\n",
        "print('Best Score: %.4f' % study.best_value)\n",
        "print('Best Params: ', study.best_trial.params)"
      ]
    },
    {
      "cell_type": "code",
      "execution_count": null,
      "metadata": {
        "id": "o5Z0f_6XHiI-",
        "outputId": "557cf14c-dc4a-4d89-ecdb-9a3e651d3b57"
      },
      "outputs": [
        {
          "data": {
            "application/vnd.plotly.v1+json": {
              "config": {
                "plotlyServerURL": "https://plot.ly"
              },
              "data": [
                {
                  "cliponaxis": false,
                  "hovertemplate": [
                    "reg_lambda (FloatDistribution): 0.41755680916178134<extra></extra>",
                    "n_estimators (IntDistribution): 0.5824431908382187<extra></extra>"
                  ],
                  "marker": {
                    "color": "rgb(66,146,198)"
                  },
                  "orientation": "h",
                  "text": [
                    "0.42",
                    "0.58"
                  ],
                  "textposition": "outside",
                  "type": "bar",
                  "x": [
                    0.41755680916178134,
                    0.5824431908382187
                  ],
                  "y": [
                    "reg_lambda",
                    "n_estimators"
                  ]
                }
              ],
              "layout": {
                "showlegend": false,
                "template": {
                  "data": {
                    "bar": [
                      {
                        "error_x": {
                          "color": "#2a3f5f"
                        },
                        "error_y": {
                          "color": "#2a3f5f"
                        },
                        "marker": {
                          "line": {
                            "color": "#E5ECF6",
                            "width": 0.5
                          },
                          "pattern": {
                            "fillmode": "overlay",
                            "size": 10,
                            "solidity": 0.2
                          }
                        },
                        "type": "bar"
                      }
                    ],
                    "barpolar": [
                      {
                        "marker": {
                          "line": {
                            "color": "#E5ECF6",
                            "width": 0.5
                          },
                          "pattern": {
                            "fillmode": "overlay",
                            "size": 10,
                            "solidity": 0.2
                          }
                        },
                        "type": "barpolar"
                      }
                    ],
                    "carpet": [
                      {
                        "aaxis": {
                          "endlinecolor": "#2a3f5f",
                          "gridcolor": "white",
                          "linecolor": "white",
                          "minorgridcolor": "white",
                          "startlinecolor": "#2a3f5f"
                        },
                        "baxis": {
                          "endlinecolor": "#2a3f5f",
                          "gridcolor": "white",
                          "linecolor": "white",
                          "minorgridcolor": "white",
                          "startlinecolor": "#2a3f5f"
                        },
                        "type": "carpet"
                      }
                    ],
                    "choropleth": [
                      {
                        "colorbar": {
                          "outlinewidth": 0,
                          "ticks": ""
                        },
                        "type": "choropleth"
                      }
                    ],
                    "contour": [
                      {
                        "colorbar": {
                          "outlinewidth": 0,
                          "ticks": ""
                        },
                        "colorscale": [
                          [
                            0,
                            "#0d0887"
                          ],
                          [
                            0.1111111111111111,
                            "#46039f"
                          ],
                          [
                            0.2222222222222222,
                            "#7201a8"
                          ],
                          [
                            0.3333333333333333,
                            "#9c179e"
                          ],
                          [
                            0.4444444444444444,
                            "#bd3786"
                          ],
                          [
                            0.5555555555555556,
                            "#d8576b"
                          ],
                          [
                            0.6666666666666666,
                            "#ed7953"
                          ],
                          [
                            0.7777777777777778,
                            "#fb9f3a"
                          ],
                          [
                            0.8888888888888888,
                            "#fdca26"
                          ],
                          [
                            1,
                            "#f0f921"
                          ]
                        ],
                        "type": "contour"
                      }
                    ],
                    "contourcarpet": [
                      {
                        "colorbar": {
                          "outlinewidth": 0,
                          "ticks": ""
                        },
                        "type": "contourcarpet"
                      }
                    ],
                    "heatmap": [
                      {
                        "colorbar": {
                          "outlinewidth": 0,
                          "ticks": ""
                        },
                        "colorscale": [
                          [
                            0,
                            "#0d0887"
                          ],
                          [
                            0.1111111111111111,
                            "#46039f"
                          ],
                          [
                            0.2222222222222222,
                            "#7201a8"
                          ],
                          [
                            0.3333333333333333,
                            "#9c179e"
                          ],
                          [
                            0.4444444444444444,
                            "#bd3786"
                          ],
                          [
                            0.5555555555555556,
                            "#d8576b"
                          ],
                          [
                            0.6666666666666666,
                            "#ed7953"
                          ],
                          [
                            0.7777777777777778,
                            "#fb9f3a"
                          ],
                          [
                            0.8888888888888888,
                            "#fdca26"
                          ],
                          [
                            1,
                            "#f0f921"
                          ]
                        ],
                        "type": "heatmap"
                      }
                    ],
                    "heatmapgl": [
                      {
                        "colorbar": {
                          "outlinewidth": 0,
                          "ticks": ""
                        },
                        "colorscale": [
                          [
                            0,
                            "#0d0887"
                          ],
                          [
                            0.1111111111111111,
                            "#46039f"
                          ],
                          [
                            0.2222222222222222,
                            "#7201a8"
                          ],
                          [
                            0.3333333333333333,
                            "#9c179e"
                          ],
                          [
                            0.4444444444444444,
                            "#bd3786"
                          ],
                          [
                            0.5555555555555556,
                            "#d8576b"
                          ],
                          [
                            0.6666666666666666,
                            "#ed7953"
                          ],
                          [
                            0.7777777777777778,
                            "#fb9f3a"
                          ],
                          [
                            0.8888888888888888,
                            "#fdca26"
                          ],
                          [
                            1,
                            "#f0f921"
                          ]
                        ],
                        "type": "heatmapgl"
                      }
                    ],
                    "histogram": [
                      {
                        "marker": {
                          "pattern": {
                            "fillmode": "overlay",
                            "size": 10,
                            "solidity": 0.2
                          }
                        },
                        "type": "histogram"
                      }
                    ],
                    "histogram2d": [
                      {
                        "colorbar": {
                          "outlinewidth": 0,
                          "ticks": ""
                        },
                        "colorscale": [
                          [
                            0,
                            "#0d0887"
                          ],
                          [
                            0.1111111111111111,
                            "#46039f"
                          ],
                          [
                            0.2222222222222222,
                            "#7201a8"
                          ],
                          [
                            0.3333333333333333,
                            "#9c179e"
                          ],
                          [
                            0.4444444444444444,
                            "#bd3786"
                          ],
                          [
                            0.5555555555555556,
                            "#d8576b"
                          ],
                          [
                            0.6666666666666666,
                            "#ed7953"
                          ],
                          [
                            0.7777777777777778,
                            "#fb9f3a"
                          ],
                          [
                            0.8888888888888888,
                            "#fdca26"
                          ],
                          [
                            1,
                            "#f0f921"
                          ]
                        ],
                        "type": "histogram2d"
                      }
                    ],
                    "histogram2dcontour": [
                      {
                        "colorbar": {
                          "outlinewidth": 0,
                          "ticks": ""
                        },
                        "colorscale": [
                          [
                            0,
                            "#0d0887"
                          ],
                          [
                            0.1111111111111111,
                            "#46039f"
                          ],
                          [
                            0.2222222222222222,
                            "#7201a8"
                          ],
                          [
                            0.3333333333333333,
                            "#9c179e"
                          ],
                          [
                            0.4444444444444444,
                            "#bd3786"
                          ],
                          [
                            0.5555555555555556,
                            "#d8576b"
                          ],
                          [
                            0.6666666666666666,
                            "#ed7953"
                          ],
                          [
                            0.7777777777777778,
                            "#fb9f3a"
                          ],
                          [
                            0.8888888888888888,
                            "#fdca26"
                          ],
                          [
                            1,
                            "#f0f921"
                          ]
                        ],
                        "type": "histogram2dcontour"
                      }
                    ],
                    "mesh3d": [
                      {
                        "colorbar": {
                          "outlinewidth": 0,
                          "ticks": ""
                        },
                        "type": "mesh3d"
                      }
                    ],
                    "parcoords": [
                      {
                        "line": {
                          "colorbar": {
                            "outlinewidth": 0,
                            "ticks": ""
                          }
                        },
                        "type": "parcoords"
                      }
                    ],
                    "pie": [
                      {
                        "automargin": true,
                        "type": "pie"
                      }
                    ],
                    "scatter": [
                      {
                        "fillpattern": {
                          "fillmode": "overlay",
                          "size": 10,
                          "solidity": 0.2
                        },
                        "type": "scatter"
                      }
                    ],
                    "scatter3d": [
                      {
                        "line": {
                          "colorbar": {
                            "outlinewidth": 0,
                            "ticks": ""
                          }
                        },
                        "marker": {
                          "colorbar": {
                            "outlinewidth": 0,
                            "ticks": ""
                          }
                        },
                        "type": "scatter3d"
                      }
                    ],
                    "scattercarpet": [
                      {
                        "marker": {
                          "colorbar": {
                            "outlinewidth": 0,
                            "ticks": ""
                          }
                        },
                        "type": "scattercarpet"
                      }
                    ],
                    "scattergeo": [
                      {
                        "marker": {
                          "colorbar": {
                            "outlinewidth": 0,
                            "ticks": ""
                          }
                        },
                        "type": "scattergeo"
                      }
                    ],
                    "scattergl": [
                      {
                        "marker": {
                          "colorbar": {
                            "outlinewidth": 0,
                            "ticks": ""
                          }
                        },
                        "type": "scattergl"
                      }
                    ],
                    "scattermapbox": [
                      {
                        "marker": {
                          "colorbar": {
                            "outlinewidth": 0,
                            "ticks": ""
                          }
                        },
                        "type": "scattermapbox"
                      }
                    ],
                    "scatterpolar": [
                      {
                        "marker": {
                          "colorbar": {
                            "outlinewidth": 0,
                            "ticks": ""
                          }
                        },
                        "type": "scatterpolar"
                      }
                    ],
                    "scatterpolargl": [
                      {
                        "marker": {
                          "colorbar": {
                            "outlinewidth": 0,
                            "ticks": ""
                          }
                        },
                        "type": "scatterpolargl"
                      }
                    ],
                    "scatterternary": [
                      {
                        "marker": {
                          "colorbar": {
                            "outlinewidth": 0,
                            "ticks": ""
                          }
                        },
                        "type": "scatterternary"
                      }
                    ],
                    "surface": [
                      {
                        "colorbar": {
                          "outlinewidth": 0,
                          "ticks": ""
                        },
                        "colorscale": [
                          [
                            0,
                            "#0d0887"
                          ],
                          [
                            0.1111111111111111,
                            "#46039f"
                          ],
                          [
                            0.2222222222222222,
                            "#7201a8"
                          ],
                          [
                            0.3333333333333333,
                            "#9c179e"
                          ],
                          [
                            0.4444444444444444,
                            "#bd3786"
                          ],
                          [
                            0.5555555555555556,
                            "#d8576b"
                          ],
                          [
                            0.6666666666666666,
                            "#ed7953"
                          ],
                          [
                            0.7777777777777778,
                            "#fb9f3a"
                          ],
                          [
                            0.8888888888888888,
                            "#fdca26"
                          ],
                          [
                            1,
                            "#f0f921"
                          ]
                        ],
                        "type": "surface"
                      }
                    ],
                    "table": [
                      {
                        "cells": {
                          "fill": {
                            "color": "#EBF0F8"
                          },
                          "line": {
                            "color": "white"
                          }
                        },
                        "header": {
                          "fill": {
                            "color": "#C8D4E3"
                          },
                          "line": {
                            "color": "white"
                          }
                        },
                        "type": "table"
                      }
                    ]
                  },
                  "layout": {
                    "annotationdefaults": {
                      "arrowcolor": "#2a3f5f",
                      "arrowhead": 0,
                      "arrowwidth": 1
                    },
                    "autotypenumbers": "strict",
                    "coloraxis": {
                      "colorbar": {
                        "outlinewidth": 0,
                        "ticks": ""
                      }
                    },
                    "colorscale": {
                      "diverging": [
                        [
                          0,
                          "#8e0152"
                        ],
                        [
                          0.1,
                          "#c51b7d"
                        ],
                        [
                          0.2,
                          "#de77ae"
                        ],
                        [
                          0.3,
                          "#f1b6da"
                        ],
                        [
                          0.4,
                          "#fde0ef"
                        ],
                        [
                          0.5,
                          "#f7f7f7"
                        ],
                        [
                          0.6,
                          "#e6f5d0"
                        ],
                        [
                          0.7,
                          "#b8e186"
                        ],
                        [
                          0.8,
                          "#7fbc41"
                        ],
                        [
                          0.9,
                          "#4d9221"
                        ],
                        [
                          1,
                          "#276419"
                        ]
                      ],
                      "sequential": [
                        [
                          0,
                          "#0d0887"
                        ],
                        [
                          0.1111111111111111,
                          "#46039f"
                        ],
                        [
                          0.2222222222222222,
                          "#7201a8"
                        ],
                        [
                          0.3333333333333333,
                          "#9c179e"
                        ],
                        [
                          0.4444444444444444,
                          "#bd3786"
                        ],
                        [
                          0.5555555555555556,
                          "#d8576b"
                        ],
                        [
                          0.6666666666666666,
                          "#ed7953"
                        ],
                        [
                          0.7777777777777778,
                          "#fb9f3a"
                        ],
                        [
                          0.8888888888888888,
                          "#fdca26"
                        ],
                        [
                          1,
                          "#f0f921"
                        ]
                      ],
                      "sequentialminus": [
                        [
                          0,
                          "#0d0887"
                        ],
                        [
                          0.1111111111111111,
                          "#46039f"
                        ],
                        [
                          0.2222222222222222,
                          "#7201a8"
                        ],
                        [
                          0.3333333333333333,
                          "#9c179e"
                        ],
                        [
                          0.4444444444444444,
                          "#bd3786"
                        ],
                        [
                          0.5555555555555556,
                          "#d8576b"
                        ],
                        [
                          0.6666666666666666,
                          "#ed7953"
                        ],
                        [
                          0.7777777777777778,
                          "#fb9f3a"
                        ],
                        [
                          0.8888888888888888,
                          "#fdca26"
                        ],
                        [
                          1,
                          "#f0f921"
                        ]
                      ]
                    },
                    "colorway": [
                      "#636efa",
                      "#EF553B",
                      "#00cc96",
                      "#ab63fa",
                      "#FFA15A",
                      "#19d3f3",
                      "#FF6692",
                      "#B6E880",
                      "#FF97FF",
                      "#FECB52"
                    ],
                    "font": {
                      "color": "#2a3f5f"
                    },
                    "geo": {
                      "bgcolor": "white",
                      "lakecolor": "white",
                      "landcolor": "#E5ECF6",
                      "showlakes": true,
                      "showland": true,
                      "subunitcolor": "white"
                    },
                    "hoverlabel": {
                      "align": "left"
                    },
                    "hovermode": "closest",
                    "mapbox": {
                      "style": "light"
                    },
                    "paper_bgcolor": "white",
                    "plot_bgcolor": "#E5ECF6",
                    "polar": {
                      "angularaxis": {
                        "gridcolor": "white",
                        "linecolor": "white",
                        "ticks": ""
                      },
                      "bgcolor": "#E5ECF6",
                      "radialaxis": {
                        "gridcolor": "white",
                        "linecolor": "white",
                        "ticks": ""
                      }
                    },
                    "scene": {
                      "xaxis": {
                        "backgroundcolor": "#E5ECF6",
                        "gridcolor": "white",
                        "gridwidth": 2,
                        "linecolor": "white",
                        "showbackground": true,
                        "ticks": "",
                        "zerolinecolor": "white"
                      },
                      "yaxis": {
                        "backgroundcolor": "#E5ECF6",
                        "gridcolor": "white",
                        "gridwidth": 2,
                        "linecolor": "white",
                        "showbackground": true,
                        "ticks": "",
                        "zerolinecolor": "white"
                      },
                      "zaxis": {
                        "backgroundcolor": "#E5ECF6",
                        "gridcolor": "white",
                        "gridwidth": 2,
                        "linecolor": "white",
                        "showbackground": true,
                        "ticks": "",
                        "zerolinecolor": "white"
                      }
                    },
                    "shapedefaults": {
                      "line": {
                        "color": "#2a3f5f"
                      }
                    },
                    "ternary": {
                      "aaxis": {
                        "gridcolor": "white",
                        "linecolor": "white",
                        "ticks": ""
                      },
                      "baxis": {
                        "gridcolor": "white",
                        "linecolor": "white",
                        "ticks": ""
                      },
                      "bgcolor": "#E5ECF6",
                      "caxis": {
                        "gridcolor": "white",
                        "linecolor": "white",
                        "ticks": ""
                      }
                    },
                    "title": {
                      "x": 0.05
                    },
                    "xaxis": {
                      "automargin": true,
                      "gridcolor": "white",
                      "linecolor": "white",
                      "ticks": "",
                      "title": {
                        "standoff": 15
                      },
                      "zerolinecolor": "white",
                      "zerolinewidth": 2
                    },
                    "yaxis": {
                      "automargin": true,
                      "gridcolor": "white",
                      "linecolor": "white",
                      "ticks": "",
                      "title": {
                        "standoff": 15
                      },
                      "zerolinecolor": "white",
                      "zerolinewidth": 2
                    }
                  }
                },
                "title": {
                  "text": "Hyperparameter Importances"
                },
                "xaxis": {
                  "title": {
                    "text": "Importance for Objective Value"
                  }
                },
                "yaxis": {
                  "title": {
                    "text": "Hyperparameter"
                  }
                }
              }
            }
          },
          "metadata": {},
          "output_type": "display_data"
        }
      ],
      "source": [
        "# hyper-parameter들의 중요도\n",
        "optuna.visualization.plot_param_importances(study)"
      ]
    },
    {
      "cell_type": "code",
      "execution_count": null,
      "metadata": {
        "colab": {
          "base_uri": "https://localhost:8080/"
        },
        "id": "pVWaqqa92nDc",
        "outputId": "10125858-8010-444c-f0a2-d366ffc4b4a6"
      },
      "outputs": [
        {
          "name": "stdout",
          "output_type": "stream",
          "text": [
            "======Prediction======\n",
            "Train Score : 0.8583\n",
            "Validation Score : 0.7882\n",
            "Validation Acc : 0.8142\n",
            "Validation f1_score : 0.4838\n"
          ]
        }
      ],
      "source": [
        "best_params = study.best_trial.params\n",
        "\n",
        "best_model = XGBClassifier(**best_params,\n",
        "                            random_state=61)\n",
        "best_model.fit(X_train, y_train)\n",
        "print('======Prediction======')\n",
        "pred_train = best_model.predict_proba(X_train)[:,1]\n",
        "pred_proba_val = best_model.predict_proba(X_val)[:,1]\n",
        "pred_val = np.greater_equal(pred_proba_val, 0.5).astype(int)\n",
        "\n",
        "train_score = roc_auc_score(y_train, pred_train)\n",
        "val_score = roc_auc_score(y_val, pred_proba_val)\n",
        "\n",
        "print(\"Train Score : %.4f\" % train_score)\n",
        "print(\"Validation Score : %.4f\" % val_score)\n",
        "print(\"Validation Acc : %.4f\" % accuracy_score(y_val, pred_val))\n",
        "print(\"Validation f1_score : %.4f\" % f1_score(y_val, pred_val))"
      ]
    },
    {
      "cell_type": "code",
      "execution_count": null,
      "metadata": {
        "colab": {
          "base_uri": "https://localhost:8080/",
          "height": 515
        },
        "id": "dNednTqc3e0A",
        "outputId": "85f1268b-0b6b-45ef-c004-881162b72bcb"
      },
      "outputs": [
        {
          "data": {
            "image/png": "[encoded data removed]",
            "text/plain": [
              "<Figure size 500x500 with 1 Axes>"
            ]
          },
          "metadata": {},
          "output_type": "display_data"
        }
      ],
      "source": [
        "def plot_confusion_matrix(cm):\n",
        "    plt.figure(figsize=(5,5))\n",
        "    sns.heatmap(cm, annot=True, cmap='GnBu_r', cbar=False, fmt='.0f', annot_kws={\"size\": 17})\n",
        "    plt.xlabel('Predicted')\n",
        "    plt.ylabel('True')\n",
        "    plt.suptitle('XGBoost + Optuna Confusion Matrix', fontsize=12, fontweight='bold')\n",
        "    plt.savefig('xgb_optuna.png')\n",
        "    plt.show()\n",
        "\n",
        "cm=confusion_matrix(y_val, np.greater_equal(pred_val, 0.5).astype(int))\n",
        "plot_confusion_matrix(cm)"
      ]
    },
    {
      "cell_type": "code",
      "execution_count": null,
      "metadata": {
        "id": "ssXIMde8HiI_"
      },
      "outputs": [],
      "source": []
    }
  ],
  "metadata": {
    "colab": {
      "provenance": [],
      "include_colab_link": true
    },
    "kernelspec": {
      "display_name": "Python 3",
      "name": "python3"
    },
    "language_info": {
      "codemirror_mode": {
        "name": "ipython",
        "version": 3
      },
      "file_extension": ".py",
      "mimetype": "text/x-python",
      "name": "python",
      "nbconvert_exporter": "python",
      "pygments_lexer": "ipython3",
      "version": "3.11.3"
    }
  },
  "nbformat": 4,
  "nbformat_minor": 0
}