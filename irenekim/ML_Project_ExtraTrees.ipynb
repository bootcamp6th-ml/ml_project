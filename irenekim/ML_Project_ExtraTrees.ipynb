{
  "cells": [
    {
      "cell_type": "markdown",
      "metadata": {
        "id": "view-in-github",
        "colab_type": "text"
      },
      "source": [
        "<a href=\"https://colab.research.google.com/github/JaeminKIM-Irene/FC_AI_ML_Project/blob/main/irenekim/ML_Project_ExtraTrees.ipynb\" target=\"_parent\"><img src=\"https://colab.research.google.com/assets/colab-badge.svg\" alt=\"Open In Colab\"/></a>"
      ]
    },
    {
      "cell_type": "code",
      "execution_count": null,
      "metadata": {
        "colab": {
          "base_uri": "https://localhost:8080/"
        },
        "id": "lbtR1wYDzced",
        "outputId": "8e1b39c4-f3c8-4baa-d4c1-0c5db190a3d8"
      },
      "outputs": [
        {
          "name": "stdout",
          "output_type": "stream",
          "text": [
            "Requirement already satisfied: optuna in c:\\users\\tt21\\anaconda3\\lib\\site-packages (3.3.0)\n",
            "Requirement already satisfied: alembic>=1.5.0 in c:\\users\\tt21\\anaconda3\\lib\\site-packages (from optuna) (1.12.0)\n",
            "Requirement already satisfied: cmaes>=0.10.0 in c:\\users\\tt21\\anaconda3\\lib\\site-packages (from optuna) (0.10.0)\n",
            "Requirement already satisfied: colorlog in c:\\users\\tt21\\anaconda3\\lib\\site-packages (from optuna) (6.7.0)\n",
            "Requirement already satisfied: numpy in c:\\users\\tt21\\anaconda3\\lib\\site-packages (from optuna) (1.23.5)\n",
            "Requirement already satisfied: packaging>=20.0 in c:\\users\\tt21\\anaconda3\\lib\\site-packages (from optuna) (23.0)\n",
            "Requirement already satisfied: sqlalchemy>=1.3.0 in c:\\users\\tt21\\anaconda3\\lib\\site-packages (from optuna) (1.4.39)\n",
            "Requirement already satisfied: tqdm in c:\\users\\tt21\\anaconda3\\lib\\site-packages (from optuna) (4.65.0)\n",
            "Requirement already satisfied: PyYAML in c:\\users\\tt21\\anaconda3\\lib\\site-packages (from optuna) (6.0)\n",
            "Requirement already satisfied: Mako in c:\\users\\tt21\\anaconda3\\lib\\site-packages (from alembic>=1.5.0->optuna) (1.2.4)\n",
            "Requirement already satisfied: typing-extensions>=4 in c:\\users\\tt21\\anaconda3\\lib\\site-packages (from alembic>=1.5.0->optuna) (4.6.3)\n",
            "Requirement already satisfied: greenlet!=0.4.17 in c:\\users\\tt21\\anaconda3\\lib\\site-packages (from sqlalchemy>=1.3.0->optuna) (2.0.1)\n",
            "Requirement already satisfied: colorama in c:\\users\\tt21\\anaconda3\\lib\\site-packages (from colorlog->optuna) (0.4.6)\n",
            "Requirement already satisfied: MarkupSafe>=0.9.2 in c:\\users\\tt21\\anaconda3\\lib\\site-packages (from Mako->alembic>=1.5.0->optuna) (2.1.1)\n"
          ]
        }
      ],
      "source": [
        "# 설치에 필요한 라이브러리들이 있다면 모두 적어둡니다. anaconda에 기본적으로 설치되지 않은 라이브러리들을 적어두세요.\n",
        "!pip install optuna"
      ]
    },
    {
      "cell_type": "code",
      "execution_count": null,
      "metadata": {
        "id": "FZXOedhNz3CE"
      },
      "outputs": [],
      "source": [
        "import numpy as np\n",
        "import pandas as pd\n",
        "import matplotlib.pyplot as plt\n",
        "import seaborn as sns\n",
        "\n",
        "from sklearn.ensemble import ExtraTreesClassifier\n",
        "\n",
        "from sklearn.model_selection import KFold\n",
        "\n",
        "import optuna\n",
        "\n",
        "from sklearn.model_selection import StratifiedKFold\n",
        "from functools import partial\n",
        "from sklearn.pipeline import make_pipeline\n",
        "from sklearn.preprocessing import FunctionTransformer\n",
        "\n",
        "\n",
        "from sklearn.metrics import roc_auc_score"
      ]
    },
    {
      "cell_type": "code",
      "execution_count": null,
      "metadata": {
        "id": "_3XtSOYZ0Doh"
      },
      "outputs": [],
      "source": [
        "# google drive mount\n",
        "# from google.colab import drive\n",
        "# drive.mount('/content/drive')"
      ]
    },
    {
      "cell_type": "code",
      "execution_count": null,
      "metadata": {
        "colab": {
          "base_uri": "https://localhost:8080/",
          "height": 329
        },
        "id": "hH_h_uby0GGs",
        "outputId": "c51e9471-8f91-4b13-fd74-ca6c9beee2a6"
      },
      "outputs": [
        {
          "data": {
            "text/html": [
              "<div>\n",
              "<style scoped>\n",
              "    .dataframe tbody tr th:only-of-type {\n",
              "        vertical-align: middle;\n",
              "    }\n",
              "\n",
              "    .dataframe tbody tr th {\n",
              "        vertical-align: top;\n",
              "    }\n",
              "\n",
              "    .dataframe thead th {\n",
              "        text-align: right;\n",
              "    }\n",
              "</style>\n",
              "<table border=\"1\" class=\"dataframe\">\n",
              "  <thead>\n",
              "    <tr style=\"text-align: right;\">\n",
              "      <th></th>\n",
              "      <th>loc</th>\n",
              "      <th>v(g)</th>\n",
              "      <th>ev(g)</th>\n",
              "      <th>iv(g)</th>\n",
              "      <th>n</th>\n",
              "      <th>v</th>\n",
              "      <th>l</th>\n",
              "      <th>d</th>\n",
              "      <th>i</th>\n",
              "      <th>e</th>\n",
              "      <th>...</th>\n",
              "      <th>lOCode</th>\n",
              "      <th>lOComment</th>\n",
              "      <th>lOBlank</th>\n",
              "      <th>locCodeAndComment</th>\n",
              "      <th>uniq_Op</th>\n",
              "      <th>uniq_Opnd</th>\n",
              "      <th>total_Op</th>\n",
              "      <th>total_Opnd</th>\n",
              "      <th>branchCount</th>\n",
              "      <th>defects</th>\n",
              "    </tr>\n",
              "    <tr>\n",
              "      <th>id</th>\n",
              "      <th></th>\n",
              "      <th></th>\n",
              "      <th></th>\n",
              "      <th></th>\n",
              "      <th></th>\n",
              "      <th></th>\n",
              "      <th></th>\n",
              "      <th></th>\n",
              "      <th></th>\n",
              "      <th></th>\n",
              "      <th></th>\n",
              "      <th></th>\n",
              "      <th></th>\n",
              "      <th></th>\n",
              "      <th></th>\n",
              "      <th></th>\n",
              "      <th></th>\n",
              "      <th></th>\n",
              "      <th></th>\n",
              "      <th></th>\n",
              "      <th></th>\n",
              "    </tr>\n",
              "  </thead>\n",
              "  <tbody>\n",
              "    <tr>\n",
              "      <th>0</th>\n",
              "      <td>22.0</td>\n",
              "      <td>3.0</td>\n",
              "      <td>1.0</td>\n",
              "      <td>2.0</td>\n",
              "      <td>60.0</td>\n",
              "      <td>278.63</td>\n",
              "      <td>0.06</td>\n",
              "      <td>19.56</td>\n",
              "      <td>14.25</td>\n",
              "      <td>5448.79</td>\n",
              "      <td>...</td>\n",
              "      <td>17</td>\n",
              "      <td>1</td>\n",
              "      <td>1</td>\n",
              "      <td>0</td>\n",
              "      <td>16.0</td>\n",
              "      <td>9.0</td>\n",
              "      <td>38.0</td>\n",
              "      <td>22.0</td>\n",
              "      <td>5.0</td>\n",
              "      <td>False</td>\n",
              "    </tr>\n",
              "    <tr>\n",
              "      <th>1</th>\n",
              "      <td>14.0</td>\n",
              "      <td>2.0</td>\n",
              "      <td>1.0</td>\n",
              "      <td>2.0</td>\n",
              "      <td>32.0</td>\n",
              "      <td>151.27</td>\n",
              "      <td>0.14</td>\n",
              "      <td>7.00</td>\n",
              "      <td>21.11</td>\n",
              "      <td>936.71</td>\n",
              "      <td>...</td>\n",
              "      <td>11</td>\n",
              "      <td>0</td>\n",
              "      <td>1</td>\n",
              "      <td>0</td>\n",
              "      <td>11.0</td>\n",
              "      <td>11.0</td>\n",
              "      <td>18.0</td>\n",
              "      <td>14.0</td>\n",
              "      <td>3.0</td>\n",
              "      <td>False</td>\n",
              "    </tr>\n",
              "    <tr>\n",
              "      <th>2</th>\n",
              "      <td>11.0</td>\n",
              "      <td>2.0</td>\n",
              "      <td>1.0</td>\n",
              "      <td>2.0</td>\n",
              "      <td>45.0</td>\n",
              "      <td>197.65</td>\n",
              "      <td>0.11</td>\n",
              "      <td>8.05</td>\n",
              "      <td>22.76</td>\n",
              "      <td>1754.01</td>\n",
              "      <td>...</td>\n",
              "      <td>8</td>\n",
              "      <td>0</td>\n",
              "      <td>1</td>\n",
              "      <td>0</td>\n",
              "      <td>12.0</td>\n",
              "      <td>11.0</td>\n",
              "      <td>28.0</td>\n",
              "      <td>17.0</td>\n",
              "      <td>3.0</td>\n",
              "      <td>False</td>\n",
              "    </tr>\n",
              "    <tr>\n",
              "      <th>...</th>\n",
              "      <td>...</td>\n",
              "      <td>...</td>\n",
              "      <td>...</td>\n",
              "      <td>...</td>\n",
              "      <td>...</td>\n",
              "      <td>...</td>\n",
              "      <td>...</td>\n",
              "      <td>...</td>\n",
              "      <td>...</td>\n",
              "      <td>...</td>\n",
              "      <td>...</td>\n",
              "      <td>...</td>\n",
              "      <td>...</td>\n",
              "      <td>...</td>\n",
              "      <td>...</td>\n",
              "      <td>...</td>\n",
              "      <td>...</td>\n",
              "      <td>...</td>\n",
              "      <td>...</td>\n",
              "      <td>...</td>\n",
              "      <td>...</td>\n",
              "    </tr>\n",
              "    <tr>\n",
              "      <th>101760</th>\n",
              "      <td>26.0</td>\n",
              "      <td>1.0</td>\n",
              "      <td>1.0</td>\n",
              "      <td>1.0</td>\n",
              "      <td>83.0</td>\n",
              "      <td>360.17</td>\n",
              "      <td>0.04</td>\n",
              "      <td>22.75</td>\n",
              "      <td>12.56</td>\n",
              "      <td>5893.69</td>\n",
              "      <td>...</td>\n",
              "      <td>20</td>\n",
              "      <td>0</td>\n",
              "      <td>4</td>\n",
              "      <td>0</td>\n",
              "      <td>10.0</td>\n",
              "      <td>8.0</td>\n",
              "      <td>51.0</td>\n",
              "      <td>28.0</td>\n",
              "      <td>1.0</td>\n",
              "      <td>False</td>\n",
              "    </tr>\n",
              "    <tr>\n",
              "      <th>101761</th>\n",
              "      <td>10.0</td>\n",
              "      <td>2.0</td>\n",
              "      <td>1.0</td>\n",
              "      <td>2.0</td>\n",
              "      <td>43.0</td>\n",
              "      <td>191.76</td>\n",
              "      <td>0.15</td>\n",
              "      <td>6.46</td>\n",
              "      <td>29.53</td>\n",
              "      <td>1534.04</td>\n",
              "      <td>...</td>\n",
              "      <td>7</td>\n",
              "      <td>0</td>\n",
              "      <td>1</td>\n",
              "      <td>0</td>\n",
              "      <td>11.0</td>\n",
              "      <td>14.0</td>\n",
              "      <td>24.0</td>\n",
              "      <td>19.0</td>\n",
              "      <td>3.0</td>\n",
              "      <td>False</td>\n",
              "    </tr>\n",
              "    <tr>\n",
              "      <th>101762</th>\n",
              "      <td>136.0</td>\n",
              "      <td>18.0</td>\n",
              "      <td>18.0</td>\n",
              "      <td>1.0</td>\n",
              "      <td>296.0</td>\n",
              "      <td>1704.57</td>\n",
              "      <td>0.02</td>\n",
              "      <td>44.82</td>\n",
              "      <td>44.08</td>\n",
              "      <td>77011.02</td>\n",
              "      <td>...</td>\n",
              "      <td>102</td>\n",
              "      <td>1</td>\n",
              "      <td>11</td>\n",
              "      <td>0</td>\n",
              "      <td>22.0</td>\n",
              "      <td>31.0</td>\n",
              "      <td>162.0</td>\n",
              "      <td>135.0</td>\n",
              "      <td>35.0</td>\n",
              "      <td>False</td>\n",
              "    </tr>\n",
              "  </tbody>\n",
              "</table>\n",
              "<p>101763 rows × 22 columns</p>\n",
              "</div>"
            ],
            "text/plain": [
              "          loc  v(g)  ev(g)  iv(g)      n        v     l      d      i  \\\n",
              "id                                                                      \n",
              "0        22.0   3.0    1.0    2.0   60.0   278.63  0.06  19.56  14.25   \n",
              "1        14.0   2.0    1.0    2.0   32.0   151.27  0.14   7.00  21.11   \n",
              "2        11.0   2.0    1.0    2.0   45.0   197.65  0.11   8.05  22.76   \n",
              "...       ...   ...    ...    ...    ...      ...   ...    ...    ...   \n",
              "101760   26.0   1.0    1.0    1.0   83.0   360.17  0.04  22.75  12.56   \n",
              "101761   10.0   2.0    1.0    2.0   43.0   191.76  0.15   6.46  29.53   \n",
              "101762  136.0  18.0   18.0    1.0  296.0  1704.57  0.02  44.82  44.08   \n",
              "\n",
              "               e  ...  lOCode  lOComment  lOBlank  locCodeAndComment  uniq_Op  \\\n",
              "id                ...                                                           \n",
              "0        5448.79  ...      17          1        1                  0     16.0   \n",
              "1         936.71  ...      11          0        1                  0     11.0   \n",
              "2        1754.01  ...       8          0        1                  0     12.0   \n",
              "...          ...  ...     ...        ...      ...                ...      ...   \n",
              "101760   5893.69  ...      20          0        4                  0     10.0   \n",
              "101761   1534.04  ...       7          0        1                  0     11.0   \n",
              "101762  77011.02  ...     102          1       11                  0     22.0   \n",
              "\n",
              "        uniq_Opnd  total_Op  total_Opnd  branchCount  defects  \n",
              "id                                                             \n",
              "0             9.0      38.0        22.0          5.0    False  \n",
              "1            11.0      18.0        14.0          3.0    False  \n",
              "2            11.0      28.0        17.0          3.0    False  \n",
              "...           ...       ...         ...          ...      ...  \n",
              "101760        8.0      51.0        28.0          1.0    False  \n",
              "101761       14.0      24.0        19.0          3.0    False  \n",
              "101762       31.0     162.0       135.0         35.0    False  \n",
              "\n",
              "[101763 rows x 22 columns]"
            ]
          },
          "metadata": {},
          "output_type": "display_data"
        }
      ],
      "source": [
        "# read data\n",
        "result_list = []\n",
        "base_url = './playground-series-s3e23/'\n",
        "train = pd.read_csv(base_url+'train.csv', index_col='id')\n",
        "test = pd.read_csv(base_url+'test.csv', index_col='id')\n",
        "submission = pd.read_csv(base_url+'sample_submission.csv', index_col='id')\n",
        "\n",
        "with pd.option_context('display.min_rows', 6) :\n",
        "  display(train)"
      ]
    },
    {
      "cell_type": "code",
      "execution_count": null,
      "metadata": {
        "id": "aO5CLlKSIP8m"
      },
      "outputs": [],
      "source": [
        "# vif\n",
        "selected_col = ['loc', 'v(g)', 'ev(g)', 'iv(g)', 'v', 'l', 'd', 'i', 'e', 't', 'lOComment', 'lOBlank', 'locCodeAndComment', 'uniq_Opnd']"
      ]
    },
    {
      "cell_type": "code",
      "execution_count": null,
      "metadata": {
        "id": "cPE2SWjs07bc"
      },
      "outputs": [],
      "source": [
        "# data split for baseline model\n",
        "from sklearn.model_selection import train_test_split\n",
        "\n",
        "X = train.drop(columns=['defects'])\n",
        "#X = train[selected_col]\n",
        "y = train.defects\n",
        "\n",
        "X_train, X_val, y_train, y_val = train_test_split(X, y, test_size=0.2, random_state=61)"
      ]
    },
    {
      "cell_type": "code",
      "execution_count": null,
      "metadata": {
        "colab": {
          "base_uri": "https://localhost:8080/"
        },
        "id": "wTRvtY9I1sHX",
        "outputId": "a624f1ce-3e2a-4736-9286-654a7387654a"
      },
      "outputs": [
        {
          "name": "stdout",
          "output_type": "stream",
          "text": [
            "(81410, 21) (81410,) (20353, 21) (20353,)\n"
          ]
        }
      ],
      "source": [
        "print(X_train.shape, y_train.shape, X_val.shape, y_val.shape)"
      ]
    },
    {
      "cell_type": "markdown",
      "metadata": {
        "id": "GavXEb7M30MX"
      },
      "source": [
        "## Baseline Model"
      ]
    },
    {
      "cell_type": "markdown",
      "metadata": {
        "id": "mJUBp3PG32cY"
      },
      "source": [
        "## Optuna"
      ]
    },
    {
      "cell_type": "code",
      "execution_count": null,
      "metadata": {
        "id": "mH53aZYP3dJ3"
      },
      "outputs": [],
      "source": [
        "def optimizer(trial, X, y, K) :\n",
        "  min_samples_split = trial.suggest_int('min_samples_split', 2, 12)\n",
        "  min_impurity_decrease= trial.suggest_float('min_impurity_decrease',0.0, 0.01)\n",
        "  n_estimators = trial.suggest_int('n_estimators', 50, 400)\n",
        "  max_depth = trial.suggest_int('max_depth', 3, 9)\n",
        "  max_leaf_nodes = trial.suggest_int('max_leaf_nodes', 15, 25)\n",
        "  criterion = trial.suggest_categorical('criterion', ['gini', 'entropy'])\n",
        "  min_samples_leaf = trial.suggest_int('min_samples_leaf', 1, 10)\n",
        "  max_features=trial.suggest_uniform('max_features', 0.1, 1.0)\n",
        "  min_weight_fraction_leaf=trial.suggest_uniform('min_weight_fraction_leaf', 0.00001,0.4)\n",
        "  # n_estimators = trial.suggest_int('n_estimators', 50, 120)\n",
        "  # max_depth = trial.suggest_int('max_depth', 10, 16)\n",
        "  # max_leaf_nodes = trial.suggest_int('max_leaf_nodes', 15, 25)\n",
        "  # criterion = trial.suggest_categorical('criterion', ['gini', 'entropy'])\n",
        "\n",
        "\n",
        "  model = make_pipeline(FunctionTransformer(np.log1p),\n",
        "                        ExtraTreesClassifier(n_estimators = n_estimators,\n",
        "                                            max_depth = max_depth,\n",
        "                                            max_leaf_nodes = max_leaf_nodes,\n",
        "                                            criterion = criterion,\n",
        "                                            min_impurity_decrease=min_impurity_decrease,\n",
        "                                            class_weight= \"balanced\",\n",
        "                                            min_samples_split=min_samples_split,\n",
        "                                            min_samples_leaf=min_samples_leaf,\n",
        "                                            max_features=max_features,\n",
        "                                            min_weight_fraction_leaf=min_weight_fraction_leaf,\n",
        "                                            bootstrap=False,\n",
        "                                            random_state=61\n",
        "                                             ))\n",
        "\n",
        "  # model = make_pipeline(FunctionTransformer(np.log1p),\n",
        "  #                       ExtraTreesClassifier(n_estimators = n_estimators,\n",
        "  #                                           max_depth = max_depth,\n",
        "  #                                           max_leaf_nodes = max_leaf_nodes,\n",
        "  #                                           criterion = criterion,\n",
        "  #                                           random_state=61\n",
        "  #                                            ))\n",
        "\n",
        "  folds = StratifiedKFold(shuffle=True, random_state=61)\n",
        "  oof = np.full(len(train), np.nan)\n",
        "  auc_list = []\n",
        "\n",
        "  for train_idx, val_idx in folds.split(X, y) :\n",
        "    X_train = X.iloc[train_idx, :]\n",
        "    y_train = y.iloc[train_idx]\n",
        "\n",
        "    X_val = X.iloc[val_idx, :]\n",
        "    y_val = y.iloc[val_idx]\n",
        "\n",
        "    model.fit(X_train, y_train)\n",
        "\n",
        "    try :\n",
        "      y_val_pred = model.predict_proba(X_val)[:, 1]\n",
        "    except :\n",
        "      y_val_pred = model.decision_function(X_val)\n",
        "    oof[val_idx] = y_val_pred\n",
        "    auc = roc_auc_score(y_val, y_val_pred)\n",
        "    auc_list.append(auc)\n",
        "\n",
        "  return np.mean(auc_list)"
      ]
    },
    {
      "cell_type": "code",
      "execution_count": null,
      "metadata": {
        "colab": {
          "base_uri": "https://localhost:8080/"
        },
        "id": "AkioR4Ms58pf",
        "outputId": "3d9429a5-2459-41ea-eaaa-02d8c2a233a2"
      },
      "outputs": [
        {
          "name": "stderr",
          "output_type": "stream",
          "text": [
            "[I 2023-10-17 18:44:16,998] A new study created in memory with name: no-name-7a388d46-aec1-479d-9027-2ed0328c2168\n",
            "C:\\Users\\TT21\\AppData\\Local\\Temp\\ipykernel_29956\\2789354698.py:9: FutureWarning: suggest_uniform has been deprecated in v3.0.0. This feature will be removed in v6.0.0. See https://github.com/optuna/optuna/releases/tag/v3.0.0. Use suggest_float instead.\n",
            "  max_features=trial.suggest_uniform('max_features', 0.1, 1.0)\n",
            "C:\\Users\\TT21\\AppData\\Local\\Temp\\ipykernel_29956\\2789354698.py:10: FutureWarning: suggest_uniform has been deprecated in v3.0.0. This feature will be removed in v6.0.0. See https://github.com/optuna/optuna/releases/tag/v3.0.0. Use suggest_float instead.\n",
            "  min_weight_fraction_leaf=trial.suggest_uniform('min_weight_fraction_leaf', 0.00001,0.4)\n",
            "[I 2023-10-17 18:44:20,318] Trial 0 finished with value: 0.7432984752374863 and parameters: {'min_samples_split': 3, 'min_impurity_decrease': 0.002241357197815126, 'n_estimators': 52, 'max_depth': 7, 'max_leaf_nodes': 19, 'criterion': 'entropy', 'min_samples_leaf': 8, 'max_features': 0.7376184380057144, 'min_weight_fraction_leaf': 0.3368970809834417}. Best is trial 0 with value: 0.7432984752374863.\n",
            "C:\\Users\\TT21\\AppData\\Local\\Temp\\ipykernel_29956\\2789354698.py:9: FutureWarning: suggest_uniform has been deprecated in v3.0.0. This feature will be removed in v6.0.0. See https://github.com/optuna/optuna/releases/tag/v3.0.0. Use suggest_float instead.\n",
            "  max_features=trial.suggest_uniform('max_features', 0.1, 1.0)\n",
            "C:\\Users\\TT21\\AppData\\Local\\Temp\\ipykernel_29956\\2789354698.py:10: FutureWarning: suggest_uniform has been deprecated in v3.0.0. This feature will be removed in v6.0.0. See https://github.com/optuna/optuna/releases/tag/v3.0.0. Use suggest_float instead.\n",
            "  min_weight_fraction_leaf=trial.suggest_uniform('min_weight_fraction_leaf', 0.00001,0.4)\n",
            "[I 2023-10-17 18:44:33,349] Trial 1 finished with value: 0.7769170534212206 and parameters: {'min_samples_split': 10, 'min_impurity_decrease': 0.007154050027421893, 'n_estimators': 96, 'max_depth': 9, 'max_leaf_nodes': 20, 'criterion': 'entropy', 'min_samples_leaf': 10, 'max_features': 0.8805124874432644, 'min_weight_fraction_leaf': 0.1254152142024245}. Best is trial 1 with value: 0.7769170534212206.\n",
            "C:\\Users\\TT21\\AppData\\Local\\Temp\\ipykernel_29956\\2789354698.py:9: FutureWarning: suggest_uniform has been deprecated in v3.0.0. This feature will be removed in v6.0.0. See https://github.com/optuna/optuna/releases/tag/v3.0.0. Use suggest_float instead.\n",
            "  max_features=trial.suggest_uniform('max_features', 0.1, 1.0)\n",
            "C:\\Users\\TT21\\AppData\\Local\\Temp\\ipykernel_29956\\2789354698.py:10: FutureWarning: suggest_uniform has been deprecated in v3.0.0. This feature will be removed in v6.0.0. See https://github.com/optuna/optuna/releases/tag/v3.0.0. Use suggest_float instead.\n",
            "  min_weight_fraction_leaf=trial.suggest_uniform('min_weight_fraction_leaf', 0.00001,0.4)\n",
            "[I 2023-10-17 18:44:50,228] Trial 2 finished with value: 0.7514626597616947 and parameters: {'min_samples_split': 2, 'min_impurity_decrease': 0.008530185539176983, 'n_estimators': 256, 'max_depth': 7, 'max_leaf_nodes': 20, 'criterion': 'entropy', 'min_samples_leaf': 2, 'max_features': 0.7577641190833081, 'min_weight_fraction_leaf': 0.3256134993211163}. Best is trial 1 with value: 0.7769170534212206.\n",
            "C:\\Users\\TT21\\AppData\\Local\\Temp\\ipykernel_29956\\2789354698.py:9: FutureWarning: suggest_uniform has been deprecated in v3.0.0. This feature will be removed in v6.0.0. See https://github.com/optuna/optuna/releases/tag/v3.0.0. Use suggest_float instead.\n",
            "  max_features=trial.suggest_uniform('max_features', 0.1, 1.0)\n",
            "C:\\Users\\TT21\\AppData\\Local\\Temp\\ipykernel_29956\\2789354698.py:10: FutureWarning: suggest_uniform has been deprecated in v3.0.0. This feature will be removed in v6.0.0. See https://github.com/optuna/optuna/releases/tag/v3.0.0. Use suggest_float instead.\n",
            "  min_weight_fraction_leaf=trial.suggest_uniform('min_weight_fraction_leaf', 0.00001,0.4)\n",
            "[I 2023-10-17 18:45:20,989] Trial 3 finished with value: 0.7797375517086557 and parameters: {'min_samples_split': 11, 'min_impurity_decrease': 0.009182028812718016, 'n_estimators': 352, 'max_depth': 6, 'max_leaf_nodes': 24, 'criterion': 'entropy', 'min_samples_leaf': 1, 'max_features': 0.48839870623392134, 'min_weight_fraction_leaf': 0.09689720961046286}. Best is trial 3 with value: 0.7797375517086557.\n",
            "C:\\Users\\TT21\\AppData\\Local\\Temp\\ipykernel_29956\\2789354698.py:9: FutureWarning: suggest_uniform has been deprecated in v3.0.0. This feature will be removed in v6.0.0. See https://github.com/optuna/optuna/releases/tag/v3.0.0. Use suggest_float instead.\n",
            "  max_features=trial.suggest_uniform('max_features', 0.1, 1.0)\n",
            "C:\\Users\\TT21\\AppData\\Local\\Temp\\ipykernel_29956\\2789354698.py:10: FutureWarning: suggest_uniform has been deprecated in v3.0.0. This feature will be removed in v6.0.0. See https://github.com/optuna/optuna/releases/tag/v3.0.0. Use suggest_float instead.\n",
            "  min_weight_fraction_leaf=trial.suggest_uniform('min_weight_fraction_leaf', 0.00001,0.4)\n",
            "[I 2023-10-17 18:45:32,614] Trial 4 finished with value: 0.7612516199483123 and parameters: {'min_samples_split': 5, 'min_impurity_decrease': 0.0012317182492232093, 'n_estimators': 320, 'max_depth': 6, 'max_leaf_nodes': 15, 'criterion': 'entropy', 'min_samples_leaf': 6, 'max_features': 0.13689498682336373, 'min_weight_fraction_leaf': 0.13393983384520003}. Best is trial 3 with value: 0.7797375517086557.\n",
            "C:\\Users\\TT21\\AppData\\Local\\Temp\\ipykernel_29956\\2789354698.py:9: FutureWarning: suggest_uniform has been deprecated in v3.0.0. This feature will be removed in v6.0.0. See https://github.com/optuna/optuna/releases/tag/v3.0.0. Use suggest_float instead.\n",
            "  max_features=trial.suggest_uniform('max_features', 0.1, 1.0)\n",
            "C:\\Users\\TT21\\AppData\\Local\\Temp\\ipykernel_29956\\2789354698.py:10: FutureWarning: suggest_uniform has been deprecated in v3.0.0. This feature will be removed in v6.0.0. See https://github.com/optuna/optuna/releases/tag/v3.0.0. Use suggest_float instead.\n",
            "  min_weight_fraction_leaf=trial.suggest_uniform('min_weight_fraction_leaf', 0.00001,0.4)\n",
            "[I 2023-10-17 18:46:00,573] Trial 5 finished with value: 0.7567941361791545 and parameters: {'min_samples_split': 12, 'min_impurity_decrease': 0.006320553932158881, 'n_estimators': 380, 'max_depth': 9, 'max_leaf_nodes': 16, 'criterion': 'gini', 'min_samples_leaf': 10, 'max_features': 0.9178644312081566, 'min_weight_fraction_leaf': 0.30063171192453025}. Best is trial 3 with value: 0.7797375517086557.\n",
            "C:\\Users\\TT21\\AppData\\Local\\Temp\\ipykernel_29956\\2789354698.py:9: FutureWarning: suggest_uniform has been deprecated in v3.0.0. This feature will be removed in v6.0.0. See https://github.com/optuna/optuna/releases/tag/v3.0.0. Use suggest_float instead.\n",
            "  max_features=trial.suggest_uniform('max_features', 0.1, 1.0)\n",
            "C:\\Users\\TT21\\AppData\\Local\\Temp\\ipykernel_29956\\2789354698.py:10: FutureWarning: suggest_uniform has been deprecated in v3.0.0. This feature will be removed in v6.0.0. See https://github.com/optuna/optuna/releases/tag/v3.0.0. Use suggest_float instead.\n",
            "  min_weight_fraction_leaf=trial.suggest_uniform('min_weight_fraction_leaf', 0.00001,0.4)\n",
            "[I 2023-10-17 18:46:29,608] Trial 6 finished with value: 0.7782293591947524 and parameters: {'min_samples_split': 12, 'min_impurity_decrease': 0.005930040307083504, 'n_estimators': 234, 'max_depth': 6, 'max_leaf_nodes': 18, 'criterion': 'entropy', 'min_samples_leaf': 2, 'max_features': 0.8864863243148025, 'min_weight_fraction_leaf': 0.12022876161669674}. Best is trial 3 with value: 0.7797375517086557.\n",
            "C:\\Users\\TT21\\AppData\\Local\\Temp\\ipykernel_29956\\2789354698.py:9: FutureWarning: suggest_uniform has been deprecated in v3.0.0. This feature will be removed in v6.0.0. See https://github.com/optuna/optuna/releases/tag/v3.0.0. Use suggest_float instead.\n",
            "  max_features=trial.suggest_uniform('max_features', 0.1, 1.0)\n",
            "C:\\Users\\TT21\\AppData\\Local\\Temp\\ipykernel_29956\\2789354698.py:10: FutureWarning: suggest_uniform has been deprecated in v3.0.0. This feature will be removed in v6.0.0. See https://github.com/optuna/optuna/releases/tag/v3.0.0. Use suggest_float instead.\n",
            "  min_weight_fraction_leaf=trial.suggest_uniform('min_weight_fraction_leaf', 0.00001,0.4)\n",
            "[I 2023-10-17 18:47:15,536] Trial 7 finished with value: 0.7762237735427527 and parameters: {'min_samples_split': 10, 'min_impurity_decrease': 0.007621898562528766, 'n_estimators': 380, 'max_depth': 5, 'max_leaf_nodes': 21, 'criterion': 'entropy', 'min_samples_leaf': 3, 'max_features': 0.9399912841389472, 'min_weight_fraction_leaf': 0.1458255332435695}. Best is trial 3 with value: 0.7797375517086557.\n",
            "C:\\Users\\TT21\\AppData\\Local\\Temp\\ipykernel_29956\\2789354698.py:9: FutureWarning: suggest_uniform has been deprecated in v3.0.0. This feature will be removed in v6.0.0. See https://github.com/optuna/optuna/releases/tag/v3.0.0. Use suggest_float instead.\n",
            "  max_features=trial.suggest_uniform('max_features', 0.1, 1.0)\n",
            "C:\\Users\\TT21\\AppData\\Local\\Temp\\ipykernel_29956\\2789354698.py:10: FutureWarning: suggest_uniform has been deprecated in v3.0.0. This feature will be removed in v6.0.0. See https://github.com/optuna/optuna/releases/tag/v3.0.0. Use suggest_float instead.\n",
            "  min_weight_fraction_leaf=trial.suggest_uniform('min_weight_fraction_leaf', 0.00001,0.4)\n",
            "[I 2023-10-17 18:47:33,737] Trial 8 finished with value: 0.7612552235554981 and parameters: {'min_samples_split': 2, 'min_impurity_decrease': 0.0069223134750264915, 'n_estimators': 374, 'max_depth': 8, 'max_leaf_nodes': 25, 'criterion': 'entropy', 'min_samples_leaf': 1, 'max_features': 0.28167706947247784, 'min_weight_fraction_leaf': 0.18162647875512922}. Best is trial 3 with value: 0.7797375517086557.\n",
            "C:\\Users\\TT21\\AppData\\Local\\Temp\\ipykernel_29956\\2789354698.py:9: FutureWarning: suggest_uniform has been deprecated in v3.0.0. This feature will be removed in v6.0.0. See https://github.com/optuna/optuna/releases/tag/v3.0.0. Use suggest_float instead.\n",
            "  max_features=trial.suggest_uniform('max_features', 0.1, 1.0)\n",
            "C:\\Users\\TT21\\AppData\\Local\\Temp\\ipykernel_29956\\2789354698.py:10: FutureWarning: suggest_uniform has been deprecated in v3.0.0. This feature will be removed in v6.0.0. See https://github.com/optuna/optuna/releases/tag/v3.0.0. Use suggest_float instead.\n",
            "  min_weight_fraction_leaf=trial.suggest_uniform('min_weight_fraction_leaf', 0.00001,0.4)\n",
            "[I 2023-10-17 18:47:41,110] Trial 9 finished with value: 0.7469867111695299 and parameters: {'min_samples_split': 5, 'min_impurity_decrease': 0.003599406681919185, 'n_estimators': 129, 'max_depth': 3, 'max_leaf_nodes': 21, 'criterion': 'gini', 'min_samples_leaf': 4, 'max_features': 0.6666021639488336, 'min_weight_fraction_leaf': 0.32462833657809975}. Best is trial 3 with value: 0.7797375517086557.\n",
            "C:\\Users\\TT21\\AppData\\Local\\Temp\\ipykernel_29956\\2789354698.py:9: FutureWarning: suggest_uniform has been deprecated in v3.0.0. This feature will be removed in v6.0.0. See https://github.com/optuna/optuna/releases/tag/v3.0.0. Use suggest_float instead.\n",
            "  max_features=trial.suggest_uniform('max_features', 0.1, 1.0)\n",
            "C:\\Users\\TT21\\AppData\\Local\\Temp\\ipykernel_29956\\2789354698.py:10: FutureWarning: suggest_uniform has been deprecated in v3.0.0. This feature will be removed in v6.0.0. See https://github.com/optuna/optuna/releases/tag/v3.0.0. Use suggest_float instead.\n",
            "  min_weight_fraction_leaf=trial.suggest_uniform('min_weight_fraction_leaf', 0.00001,0.4)\n",
            "[I 2023-10-17 18:48:07,205] Trial 10 finished with value: 0.7794178139251138 and parameters: {'min_samples_split': 8, 'min_impurity_decrease': 0.00992099689679193, 'n_estimators': 302, 'max_depth': 4, 'max_leaf_nodes': 25, 'criterion': 'gini', 'min_samples_leaf': 5, 'max_features': 0.4662637482256043, 'min_weight_fraction_leaf': 0.009411172978110796}. Best is trial 3 with value: 0.7797375517086557.\n",
            "C:\\Users\\TT21\\AppData\\Local\\Temp\\ipykernel_29956\\2789354698.py:9: FutureWarning: suggest_uniform has been deprecated in v3.0.0. This feature will be removed in v6.0.0. See https://github.com/optuna/optuna/releases/tag/v3.0.0. Use suggest_float instead.\n",
            "  max_features=trial.suggest_uniform('max_features', 0.1, 1.0)\n",
            "C:\\Users\\TT21\\AppData\\Local\\Temp\\ipykernel_29956\\2789354698.py:10: FutureWarning: suggest_uniform has been deprecated in v3.0.0. This feature will be removed in v6.0.0. See https://github.com/optuna/optuna/releases/tag/v3.0.0. Use suggest_float instead.\n",
            "  min_weight_fraction_leaf=trial.suggest_uniform('min_weight_fraction_leaf', 0.00001,0.4)\n",
            "[I 2023-10-17 18:48:33,738] Trial 11 finished with value: 0.7794881891105919 and parameters: {'min_samples_split': 8, 'min_impurity_decrease': 0.009610158394230123, 'n_estimators': 302, 'max_depth': 4, 'max_leaf_nodes': 25, 'criterion': 'gini', 'min_samples_leaf': 5, 'max_features': 0.46264014679652, 'min_weight_fraction_leaf': 0.0033267845916866113}. Best is trial 3 with value: 0.7797375517086557.\n",
            "C:\\Users\\TT21\\AppData\\Local\\Temp\\ipykernel_29956\\2789354698.py:9: FutureWarning: suggest_uniform has been deprecated in v3.0.0. This feature will be removed in v6.0.0. See https://github.com/optuna/optuna/releases/tag/v3.0.0. Use suggest_float instead.\n",
            "  max_features=trial.suggest_uniform('max_features', 0.1, 1.0)\n",
            "C:\\Users\\TT21\\AppData\\Local\\Temp\\ipykernel_29956\\2789354698.py:10: FutureWarning: suggest_uniform has been deprecated in v3.0.0. This feature will be removed in v6.0.0. See https://github.com/optuna/optuna/releases/tag/v3.0.0. Use suggest_float instead.\n",
            "  min_weight_fraction_leaf=trial.suggest_uniform('min_weight_fraction_leaf', 0.00001,0.4)\n",
            "[I 2023-10-17 18:49:01,898] Trial 12 finished with value: 0.7790241995182156 and parameters: {'min_samples_split': 8, 'min_impurity_decrease': 0.00950971361042814, 'n_estimators': 311, 'max_depth': 4, 'max_leaf_nodes': 23, 'criterion': 'gini', 'min_samples_leaf': 7, 'max_features': 0.4790213502811032, 'min_weight_fraction_leaf': 0.005001861388392981}. Best is trial 3 with value: 0.7797375517086557.\n",
            "C:\\Users\\TT21\\AppData\\Local\\Temp\\ipykernel_29956\\2789354698.py:9: FutureWarning: suggest_uniform has been deprecated in v3.0.0. This feature will be removed in v6.0.0. See https://github.com/optuna/optuna/releases/tag/v3.0.0. Use suggest_float instead.\n",
            "  max_features=trial.suggest_uniform('max_features', 0.1, 1.0)\n",
            "C:\\Users\\TT21\\AppData\\Local\\Temp\\ipykernel_29956\\2789354698.py:10: FutureWarning: suggest_uniform has been deprecated in v3.0.0. This feature will be removed in v6.0.0. See https://github.com/optuna/optuna/releases/tag/v3.0.0. Use suggest_float instead.\n",
            "  min_weight_fraction_leaf=trial.suggest_uniform('min_weight_fraction_leaf', 0.00001,0.4)\n",
            "[I 2023-10-17 18:49:14,102] Trial 13 finished with value: 0.778498922439357 and parameters: {'min_samples_split': 10, 'min_impurity_decrease': 0.008802747788343687, 'n_estimators': 165, 'max_depth': 5, 'max_leaf_nodes': 23, 'criterion': 'gini', 'min_samples_leaf': 4, 'max_features': 0.4133991804406123, 'min_weight_fraction_leaf': 0.062201779113107966}. Best is trial 3 with value: 0.7797375517086557.\n",
            "C:\\Users\\TT21\\AppData\\Local\\Temp\\ipykernel_29956\\2789354698.py:9: FutureWarning: suggest_uniform has been deprecated in v3.0.0. This feature will be removed in v6.0.0. See https://github.com/optuna/optuna/releases/tag/v3.0.0. Use suggest_float instead.\n",
            "  max_features=trial.suggest_uniform('max_features', 0.1, 1.0)\n",
            "C:\\Users\\TT21\\AppData\\Local\\Temp\\ipykernel_29956\\2789354698.py:10: FutureWarning: suggest_uniform has been deprecated in v3.0.0. This feature will be removed in v6.0.0. See https://github.com/optuna/optuna/releases/tag/v3.0.0. Use suggest_float instead.\n",
            "  min_weight_fraction_leaf=trial.suggest_uniform('min_weight_fraction_leaf', 0.00001,0.4)\n",
            "[I 2023-10-17 18:49:39,094] Trial 14 finished with value: 0.7787451718586446 and parameters: {'min_samples_split': 6, 'min_impurity_decrease': 0.00988341169252137, 'n_estimators': 283, 'max_depth': 3, 'max_leaf_nodes': 23, 'criterion': 'gini', 'min_samples_leaf': 1, 'max_features': 0.5763248278219703, 'min_weight_fraction_leaf': 0.06912545557258178}. Best is trial 3 with value: 0.7797375517086557.\n",
            "C:\\Users\\TT21\\AppData\\Local\\Temp\\ipykernel_29956\\2789354698.py:9: FutureWarning: suggest_uniform has been deprecated in v3.0.0. This feature will be removed in v6.0.0. See https://github.com/optuna/optuna/releases/tag/v3.0.0. Use suggest_float instead.\n",
            "  max_features=trial.suggest_uniform('max_features', 0.1, 1.0)\n",
            "C:\\Users\\TT21\\AppData\\Local\\Temp\\ipykernel_29956\\2789354698.py:10: FutureWarning: suggest_uniform has been deprecated in v3.0.0. This feature will be removed in v6.0.0. See https://github.com/optuna/optuna/releases/tag/v3.0.0. Use suggest_float instead.\n",
            "  min_weight_fraction_leaf=trial.suggest_uniform('min_weight_fraction_leaf', 0.00001,0.4)\n",
            "[I 2023-10-17 18:49:48,534] Trial 15 finished with value: 0.7562021088552434 and parameters: {'min_samples_split': 8, 'min_impurity_decrease': 0.008235054083814183, 'n_estimators': 191, 'max_depth': 5, 'max_leaf_nodes': 24, 'criterion': 'gini', 'min_samples_leaf': 7, 'max_features': 0.3414184225363045, 'min_weight_fraction_leaf': 0.24587678023527634}. Best is trial 3 with value: 0.7797375517086557.\n",
            "C:\\Users\\TT21\\AppData\\Local\\Temp\\ipykernel_29956\\2789354698.py:9: FutureWarning: suggest_uniform has been deprecated in v3.0.0. This feature will be removed in v6.0.0. See https://github.com/optuna/optuna/releases/tag/v3.0.0. Use suggest_float instead.\n",
            "  max_features=trial.suggest_uniform('max_features', 0.1, 1.0)\n",
            "C:\\Users\\TT21\\AppData\\Local\\Temp\\ipykernel_29956\\2789354698.py:10: FutureWarning: suggest_uniform has been deprecated in v3.0.0. This feature will be removed in v6.0.0. See https://github.com/optuna/optuna/releases/tag/v3.0.0. Use suggest_float instead.\n",
            "  min_weight_fraction_leaf=trial.suggest_uniform('min_weight_fraction_leaf', 0.00001,0.4)\n",
            "[I 2023-10-17 18:50:05,665] Trial 16 finished with value: 0.7408827372793547 and parameters: {'min_samples_split': 11, 'min_impurity_decrease': 0.005023747996938393, 'n_estimators': 342, 'max_depth': 4, 'max_leaf_nodes': 22, 'criterion': 'gini', 'min_samples_leaf': 5, 'max_features': 0.5721434490941412, 'min_weight_fraction_leaf': 0.3943528174794806}. Best is trial 3 with value: 0.7797375517086557.\n",
            "C:\\Users\\TT21\\AppData\\Local\\Temp\\ipykernel_29956\\2789354698.py:9: FutureWarning: suggest_uniform has been deprecated in v3.0.0. This feature will be removed in v6.0.0. See https://github.com/optuna/optuna/releases/tag/v3.0.0. Use suggest_float instead.\n",
            "  max_features=trial.suggest_uniform('max_features', 0.1, 1.0)\n",
            "C:\\Users\\TT21\\AppData\\Local\\Temp\\ipykernel_29956\\2789354698.py:10: FutureWarning: suggest_uniform has been deprecated in v3.0.0. This feature will be removed in v6.0.0. See https://github.com/optuna/optuna/releases/tag/v3.0.0. Use suggest_float instead.\n",
            "  min_weight_fraction_leaf=trial.suggest_uniform('min_weight_fraction_leaf', 0.00001,0.4)\n",
            "[I 2023-10-17 18:50:26,048] Trial 17 finished with value: 0.7799451073444879 and parameters: {'min_samples_split': 9, 'min_impurity_decrease': 0.007986168196184034, 'n_estimators': 270, 'max_depth': 7, 'max_leaf_nodes': 25, 'criterion': 'entropy', 'min_samples_leaf': 8, 'max_features': 0.34048465169052167, 'min_weight_fraction_leaf': 0.049128940251665844}. Best is trial 17 with value: 0.7799451073444879.\n",
            "C:\\Users\\TT21\\AppData\\Local\\Temp\\ipykernel_29956\\2789354698.py:9: FutureWarning: suggest_uniform has been deprecated in v3.0.0. This feature will be removed in v6.0.0. See https://github.com/optuna/optuna/releases/tag/v3.0.0. Use suggest_float instead.\n",
            "  max_features=trial.suggest_uniform('max_features', 0.1, 1.0)\n",
            "C:\\Users\\TT21\\AppData\\Local\\Temp\\ipykernel_29956\\2789354698.py:10: FutureWarning: suggest_uniform has been deprecated in v3.0.0. This feature will be removed in v6.0.0. See https://github.com/optuna/optuna/releases/tag/v3.0.0. Use suggest_float instead.\n",
            "  min_weight_fraction_leaf=trial.suggest_uniform('min_weight_fraction_leaf', 0.00001,0.4)\n",
            "[I 2023-10-17 18:50:37,862] Trial 18 finished with value: 0.7771573120344785 and parameters: {'min_samples_split': 9, 'min_impurity_decrease': 0.008061364643623854, 'n_estimators': 206, 'max_depth': 7, 'max_leaf_nodes': 24, 'criterion': 'entropy', 'min_samples_leaf': 9, 'max_features': 0.2484992633662702, 'min_weight_fraction_leaf': 0.08041846213801154}. Best is trial 17 with value: 0.7799451073444879.\n",
            "C:\\Users\\TT21\\AppData\\Local\\Temp\\ipykernel_29956\\2789354698.py:9: FutureWarning: suggest_uniform has been deprecated in v3.0.0. This feature will be removed in v6.0.0. See https://github.com/optuna/optuna/releases/tag/v3.0.0. Use suggest_float instead.\n",
            "  max_features=trial.suggest_uniform('max_features', 0.1, 1.0)\n",
            "C:\\Users\\TT21\\AppData\\Local\\Temp\\ipykernel_29956\\2789354698.py:10: FutureWarning: suggest_uniform has been deprecated in v3.0.0. This feature will be removed in v6.0.0. See https://github.com/optuna/optuna/releases/tag/v3.0.0. Use suggest_float instead.\n",
            "  min_weight_fraction_leaf=trial.suggest_uniform('min_weight_fraction_leaf', 0.00001,0.4)\n",
            "[I 2023-10-17 18:50:51,816] Trial 19 finished with value: 0.7623545856265995 and parameters: {'min_samples_split': 11, 'min_impurity_decrease': 0.005509627094723904, 'n_estimators': 263, 'max_depth': 8, 'max_leaf_nodes': 17, 'criterion': 'entropy', 'min_samples_leaf': 9, 'max_features': 0.347163288840497, 'min_weight_fraction_leaf': 0.19527359598223445}. Best is trial 17 with value: 0.7799451073444879.\n",
            "C:\\Users\\TT21\\AppData\\Local\\Temp\\ipykernel_29956\\2789354698.py:9: FutureWarning: suggest_uniform has been deprecated in v3.0.0. This feature will be removed in v6.0.0. See https://github.com/optuna/optuna/releases/tag/v3.0.0. Use suggest_float instead.\n",
            "  max_features=trial.suggest_uniform('max_features', 0.1, 1.0)\n",
            "C:\\Users\\TT21\\AppData\\Local\\Temp\\ipykernel_29956\\2789354698.py:10: FutureWarning: suggest_uniform has been deprecated in v3.0.0. This feature will be removed in v6.0.0. See https://github.com/optuna/optuna/releases/tag/v3.0.0. Use suggest_float instead.\n",
            "  min_weight_fraction_leaf=trial.suggest_uniform('min_weight_fraction_leaf', 0.00001,0.4)\n",
            "[I 2023-10-17 18:51:09,117] Trial 20 finished with value: 0.7777508728384476 and parameters: {'min_samples_split': 6, 'min_impurity_decrease': 0.0068519348458376105, 'n_estimators': 358, 'max_depth': 8, 'max_leaf_nodes': 22, 'criterion': 'entropy', 'min_samples_leaf': 7, 'max_features': 0.16864338883984864, 'min_weight_fraction_leaf': 0.04494193785030947}. Best is trial 17 with value: 0.7799451073444879.\n",
            "C:\\Users\\TT21\\AppData\\Local\\Temp\\ipykernel_29956\\2789354698.py:9: FutureWarning: suggest_uniform has been deprecated in v3.0.0. This feature will be removed in v6.0.0. See https://github.com/optuna/optuna/releases/tag/v3.0.0. Use suggest_float instead.\n",
            "  max_features=trial.suggest_uniform('max_features', 0.1, 1.0)\n",
            "C:\\Users\\TT21\\AppData\\Local\\Temp\\ipykernel_29956\\2789354698.py:10: FutureWarning: suggest_uniform has been deprecated in v3.0.0. This feature will be removed in v6.0.0. See https://github.com/optuna/optuna/releases/tag/v3.0.0. Use suggest_float instead.\n",
            "  min_weight_fraction_leaf=trial.suggest_uniform('min_weight_fraction_leaf', 0.00001,0.4)\n",
            "[I 2023-10-17 18:51:40,743] Trial 21 finished with value: 0.7802541982692061 and parameters: {'min_samples_split': 9, 'min_impurity_decrease': 0.009085991918148958, 'n_estimators': 337, 'max_depth': 6, 'max_leaf_nodes': 25, 'criterion': 'entropy', 'min_samples_leaf': 6, 'max_features': 0.4985731829666906, 'min_weight_fraction_leaf': 0.02793589645407213}. Best is trial 21 with value: 0.7802541982692061.\n",
            "C:\\Users\\TT21\\AppData\\Local\\Temp\\ipykernel_29956\\2789354698.py:9: FutureWarning: suggest_uniform has been deprecated in v3.0.0. This feature will be removed in v6.0.0. See https://github.com/optuna/optuna/releases/tag/v3.0.0. Use suggest_float instead.\n",
            "  max_features=trial.suggest_uniform('max_features', 0.1, 1.0)\n",
            "C:\\Users\\TT21\\AppData\\Local\\Temp\\ipykernel_29956\\2789354698.py:10: FutureWarning: suggest_uniform has been deprecated in v3.0.0. This feature will be removed in v6.0.0. See https://github.com/optuna/optuna/releases/tag/v3.0.0. Use suggest_float instead.\n",
            "  min_weight_fraction_leaf=trial.suggest_uniform('min_weight_fraction_leaf', 0.00001,0.4)\n",
            "[I 2023-10-17 18:52:10,997] Trial 22 finished with value: 0.7804935037110163 and parameters: {'min_samples_split': 9, 'min_impurity_decrease': 0.008636565547739774, 'n_estimators': 329, 'max_depth': 6, 'max_leaf_nodes': 24, 'criterion': 'entropy', 'min_samples_leaf': 6, 'max_features': 0.5400029303786061, 'min_weight_fraction_leaf': 0.0925979417666267}. Best is trial 22 with value: 0.7804935037110163.\n",
            "C:\\Users\\TT21\\AppData\\Local\\Temp\\ipykernel_29956\\2789354698.py:9: FutureWarning: suggest_uniform has been deprecated in v3.0.0. This feature will be removed in v6.0.0. See https://github.com/optuna/optuna/releases/tag/v3.0.0. Use suggest_float instead.\n",
            "  max_features=trial.suggest_uniform('max_features', 0.1, 1.0)\n",
            "C:\\Users\\TT21\\AppData\\Local\\Temp\\ipykernel_29956\\2789354698.py:10: FutureWarning: suggest_uniform has been deprecated in v3.0.0. This feature will be removed in v6.0.0. See https://github.com/optuna/optuna/releases/tag/v3.0.0. Use suggest_float instead.\n",
            "  min_weight_fraction_leaf=trial.suggest_uniform('min_weight_fraction_leaf', 0.00001,0.4)\n",
            "[I 2023-10-17 18:52:44,333] Trial 23 finished with value: 0.781411141970881 and parameters: {'min_samples_split': 9, 'min_impurity_decrease': 0.008151088616398999, 'n_estimators': 333, 'max_depth': 7, 'max_leaf_nodes': 25, 'criterion': 'entropy', 'min_samples_leaf': 6, 'max_features': 0.555140626774135, 'min_weight_fraction_leaf': 0.04100575295905837}. Best is trial 23 with value: 0.781411141970881.\n",
            "C:\\Users\\TT21\\AppData\\Local\\Temp\\ipykernel_29956\\2789354698.py:9: FutureWarning: suggest_uniform has been deprecated in v3.0.0. This feature will be removed in v6.0.0. See https://github.com/optuna/optuna/releases/tag/v3.0.0. Use suggest_float instead.\n",
            "  max_features=trial.suggest_uniform('max_features', 0.1, 1.0)\n",
            "C:\\Users\\TT21\\AppData\\Local\\Temp\\ipykernel_29956\\2789354698.py:10: FutureWarning: suggest_uniform has been deprecated in v3.0.0. This feature will be removed in v6.0.0. See https://github.com/optuna/optuna/releases/tag/v3.0.0. Use suggest_float instead.\n",
            "  min_weight_fraction_leaf=trial.suggest_uniform('min_weight_fraction_leaf', 0.00001,0.4)\n",
            "[I 2023-10-17 18:53:19,704] Trial 24 finished with value: 0.7811986138784677 and parameters: {'min_samples_split': 7, 'min_impurity_decrease': 0.008953386456918906, 'n_estimators': 331, 'max_depth': 6, 'max_leaf_nodes': 24, 'criterion': 'entropy', 'min_samples_leaf': 6, 'max_features': 0.6143494313932004, 'min_weight_fraction_leaf': 0.0345282457147344}. Best is trial 23 with value: 0.781411141970881.\n",
            "C:\\Users\\TT21\\AppData\\Local\\Temp\\ipykernel_29956\\2789354698.py:9: FutureWarning: suggest_uniform has been deprecated in v3.0.0. This feature will be removed in v6.0.0. See https://github.com/optuna/optuna/releases/tag/v3.0.0. Use suggest_float instead.\n",
            "  max_features=trial.suggest_uniform('max_features', 0.1, 1.0)\n",
            "C:\\Users\\TT21\\AppData\\Local\\Temp\\ipykernel_29956\\2789354698.py:10: FutureWarning: suggest_uniform has been deprecated in v3.0.0. This feature will be removed in v6.0.0. See https://github.com/optuna/optuna/releases/tag/v3.0.0. Use suggest_float instead.\n",
            "  min_weight_fraction_leaf=trial.suggest_uniform('min_weight_fraction_leaf', 0.00001,0.4)\n",
            "[I 2023-10-17 18:54:00,604] Trial 25 finished with value: 0.7805284251269204 and parameters: {'min_samples_split': 6, 'min_impurity_decrease': 0.007431751723542777, 'n_estimators': 396, 'max_depth': 6, 'max_leaf_nodes': 22, 'criterion': 'entropy', 'min_samples_leaf': 6, 'max_features': 0.6256675272849429, 'min_weight_fraction_leaf': 0.09208104969798106}. Best is trial 23 with value: 0.781411141970881.\n",
            "C:\\Users\\TT21\\AppData\\Local\\Temp\\ipykernel_29956\\2789354698.py:9: FutureWarning: suggest_uniform has been deprecated in v3.0.0. This feature will be removed in v6.0.0. See https://github.com/optuna/optuna/releases/tag/v3.0.0. Use suggest_float instead.\n",
            "  max_features=trial.suggest_uniform('max_features', 0.1, 1.0)\n",
            "C:\\Users\\TT21\\AppData\\Local\\Temp\\ipykernel_29956\\2789354698.py:10: FutureWarning: suggest_uniform has been deprecated in v3.0.0. This feature will be removed in v6.0.0. See https://github.com/optuna/optuna/releases/tag/v3.0.0. Use suggest_float instead.\n",
            "  min_weight_fraction_leaf=trial.suggest_uniform('min_weight_fraction_leaf', 0.00001,0.4)\n",
            "[I 2023-10-17 18:54:43,780] Trial 26 finished with value: 0.7814325035584553 and parameters: {'min_samples_split': 6, 'min_impurity_decrease': 0.007634828744713064, 'n_estimators': 396, 'max_depth': 5, 'max_leaf_nodes': 22, 'criterion': 'entropy', 'min_samples_leaf': 4, 'max_features': 0.6036129700194061, 'min_weight_fraction_leaf': 0.026861143768780064}. Best is trial 26 with value: 0.7814325035584553.\n",
            "C:\\Users\\TT21\\AppData\\Local\\Temp\\ipykernel_29956\\2789354698.py:9: FutureWarning: suggest_uniform has been deprecated in v3.0.0. This feature will be removed in v6.0.0. See https://github.com/optuna/optuna/releases/tag/v3.0.0. Use suggest_float instead.\n",
            "  max_features=trial.suggest_uniform('max_features', 0.1, 1.0)\n",
            "C:\\Users\\TT21\\AppData\\Local\\Temp\\ipykernel_29956\\2789354698.py:10: FutureWarning: suggest_uniform has been deprecated in v3.0.0. This feature will be removed in v6.0.0. See https://github.com/optuna/optuna/releases/tag/v3.0.0. Use suggest_float instead.\n",
            "  min_weight_fraction_leaf=trial.suggest_uniform('min_weight_fraction_leaf', 0.00001,0.4)\n",
            "[I 2023-10-17 18:55:27,679] Trial 27 finished with value: 0.7821558337653973 and parameters: {'min_samples_split': 7, 'min_impurity_decrease': 0.006290632975764449, 'n_estimators': 359, 'max_depth': 5, 'max_leaf_nodes': 23, 'criterion': 'entropy', 'min_samples_leaf': 3, 'max_features': 0.664041417681711, 'min_weight_fraction_leaf': 0.039525585004694185}. Best is trial 27 with value: 0.7821558337653973.\n",
            "C:\\Users\\TT21\\AppData\\Local\\Temp\\ipykernel_29956\\2789354698.py:9: FutureWarning: suggest_uniform has been deprecated in v3.0.0. This feature will be removed in v6.0.0. See https://github.com/optuna/optuna/releases/tag/v3.0.0. Use suggest_float instead.\n",
            "  max_features=trial.suggest_uniform('max_features', 0.1, 1.0)\n",
            "C:\\Users\\TT21\\AppData\\Local\\Temp\\ipykernel_29956\\2789354698.py:10: FutureWarning: suggest_uniform has been deprecated in v3.0.0. This feature will be removed in v6.0.0. See https://github.com/optuna/optuna/releases/tag/v3.0.0. Use suggest_float instead.\n",
            "  min_weight_fraction_leaf=trial.suggest_uniform('min_weight_fraction_leaf', 0.00001,0.4)\n",
            "[I 2023-10-17 18:56:15,656] Trial 28 finished with value: 0.7828246989149237 and parameters: {'min_samples_split': 4, 'min_impurity_decrease': 0.006359969984884995, 'n_estimators': 392, 'max_depth': 5, 'max_leaf_nodes': 21, 'criterion': 'entropy', 'min_samples_leaf': 3, 'max_features': 0.691368796164294, 'min_weight_fraction_leaf': 0.03131026653689836}. Best is trial 28 with value: 0.7828246989149237.\n",
            "C:\\Users\\TT21\\AppData\\Local\\Temp\\ipykernel_29956\\2789354698.py:9: FutureWarning: suggest_uniform has been deprecated in v3.0.0. This feature will be removed in v6.0.0. See https://github.com/optuna/optuna/releases/tag/v3.0.0. Use suggest_float instead.\n",
            "  max_features=trial.suggest_uniform('max_features', 0.1, 1.0)\n",
            "C:\\Users\\TT21\\AppData\\Local\\Temp\\ipykernel_29956\\2789354698.py:10: FutureWarning: suggest_uniform has been deprecated in v3.0.0. This feature will be removed in v6.0.0. See https://github.com/optuna/optuna/releases/tag/v3.0.0. Use suggest_float instead.\n",
            "  min_weight_fraction_leaf=trial.suggest_uniform('min_weight_fraction_leaf', 0.00001,0.4)\n",
            "[I 2023-10-17 18:57:10,002] Trial 29 finished with value: 0.7823601141725705 and parameters: {'min_samples_split': 3, 'min_impurity_decrease': 0.004312122106949864, 'n_estimators': 398, 'max_depth': 5, 'max_leaf_nodes': 19, 'criterion': 'entropy', 'min_samples_leaf': 3, 'max_features': 0.7345667343419106, 'min_weight_fraction_leaf': 0.05934867010294176}. Best is trial 28 with value: 0.7828246989149237.\n",
            "C:\\Users\\TT21\\AppData\\Local\\Temp\\ipykernel_29956\\2789354698.py:9: FutureWarning: suggest_uniform has been deprecated in v3.0.0. This feature will be removed in v6.0.0. See https://github.com/optuna/optuna/releases/tag/v3.0.0. Use suggest_float instead.\n",
            "  max_features=trial.suggest_uniform('max_features', 0.1, 1.0)\n",
            "C:\\Users\\TT21\\AppData\\Local\\Temp\\ipykernel_29956\\2789354698.py:10: FutureWarning: suggest_uniform has been deprecated in v3.0.0. This feature will be removed in v6.0.0. See https://github.com/optuna/optuna/releases/tag/v3.0.0. Use suggest_float instead.\n",
            "  min_weight_fraction_leaf=trial.suggest_uniform('min_weight_fraction_leaf', 0.00001,0.4)\n",
            "[I 2023-10-17 18:58:05,665] Trial 30 finished with value: 0.7822005984605467 and parameters: {'min_samples_split': 4, 'min_impurity_decrease': 0.004250351432917177, 'n_estimators': 399, 'max_depth': 5, 'max_leaf_nodes': 19, 'criterion': 'entropy', 'min_samples_leaf': 3, 'max_features': 0.7330462368103883, 'min_weight_fraction_leaf': 0.061720835056221696}. Best is trial 28 with value: 0.7828246989149237.\n",
            "C:\\Users\\TT21\\AppData\\Local\\Temp\\ipykernel_29956\\2789354698.py:9: FutureWarning: suggest_uniform has been deprecated in v3.0.0. This feature will be removed in v6.0.0. See https://github.com/optuna/optuna/releases/tag/v3.0.0. Use suggest_float instead.\n",
            "  max_features=trial.suggest_uniform('max_features', 0.1, 1.0)\n",
            "C:\\Users\\TT21\\AppData\\Local\\Temp\\ipykernel_29956\\2789354698.py:10: FutureWarning: suggest_uniform has been deprecated in v3.0.0. This feature will be removed in v6.0.0. See https://github.com/optuna/optuna/releases/tag/v3.0.0. Use suggest_float instead.\n",
            "  min_weight_fraction_leaf=trial.suggest_uniform('min_weight_fraction_leaf', 0.00001,0.4)\n",
            "[I 2023-10-17 18:59:03,051] Trial 31 finished with value: 0.7820649076588128 and parameters: {'min_samples_split': 4, 'min_impurity_decrease': 0.004177518179118293, 'n_estimators': 366, 'max_depth': 5, 'max_leaf_nodes': 19, 'criterion': 'entropy', 'min_samples_leaf': 3, 'max_features': 0.7306605220575507, 'min_weight_fraction_leaf': 0.06855192107543988}. Best is trial 28 with value: 0.7828246989149237.\n",
            "C:\\Users\\TT21\\AppData\\Local\\Temp\\ipykernel_29956\\2789354698.py:9: FutureWarning: suggest_uniform has been deprecated in v3.0.0. This feature will be removed in v6.0.0. See https://github.com/optuna/optuna/releases/tag/v3.0.0. Use suggest_float instead.\n",
            "  max_features=trial.suggest_uniform('max_features', 0.1, 1.0)\n",
            "C:\\Users\\TT21\\AppData\\Local\\Temp\\ipykernel_29956\\2789354698.py:10: FutureWarning: suggest_uniform has been deprecated in v3.0.0. This feature will be removed in v6.0.0. See https://github.com/optuna/optuna/releases/tag/v3.0.0. Use suggest_float instead.\n",
            "  min_weight_fraction_leaf=trial.suggest_uniform('min_weight_fraction_leaf', 0.00001,0.4)\n",
            "[I 2023-10-17 19:00:09,304] Trial 32 finished with value: 0.7822915767838181 and parameters: {'min_samples_split': 3, 'min_impurity_decrease': 0.004237718038557698, 'n_estimators': 400, 'max_depth': 5, 'max_leaf_nodes': 19, 'criterion': 'entropy', 'min_samples_leaf': 3, 'max_features': 0.7908505855742392, 'min_weight_fraction_leaf': 0.06075484787612821}. Best is trial 28 with value: 0.7828246989149237.\n",
            "C:\\Users\\TT21\\AppData\\Local\\Temp\\ipykernel_29956\\2789354698.py:9: FutureWarning: suggest_uniform has been deprecated in v3.0.0. This feature will be removed in v6.0.0. See https://github.com/optuna/optuna/releases/tag/v3.0.0. Use suggest_float instead.\n",
            "  max_features=trial.suggest_uniform('max_features', 0.1, 1.0)\n",
            "C:\\Users\\TT21\\AppData\\Local\\Temp\\ipykernel_29956\\2789354698.py:10: FutureWarning: suggest_uniform has been deprecated in v3.0.0. This feature will be removed in v6.0.0. See https://github.com/optuna/optuna/releases/tag/v3.0.0. Use suggest_float instead.\n",
            "  min_weight_fraction_leaf=trial.suggest_uniform('min_weight_fraction_leaf', 0.00001,0.4)\n",
            "[I 2023-10-17 19:01:04,212] Trial 33 finished with value: 0.7804528979425355 and parameters: {'min_samples_split': 3, 'min_impurity_decrease': 0.003900940188489195, 'n_estimators': 399, 'max_depth': 4, 'max_leaf_nodes': 19, 'criterion': 'entropy', 'min_samples_leaf': 2, 'max_features': 0.8196989297943337, 'min_weight_fraction_leaf': 0.10455907303856746}. Best is trial 28 with value: 0.7828246989149237.\n",
            "C:\\Users\\TT21\\AppData\\Local\\Temp\\ipykernel_29956\\2789354698.py:9: FutureWarning: suggest_uniform has been deprecated in v3.0.0. This feature will be removed in v6.0.0. See https://github.com/optuna/optuna/releases/tag/v3.0.0. Use suggest_float instead.\n",
            "  max_features=trial.suggest_uniform('max_features', 0.1, 1.0)\n",
            "C:\\Users\\TT21\\AppData\\Local\\Temp\\ipykernel_29956\\2789354698.py:10: FutureWarning: suggest_uniform has been deprecated in v3.0.0. This feature will be removed in v6.0.0. See https://github.com/optuna/optuna/releases/tag/v3.0.0. Use suggest_float instead.\n",
            "  min_weight_fraction_leaf=trial.suggest_uniform('min_weight_fraction_leaf', 0.00001,0.4)\n",
            "[I 2023-10-17 19:01:11,595] Trial 34 finished with value: 0.7823275156951366 and parameters: {'min_samples_split': 3, 'min_impurity_decrease': 0.00304291824241396, 'n_estimators': 51, 'max_depth': 5, 'max_leaf_nodes': 18, 'criterion': 'entropy', 'min_samples_leaf': 3, 'max_features': 0.8262267659768395, 'min_weight_fraction_leaf': 0.06962473649120748}. Best is trial 28 with value: 0.7828246989149237.\n",
            "C:\\Users\\TT21\\AppData\\Local\\Temp\\ipykernel_29956\\2789354698.py:9: FutureWarning: suggest_uniform has been deprecated in v3.0.0. This feature will be removed in v6.0.0. See https://github.com/optuna/optuna/releases/tag/v3.0.0. Use suggest_float instead.\n",
            "  max_features=trial.suggest_uniform('max_features', 0.1, 1.0)\n",
            "C:\\Users\\TT21\\AppData\\Local\\Temp\\ipykernel_29956\\2789354698.py:10: FutureWarning: suggest_uniform has been deprecated in v3.0.0. This feature will be removed in v6.0.0. See https://github.com/optuna/optuna/releases/tag/v3.0.0. Use suggest_float instead.\n",
            "  min_weight_fraction_leaf=trial.suggest_uniform('min_weight_fraction_leaf', 0.00001,0.4)\n",
            "[I 2023-10-17 19:01:18,887] Trial 35 finished with value: 0.777774062696212 and parameters: {'min_samples_split': 3, 'min_impurity_decrease': 0.0030251554091363427, 'n_estimators': 61, 'max_depth': 4, 'max_leaf_nodes': 18, 'criterion': 'entropy', 'min_samples_leaf': 2, 'max_features': 0.8175142305662684, 'min_weight_fraction_leaf': 0.11513814713060103}. Best is trial 28 with value: 0.7828246989149237.\n",
            "C:\\Users\\TT21\\AppData\\Local\\Temp\\ipykernel_29956\\2789354698.py:9: FutureWarning: suggest_uniform has been deprecated in v3.0.0. This feature will be removed in v6.0.0. See https://github.com/optuna/optuna/releases/tag/v3.0.0. Use suggest_float instead.\n",
            "  max_features=trial.suggest_uniform('max_features', 0.1, 1.0)\n",
            "C:\\Users\\TT21\\AppData\\Local\\Temp\\ipykernel_29956\\2789354698.py:10: FutureWarning: suggest_uniform has been deprecated in v3.0.0. This feature will be removed in v6.0.0. See https://github.com/optuna/optuna/releases/tag/v3.0.0. Use suggest_float instead.\n",
            "  min_weight_fraction_leaf=trial.suggest_uniform('min_weight_fraction_leaf', 0.00001,0.4)\n",
            "[I 2023-10-17 19:01:30,065] Trial 36 finished with value: 0.7742700608233402 and parameters: {'min_samples_split': 2, 'min_impurity_decrease': 0.0025157682101525952, 'n_estimators': 113, 'max_depth': 5, 'max_leaf_nodes': 20, 'criterion': 'entropy', 'min_samples_leaf': 4, 'max_features': 0.8076278959066351, 'min_weight_fraction_leaf': 0.14824304701731555}. Best is trial 28 with value: 0.7828246989149237.\n",
            "C:\\Users\\TT21\\AppData\\Local\\Temp\\ipykernel_29956\\2789354698.py:9: FutureWarning: suggest_uniform has been deprecated in v3.0.0. This feature will be removed in v6.0.0. See https://github.com/optuna/optuna/releases/tag/v3.0.0. Use suggest_float instead.\n",
            "  max_features=trial.suggest_uniform('max_features', 0.1, 1.0)\n",
            "C:\\Users\\TT21\\AppData\\Local\\Temp\\ipykernel_29956\\2789354698.py:10: FutureWarning: suggest_uniform has been deprecated in v3.0.0. This feature will be removed in v6.0.0. See https://github.com/optuna/optuna/releases/tag/v3.0.0. Use suggest_float instead.\n",
            "  min_weight_fraction_leaf=trial.suggest_uniform('min_weight_fraction_leaf', 0.00001,0.4)\n",
            "[I 2023-10-17 19:01:50,210] Trial 37 finished with value: 0.7818463268156892 and parameters: {'min_samples_split': 4, 'min_impurity_decrease': 0.004797641713617431, 'n_estimators': 158, 'max_depth': 3, 'max_leaf_nodes': 18, 'criterion': 'entropy', 'min_samples_leaf': 2, 'max_features': 0.9794432116523621, 'min_weight_fraction_leaf': 0.08508180551844229}. Best is trial 28 with value: 0.7828246989149237.\n",
            "C:\\Users\\TT21\\AppData\\Local\\Temp\\ipykernel_29956\\2789354698.py:9: FutureWarning: suggest_uniform has been deprecated in v3.0.0. This feature will be removed in v6.0.0. See https://github.com/optuna/optuna/releases/tag/v3.0.0. Use suggest_float instead.\n",
            "  max_features=trial.suggest_uniform('max_features', 0.1, 1.0)\n",
            "C:\\Users\\TT21\\AppData\\Local\\Temp\\ipykernel_29956\\2789354698.py:10: FutureWarning: suggest_uniform has been deprecated in v3.0.0. This feature will be removed in v6.0.0. See https://github.com/optuna/optuna/releases/tag/v3.0.0. Use suggest_float instead.\n",
            "  min_weight_fraction_leaf=trial.suggest_uniform('min_weight_fraction_leaf', 0.00001,0.4)\n",
            "[I 2023-10-17 19:01:58,694] Trial 38 finished with value: 0.7799762119244882 and parameters: {'min_samples_split': 3, 'min_impurity_decrease': 0.0017339256163045448, 'n_estimators': 62, 'max_depth': 6, 'max_leaf_nodes': 17, 'criterion': 'entropy', 'min_samples_leaf': 3, 'max_features': 0.8625123011628961, 'min_weight_fraction_leaf': 0.10717691083483405}. Best is trial 28 with value: 0.7828246989149237.\n",
            "C:\\Users\\TT21\\AppData\\Local\\Temp\\ipykernel_29956\\2789354698.py:9: FutureWarning: suggest_uniform has been deprecated in v3.0.0. This feature will be removed in v6.0.0. See https://github.com/optuna/optuna/releases/tag/v3.0.0. Use suggest_float instead.\n",
            "  max_features=trial.suggest_uniform('max_features', 0.1, 1.0)\n",
            "C:\\Users\\TT21\\AppData\\Local\\Temp\\ipykernel_29956\\2789354698.py:10: FutureWarning: suggest_uniform has been deprecated in v3.0.0. This feature will be removed in v6.0.0. See https://github.com/optuna/optuna/releases/tag/v3.0.0. Use suggest_float instead.\n",
            "  min_weight_fraction_leaf=trial.suggest_uniform('min_weight_fraction_leaf', 0.00001,0.4)\n",
            "[I 2023-10-17 19:02:23,901] Trial 39 finished with value: 0.776069384575289 and parameters: {'min_samples_split': 2, 'min_impurity_decrease': 0.003258280016415844, 'n_estimators': 247, 'max_depth': 5, 'max_leaf_nodes': 20, 'criterion': 'entropy', 'min_samples_leaf': 2, 'max_features': 0.7708940979966534, 'min_weight_fraction_leaf': 0.13811771214848265}. Best is trial 28 with value: 0.7828246989149237.\n",
            "C:\\Users\\TT21\\AppData\\Local\\Temp\\ipykernel_29956\\2789354698.py:9: FutureWarning: suggest_uniform has been deprecated in v3.0.0. This feature will be removed in v6.0.0. See https://github.com/optuna/optuna/releases/tag/v3.0.0. Use suggest_float instead.\n",
            "  max_features=trial.suggest_uniform('max_features', 0.1, 1.0)\n",
            "C:\\Users\\TT21\\AppData\\Local\\Temp\\ipykernel_29956\\2789354698.py:10: FutureWarning: suggest_uniform has been deprecated in v3.0.0. This feature will be removed in v6.0.0. See https://github.com/optuna/optuna/releases/tag/v3.0.0. Use suggest_float instead.\n",
            "  min_weight_fraction_leaf=trial.suggest_uniform('min_weight_fraction_leaf', 0.00001,0.4)\n",
            "[I 2023-10-17 19:02:34,685] Trial 40 finished with value: 0.7833022020899898 and parameters: {'min_samples_split': 5, 'min_impurity_decrease': 0.0005604642766457034, 'n_estimators': 83, 'max_depth': 4, 'max_leaf_nodes': 17, 'criterion': 'entropy', 'min_samples_leaf': 1, 'max_features': 0.6987904913543975, 'min_weight_fraction_leaf': 0.022263885649671328}. Best is trial 40 with value: 0.7833022020899898.\n",
            "C:\\Users\\TT21\\AppData\\Local\\Temp\\ipykernel_29956\\2789354698.py:9: FutureWarning: suggest_uniform has been deprecated in v3.0.0. This feature will be removed in v6.0.0. See https://github.com/optuna/optuna/releases/tag/v3.0.0. Use suggest_float instead.\n",
            "  max_features=trial.suggest_uniform('max_features', 0.1, 1.0)\n",
            "C:\\Users\\TT21\\AppData\\Local\\Temp\\ipykernel_29956\\2789354698.py:10: FutureWarning: suggest_uniform has been deprecated in v3.0.0. This feature will be removed in v6.0.0. See https://github.com/optuna/optuna/releases/tag/v3.0.0. Use suggest_float instead.\n",
            "  min_weight_fraction_leaf=trial.suggest_uniform('min_weight_fraction_leaf', 0.00001,0.4)\n",
            "[I 2023-10-17 19:02:44,729] Trial 41 finished with value: 0.7831233394436206 and parameters: {'min_samples_split': 5, 'min_impurity_decrease': 0.0015935079216526733, 'n_estimators': 80, 'max_depth': 4, 'max_leaf_nodes': 17, 'criterion': 'entropy', 'min_samples_leaf': 1, 'max_features': 0.7030926167063717, 'min_weight_fraction_leaf': 0.01972009278744168}. Best is trial 40 with value: 0.7833022020899898.\n",
            "C:\\Users\\TT21\\AppData\\Local\\Temp\\ipykernel_29956\\2789354698.py:9: FutureWarning: suggest_uniform has been deprecated in v3.0.0. This feature will be removed in v6.0.0. See https://github.com/optuna/optuna/releases/tag/v3.0.0. Use suggest_float instead.\n",
            "  max_features=trial.suggest_uniform('max_features', 0.1, 1.0)\n",
            "C:\\Users\\TT21\\AppData\\Local\\Temp\\ipykernel_29956\\2789354698.py:10: FutureWarning: suggest_uniform has been deprecated in v3.0.0. This feature will be removed in v6.0.0. See https://github.com/optuna/optuna/releases/tag/v3.0.0. Use suggest_float instead.\n",
            "  min_weight_fraction_leaf=trial.suggest_uniform('min_weight_fraction_leaf', 0.00001,0.4)\n",
            "[I 2023-10-17 19:02:56,473] Trial 42 finished with value: 0.7837906218773885 and parameters: {'min_samples_split': 5, 'min_impurity_decrease': 0.0003547188139418926, 'n_estimators': 82, 'max_depth': 4, 'max_leaf_nodes': 15, 'criterion': 'entropy', 'min_samples_leaf': 1, 'max_features': 0.7117491881790027, 'min_weight_fraction_leaf': 0.018800954980520024}. Best is trial 42 with value: 0.7837906218773885.\n",
            "C:\\Users\\TT21\\AppData\\Local\\Temp\\ipykernel_29956\\2789354698.py:9: FutureWarning: suggest_uniform has been deprecated in v3.0.0. This feature will be removed in v6.0.0. See https://github.com/optuna/optuna/releases/tag/v3.0.0. Use suggest_float instead.\n",
            "  max_features=trial.suggest_uniform('max_features', 0.1, 1.0)\n",
            "C:\\Users\\TT21\\AppData\\Local\\Temp\\ipykernel_29956\\2789354698.py:10: FutureWarning: suggest_uniform has been deprecated in v3.0.0. This feature will be removed in v6.0.0. See https://github.com/optuna/optuna/releases/tag/v3.0.0. Use suggest_float instead.\n",
            "  min_weight_fraction_leaf=trial.suggest_uniform('min_weight_fraction_leaf', 0.00001,0.4)\n",
            "[I 2023-10-17 19:03:08,568] Trial 43 finished with value: 0.7839425082220932 and parameters: {'min_samples_split': 5, 'min_impurity_decrease': 1.1736649085364868e-05, 'n_estimators': 89, 'max_depth': 4, 'max_leaf_nodes': 15, 'criterion': 'entropy', 'min_samples_leaf': 1, 'max_features': 0.6994641827244755, 'min_weight_fraction_leaf': 0.01986817651070054}. Best is trial 43 with value: 0.7839425082220932.\n",
            "C:\\Users\\TT21\\AppData\\Local\\Temp\\ipykernel_29956\\2789354698.py:9: FutureWarning: suggest_uniform has been deprecated in v3.0.0. This feature will be removed in v6.0.0. See https://github.com/optuna/optuna/releases/tag/v3.0.0. Use suggest_float instead.\n",
            "  max_features=trial.suggest_uniform('max_features', 0.1, 1.0)\n",
            "C:\\Users\\TT21\\AppData\\Local\\Temp\\ipykernel_29956\\2789354698.py:10: FutureWarning: suggest_uniform has been deprecated in v3.0.0. This feature will be removed in v6.0.0. See https://github.com/optuna/optuna/releases/tag/v3.0.0. Use suggest_float instead.\n",
            "  min_weight_fraction_leaf=trial.suggest_uniform('min_weight_fraction_leaf', 0.00001,0.4)\n",
            "[I 2023-10-17 19:03:18,337] Trial 44 finished with value: 0.782347234298253 and parameters: {'min_samples_split': 5, 'min_impurity_decrease': 0.00045320799526373575, 'n_estimators': 90, 'max_depth': 3, 'max_leaf_nodes': 15, 'criterion': 'entropy', 'min_samples_leaf': 1, 'max_features': 0.6860293933593755, 'min_weight_fraction_leaf': 0.018399307126475035}. Best is trial 43 with value: 0.7839425082220932.\n",
            "C:\\Users\\TT21\\AppData\\Local\\Temp\\ipykernel_29956\\2789354698.py:9: FutureWarning: suggest_uniform has been deprecated in v3.0.0. This feature will be removed in v6.0.0. See https://github.com/optuna/optuna/releases/tag/v3.0.0. Use suggest_float instead.\n",
            "  max_features=trial.suggest_uniform('max_features', 0.1, 1.0)\n",
            "C:\\Users\\TT21\\AppData\\Local\\Temp\\ipykernel_29956\\2789354698.py:10: FutureWarning: suggest_uniform has been deprecated in v3.0.0. This feature will be removed in v6.0.0. See https://github.com/optuna/optuna/releases/tag/v3.0.0. Use suggest_float instead.\n",
            "  min_weight_fraction_leaf=trial.suggest_uniform('min_weight_fraction_leaf', 0.00001,0.4)\n",
            "[I 2023-10-17 19:03:30,276] Trial 45 finished with value: 0.7847040454665161 and parameters: {'min_samples_split': 5, 'min_impurity_decrease': 6.722312465614117e-05, 'n_estimators': 86, 'max_depth': 4, 'max_leaf_nodes': 16, 'criterion': 'entropy', 'min_samples_leaf': 1, 'max_features': 0.7111239931446175, 'min_weight_fraction_leaf': 0.005769793366297793}. Best is trial 45 with value: 0.7847040454665161.\n",
            "C:\\Users\\TT21\\AppData\\Local\\Temp\\ipykernel_29956\\2789354698.py:9: FutureWarning: suggest_uniform has been deprecated in v3.0.0. This feature will be removed in v6.0.0. See https://github.com/optuna/optuna/releases/tag/v3.0.0. Use suggest_float instead.\n",
            "  max_features=trial.suggest_uniform('max_features', 0.1, 1.0)\n",
            "C:\\Users\\TT21\\AppData\\Local\\Temp\\ipykernel_29956\\2789354698.py:10: FutureWarning: suggest_uniform has been deprecated in v3.0.0. This feature will be removed in v6.0.0. See https://github.com/optuna/optuna/releases/tag/v3.0.0. Use suggest_float instead.\n",
            "  min_weight_fraction_leaf=trial.suggest_uniform('min_weight_fraction_leaf', 0.00001,0.4)\n",
            "[I 2023-10-17 19:03:42,413] Trial 46 finished with value: 0.7848937885982868 and parameters: {'min_samples_split': 5, 'min_impurity_decrease': 3.0203553124130877e-05, 'n_estimators': 85, 'max_depth': 4, 'max_leaf_nodes': 16, 'criterion': 'entropy', 'min_samples_leaf': 1, 'max_features': 0.7054523869071353, 'min_weight_fraction_leaf': 0.0009702228455310581}. Best is trial 46 with value: 0.7848937885982868.\n",
            "C:\\Users\\TT21\\AppData\\Local\\Temp\\ipykernel_29956\\2789354698.py:9: FutureWarning: suggest_uniform has been deprecated in v3.0.0. This feature will be removed in v6.0.0. See https://github.com/optuna/optuna/releases/tag/v3.0.0. Use suggest_float instead.\n",
            "  max_features=trial.suggest_uniform('max_features', 0.1, 1.0)\n",
            "C:\\Users\\TT21\\AppData\\Local\\Temp\\ipykernel_29956\\2789354698.py:10: FutureWarning: suggest_uniform has been deprecated in v3.0.0. This feature will be removed in v6.0.0. See https://github.com/optuna/optuna/releases/tag/v3.0.0. Use suggest_float instead.\n",
            "  min_weight_fraction_leaf=trial.suggest_uniform('min_weight_fraction_leaf', 0.00001,0.4)\n",
            "[I 2023-10-17 19:03:54,539] Trial 47 finished with value: 0.7822477127506092 and parameters: {'min_samples_split': 5, 'min_impurity_decrease': 9.066092275666085e-05, 'n_estimators': 118, 'max_depth': 3, 'max_leaf_nodes': 15, 'criterion': 'entropy', 'min_samples_leaf': 1, 'max_features': 0.6484529713903142, 'min_weight_fraction_leaf': 5.669212380523094e-05}. Best is trial 46 with value: 0.7848937885982868.\n",
            "C:\\Users\\TT21\\AppData\\Local\\Temp\\ipykernel_29956\\2789354698.py:9: FutureWarning: suggest_uniform has been deprecated in v3.0.0. This feature will be removed in v6.0.0. See https://github.com/optuna/optuna/releases/tag/v3.0.0. Use suggest_float instead.\n",
            "  max_features=trial.suggest_uniform('max_features', 0.1, 1.0)\n",
            "C:\\Users\\TT21\\AppData\\Local\\Temp\\ipykernel_29956\\2789354698.py:10: FutureWarning: suggest_uniform has been deprecated in v3.0.0. This feature will be removed in v6.0.0. See https://github.com/optuna/optuna/releases/tag/v3.0.0. Use suggest_float instead.\n",
            "  min_weight_fraction_leaf=trial.suggest_uniform('min_weight_fraction_leaf', 0.00001,0.4)\n",
            "[I 2023-10-17 19:04:15,197] Trial 48 finished with value: 0.7844558284704846 and parameters: {'min_samples_split': 7, 'min_impurity_decrease': 0.000828474762171951, 'n_estimators': 142, 'max_depth': 4, 'max_leaf_nodes': 16, 'criterion': 'entropy', 'min_samples_leaf': 1, 'max_features': 0.7642986995324497, 'min_weight_fraction_leaf': 0.00019975152665260495}. Best is trial 46 with value: 0.7848937885982868.\n",
            "C:\\Users\\TT21\\AppData\\Local\\Temp\\ipykernel_29956\\2789354698.py:9: FutureWarning: suggest_uniform has been deprecated in v3.0.0. This feature will be removed in v6.0.0. See https://github.com/optuna/optuna/releases/tag/v3.0.0. Use suggest_float instead.\n",
            "  max_features=trial.suggest_uniform('max_features', 0.1, 1.0)\n",
            "C:\\Users\\TT21\\AppData\\Local\\Temp\\ipykernel_29956\\2789354698.py:10: FutureWarning: suggest_uniform has been deprecated in v3.0.0. This feature will be removed in v6.0.0. See https://github.com/optuna/optuna/releases/tag/v3.0.0. Use suggest_float instead.\n",
            "  min_weight_fraction_leaf=trial.suggest_uniform('min_weight_fraction_leaf', 0.00001,0.4)\n",
            "[I 2023-10-17 19:04:30,759] Trial 49 finished with value: 0.782593932507758 and parameters: {'min_samples_split': 6, 'min_impurity_decrease': 0.0009243184947919958, 'n_estimators': 141, 'max_depth': 3, 'max_leaf_nodes': 16, 'criterion': 'entropy', 'min_samples_leaf': 2, 'max_features': 0.7559315650838634, 'min_weight_fraction_leaf': 0.0031585432564286945}. Best is trial 46 with value: 0.7848937885982868.\n"
          ]
        }
      ],
      "source": [
        "K = 10\n",
        "opt_func = partial(optimizer, X=X_train, y=y_train, K=K)\n",
        "\n",
        "study = optuna.create_study(direction='maximize')\n",
        "study.optimize(opt_func, n_trials=50)"
      ]
    },
    {
      "cell_type": "code",
      "execution_count": null,
      "metadata": {
        "id": "boXhKibtZ_MU"
      },
      "outputs": [],
      "source": [
        "# boosting type = dart"
      ]
    },
    {
      "cell_type": "code",
      "execution_count": null,
      "metadata": {
        "colab": {
          "base_uri": "https://localhost:8080/",
          "height": 1000
        },
        "id": "DuLq8ZGq8s8p",
        "outputId": "17200a5d-3b72-490a-8485-1e5799204155"
      },
      "outputs": [
        {
          "data": {
            "text/html": [
              "<div>\n",
              "<style scoped>\n",
              "    .dataframe tbody tr th:only-of-type {\n",
              "        vertical-align: middle;\n",
              "    }\n",
              "\n",
              "    .dataframe tbody tr th {\n",
              "        vertical-align: top;\n",
              "    }\n",
              "\n",
              "    .dataframe thead th {\n",
              "        text-align: right;\n",
              "    }\n",
              "</style>\n",
              "<table border=\"1\" class=\"dataframe\">\n",
              "  <thead>\n",
              "    <tr style=\"text-align: right;\">\n",
              "      <th></th>\n",
              "      <th>number</th>\n",
              "      <th>value</th>\n",
              "      <th>datetime_start</th>\n",
              "      <th>datetime_complete</th>\n",
              "      <th>duration</th>\n",
              "      <th>params_colsample_bynode</th>\n",
              "      <th>params_learning_rate</th>\n",
              "      <th>params_max_depth</th>\n",
              "      <th>params_n_estimators</th>\n",
              "      <th>params_reg_lambda</th>\n",
              "      <th>state</th>\n",
              "    </tr>\n",
              "  </thead>\n",
              "  <tbody>\n",
              "    <tr>\n",
              "      <th>0</th>\n",
              "      <td>0</td>\n",
              "      <td>0.788587</td>\n",
              "      <td>2023-10-17 14:24:36.731905</td>\n",
              "      <td>2023-10-17 14:24:41.193551</td>\n",
              "      <td>0 days 00:00:04.461646</td>\n",
              "      <td>0.658321</td>\n",
              "      <td>0.152315</td>\n",
              "      <td>6</td>\n",
              "      <td>167</td>\n",
              "      <td>3.484973</td>\n",
              "      <td>COMPLETE</td>\n",
              "    </tr>\n",
              "    <tr>\n",
              "      <th>1</th>\n",
              "      <td>1</td>\n",
              "      <td>0.769548</td>\n",
              "      <td>2023-10-17 14:24:41.194549</td>\n",
              "      <td>2023-10-17 14:24:48.292626</td>\n",
              "      <td>0 days 00:00:07.098077</td>\n",
              "      <td>0.632092</td>\n",
              "      <td>0.295517</td>\n",
              "      <td>12</td>\n",
              "      <td>69</td>\n",
              "      <td>3.293869</td>\n",
              "      <td>COMPLETE</td>\n",
              "    </tr>\n",
              "    <tr>\n",
              "      <th>2</th>\n",
              "      <td>2</td>\n",
              "      <td>0.780958</td>\n",
              "      <td>2023-10-17 14:24:48.294620</td>\n",
              "      <td>2023-10-17 14:25:21.760992</td>\n",
              "      <td>0 days 00:00:33.466372</td>\n",
              "      <td>0.752861</td>\n",
              "      <td>0.037676</td>\n",
              "      <td>14</td>\n",
              "      <td>191</td>\n",
              "      <td>1.761860</td>\n",
              "      <td>COMPLETE</td>\n",
              "    </tr>\n",
              "    <tr>\n",
              "      <th>3</th>\n",
              "      <td>3</td>\n",
              "      <td>0.781131</td>\n",
              "      <td>2023-10-17 14:25:21.762986</td>\n",
              "      <td>2023-10-17 14:25:27.354850</td>\n",
              "      <td>0 days 00:00:05.591864</td>\n",
              "      <td>0.566693</td>\n",
              "      <td>0.208899</td>\n",
              "      <td>7</td>\n",
              "      <td>184</td>\n",
              "      <td>1.123674</td>\n",
              "      <td>COMPLETE</td>\n",
              "    </tr>\n",
              "    <tr>\n",
              "      <th>4</th>\n",
              "      <td>4</td>\n",
              "      <td>0.766183</td>\n",
              "      <td>2023-10-17 14:25:27.356848</td>\n",
              "      <td>2023-10-17 14:25:42.754339</td>\n",
              "      <td>0 days 00:00:15.397491</td>\n",
              "      <td>0.676987</td>\n",
              "      <td>0.228759</td>\n",
              "      <td>14</td>\n",
              "      <td>128</td>\n",
              "      <td>4.172292</td>\n",
              "      <td>COMPLETE</td>\n",
              "    </tr>\n",
              "    <tr>\n",
              "      <th>5</th>\n",
              "      <td>5</td>\n",
              "      <td>0.766616</td>\n",
              "      <td>2023-10-17 14:25:42.756334</td>\n",
              "      <td>2023-10-17 14:25:53.227673</td>\n",
              "      <td>0 days 00:00:10.471339</td>\n",
              "      <td>0.672251</td>\n",
              "      <td>0.209655</td>\n",
              "      <td>14</td>\n",
              "      <td>62</td>\n",
              "      <td>0.853603</td>\n",
              "      <td>COMPLETE</td>\n",
              "    </tr>\n",
              "    <tr>\n",
              "      <th>6</th>\n",
              "      <td>6</td>\n",
              "      <td>0.776758</td>\n",
              "      <td>2023-10-17 14:25:53.229668</td>\n",
              "      <td>2023-10-17 14:26:01.622028</td>\n",
              "      <td>0 days 00:00:08.392360</td>\n",
              "      <td>0.731293</td>\n",
              "      <td>0.143317</td>\n",
              "      <td>9</td>\n",
              "      <td>200</td>\n",
              "      <td>0.661321</td>\n",
              "      <td>COMPLETE</td>\n",
              "    </tr>\n",
              "    <tr>\n",
              "      <th>7</th>\n",
              "      <td>7</td>\n",
              "      <td>0.791010</td>\n",
              "      <td>2023-10-17 14:26:01.623026</td>\n",
              "      <td>2023-10-17 14:26:04.960061</td>\n",
              "      <td>0 days 00:00:03.337035</td>\n",
              "      <td>0.746368</td>\n",
              "      <td>0.116083</td>\n",
              "      <td>6</td>\n",
              "      <td>123</td>\n",
              "      <td>3.383253</td>\n",
              "      <td>COMPLETE</td>\n",
              "    </tr>\n",
              "    <tr>\n",
              "      <th>8</th>\n",
              "      <td>8</td>\n",
              "      <td>0.791521</td>\n",
              "      <td>2023-10-17 14:26:04.962055</td>\n",
              "      <td>2023-10-17 14:26:13.196171</td>\n",
              "      <td>0 days 00:00:08.234116</td>\n",
              "      <td>0.545177</td>\n",
              "      <td>0.027362</td>\n",
              "      <td>8</td>\n",
              "      <td>187</td>\n",
              "      <td>2.420335</td>\n",
              "      <td>COMPLETE</td>\n",
              "    </tr>\n",
              "    <tr>\n",
              "      <th>9</th>\n",
              "      <td>9</td>\n",
              "      <td>0.767131</td>\n",
              "      <td>2023-10-17 14:26:13.198166</td>\n",
              "      <td>2023-10-17 14:26:20.156556</td>\n",
              "      <td>0 days 00:00:06.958390</td>\n",
              "      <td>0.799091</td>\n",
              "      <td>0.290478</td>\n",
              "      <td>12</td>\n",
              "      <td>65</td>\n",
              "      <td>2.138494</td>\n",
              "      <td>COMPLETE</td>\n",
              "    </tr>\n",
              "    <tr>\n",
              "      <th>10</th>\n",
              "      <td>10</td>\n",
              "      <td>0.791738</td>\n",
              "      <td>2023-10-17 14:26:20.157552</td>\n",
              "      <td>2023-10-17 14:26:27.656670</td>\n",
              "      <td>0 days 00:00:07.499118</td>\n",
              "      <td>0.512412</td>\n",
              "      <td>0.009454</td>\n",
              "      <td>8</td>\n",
              "      <td>142</td>\n",
              "      <td>2.507235</td>\n",
              "      <td>COMPLETE</td>\n",
              "    </tr>\n",
              "    <tr>\n",
              "      <th>11</th>\n",
              "      <td>11</td>\n",
              "      <td>0.791367</td>\n",
              "      <td>2023-10-17 14:26:27.658665</td>\n",
              "      <td>2023-10-17 14:26:38.507378</td>\n",
              "      <td>0 days 00:00:10.848713</td>\n",
              "      <td>0.502373</td>\n",
              "      <td>0.003384</td>\n",
              "      <td>9</td>\n",
              "      <td>136</td>\n",
              "      <td>2.358406</td>\n",
              "      <td>COMPLETE</td>\n",
              "    </tr>\n",
              "    <tr>\n",
              "      <th>12</th>\n",
              "      <td>12</td>\n",
              "      <td>0.790795</td>\n",
              "      <td>2023-10-17 14:26:38.509374</td>\n",
              "      <td>2023-10-17 14:26:45.256140</td>\n",
              "      <td>0 days 00:00:06.746766</td>\n",
              "      <td>0.500571</td>\n",
              "      <td>0.055357</td>\n",
              "      <td>8</td>\n",
              "      <td>155</td>\n",
              "      <td>2.727671</td>\n",
              "      <td>COMPLETE</td>\n",
              "    </tr>\n",
              "    <tr>\n",
              "      <th>13</th>\n",
              "      <td>13</td>\n",
              "      <td>0.790193</td>\n",
              "      <td>2023-10-17 14:26:45.258136</td>\n",
              "      <td>2023-10-17 14:26:59.465553</td>\n",
              "      <td>0 days 00:00:14.207417</td>\n",
              "      <td>0.556600</td>\n",
              "      <td>0.008138</td>\n",
              "      <td>11</td>\n",
              "      <td>100</td>\n",
              "      <td>1.587988</td>\n",
              "      <td>COMPLETE</td>\n",
              "    </tr>\n",
              "    <tr>\n",
              "      <th>14</th>\n",
              "      <td>14</td>\n",
              "      <td>0.792250</td>\n",
              "      <td>2023-10-17 14:26:59.467556</td>\n",
              "      <td>2023-10-17 14:27:03.254173</td>\n",
              "      <td>0 days 00:00:03.786617</td>\n",
              "      <td>0.553318</td>\n",
              "      <td>0.068398</td>\n",
              "      <td>5</td>\n",
              "      <td>160</td>\n",
              "      <td>2.717038</td>\n",
              "      <td>COMPLETE</td>\n",
              "    </tr>\n",
              "    <tr>\n",
              "      <th>15</th>\n",
              "      <td>15</td>\n",
              "      <td>0.792337</td>\n",
              "      <td>2023-10-17 14:27:03.255171</td>\n",
              "      <td>2023-10-17 14:27:06.810881</td>\n",
              "      <td>0 days 00:00:03.555710</td>\n",
              "      <td>0.593391</td>\n",
              "      <td>0.074671</td>\n",
              "      <td>5</td>\n",
              "      <td>156</td>\n",
              "      <td>4.375729</td>\n",
              "      <td>COMPLETE</td>\n",
              "    </tr>\n",
              "    <tr>\n",
              "      <th>16</th>\n",
              "      <td>16</td>\n",
              "      <td>0.792378</td>\n",
              "      <td>2023-10-17 14:27:06.811878</td>\n",
              "      <td>2023-10-17 14:27:10.537893</td>\n",
              "      <td>0 days 00:00:03.726015</td>\n",
              "      <td>0.597701</td>\n",
              "      <td>0.078236</td>\n",
              "      <td>5</td>\n",
              "      <td>163</td>\n",
              "      <td>4.963024</td>\n",
              "      <td>COMPLETE</td>\n",
              "    </tr>\n",
              "    <tr>\n",
              "      <th>17</th>\n",
              "      <td>17</td>\n",
              "      <td>0.792416</td>\n",
              "      <td>2023-10-17 14:27:10.539888</td>\n",
              "      <td>2023-10-17 14:27:13.156396</td>\n",
              "      <td>0 days 00:00:02.616508</td>\n",
              "      <td>0.603962</td>\n",
              "      <td>0.083546</td>\n",
              "      <td>5</td>\n",
              "      <td>104</td>\n",
              "      <td>4.734843</td>\n",
              "      <td>COMPLETE</td>\n",
              "    </tr>\n",
              "    <tr>\n",
              "      <th>18</th>\n",
              "      <td>18</td>\n",
              "      <td>0.791954</td>\n",
              "      <td>2023-10-17 14:27:13.158391</td>\n",
              "      <td>2023-10-17 14:27:16.135508</td>\n",
              "      <td>0 days 00:00:02.977117</td>\n",
              "      <td>0.612880</td>\n",
              "      <td>0.095219</td>\n",
              "      <td>6</td>\n",
              "      <td>102</td>\n",
              "      <td>4.966868</td>\n",
              "      <td>COMPLETE</td>\n",
              "    </tr>\n",
              "    <tr>\n",
              "      <th>19</th>\n",
              "      <td>19</td>\n",
              "      <td>0.792263</td>\n",
              "      <td>2023-10-17 14:27:16.137500</td>\n",
              "      <td>2023-10-17 14:27:18.996931</td>\n",
              "      <td>0 days 00:00:02.859431</td>\n",
              "      <td>0.592945</td>\n",
              "      <td>0.100125</td>\n",
              "      <td>5</td>\n",
              "      <td>100</td>\n",
              "      <td>4.965535</td>\n",
              "      <td>COMPLETE</td>\n",
              "    </tr>\n",
              "    <tr>\n",
              "      <th>20</th>\n",
              "      <td>20</td>\n",
              "      <td>0.792099</td>\n",
              "      <td>2023-10-17 14:27:18.998927</td>\n",
              "      <td>2023-10-17 14:27:23.572777</td>\n",
              "      <td>0 days 00:00:04.573850</td>\n",
              "      <td>0.633377</td>\n",
              "      <td>0.041177</td>\n",
              "      <td>7</td>\n",
              "      <td>111</td>\n",
              "      <td>4.371720</td>\n",
              "      <td>COMPLETE</td>\n",
              "    </tr>\n",
              "    <tr>\n",
              "      <th>21</th>\n",
              "      <td>21</td>\n",
              "      <td>0.792467</td>\n",
              "      <td>2023-10-17 14:27:23.574771</td>\n",
              "      <td>2023-10-17 14:27:25.862165</td>\n",
              "      <td>0 days 00:00:02.287394</td>\n",
              "      <td>0.594188</td>\n",
              "      <td>0.075381</td>\n",
              "      <td>5</td>\n",
              "      <td>82</td>\n",
              "      <td>4.528684</td>\n",
              "      <td>COMPLETE</td>\n",
              "    </tr>\n",
              "    <tr>\n",
              "      <th>22</th>\n",
              "      <td>22</td>\n",
              "      <td>0.792553</td>\n",
              "      <td>2023-10-17 14:27:25.864160</td>\n",
              "      <td>2023-10-17 14:27:28.226248</td>\n",
              "      <td>0 days 00:00:02.362088</td>\n",
              "      <td>0.599548</td>\n",
              "      <td>0.071874</td>\n",
              "      <td>5</td>\n",
              "      <td>85</td>\n",
              "      <td>4.646284</td>\n",
              "      <td>COMPLETE</td>\n",
              "    </tr>\n",
              "    <tr>\n",
              "      <th>23</th>\n",
              "      <td>23</td>\n",
              "      <td>0.791913</td>\n",
              "      <td>2023-10-17 14:27:28.228242</td>\n",
              "      <td>2023-10-17 14:27:31.778792</td>\n",
              "      <td>0 days 00:00:03.550550</td>\n",
              "      <td>0.622917</td>\n",
              "      <td>0.055733</td>\n",
              "      <td>7</td>\n",
              "      <td>84</td>\n",
              "      <td>4.034026</td>\n",
              "      <td>COMPLETE</td>\n",
              "    </tr>\n",
              "    <tr>\n",
              "      <th>24</th>\n",
              "      <td>24</td>\n",
              "      <td>0.791776</td>\n",
              "      <td>2023-10-17 14:27:31.779789</td>\n",
              "      <td>2023-10-17 14:27:34.336331</td>\n",
              "      <td>0 days 00:00:02.556542</td>\n",
              "      <td>0.582318</td>\n",
              "      <td>0.109569</td>\n",
              "      <td>6</td>\n",
              "      <td>79</td>\n",
              "      <td>4.642727</td>\n",
              "      <td>COMPLETE</td>\n",
              "    </tr>\n",
              "    <tr>\n",
              "      <th>25</th>\n",
              "      <td>25</td>\n",
              "      <td>0.792327</td>\n",
              "      <td>2023-10-17 14:27:34.337328</td>\n",
              "      <td>2023-10-17 14:27:36.691881</td>\n",
              "      <td>0 days 00:00:02.354553</td>\n",
              "      <td>0.609052</td>\n",
              "      <td>0.083464</td>\n",
              "      <td>5</td>\n",
              "      <td>83</td>\n",
              "      <td>3.884105</td>\n",
              "      <td>COMPLETE</td>\n",
              "    </tr>\n",
              "    <tr>\n",
              "      <th>26</th>\n",
              "      <td>26</td>\n",
              "      <td>0.787667</td>\n",
              "      <td>2023-10-17 14:27:36.693877</td>\n",
              "      <td>2023-10-17 14:27:41.638538</td>\n",
              "      <td>0 days 00:00:04.944661</td>\n",
              "      <td>0.574663</td>\n",
              "      <td>0.124242</td>\n",
              "      <td>10</td>\n",
              "      <td>54</td>\n",
              "      <td>4.484737</td>\n",
              "      <td>COMPLETE</td>\n",
              "    </tr>\n",
              "    <tr>\n",
              "      <th>27</th>\n",
              "      <td>27</td>\n",
              "      <td>0.791942</td>\n",
              "      <td>2023-10-17 14:27:41.640533</td>\n",
              "      <td>2023-10-17 14:27:45.596035</td>\n",
              "      <td>0 days 00:00:03.955502</td>\n",
              "      <td>0.636928</td>\n",
              "      <td>0.058236</td>\n",
              "      <td>7</td>\n",
              "      <td>92</td>\n",
              "      <td>3.766029</td>\n",
              "      <td>COMPLETE</td>\n",
              "    </tr>\n",
              "    <tr>\n",
              "      <th>28</th>\n",
              "      <td>28</td>\n",
              "      <td>0.791985</td>\n",
              "      <td>2023-10-17 14:27:45.597028</td>\n",
              "      <td>2023-10-17 14:27:48.866654</td>\n",
              "      <td>0 days 00:00:03.269626</td>\n",
              "      <td>0.534472</td>\n",
              "      <td>0.092646</td>\n",
              "      <td>6</td>\n",
              "      <td>108</td>\n",
              "      <td>4.649340</td>\n",
              "      <td>COMPLETE</td>\n",
              "    </tr>\n",
              "    <tr>\n",
              "      <th>29</th>\n",
              "      <td>29</td>\n",
              "      <td>0.790632</td>\n",
              "      <td>2023-10-17 14:27:48.868649</td>\n",
              "      <td>2023-10-17 14:27:52.362125</td>\n",
              "      <td>0 days 00:00:03.493476</td>\n",
              "      <td>0.656362</td>\n",
              "      <td>0.135942</td>\n",
              "      <td>6</td>\n",
              "      <td>117</td>\n",
              "      <td>3.689124</td>\n",
              "      <td>COMPLETE</td>\n",
              "    </tr>\n",
              "    <tr>\n",
              "      <th>30</th>\n",
              "      <td>30</td>\n",
              "      <td>0.792318</td>\n",
              "      <td>2023-10-17 14:27:52.364120</td>\n",
              "      <td>2023-10-17 14:27:54.680929</td>\n",
              "      <td>0 days 00:00:02.316809</td>\n",
              "      <td>0.576845</td>\n",
              "      <td>0.122030</td>\n",
              "      <td>5</td>\n",
              "      <td>76</td>\n",
              "      <td>3.108882</td>\n",
              "      <td>COMPLETE</td>\n",
              "    </tr>\n",
              "    <tr>\n",
              "      <th>31</th>\n",
              "      <td>31</td>\n",
              "      <td>0.792281</td>\n",
              "      <td>2023-10-17 14:27:54.682922</td>\n",
              "      <td>2023-10-17 14:27:57.177244</td>\n",
              "      <td>0 days 00:00:02.494322</td>\n",
              "      <td>0.605805</td>\n",
              "      <td>0.081958</td>\n",
              "      <td>5</td>\n",
              "      <td>90</td>\n",
              "      <td>4.741496</td>\n",
              "      <td>COMPLETE</td>\n",
              "    </tr>\n",
              "    <tr>\n",
              "      <th>32</th>\n",
              "      <td>32</td>\n",
              "      <td>0.792125</td>\n",
              "      <td>2023-10-17 14:27:57.178243</td>\n",
              "      <td>2023-10-17 14:27:59.365831</td>\n",
              "      <td>0 days 00:00:02.187588</td>\n",
              "      <td>0.599435</td>\n",
              "      <td>0.068131</td>\n",
              "      <td>6</td>\n",
              "      <td>51</td>\n",
              "      <td>4.219812</td>\n",
              "      <td>COMPLETE</td>\n",
              "    </tr>\n",
              "    <tr>\n",
              "      <th>33</th>\n",
              "      <td>33</td>\n",
              "      <td>0.783794</td>\n",
              "      <td>2023-10-17 14:27:59.366829</td>\n",
              "      <td>2023-10-17 14:28:35.530756</td>\n",
              "      <td>0 days 00:00:36.163927</td>\n",
              "      <td>0.585348</td>\n",
              "      <td>0.040118</td>\n",
              "      <td>15</td>\n",
              "      <td>172</td>\n",
              "      <td>4.733183</td>\n",
              "      <td>COMPLETE</td>\n",
              "    </tr>\n",
              "    <tr>\n",
              "      <th>34</th>\n",
              "      <td>34</td>\n",
              "      <td>0.792371</td>\n",
              "      <td>2023-10-17 14:28:35.531753</td>\n",
              "      <td>2023-10-17 14:28:37.629935</td>\n",
              "      <td>0 days 00:00:02.098182</td>\n",
              "      <td>0.613349</td>\n",
              "      <td>0.099087</td>\n",
              "      <td>5</td>\n",
              "      <td>75</td>\n",
              "      <td>4.081678</td>\n",
              "      <td>COMPLETE</td>\n",
              "    </tr>\n",
              "    <tr>\n",
              "      <th>35</th>\n",
              "      <td>35</td>\n",
              "      <td>0.789516</td>\n",
              "      <td>2023-10-17 14:28:37.631930</td>\n",
              "      <td>2023-10-17 14:28:40.742652</td>\n",
              "      <td>0 days 00:00:03.110722</td>\n",
              "      <td>0.640981</td>\n",
              "      <td>0.166124</td>\n",
              "      <td>7</td>\n",
              "      <td>92</td>\n",
              "      <td>4.963845</td>\n",
              "      <td>COMPLETE</td>\n",
              "    </tr>\n",
              "    <tr>\n",
              "      <th>36</th>\n",
              "      <td>36</td>\n",
              "      <td>0.790509</td>\n",
              "      <td>2023-10-17 14:28:40.744647</td>\n",
              "      <td>2023-10-17 14:28:46.115153</td>\n",
              "      <td>0 days 00:00:05.370506</td>\n",
              "      <td>0.562787</td>\n",
              "      <td>0.078778</td>\n",
              "      <td>7</td>\n",
              "      <td>175</td>\n",
              "      <td>4.415734</td>\n",
              "      <td>COMPLETE</td>\n",
              "    </tr>\n",
              "    <tr>\n",
              "      <th>37</th>\n",
              "      <td>37</td>\n",
              "      <td>0.792438</td>\n",
              "      <td>2023-10-17 14:28:46.117147</td>\n",
              "      <td>2023-10-17 14:28:49.586088</td>\n",
              "      <td>0 days 00:00:03.468941</td>\n",
              "      <td>0.625539</td>\n",
              "      <td>0.047299</td>\n",
              "      <td>5</td>\n",
              "      <td>146</td>\n",
              "      <td>4.262758</td>\n",
              "      <td>COMPLETE</td>\n",
              "    </tr>\n",
              "    <tr>\n",
              "      <th>38</th>\n",
              "      <td>38</td>\n",
              "      <td>0.792560</td>\n",
              "      <td>2023-10-17 14:28:49.587592</td>\n",
              "      <td>2023-10-17 14:28:54.027846</td>\n",
              "      <td>0 days 00:00:04.440254</td>\n",
              "      <td>0.652254</td>\n",
              "      <td>0.029351</td>\n",
              "      <td>6</td>\n",
              "      <td>143</td>\n",
              "      <td>3.580988</td>\n",
              "      <td>COMPLETE</td>\n",
              "    </tr>\n",
              "    <tr>\n",
              "      <th>39</th>\n",
              "      <td>39</td>\n",
              "      <td>0.792451</td>\n",
              "      <td>2023-10-17 14:28:54.029841</td>\n",
              "      <td>2023-10-17 14:28:58.339437</td>\n",
              "      <td>0 days 00:00:04.309596</td>\n",
              "      <td>0.660971</td>\n",
              "      <td>0.024958</td>\n",
              "      <td>6</td>\n",
              "      <td>137</td>\n",
              "      <td>3.561349</td>\n",
              "      <td>COMPLETE</td>\n",
              "    </tr>\n",
              "    <tr>\n",
              "      <th>40</th>\n",
              "      <td>40</td>\n",
              "      <td>0.791428</td>\n",
              "      <td>2023-10-17 14:28:58.340434</td>\n",
              "      <td>2023-10-17 14:29:04.812592</td>\n",
              "      <td>0 days 00:00:06.472158</td>\n",
              "      <td>0.665138</td>\n",
              "      <td>0.036137</td>\n",
              "      <td>8</td>\n",
              "      <td>130</td>\n",
              "      <td>3.163666</td>\n",
              "      <td>COMPLETE</td>\n",
              "    </tr>\n",
              "    <tr>\n",
              "      <th>41</th>\n",
              "      <td>41</td>\n",
              "      <td>0.792213</td>\n",
              "      <td>2023-10-17 14:29:04.814100</td>\n",
              "      <td>2023-10-17 14:29:09.434673</td>\n",
              "      <td>0 days 00:00:04.620573</td>\n",
              "      <td>0.648358</td>\n",
              "      <td>0.018368</td>\n",
              "      <td>6</td>\n",
              "      <td>147</td>\n",
              "      <td>3.559050</td>\n",
              "      <td>COMPLETE</td>\n",
              "    </tr>\n",
              "    <tr>\n",
              "      <th>42</th>\n",
              "      <td>42</td>\n",
              "      <td>0.792286</td>\n",
              "      <td>2023-10-17 14:29:09.436667</td>\n",
              "      <td>2023-10-17 14:29:14.026878</td>\n",
              "      <td>0 days 00:00:04.590211</td>\n",
              "      <td>0.669106</td>\n",
              "      <td>0.021506</td>\n",
              "      <td>6</td>\n",
              "      <td>144</td>\n",
              "      <td>4.039375</td>\n",
              "      <td>COMPLETE</td>\n",
              "    </tr>\n",
              "    <tr>\n",
              "      <th>43</th>\n",
              "      <td>43</td>\n",
              "      <td>0.792444</td>\n",
              "      <td>2023-10-17 14:29:14.028873</td>\n",
              "      <td>2023-10-17 14:29:18.173658</td>\n",
              "      <td>0 days 00:00:04.144785</td>\n",
              "      <td>0.692560</td>\n",
              "      <td>0.031082</td>\n",
              "      <td>6</td>\n",
              "      <td>132</td>\n",
              "      <td>3.467795</td>\n",
              "      <td>COMPLETE</td>\n",
              "    </tr>\n",
              "    <tr>\n",
              "      <th>44</th>\n",
              "      <td>44</td>\n",
              "      <td>0.791144</td>\n",
              "      <td>2023-10-17 14:29:18.174655</td>\n",
              "      <td>2023-10-17 14:29:27.735648</td>\n",
              "      <td>0 days 00:00:09.560993</td>\n",
              "      <td>0.683439</td>\n",
              "      <td>0.021365</td>\n",
              "      <td>9</td>\n",
              "      <td>125</td>\n",
              "      <td>3.492406</td>\n",
              "      <td>COMPLETE</td>\n",
              "    </tr>\n",
              "    <tr>\n",
              "      <th>45</th>\n",
              "      <td>45</td>\n",
              "      <td>0.792092</td>\n",
              "      <td>2023-10-17 14:29:27.736646</td>\n",
              "      <td>2023-10-17 14:29:32.986647</td>\n",
              "      <td>0 days 00:00:05.250001</td>\n",
              "      <td>0.681701</td>\n",
              "      <td>0.032243</td>\n",
              "      <td>7</td>\n",
              "      <td>134</td>\n",
              "      <td>3.260947</td>\n",
              "      <td>COMPLETE</td>\n",
              "    </tr>\n",
              "    <tr>\n",
              "      <th>46</th>\n",
              "      <td>46</td>\n",
              "      <td>0.789351</td>\n",
              "      <td>2023-10-17 14:29:32.988642</td>\n",
              "      <td>2023-10-17 14:29:53.635551</td>\n",
              "      <td>0 days 00:00:20.646909</td>\n",
              "      <td>0.708417</td>\n",
              "      <td>0.005682</td>\n",
              "      <td>12</td>\n",
              "      <td>117</td>\n",
              "      <td>2.961624</td>\n",
              "      <td>COMPLETE</td>\n",
              "    </tr>\n",
              "    <tr>\n",
              "      <th>47</th>\n",
              "      <td>47</td>\n",
              "      <td>0.791108</td>\n",
              "      <td>2023-10-17 14:29:53.638059</td>\n",
              "      <td>2023-10-17 14:29:59.862698</td>\n",
              "      <td>0 days 00:00:06.224639</td>\n",
              "      <td>0.650530</td>\n",
              "      <td>0.049073</td>\n",
              "      <td>8</td>\n",
              "      <td>137</td>\n",
              "      <td>3.424415</td>\n",
              "      <td>COMPLETE</td>\n",
              "    </tr>\n",
              "    <tr>\n",
              "      <th>48</th>\n",
              "      <td>48</td>\n",
              "      <td>0.792483</td>\n",
              "      <td>2023-10-17 14:29:59.864693</td>\n",
              "      <td>2023-10-17 14:30:03.679353</td>\n",
              "      <td>0 days 00:00:03.814660</td>\n",
              "      <td>0.696316</td>\n",
              "      <td>0.031388</td>\n",
              "      <td>6</td>\n",
              "      <td>118</td>\n",
              "      <td>3.888645</td>\n",
              "      <td>COMPLETE</td>\n",
              "    </tr>\n",
              "    <tr>\n",
              "      <th>49</th>\n",
              "      <td>49</td>\n",
              "      <td>0.785457</td>\n",
              "      <td>2023-10-17 14:30:03.681348</td>\n",
              "      <td>2023-10-17 14:30:17.989252</td>\n",
              "      <td>0 days 00:00:14.307904</td>\n",
              "      <td>0.657532</td>\n",
              "      <td>0.061964</td>\n",
              "      <td>13</td>\n",
              "      <td>69</td>\n",
              "      <td>3.863351</td>\n",
              "      <td>COMPLETE</td>\n",
              "    </tr>\n",
              "  </tbody>\n",
              "</table>\n",
              "</div>"
            ],
            "text/plain": [
              "    number     value             datetime_start          datetime_complete  \\\n",
              "0        0  0.788587 2023-10-17 14:24:36.731905 2023-10-17 14:24:41.193551   \n",
              "1        1  0.769548 2023-10-17 14:24:41.194549 2023-10-17 14:24:48.292626   \n",
              "2        2  0.780958 2023-10-17 14:24:48.294620 2023-10-17 14:25:21.760992   \n",
              "3        3  0.781131 2023-10-17 14:25:21.762986 2023-10-17 14:25:27.354850   \n",
              "4        4  0.766183 2023-10-17 14:25:27.356848 2023-10-17 14:25:42.754339   \n",
              "5        5  0.766616 2023-10-17 14:25:42.756334 2023-10-17 14:25:53.227673   \n",
              "6        6  0.776758 2023-10-17 14:25:53.229668 2023-10-17 14:26:01.622028   \n",
              "7        7  0.791010 2023-10-17 14:26:01.623026 2023-10-17 14:26:04.960061   \n",
              "8        8  0.791521 2023-10-17 14:26:04.962055 2023-10-17 14:26:13.196171   \n",
              "9        9  0.767131 2023-10-17 14:26:13.198166 2023-10-17 14:26:20.156556   \n",
              "10      10  0.791738 2023-10-17 14:26:20.157552 2023-10-17 14:26:27.656670   \n",
              "11      11  0.791367 2023-10-17 14:26:27.658665 2023-10-17 14:26:38.507378   \n",
              "12      12  0.790795 2023-10-17 14:26:38.509374 2023-10-17 14:26:45.256140   \n",
              "13      13  0.790193 2023-10-17 14:26:45.258136 2023-10-17 14:26:59.465553   \n",
              "14      14  0.792250 2023-10-17 14:26:59.467556 2023-10-17 14:27:03.254173   \n",
              "15      15  0.792337 2023-10-17 14:27:03.255171 2023-10-17 14:27:06.810881   \n",
              "16      16  0.792378 2023-10-17 14:27:06.811878 2023-10-17 14:27:10.537893   \n",
              "17      17  0.792416 2023-10-17 14:27:10.539888 2023-10-17 14:27:13.156396   \n",
              "18      18  0.791954 2023-10-17 14:27:13.158391 2023-10-17 14:27:16.135508   \n",
              "19      19  0.792263 2023-10-17 14:27:16.137500 2023-10-17 14:27:18.996931   \n",
              "20      20  0.792099 2023-10-17 14:27:18.998927 2023-10-17 14:27:23.572777   \n",
              "21      21  0.792467 2023-10-17 14:27:23.574771 2023-10-17 14:27:25.862165   \n",
              "22      22  0.792553 2023-10-17 14:27:25.864160 2023-10-17 14:27:28.226248   \n",
              "23      23  0.791913 2023-10-17 14:27:28.228242 2023-10-17 14:27:31.778792   \n",
              "24      24  0.791776 2023-10-17 14:27:31.779789 2023-10-17 14:27:34.336331   \n",
              "25      25  0.792327 2023-10-17 14:27:34.337328 2023-10-17 14:27:36.691881   \n",
              "26      26  0.787667 2023-10-17 14:27:36.693877 2023-10-17 14:27:41.638538   \n",
              "27      27  0.791942 2023-10-17 14:27:41.640533 2023-10-17 14:27:45.596035   \n",
              "28      28  0.791985 2023-10-17 14:27:45.597028 2023-10-17 14:27:48.866654   \n",
              "29      29  0.790632 2023-10-17 14:27:48.868649 2023-10-17 14:27:52.362125   \n",
              "30      30  0.792318 2023-10-17 14:27:52.364120 2023-10-17 14:27:54.680929   \n",
              "31      31  0.792281 2023-10-17 14:27:54.682922 2023-10-17 14:27:57.177244   \n",
              "32      32  0.792125 2023-10-17 14:27:57.178243 2023-10-17 14:27:59.365831   \n",
              "33      33  0.783794 2023-10-17 14:27:59.366829 2023-10-17 14:28:35.530756   \n",
              "34      34  0.792371 2023-10-17 14:28:35.531753 2023-10-17 14:28:37.629935   \n",
              "35      35  0.789516 2023-10-17 14:28:37.631930 2023-10-17 14:28:40.742652   \n",
              "36      36  0.790509 2023-10-17 14:28:40.744647 2023-10-17 14:28:46.115153   \n",
              "37      37  0.792438 2023-10-17 14:28:46.117147 2023-10-17 14:28:49.586088   \n",
              "38      38  0.792560 2023-10-17 14:28:49.587592 2023-10-17 14:28:54.027846   \n",
              "39      39  0.792451 2023-10-17 14:28:54.029841 2023-10-17 14:28:58.339437   \n",
              "40      40  0.791428 2023-10-17 14:28:58.340434 2023-10-17 14:29:04.812592   \n",
              "41      41  0.792213 2023-10-17 14:29:04.814100 2023-10-17 14:29:09.434673   \n",
              "42      42  0.792286 2023-10-17 14:29:09.436667 2023-10-17 14:29:14.026878   \n",
              "43      43  0.792444 2023-10-17 14:29:14.028873 2023-10-17 14:29:18.173658   \n",
              "44      44  0.791144 2023-10-17 14:29:18.174655 2023-10-17 14:29:27.735648   \n",
              "45      45  0.792092 2023-10-17 14:29:27.736646 2023-10-17 14:29:32.986647   \n",
              "46      46  0.789351 2023-10-17 14:29:32.988642 2023-10-17 14:29:53.635551   \n",
              "47      47  0.791108 2023-10-17 14:29:53.638059 2023-10-17 14:29:59.862698   \n",
              "48      48  0.792483 2023-10-17 14:29:59.864693 2023-10-17 14:30:03.679353   \n",
              "49      49  0.785457 2023-10-17 14:30:03.681348 2023-10-17 14:30:17.989252   \n",
              "\n",
              "                 duration  params_colsample_bynode  params_learning_rate  \\\n",
              "0  0 days 00:00:04.461646                 0.658321              0.152315   \n",
              "1  0 days 00:00:07.098077                 0.632092              0.295517   \n",
              "2  0 days 00:00:33.466372                 0.752861              0.037676   \n",
              "3  0 days 00:00:05.591864                 0.566693              0.208899   \n",
              "4  0 days 00:00:15.397491                 0.676987              0.228759   \n",
              "5  0 days 00:00:10.471339                 0.672251              0.209655   \n",
              "6  0 days 00:00:08.392360                 0.731293              0.143317   \n",
              "7  0 days 00:00:03.337035                 0.746368              0.116083   \n",
              "8  0 days 00:00:08.234116                 0.545177              0.027362   \n",
              "9  0 days 00:00:06.958390                 0.799091              0.290478   \n",
              "10 0 days 00:00:07.499118                 0.512412              0.009454   \n",
              "11 0 days 00:00:10.848713                 0.502373              0.003384   \n",
              "12 0 days 00:00:06.746766                 0.500571              0.055357   \n",
              "13 0 days 00:00:14.207417                 0.556600              0.008138   \n",
              "14 0 days 00:00:03.786617                 0.553318              0.068398   \n",
              "15 0 days 00:00:03.555710                 0.593391              0.074671   \n",
              "16 0 days 00:00:03.726015                 0.597701              0.078236   \n",
              "17 0 days 00:00:02.616508                 0.603962              0.083546   \n",
              "18 0 days 00:00:02.977117                 0.612880              0.095219   \n",
              "19 0 days 00:00:02.859431                 0.592945              0.100125   \n",
              "20 0 days 00:00:04.573850                 0.633377              0.041177   \n",
              "21 0 days 00:00:02.287394                 0.594188              0.075381   \n",
              "22 0 days 00:00:02.362088                 0.599548              0.071874   \n",
              "23 0 days 00:00:03.550550                 0.622917              0.055733   \n",
              "24 0 days 00:00:02.556542                 0.582318              0.109569   \n",
              "25 0 days 00:00:02.354553                 0.609052              0.083464   \n",
              "26 0 days 00:00:04.944661                 0.574663              0.124242   \n",
              "27 0 days 00:00:03.955502                 0.636928              0.058236   \n",
              "28 0 days 00:00:03.269626                 0.534472              0.092646   \n",
              "29 0 days 00:00:03.493476                 0.656362              0.135942   \n",
              "30 0 days 00:00:02.316809                 0.576845              0.122030   \n",
              "31 0 days 00:00:02.494322                 0.605805              0.081958   \n",
              "32 0 days 00:00:02.187588                 0.599435              0.068131   \n",
              "33 0 days 00:00:36.163927                 0.585348              0.040118   \n",
              "34 0 days 00:00:02.098182                 0.613349              0.099087   \n",
              "35 0 days 00:00:03.110722                 0.640981              0.166124   \n",
              "36 0 days 00:00:05.370506                 0.562787              0.078778   \n",
              "37 0 days 00:00:03.468941                 0.625539              0.047299   \n",
              "38 0 days 00:00:04.440254                 0.652254              0.029351   \n",
              "39 0 days 00:00:04.309596                 0.660971              0.024958   \n",
              "40 0 days 00:00:06.472158                 0.665138              0.036137   \n",
              "41 0 days 00:00:04.620573                 0.648358              0.018368   \n",
              "42 0 days 00:00:04.590211                 0.669106              0.021506   \n",
              "43 0 days 00:00:04.144785                 0.692560              0.031082   \n",
              "44 0 days 00:00:09.560993                 0.683439              0.021365   \n",
              "45 0 days 00:00:05.250001                 0.681701              0.032243   \n",
              "46 0 days 00:00:20.646909                 0.708417              0.005682   \n",
              "47 0 days 00:00:06.224639                 0.650530              0.049073   \n",
              "48 0 days 00:00:03.814660                 0.696316              0.031388   \n",
              "49 0 days 00:00:14.307904                 0.657532              0.061964   \n",
              "\n",
              "    params_max_depth  params_n_estimators  params_reg_lambda     state  \n",
              "0                  6                  167           3.484973  COMPLETE  \n",
              "1                 12                   69           3.293869  COMPLETE  \n",
              "2                 14                  191           1.761860  COMPLETE  \n",
              "3                  7                  184           1.123674  COMPLETE  \n",
              "4                 14                  128           4.172292  COMPLETE  \n",
              "5                 14                   62           0.853603  COMPLETE  \n",
              "6                  9                  200           0.661321  COMPLETE  \n",
              "7                  6                  123           3.383253  COMPLETE  \n",
              "8                  8                  187           2.420335  COMPLETE  \n",
              "9                 12                   65           2.138494  COMPLETE  \n",
              "10                 8                  142           2.507235  COMPLETE  \n",
              "11                 9                  136           2.358406  COMPLETE  \n",
              "12                 8                  155           2.727671  COMPLETE  \n",
              "13                11                  100           1.587988  COMPLETE  \n",
              "14                 5                  160           2.717038  COMPLETE  \n",
              "15                 5                  156           4.375729  COMPLETE  \n",
              "16                 5                  163           4.963024  COMPLETE  \n",
              "17                 5                  104           4.734843  COMPLETE  \n",
              "18                 6                  102           4.966868  COMPLETE  \n",
              "19                 5                  100           4.965535  COMPLETE  \n",
              "20                 7                  111           4.371720  COMPLETE  \n",
              "21                 5                   82           4.528684  COMPLETE  \n",
              "22                 5                   85           4.646284  COMPLETE  \n",
              "23                 7                   84           4.034026  COMPLETE  \n",
              "24                 6                   79           4.642727  COMPLETE  \n",
              "25                 5                   83           3.884105  COMPLETE  \n",
              "26                10                   54           4.484737  COMPLETE  \n",
              "27                 7                   92           3.766029  COMPLETE  \n",
              "28                 6                  108           4.649340  COMPLETE  \n",
              "29                 6                  117           3.689124  COMPLETE  \n",
              "30                 5                   76           3.108882  COMPLETE  \n",
              "31                 5                   90           4.741496  COMPLETE  \n",
              "32                 6                   51           4.219812  COMPLETE  \n",
              "33                15                  172           4.733183  COMPLETE  \n",
              "34                 5                   75           4.081678  COMPLETE  \n",
              "35                 7                   92           4.963845  COMPLETE  \n",
              "36                 7                  175           4.415734  COMPLETE  \n",
              "37                 5                  146           4.262758  COMPLETE  \n",
              "38                 6                  143           3.580988  COMPLETE  \n",
              "39                 6                  137           3.561349  COMPLETE  \n",
              "40                 8                  130           3.163666  COMPLETE  \n",
              "41                 6                  147           3.559050  COMPLETE  \n",
              "42                 6                  144           4.039375  COMPLETE  \n",
              "43                 6                  132           3.467795  COMPLETE  \n",
              "44                 9                  125           3.492406  COMPLETE  \n",
              "45                 7                  134           3.260947  COMPLETE  \n",
              "46                12                  117           2.961624  COMPLETE  \n",
              "47                 8                  137           3.424415  COMPLETE  \n",
              "48                 6                  118           3.888645  COMPLETE  \n",
              "49                13                   69           3.863351  COMPLETE  "
            ]
          },
          "execution_count": 16,
          "metadata": {},
          "output_type": "execute_result"
        }
      ],
      "source": [
        "study.trials_dataframe()"
      ]
    },
    {
      "cell_type": "code",
      "execution_count": null,
      "metadata": {
        "colab": {
          "base_uri": "https://localhost:8080/"
        },
        "id": "ZiBHdSXd9ZuY",
        "outputId": "55f3423f-3b88-4e4d-eed6-7543fa320859"
      },
      "outputs": [
        {
          "name": "stdout",
          "output_type": "stream",
          "text": [
            "Best Score: 0.7856\n",
            "Best Params:  {'min_samples_split': 3, 'min_impurity_decrease': 0.0001173921525417284, 'n_estimators': 254, 'max_depth': 9, 'max_leaf_nodes': 21, 'criterion': 'entropy', 'min_samples_leaf': 1, 'max_features': 0.908533864618086, 'min_weight_fraction_leaf': 0.03076428622124373}\n"
          ]
        }
      ],
      "source": [
        "print('Best Score: %.4f' % study.best_value)\n",
        "print('Best Params: ', study.best_trial.params)"
      ]
    },
    {
      "cell_type": "code",
      "execution_count": null,
      "metadata": {
        "colab": {
          "base_uri": "https://localhost:8080/"
        },
        "id": "NbKhQGEYGVFS",
        "outputId": "cf6891d7-843e-43c6-f5bb-f43d87a9363a"
      },
      "outputs": [
        {
          "name": "stdout",
          "output_type": "stream",
          "text": [
            "Best Score: 0.7801\n",
            "Best Params:  {'n_estimators': 112, 'max_depth': 12, 'max_leaf_nodes': 25, 'criterion': 'entropy'}\n"
          ]
        }
      ],
      "source": [
        "# few paramters\n",
        "print('Best Score: %.4f' % study.best_value)\n",
        "print('Best Params: ', study.best_trial.params)"
      ]
    },
    {
      "cell_type": "code",
      "execution_count": null,
      "metadata": {
        "colab": {
          "base_uri": "https://localhost:8080/"
        },
        "id": "5gvhdlaaQcqq",
        "outputId": "c08c4055-031e-410f-fb0c-ff9627977bf1"
      },
      "outputs": [
        {
          "name": "stdout",
          "output_type": "stream",
          "text": [
            "Best Score: 0.7927\n",
            "Best Params:  {'colsample_bynode': 0.606710008819992, 'reg_lambda': 4.1260993488428355, 'n_estimators': 180}\n"
          ]
        }
      ],
      "source": [
        "# fix learning rate 0.02051093484555017, max_depth 5\n",
        "print('Best Score: %.4f' % study.best_value)\n",
        "print('Best Params: ', study.best_trial.params)"
      ]
    },
    {
      "cell_type": "code",
      "execution_count": null,
      "metadata": {
        "colab": {
          "base_uri": "https://localhost:8080/"
        },
        "id": "lfuaBBSzTm84",
        "outputId": "d95f93ee-6181-4e4d-c1fb-b5bda753b919"
      },
      "outputs": [
        {
          "name": "stdout",
          "output_type": "stream",
          "text": [
            "Best Score: 0.7855\n",
            "Best Params:  {'min_samples_split': 8, 'min_impurity_decrease': 6.23657973379539e-05, 'n_estimators': 85, 'max_depth': 9, 'max_leaf_nodes': 17, 'criterion': 'entropy', 'min_samples_leaf': 3, 'max_features': 0.7212064973323903, 'min_weight_fraction_leaf': 0.02791190362320881}\n"
          ]
        }
      ],
      "source": [
        "# split 0.2\n",
        "print('Best Score: %.4f' % study.best_value)\n",
        "print('Best Params: ', study.best_trial.params)"
      ]
    },
    {
      "cell_type": "code",
      "execution_count": null,
      "metadata": {
        "colab": {
          "base_uri": "https://localhost:8080/"
        },
        "id": "U35c0pdILHGw",
        "outputId": "d030ebf8-5609-49d4-f60a-949de472b3bc"
      },
      "outputs": [
        {
          "name": "stdout",
          "output_type": "stream",
          "text": [
            "Best Score: 0.7926\n",
            "Best Params:  {'colsample_bynode': 0.5720860013558229}\n"
          ]
        }
      ],
      "source": [
        "# fix learning rate 0.02051093484555017, max_depth 5, n_estimator 180, reg_lambda 4.380047157070892\n",
        "print('Best Score: %.4f' % study.best_value)\n",
        "print('Best Params: ', study.best_trial.params)"
      ]
    },
    {
      "cell_type": "code",
      "execution_count": null,
      "metadata": {
        "id": "-XKXGtRPIP8r",
        "outputId": "b38fd134-30ff-42f1-cbc3-562aecfac9ec"
      },
      "outputs": [
        {
          "name": "stdout",
          "output_type": "stream",
          "text": [
            "Best Score: 0.7920\n",
            "Best Params:  {'max_depth': 5, 'colsample_bynode': 0.5031839611117191, 'reg_lambda': 2.52415125709357, 'learning_rate': 0.05888255729980939, 'n_estimators': 105}\n"
          ]
        }
      ],
      "source": [
        "# xgboost + vif\n",
        "print('Best Score: %.4f' % study.best_value)\n",
        "print('Best Params: ', study.best_trial.params)"
      ]
    },
    {
      "cell_type": "code",
      "execution_count": null,
      "metadata": {
        "id": "DtQzIfveIP8r",
        "outputId": "aa4889cf-a082-426c-da83-5fe8760116a1"
      },
      "outputs": [
        {
          "name": "stdout",
          "output_type": "stream",
          "text": [
            "Best Score: 0.7920\n",
            "Best Params:  {'colsample_bynode': 0.5837233209049923, 'reg_lambda': 4.364543135820495, 'learning_rate': 0.0428862043022044, 'n_estimators': 183}\n"
          ]
        }
      ],
      "source": [
        "# xgboost + vif + fix max_depth 5\n",
        "print('Best Score: %.4f' % study.best_value)\n",
        "print('Best Params: ', study.best_trial.params)"
      ]
    },
    {
      "cell_type": "code",
      "execution_count": null,
      "metadata": {
        "id": "H6SLlm-HIP8r",
        "outputId": "8260cf70-af32-4dcc-f4f0-4ad55f0b67ac"
      },
      "outputs": [
        {
          "name": "stdout",
          "output_type": "stream",
          "text": [
            "Best Score: 0.7921\n",
            "Best Params:  {'colsample_bynode': 0.5356344306876495, 'reg_lambda': 4.246322702366835, 'n_estimators': 117}\n"
          ]
        }
      ],
      "source": [
        "# xgboost + vif + fix max_depth 5 + learning_rate 0.0428862043022044\n",
        "print('Best Score: %.4f' % study.best_value)\n",
        "print('Best Params: ', study.best_trial.params)"
      ]
    },
    {
      "cell_type": "code",
      "execution_count": null,
      "metadata": {
        "id": "-ein2lvlIP8s",
        "outputId": "3ad9409a-f341-462b-98ba-9bc45406a6cf"
      },
      "outputs": [
        {
          "name": "stdout",
          "output_type": "stream",
          "text": [
            "Best Score: 0.7921\n",
            "Best Params:  {'colsample_bynode': 0.5087883688153395, 'reg_lambda': 4.904855710479306}\n"
          ]
        }
      ],
      "source": [
        "# xgboost + vif + fix max_depth 5 + learning_rate 0.0428862043022044 + n_estimators 117\n",
        "print('Best Score: %.4f' % study.best_value)\n",
        "print('Best Params: ', study.best_trial.params)"
      ]
    },
    {
      "cell_type": "code",
      "execution_count": null,
      "metadata": {
        "id": "i3RRp7HyIP8s",
        "outputId": "f0df2c22-5f05-4ad2-a68e-f2e82254351f"
      },
      "outputs": [
        {
          "name": "stdout",
          "output_type": "stream",
          "text": [
            "Best Score: 0.7849\n",
            "Best Params:  {'min_samples_split': 5, 'min_impurity_decrease': 3.0203553124130877e-05, 'n_estimators': 85, 'max_depth': 4, 'max_leaf_nodes': 16, 'criterion': 'entropy', 'min_samples_leaf': 1, 'max_features': 0.7054523869071353, 'min_weight_fraction_leaf': 0.0009702228455310581}\n"
          ]
        }
      ],
      "source": [
        "# k 10\n",
        "print('Best Score: %.4f' % study.best_value)\n",
        "print('Best Params: ', study.best_trial.params)"
      ]
    },
    {
      "cell_type": "code",
      "execution_count": null,
      "metadata": {
        "colab": {
          "base_uri": "https://localhost:8080/",
          "height": 542
        },
        "id": "QErC9E7X9lgA",
        "outputId": "3768e3c5-65ae-4e15-c482-7c0ae4ec4c67"
      },
      "outputs": [
        {
          "data": {
            "application/vnd.plotly.v1+json": {
              "config": {
                "plotlyServerURL": "https://plot.ly"
              },
              "data": [
                {
                  "cliponaxis": false,
                  "hovertemplate": [
                    "reg_lambda (FloatDistribution): 0.053923420421210504<extra></extra>",
                    "colsample_bynode (FloatDistribution): 0.40005521279209016<extra></extra>",
                    "n_estimators (IntDistribution): 0.5460213667866994<extra></extra>"
                  ],
                  "marker": {
                    "color": "rgb(66,146,198)"
                  },
                  "orientation": "h",
                  "text": [
                    "0.05",
                    "0.40",
                    "0.55"
                  ],
                  "textposition": "outside",
                  "type": "bar",
                  "x": [
                    0.053923420421210504,
                    0.40005521279209016,
                    0.5460213667866994
                  ],
                  "y": [
                    "reg_lambda",
                    "colsample_bynode",
                    "n_estimators"
                  ]
                }
              ],
              "layout": {
                "showlegend": false,
                "template": {
                  "data": {
                    "bar": [
                      {
                        "error_x": {
                          "color": "#2a3f5f"
                        },
                        "error_y": {
                          "color": "#2a3f5f"
                        },
                        "marker": {
                          "line": {
                            "color": "#E5ECF6",
                            "width": 0.5
                          },
                          "pattern": {
                            "fillmode": "overlay",
                            "size": 10,
                            "solidity": 0.2
                          }
                        },
                        "type": "bar"
                      }
                    ],
                    "barpolar": [
                      {
                        "marker": {
                          "line": {
                            "color": "#E5ECF6",
                            "width": 0.5
                          },
                          "pattern": {
                            "fillmode": "overlay",
                            "size": 10,
                            "solidity": 0.2
                          }
                        },
                        "type": "barpolar"
                      }
                    ],
                    "carpet": [
                      {
                        "aaxis": {
                          "endlinecolor": "#2a3f5f",
                          "gridcolor": "white",
                          "linecolor": "white",
                          "minorgridcolor": "white",
                          "startlinecolor": "#2a3f5f"
                        },
                        "baxis": {
                          "endlinecolor": "#2a3f5f",
                          "gridcolor": "white",
                          "linecolor": "white",
                          "minorgridcolor": "white",
                          "startlinecolor": "#2a3f5f"
                        },
                        "type": "carpet"
                      }
                    ],
                    "choropleth": [
                      {
                        "colorbar": {
                          "outlinewidth": 0,
                          "ticks": ""
                        },
                        "type": "choropleth"
                      }
                    ],
                    "contour": [
                      {
                        "colorbar": {
                          "outlinewidth": 0,
                          "ticks": ""
                        },
                        "colorscale": [
                          [
                            0,
                            "#0d0887"
                          ],
                          [
                            0.1111111111111111,
                            "#46039f"
                          ],
                          [
                            0.2222222222222222,
                            "#7201a8"
                          ],
                          [
                            0.3333333333333333,
                            "#9c179e"
                          ],
                          [
                            0.4444444444444444,
                            "#bd3786"
                          ],
                          [
                            0.5555555555555556,
                            "#d8576b"
                          ],
                          [
                            0.6666666666666666,
                            "#ed7953"
                          ],
                          [
                            0.7777777777777778,
                            "#fb9f3a"
                          ],
                          [
                            0.8888888888888888,
                            "#fdca26"
                          ],
                          [
                            1,
                            "#f0f921"
                          ]
                        ],
                        "type": "contour"
                      }
                    ],
                    "contourcarpet": [
                      {
                        "colorbar": {
                          "outlinewidth": 0,
                          "ticks": ""
                        },
                        "type": "contourcarpet"
                      }
                    ],
                    "heatmap": [
                      {
                        "colorbar": {
                          "outlinewidth": 0,
                          "ticks": ""
                        },
                        "colorscale": [
                          [
                            0,
                            "#0d0887"
                          ],
                          [
                            0.1111111111111111,
                            "#46039f"
                          ],
                          [
                            0.2222222222222222,
                            "#7201a8"
                          ],
                          [
                            0.3333333333333333,
                            "#9c179e"
                          ],
                          [
                            0.4444444444444444,
                            "#bd3786"
                          ],
                          [
                            0.5555555555555556,
                            "#d8576b"
                          ],
                          [
                            0.6666666666666666,
                            "#ed7953"
                          ],
                          [
                            0.7777777777777778,
                            "#fb9f3a"
                          ],
                          [
                            0.8888888888888888,
                            "#fdca26"
                          ],
                          [
                            1,
                            "#f0f921"
                          ]
                        ],
                        "type": "heatmap"
                      }
                    ],
                    "heatmapgl": [
                      {
                        "colorbar": {
                          "outlinewidth": 0,
                          "ticks": ""
                        },
                        "colorscale": [
                          [
                            0,
                            "#0d0887"
                          ],
                          [
                            0.1111111111111111,
                            "#46039f"
                          ],
                          [
                            0.2222222222222222,
                            "#7201a8"
                          ],
                          [
                            0.3333333333333333,
                            "#9c179e"
                          ],
                          [
                            0.4444444444444444,
                            "#bd3786"
                          ],
                          [
                            0.5555555555555556,
                            "#d8576b"
                          ],
                          [
                            0.6666666666666666,
                            "#ed7953"
                          ],
                          [
                            0.7777777777777778,
                            "#fb9f3a"
                          ],
                          [
                            0.8888888888888888,
                            "#fdca26"
                          ],
                          [
                            1,
                            "#f0f921"
                          ]
                        ],
                        "type": "heatmapgl"
                      }
                    ],
                    "histogram": [
                      {
                        "marker": {
                          "pattern": {
                            "fillmode": "overlay",
                            "size": 10,
                            "solidity": 0.2
                          }
                        },
                        "type": "histogram"
                      }
                    ],
                    "histogram2d": [
                      {
                        "colorbar": {
                          "outlinewidth": 0,
                          "ticks": ""
                        },
                        "colorscale": [
                          [
                            0,
                            "#0d0887"
                          ],
                          [
                            0.1111111111111111,
                            "#46039f"
                          ],
                          [
                            0.2222222222222222,
                            "#7201a8"
                          ],
                          [
                            0.3333333333333333,
                            "#9c179e"
                          ],
                          [
                            0.4444444444444444,
                            "#bd3786"
                          ],
                          [
                            0.5555555555555556,
                            "#d8576b"
                          ],
                          [
                            0.6666666666666666,
                            "#ed7953"
                          ],
                          [
                            0.7777777777777778,
                            "#fb9f3a"
                          ],
                          [
                            0.8888888888888888,
                            "#fdca26"
                          ],
                          [
                            1,
                            "#f0f921"
                          ]
                        ],
                        "type": "histogram2d"
                      }
                    ],
                    "histogram2dcontour": [
                      {
                        "colorbar": {
                          "outlinewidth": 0,
                          "ticks": ""
                        },
                        "colorscale": [
                          [
                            0,
                            "#0d0887"
                          ],
                          [
                            0.1111111111111111,
                            "#46039f"
                          ],
                          [
                            0.2222222222222222,
                            "#7201a8"
                          ],
                          [
                            0.3333333333333333,
                            "#9c179e"
                          ],
                          [
                            0.4444444444444444,
                            "#bd3786"
                          ],
                          [
                            0.5555555555555556,
                            "#d8576b"
                          ],
                          [
                            0.6666666666666666,
                            "#ed7953"
                          ],
                          [
                            0.7777777777777778,
                            "#fb9f3a"
                          ],
                          [
                            0.8888888888888888,
                            "#fdca26"
                          ],
                          [
                            1,
                            "#f0f921"
                          ]
                        ],
                        "type": "histogram2dcontour"
                      }
                    ],
                    "mesh3d": [
                      {
                        "colorbar": {
                          "outlinewidth": 0,
                          "ticks": ""
                        },
                        "type": "mesh3d"
                      }
                    ],
                    "parcoords": [
                      {
                        "line": {
                          "colorbar": {
                            "outlinewidth": 0,
                            "ticks": ""
                          }
                        },
                        "type": "parcoords"
                      }
                    ],
                    "pie": [
                      {
                        "automargin": true,
                        "type": "pie"
                      }
                    ],
                    "scatter": [
                      {
                        "fillpattern": {
                          "fillmode": "overlay",
                          "size": 10,
                          "solidity": 0.2
                        },
                        "type": "scatter"
                      }
                    ],
                    "scatter3d": [
                      {
                        "line": {
                          "colorbar": {
                            "outlinewidth": 0,
                            "ticks": ""
                          }
                        },
                        "marker": {
                          "colorbar": {
                            "outlinewidth": 0,
                            "ticks": ""
                          }
                        },
                        "type": "scatter3d"
                      }
                    ],
                    "scattercarpet": [
                      {
                        "marker": {
                          "colorbar": {
                            "outlinewidth": 0,
                            "ticks": ""
                          }
                        },
                        "type": "scattercarpet"
                      }
                    ],
                    "scattergeo": [
                      {
                        "marker": {
                          "colorbar": {
                            "outlinewidth": 0,
                            "ticks": ""
                          }
                        },
                        "type": "scattergeo"
                      }
                    ],
                    "scattergl": [
                      {
                        "marker": {
                          "colorbar": {
                            "outlinewidth": 0,
                            "ticks": ""
                          }
                        },
                        "type": "scattergl"
                      }
                    ],
                    "scattermapbox": [
                      {
                        "marker": {
                          "colorbar": {
                            "outlinewidth": 0,
                            "ticks": ""
                          }
                        },
                        "type": "scattermapbox"
                      }
                    ],
                    "scatterpolar": [
                      {
                        "marker": {
                          "colorbar": {
                            "outlinewidth": 0,
                            "ticks": ""
                          }
                        },
                        "type": "scatterpolar"
                      }
                    ],
                    "scatterpolargl": [
                      {
                        "marker": {
                          "colorbar": {
                            "outlinewidth": 0,
                            "ticks": ""
                          }
                        },
                        "type": "scatterpolargl"
                      }
                    ],
                    "scatterternary": [
                      {
                        "marker": {
                          "colorbar": {
                            "outlinewidth": 0,
                            "ticks": ""
                          }
                        },
                        "type": "scatterternary"
                      }
                    ],
                    "surface": [
                      {
                        "colorbar": {
                          "outlinewidth": 0,
                          "ticks": ""
                        },
                        "colorscale": [
                          [
                            0,
                            "#0d0887"
                          ],
                          [
                            0.1111111111111111,
                            "#46039f"
                          ],
                          [
                            0.2222222222222222,
                            "#7201a8"
                          ],
                          [
                            0.3333333333333333,
                            "#9c179e"
                          ],
                          [
                            0.4444444444444444,
                            "#bd3786"
                          ],
                          [
                            0.5555555555555556,
                            "#d8576b"
                          ],
                          [
                            0.6666666666666666,
                            "#ed7953"
                          ],
                          [
                            0.7777777777777778,
                            "#fb9f3a"
                          ],
                          [
                            0.8888888888888888,
                            "#fdca26"
                          ],
                          [
                            1,
                            "#f0f921"
                          ]
                        ],
                        "type": "surface"
                      }
                    ],
                    "table": [
                      {
                        "cells": {
                          "fill": {
                            "color": "#EBF0F8"
                          },
                          "line": {
                            "color": "white"
                          }
                        },
                        "header": {
                          "fill": {
                            "color": "#C8D4E3"
                          },
                          "line": {
                            "color": "white"
                          }
                        },
                        "type": "table"
                      }
                    ]
                  },
                  "layout": {
                    "annotationdefaults": {
                      "arrowcolor": "#2a3f5f",
                      "arrowhead": 0,
                      "arrowwidth": 1
                    },
                    "autotypenumbers": "strict",
                    "coloraxis": {
                      "colorbar": {
                        "outlinewidth": 0,
                        "ticks": ""
                      }
                    },
                    "colorscale": {
                      "diverging": [
                        [
                          0,
                          "#8e0152"
                        ],
                        [
                          0.1,
                          "#c51b7d"
                        ],
                        [
                          0.2,
                          "#de77ae"
                        ],
                        [
                          0.3,
                          "#f1b6da"
                        ],
                        [
                          0.4,
                          "#fde0ef"
                        ],
                        [
                          0.5,
                          "#f7f7f7"
                        ],
                        [
                          0.6,
                          "#e6f5d0"
                        ],
                        [
                          0.7,
                          "#b8e186"
                        ],
                        [
                          0.8,
                          "#7fbc41"
                        ],
                        [
                          0.9,
                          "#4d9221"
                        ],
                        [
                          1,
                          "#276419"
                        ]
                      ],
                      "sequential": [
                        [
                          0,
                          "#0d0887"
                        ],
                        [
                          0.1111111111111111,
                          "#46039f"
                        ],
                        [
                          0.2222222222222222,
                          "#7201a8"
                        ],
                        [
                          0.3333333333333333,
                          "#9c179e"
                        ],
                        [
                          0.4444444444444444,
                          "#bd3786"
                        ],
                        [
                          0.5555555555555556,
                          "#d8576b"
                        ],
                        [
                          0.6666666666666666,
                          "#ed7953"
                        ],
                        [
                          0.7777777777777778,
                          "#fb9f3a"
                        ],
                        [
                          0.8888888888888888,
                          "#fdca26"
                        ],
                        [
                          1,
                          "#f0f921"
                        ]
                      ],
                      "sequentialminus": [
                        [
                          0,
                          "#0d0887"
                        ],
                        [
                          0.1111111111111111,
                          "#46039f"
                        ],
                        [
                          0.2222222222222222,
                          "#7201a8"
                        ],
                        [
                          0.3333333333333333,
                          "#9c179e"
                        ],
                        [
                          0.4444444444444444,
                          "#bd3786"
                        ],
                        [
                          0.5555555555555556,
                          "#d8576b"
                        ],
                        [
                          0.6666666666666666,
                          "#ed7953"
                        ],
                        [
                          0.7777777777777778,
                          "#fb9f3a"
                        ],
                        [
                          0.8888888888888888,
                          "#fdca26"
                        ],
                        [
                          1,
                          "#f0f921"
                        ]
                      ]
                    },
                    "colorway": [
                      "#636efa",
                      "#EF553B",
                      "#00cc96",
                      "#ab63fa",
                      "#FFA15A",
                      "#19d3f3",
                      "#FF6692",
                      "#B6E880",
                      "#FF97FF",
                      "#FECB52"
                    ],
                    "font": {
                      "color": "#2a3f5f"
                    },
                    "geo": {
                      "bgcolor": "white",
                      "lakecolor": "white",
                      "landcolor": "#E5ECF6",
                      "showlakes": true,
                      "showland": true,
                      "subunitcolor": "white"
                    },
                    "hoverlabel": {
                      "align": "left"
                    },
                    "hovermode": "closest",
                    "mapbox": {
                      "style": "light"
                    },
                    "paper_bgcolor": "white",
                    "plot_bgcolor": "#E5ECF6",
                    "polar": {
                      "angularaxis": {
                        "gridcolor": "white",
                        "linecolor": "white",
                        "ticks": ""
                      },
                      "bgcolor": "#E5ECF6",
                      "radialaxis": {
                        "gridcolor": "white",
                        "linecolor": "white",
                        "ticks": ""
                      }
                    },
                    "scene": {
                      "xaxis": {
                        "backgroundcolor": "#E5ECF6",
                        "gridcolor": "white",
                        "gridwidth": 2,
                        "linecolor": "white",
                        "showbackground": true,
                        "ticks": "",
                        "zerolinecolor": "white"
                      },
                      "yaxis": {
                        "backgroundcolor": "#E5ECF6",
                        "gridcolor": "white",
                        "gridwidth": 2,
                        "linecolor": "white",
                        "showbackground": true,
                        "ticks": "",
                        "zerolinecolor": "white"
                      },
                      "zaxis": {
                        "backgroundcolor": "#E5ECF6",
                        "gridcolor": "white",
                        "gridwidth": 2,
                        "linecolor": "white",
                        "showbackground": true,
                        "ticks": "",
                        "zerolinecolor": "white"
                      }
                    },
                    "shapedefaults": {
                      "line": {
                        "color": "#2a3f5f"
                      }
                    },
                    "ternary": {
                      "aaxis": {
                        "gridcolor": "white",
                        "linecolor": "white",
                        "ticks": ""
                      },
                      "baxis": {
                        "gridcolor": "white",
                        "linecolor": "white",
                        "ticks": ""
                      },
                      "bgcolor": "#E5ECF6",
                      "caxis": {
                        "gridcolor": "white",
                        "linecolor": "white",
                        "ticks": ""
                      }
                    },
                    "title": {
                      "x": 0.05
                    },
                    "xaxis": {
                      "automargin": true,
                      "gridcolor": "white",
                      "linecolor": "white",
                      "ticks": "",
                      "title": {
                        "standoff": 15
                      },
                      "zerolinecolor": "white",
                      "zerolinewidth": 2
                    },
                    "yaxis": {
                      "automargin": true,
                      "gridcolor": "white",
                      "linecolor": "white",
                      "ticks": "",
                      "title": {
                        "standoff": 15
                      },
                      "zerolinecolor": "white",
                      "zerolinewidth": 2
                    }
                  }
                },
                "title": {
                  "text": "Hyperparameter Importances"
                },
                "xaxis": {
                  "title": {
                    "text": "Importance for Objective Value"
                  }
                },
                "yaxis": {
                  "title": {
                    "text": "Hyperparameter"
                  }
                }
              }
            }
          },
          "metadata": {},
          "output_type": "display_data"
        }
      ],
      "source": [
        "# hyper-parameter들의 중요도\n",
        "optuna.visualization.plot_param_importances(study)"
      ]
    },
    {
      "cell_type": "markdown",
      "metadata": {
        "id": "4vihPqM1Gs4x"
      },
      "source": [
        "## Test & Submission file"
      ]
    },
    {
      "cell_type": "code",
      "execution_count": null,
      "metadata": {
        "id": "wFaFEGes9tyK"
      },
      "outputs": [],
      "source": [
        "def oof_preds(best_model) :\n",
        "  folds = StratifiedKFold(shuffle=True, random_state=61)\n",
        "  final_preds = []\n",
        "  auc_list = []\n",
        "\n",
        "  for i, (train_idx, val_idx) in enumerate(folds.split(X, y)) :\n",
        "    X_train = X.iloc[train_idx, :]\n",
        "    y_train = y.iloc[train_idx]\n",
        "    X_val = X.iloc[val_idx, :]\n",
        "    y_val = y.iloc[val_idx]\n",
        "\n",
        "    print(f\"========== Fold {i+1} ==========\")\n",
        "    best_model.fit(X_train, y_train)\n",
        "    preds = best_model.predict_proba(X_val)[:, 1]\n",
        "    test_preds = best_model.predict_proba(test)[:, 1]\n",
        "    final_preds.append(test_preds)\n",
        "    auc = roc_auc_score(y_val, preds)\n",
        "\n",
        "    auc_list.append(auc)\n",
        "\n",
        "  print(f'AUC :', np.mean(auc))\n",
        "  return final_preds"
      ]
    },
    {
      "cell_type": "code",
      "execution_count": null,
      "metadata": {
        "colab": {
          "base_uri": "https://localhost:8080/"
        },
        "id": "OCnH0oIoIbK0",
        "outputId": "d64962d0-7408-4ece-d371-487e1166669d"
      },
      "outputs": [
        {
          "name": "stdout",
          "output_type": "stream",
          "text": [
            "========== Fold 1 ==========\n",
            "[LightGBM] [Info] Number of positive: 18451, number of negative: 62959\n",
            "[LightGBM] [Warning] Auto-choosing col-wise multi-threading, the overhead of testing was 0.030658 seconds.\n",
            "You can set `force_col_wise=true` to remove the overhead.\n",
            "[LightGBM] [Info] Total Bins 3547\n",
            "[LightGBM] [Info] Number of data points in the train set: 81410, number of used features: 21\n",
            "[LightGBM] [Info] [binary:BoostFromScore]: pavg=0.226643 -> initscore=-1.227365\n",
            "[LightGBM] [Info] Start training from score -1.227365\n",
            "[LightGBM] [Warning] No further splits with positive gain, best gain: -inf\n",
            "[LightGBM] [Warning] No further splits with positive gain, best gain: -inf\n",
            "[LightGBM] [Warning] No further splits with positive gain, best gain: -inf\n",
            "[LightGBM] [Warning] No further splits with positive gain, best gain: -inf\n",
            "[LightGBM] [Warning] No further splits with positive gain, best gain: -inf\n",
            "[LightGBM] [Warning] No further splits with positive gain, best gain: -inf\n",
            "[LightGBM] [Warning] No further splits with positive gain, best gain: -inf\n",
            "[LightGBM] [Warning] No further splits with positive gain, best gain: -inf\n",
            "[LightGBM] [Warning] No further splits with positive gain, best gain: -inf\n",
            "[LightGBM] [Warning] No further splits with positive gain, best gain: -inf\n",
            "[LightGBM] [Warning] No further splits with positive gain, best gain: -inf\n",
            "[LightGBM] [Warning] No further splits with positive gain, best gain: -inf\n",
            "[LightGBM] [Warning] No further splits with positive gain, best gain: -inf\n",
            "[LightGBM] [Warning] No further splits with positive gain, best gain: -inf\n",
            "[LightGBM] [Warning] No further splits with positive gain, best gain: -inf\n",
            "[LightGBM] [Warning] No further splits with positive gain, best gain: -inf\n",
            "[LightGBM] [Warning] No further splits with positive gain, best gain: -inf\n",
            "[LightGBM] [Warning] No further splits with positive gain, best gain: -inf\n",
            "[LightGBM] [Warning] No further splits with positive gain, best gain: -inf\n",
            "[LightGBM] [Warning] No further splits with positive gain, best gain: -inf\n",
            "[LightGBM] [Warning] No further splits with positive gain, best gain: -inf\n",
            "[LightGBM] [Warning] No further splits with positive gain, best gain: -inf\n",
            "[LightGBM] [Warning] No further splits with positive gain, best gain: -inf\n",
            "[LightGBM] [Warning] No further splits with positive gain, best gain: -inf\n",
            "[LightGBM] [Warning] No further splits with positive gain, best gain: -inf\n",
            "========== Fold 2 ==========\n",
            "[LightGBM] [Info] Number of positive: 18451, number of negative: 62959\n",
            "[LightGBM] [Warning] Auto-choosing col-wise multi-threading, the overhead of testing was 0.026928 seconds.\n",
            "You can set `force_col_wise=true` to remove the overhead.\n",
            "[LightGBM] [Info] Total Bins 3546\n",
            "[LightGBM] [Info] Number of data points in the train set: 81410, number of used features: 21\n",
            "[LightGBM] [Info] [binary:BoostFromScore]: pavg=0.226643 -> initscore=-1.227365\n",
            "[LightGBM] [Info] Start training from score -1.227365\n",
            "[LightGBM] [Warning] No further splits with positive gain, best gain: -inf\n",
            "[LightGBM] [Warning] No further splits with positive gain, best gain: -inf\n",
            "[LightGBM] [Warning] No further splits with positive gain, best gain: -inf\n",
            "[LightGBM] [Warning] No further splits with positive gain, best gain: -inf\n",
            "[LightGBM] [Warning] No further splits with positive gain, best gain: -inf\n",
            "[LightGBM] [Warning] No further splits with positive gain, best gain: -inf\n",
            "[LightGBM] [Warning] No further splits with positive gain, best gain: -inf\n",
            "[LightGBM] [Warning] No further splits with positive gain, best gain: -inf\n",
            "[LightGBM] [Warning] No further splits with positive gain, best gain: -inf\n",
            "[LightGBM] [Warning] No further splits with positive gain, best gain: -inf\n",
            "[LightGBM] [Warning] No further splits with positive gain, best gain: -inf\n",
            "[LightGBM] [Warning] No further splits with positive gain, best gain: -inf\n",
            "[LightGBM] [Warning] No further splits with positive gain, best gain: -inf\n",
            "[LightGBM] [Warning] No further splits with positive gain, best gain: -inf\n",
            "[LightGBM] [Warning] No further splits with positive gain, best gain: -inf\n",
            "[LightGBM] [Warning] No further splits with positive gain, best gain: -inf\n",
            "[LightGBM] [Warning] No further splits with positive gain, best gain: -inf\n",
            "[LightGBM] [Warning] No further splits with positive gain, best gain: -inf\n",
            "[LightGBM] [Warning] No further splits with positive gain, best gain: -inf\n",
            "[LightGBM] [Warning] No further splits with positive gain, best gain: -inf\n",
            "[LightGBM] [Warning] No further splits with positive gain, best gain: -inf\n",
            "[LightGBM] [Warning] No further splits with positive gain, best gain: -inf\n",
            "[LightGBM] [Warning] No further splits with positive gain, best gain: -inf\n",
            "[LightGBM] [Warning] No further splits with positive gain, best gain: -inf\n",
            "[LightGBM] [Warning] No further splits with positive gain, best gain: -inf\n",
            "[LightGBM] [Warning] No further splits with positive gain, best gain: -inf\n",
            "[LightGBM] [Warning] No further splits with positive gain, best gain: -inf\n",
            "[LightGBM] [Warning] No further splits with positive gain, best gain: -inf\n",
            "[LightGBM] [Warning] No further splits with positive gain, best gain: -inf\n",
            "[LightGBM] [Warning] No further splits with positive gain, best gain: -inf\n",
            "[LightGBM] [Warning] No further splits with positive gain, best gain: -inf\n",
            "========== Fold 3 ==========\n",
            "[LightGBM] [Info] Number of positive: 18451, number of negative: 62959\n",
            "[LightGBM] [Warning] Auto-choosing col-wise multi-threading, the overhead of testing was 0.017829 seconds.\n",
            "You can set `force_col_wise=true` to remove the overhead.\n",
            "[LightGBM] [Info] Total Bins 3551\n",
            "[LightGBM] [Info] Number of data points in the train set: 81410, number of used features: 21\n",
            "[LightGBM] [Info] [binary:BoostFromScore]: pavg=0.226643 -> initscore=-1.227365\n",
            "[LightGBM] [Info] Start training from score -1.227365\n",
            "[LightGBM] [Warning] No further splits with positive gain, best gain: -inf\n",
            "[LightGBM] [Warning] No further splits with positive gain, best gain: -inf\n",
            "[LightGBM] [Warning] No further splits with positive gain, best gain: -inf\n",
            "[LightGBM] [Warning] No further splits with positive gain, best gain: -inf\n",
            "[LightGBM] [Warning] No further splits with positive gain, best gain: -inf\n",
            "[LightGBM] [Warning] No further splits with positive gain, best gain: -inf\n",
            "[LightGBM] [Warning] No further splits with positive gain, best gain: -inf\n",
            "[LightGBM] [Warning] No further splits with positive gain, best gain: -inf\n",
            "[LightGBM] [Warning] No further splits with positive gain, best gain: -inf\n",
            "[LightGBM] [Warning] No further splits with positive gain, best gain: -inf\n",
            "[LightGBM] [Warning] No further splits with positive gain, best gain: -inf\n",
            "[LightGBM] [Warning] No further splits with positive gain, best gain: -inf\n",
            "[LightGBM] [Warning] No further splits with positive gain, best gain: -inf\n",
            "[LightGBM] [Warning] No further splits with positive gain, best gain: -inf\n",
            "[LightGBM] [Warning] No further splits with positive gain, best gain: -inf\n",
            "[LightGBM] [Warning] No further splits with positive gain, best gain: -inf\n",
            "[LightGBM] [Warning] No further splits with positive gain, best gain: -inf\n",
            "[LightGBM] [Warning] No further splits with positive gain, best gain: -inf\n",
            "[LightGBM] [Warning] No further splits with positive gain, best gain: -inf\n",
            "[LightGBM] [Warning] No further splits with positive gain, best gain: -inf\n",
            "[LightGBM] [Warning] No further splits with positive gain, best gain: -inf\n",
            "[LightGBM] [Warning] No further splits with positive gain, best gain: -inf\n",
            "[LightGBM] [Warning] No further splits with positive gain, best gain: -inf\n",
            "[LightGBM] [Warning] No further splits with positive gain, best gain: -inf\n",
            "[LightGBM] [Warning] No further splits with positive gain, best gain: -inf\n",
            "[LightGBM] [Warning] No further splits with positive gain, best gain: -inf\n",
            "[LightGBM] [Warning] No further splits with positive gain, best gain: -inf\n",
            "[LightGBM] [Warning] No further splits with positive gain, best gain: -inf\n",
            "[LightGBM] [Warning] No further splits with positive gain, best gain: -inf\n",
            "========== Fold 4 ==========\n",
            "[LightGBM] [Info] Number of positive: 18452, number of negative: 62959\n",
            "[LightGBM] [Warning] Auto-choosing col-wise multi-threading, the overhead of testing was 0.017132 seconds.\n",
            "You can set `force_col_wise=true` to remove the overhead.\n",
            "[LightGBM] [Info] Total Bins 3558\n",
            "[LightGBM] [Info] Number of data points in the train set: 81411, number of used features: 21\n",
            "[LightGBM] [Info] [binary:BoostFromScore]: pavg=0.226652 -> initscore=-1.227311\n",
            "[LightGBM] [Info] Start training from score -1.227311\n",
            "[LightGBM] [Warning] No further splits with positive gain, best gain: -inf\n",
            "[LightGBM] [Warning] No further splits with positive gain, best gain: -inf\n",
            "[LightGBM] [Warning] No further splits with positive gain, best gain: -inf\n",
            "[LightGBM] [Warning] No further splits with positive gain, best gain: -inf\n",
            "[LightGBM] [Warning] No further splits with positive gain, best gain: -inf\n",
            "[LightGBM] [Warning] No further splits with positive gain, best gain: -inf\n",
            "[LightGBM] [Warning] No further splits with positive gain, best gain: -inf\n",
            "[LightGBM] [Warning] No further splits with positive gain, best gain: -inf\n",
            "[LightGBM] [Warning] No further splits with positive gain, best gain: -inf\n",
            "[LightGBM] [Warning] No further splits with positive gain, best gain: -inf\n",
            "[LightGBM] [Warning] No further splits with positive gain, best gain: -inf\n",
            "[LightGBM] [Warning] No further splits with positive gain, best gain: -inf\n",
            "[LightGBM] [Warning] No further splits with positive gain, best gain: -inf\n",
            "[LightGBM] [Warning] No further splits with positive gain, best gain: -inf\n",
            "[LightGBM] [Warning] No further splits with positive gain, best gain: -inf\n",
            "[LightGBM] [Warning] No further splits with positive gain, best gain: -inf\n",
            "[LightGBM] [Warning] No further splits with positive gain, best gain: -inf\n",
            "[LightGBM] [Warning] No further splits with positive gain, best gain: -inf\n",
            "[LightGBM] [Warning] No further splits with positive gain, best gain: -inf\n",
            "[LightGBM] [Warning] No further splits with positive gain, best gain: -inf\n",
            "[LightGBM] [Warning] No further splits with positive gain, best gain: -inf\n",
            "[LightGBM] [Warning] No further splits with positive gain, best gain: -inf\n",
            "[LightGBM] [Warning] No further splits with positive gain, best gain: -inf\n",
            "[LightGBM] [Warning] No further splits with positive gain, best gain: -inf\n",
            "[LightGBM] [Warning] No further splits with positive gain, best gain: -inf\n",
            "[LightGBM] [Warning] No further splits with positive gain, best gain: -inf\n",
            "========== Fold 5 ==========\n",
            "[LightGBM] [Info] Number of positive: 18451, number of negative: 62960\n",
            "[LightGBM] [Warning] Auto-choosing col-wise multi-threading, the overhead of testing was 0.017379 seconds.\n",
            "You can set `force_col_wise=true` to remove the overhead.\n",
            "[LightGBM] [Info] Total Bins 3552\n",
            "[LightGBM] [Info] Number of data points in the train set: 81411, number of used features: 21\n",
            "[LightGBM] [Info] [binary:BoostFromScore]: pavg=0.226640 -> initscore=-1.227381\n",
            "[LightGBM] [Info] Start training from score -1.227381\n",
            "[LightGBM] [Warning] No further splits with positive gain, best gain: -inf\n",
            "[LightGBM] [Warning] No further splits with positive gain, best gain: -inf\n",
            "[LightGBM] [Warning] No further splits with positive gain, best gain: -inf\n",
            "[LightGBM] [Warning] No further splits with positive gain, best gain: -inf\n",
            "[LightGBM] [Warning] No further splits with positive gain, best gain: -inf\n",
            "[LightGBM] [Warning] No further splits with positive gain, best gain: -inf\n",
            "[LightGBM] [Warning] No further splits with positive gain, best gain: -inf\n",
            "[LightGBM] [Warning] No further splits with positive gain, best gain: -inf\n",
            "[LightGBM] [Warning] No further splits with positive gain, best gain: -inf\n",
            "[LightGBM] [Warning] No further splits with positive gain, best gain: -inf\n",
            "[LightGBM] [Warning] No further splits with positive gain, best gain: -inf\n",
            "[LightGBM] [Warning] No further splits with positive gain, best gain: -inf\n",
            "[LightGBM] [Warning] No further splits with positive gain, best gain: -inf\n",
            "[LightGBM] [Warning] No further splits with positive gain, best gain: -inf\n",
            "[LightGBM] [Warning] No further splits with positive gain, best gain: -inf\n",
            "[LightGBM] [Warning] No further splits with positive gain, best gain: -inf\n",
            "[LightGBM] [Warning] No further splits with positive gain, best gain: -inf\n",
            "[LightGBM] [Warning] No further splits with positive gain, best gain: -inf\n",
            "[LightGBM] [Warning] No further splits with positive gain, best gain: -inf\n",
            "[LightGBM] [Warning] No further splits with positive gain, best gain: -inf\n",
            "[LightGBM] [Warning] No further splits with positive gain, best gain: -inf\n",
            "[LightGBM] [Warning] No further splits with positive gain, best gain: -inf\n",
            "[LightGBM] [Warning] No further splits with positive gain, best gain: -inf\n",
            "[LightGBM] [Warning] No further splits with positive gain, best gain: -inf\n",
            "[LightGBM] [Warning] No further splits with positive gain, best gain: -inf\n",
            "[LightGBM] [Warning] No further splits with positive gain, best gain: -inf\n",
            "[LightGBM] [Warning] No further splits with positive gain, best gain: -inf\n",
            "[LightGBM] [Warning] No further splits with positive gain, best gain: -inf\n",
            "[LightGBM] [Warning] No further splits with positive gain, best gain: -inf\n",
            "[LightGBM] [Warning] No further splits with positive gain, best gain: -inf\n",
            "AUC : 0.7844138547339405\n"
          ]
        },
        {
          "data": {
            "text/plain": [
              "array([0.23844273, 0.18092279, 0.65751052, ..., 0.17297542, 0.09837831,\n",
              "       0.83926669])"
            ]
          },
          "execution_count": 32,
          "metadata": {},
          "output_type": "execute_result"
        }
      ],
      "source": [
        "best_params = study.best_trial.params\n",
        "\n",
        "best_model = LGBMClassifier(**best_params,\n",
        "                            random_state=61)\n",
        "\n",
        "preds = oof_preds(best_model)\n",
        "preds = np.mean(preds, axis=0)\n",
        "\n",
        "preds"
      ]
    },
    {
      "cell_type": "code",
      "execution_count": null,
      "metadata": {
        "id": "By566me_J7lq"
      },
      "outputs": [],
      "source": [
        "submission.defects = preds"
      ]
    },
    {
      "cell_type": "code",
      "execution_count": null,
      "metadata": {
        "id": "ul-pt-04J_IW"
      },
      "outputs": [],
      "source": [
        "submission.to_csv('submission_lightGBM_is_balance.csv')"
      ]
    },
    {
      "cell_type": "code",
      "execution_count": null,
      "metadata": {
        "id": "ROR1NfsIN4w2"
      },
      "outputs": [],
      "source": []
    }
  ],
  "metadata": {
    "colab": {
      "provenance": [],
      "include_colab_link": true
    },
    "kernelspec": {
      "display_name": "Python 3",
      "name": "python3"
    },
    "language_info": {
      "codemirror_mode": {
        "name": "ipython",
        "version": 3
      },
      "file_extension": ".py",
      "mimetype": "text/x-python",
      "name": "python",
      "nbconvert_exporter": "python",
      "pygments_lexer": "ipython3",
      "version": "3.11.3"
    }
  },
  "nbformat": 4,
  "nbformat_minor": 0
}