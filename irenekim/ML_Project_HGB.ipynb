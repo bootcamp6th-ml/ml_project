{
  "cells": [
    {
      "cell_type": "markdown",
      "metadata": {
        "id": "view-in-github",
        "colab_type": "text"
      },
      "source": [
        "<a href=\"https://colab.research.google.com/github/JaeminKIM-Irene/FC_AI_ML_Project/blob/main/irenekim/ML_Project_HGB.ipynb\" target=\"_parent\"><img src=\"https://colab.research.google.com/assets/colab-badge.svg\" alt=\"Open In Colab\"/></a>"
      ]
    },
    {
      "cell_type": "code",
      "execution_count": null,
      "metadata": {
        "colab": {
          "base_uri": "https://localhost:8080/"
        },
        "id": "lbtR1wYDzced",
        "outputId": "8e1b39c4-f3c8-4baa-d4c1-0c5db190a3d8"
      },
      "outputs": [
        {
          "name": "stdout",
          "output_type": "stream",
          "text": [
            "Requirement already satisfied: lightgbm in c:\\users\\tt21\\anaconda3\\lib\\site-packages (4.1.0)\n",
            "Requirement already satisfied: optuna in c:\\users\\tt21\\anaconda3\\lib\\site-packages (3.3.0)\n",
            "Requirement already satisfied: numpy in c:\\users\\tt21\\anaconda3\\lib\\site-packages (from lightgbm) (1.23.5)\n",
            "Requirement already satisfied: scipy in c:\\users\\tt21\\anaconda3\\lib\\site-packages (from lightgbm) (1.10.1)\n",
            "Requirement already satisfied: alembic>=1.5.0 in c:\\users\\tt21\\anaconda3\\lib\\site-packages (from optuna) (1.12.0)\n",
            "Requirement already satisfied: cmaes>=0.10.0 in c:\\users\\tt21\\anaconda3\\lib\\site-packages (from optuna) (0.10.0)\n",
            "Requirement already satisfied: colorlog in c:\\users\\tt21\\anaconda3\\lib\\site-packages (from optuna) (6.7.0)\n",
            "Requirement already satisfied: packaging>=20.0 in c:\\users\\tt21\\anaconda3\\lib\\site-packages (from optuna) (23.0)\n",
            "Requirement already satisfied: sqlalchemy>=1.3.0 in c:\\users\\tt21\\anaconda3\\lib\\site-packages (from optuna) (1.4.39)\n",
            "Requirement already satisfied: tqdm in c:\\users\\tt21\\anaconda3\\lib\\site-packages (from optuna) (4.65.0)\n",
            "Requirement already satisfied: PyYAML in c:\\users\\tt21\\anaconda3\\lib\\site-packages (from optuna) (6.0)\n",
            "Requirement already satisfied: Mako in c:\\users\\tt21\\anaconda3\\lib\\site-packages (from alembic>=1.5.0->optuna) (1.2.4)\n",
            "Requirement already satisfied: typing-extensions>=4 in c:\\users\\tt21\\anaconda3\\lib\\site-packages (from alembic>=1.5.0->optuna) (4.6.3)\n",
            "Requirement already satisfied: greenlet!=0.4.17 in c:\\users\\tt21\\anaconda3\\lib\\site-packages (from sqlalchemy>=1.3.0->optuna) (2.0.1)\n",
            "Requirement already satisfied: colorama in c:\\users\\tt21\\anaconda3\\lib\\site-packages (from colorlog->optuna) (0.4.6)\n",
            "Requirement already satisfied: MarkupSafe>=0.9.2 in c:\\users\\tt21\\anaconda3\\lib\\site-packages (from Mako->alembic>=1.5.0->optuna) (2.1.1)\n"
          ]
        }
      ],
      "source": [
        "# 설치에 필요한 라이브러리들이 있다면 모두 적어둡니다. anaconda에 기본적으로 설치되지 않은 라이브러리들을 적어두세요.\n",
        "!pip install lightgbm optuna"
      ]
    },
    {
      "cell_type": "code",
      "execution_count": null,
      "metadata": {
        "id": "FZXOedhNz3CE"
      },
      "outputs": [],
      "source": [
        "import numpy as np\n",
        "import pandas as pd\n",
        "import matplotlib.pyplot as plt\n",
        "import seaborn as sns\n",
        "\n",
        "from sklearn.ensemble import HistGradientBoostingClassifier\n",
        "\n",
        "from sklearn.model_selection import KFold\n",
        "\n",
        "import optuna\n",
        "\n",
        "from sklearn.model_selection import StratifiedKFold\n",
        "from functools import partial\n",
        "\n",
        "from sklearn.metrics import roc_auc_score"
      ]
    },
    {
      "cell_type": "code",
      "execution_count": null,
      "metadata": {
        "id": "_3XtSOYZ0Doh"
      },
      "outputs": [],
      "source": [
        "# google drive mount\n",
        "# from google.colab import drive\n",
        "# drive.mount('/content/drive')"
      ]
    },
    {
      "cell_type": "code",
      "execution_count": null,
      "metadata": {
        "colab": {
          "base_uri": "https://localhost:8080/",
          "height": 329
        },
        "id": "hH_h_uby0GGs",
        "outputId": "c51e9471-8f91-4b13-fd74-ca6c9beee2a6"
      },
      "outputs": [
        {
          "data": {
            "text/html": [
              "<div>\n",
              "<style scoped>\n",
              "    .dataframe tbody tr th:only-of-type {\n",
              "        vertical-align: middle;\n",
              "    }\n",
              "\n",
              "    .dataframe tbody tr th {\n",
              "        vertical-align: top;\n",
              "    }\n",
              "\n",
              "    .dataframe thead th {\n",
              "        text-align: right;\n",
              "    }\n",
              "</style>\n",
              "<table border=\"1\" class=\"dataframe\">\n",
              "  <thead>\n",
              "    <tr style=\"text-align: right;\">\n",
              "      <th></th>\n",
              "      <th>loc</th>\n",
              "      <th>v(g)</th>\n",
              "      <th>ev(g)</th>\n",
              "      <th>iv(g)</th>\n",
              "      <th>n</th>\n",
              "      <th>v</th>\n",
              "      <th>l</th>\n",
              "      <th>d</th>\n",
              "      <th>i</th>\n",
              "      <th>e</th>\n",
              "      <th>...</th>\n",
              "      <th>lOCode</th>\n",
              "      <th>lOComment</th>\n",
              "      <th>lOBlank</th>\n",
              "      <th>locCodeAndComment</th>\n",
              "      <th>uniq_Op</th>\n",
              "      <th>uniq_Opnd</th>\n",
              "      <th>total_Op</th>\n",
              "      <th>total_Opnd</th>\n",
              "      <th>branchCount</th>\n",
              "      <th>defects</th>\n",
              "    </tr>\n",
              "    <tr>\n",
              "      <th>id</th>\n",
              "      <th></th>\n",
              "      <th></th>\n",
              "      <th></th>\n",
              "      <th></th>\n",
              "      <th></th>\n",
              "      <th></th>\n",
              "      <th></th>\n",
              "      <th></th>\n",
              "      <th></th>\n",
              "      <th></th>\n",
              "      <th></th>\n",
              "      <th></th>\n",
              "      <th></th>\n",
              "      <th></th>\n",
              "      <th></th>\n",
              "      <th></th>\n",
              "      <th></th>\n",
              "      <th></th>\n",
              "      <th></th>\n",
              "      <th></th>\n",
              "      <th></th>\n",
              "    </tr>\n",
              "  </thead>\n",
              "  <tbody>\n",
              "    <tr>\n",
              "      <th>0</th>\n",
              "      <td>22.0</td>\n",
              "      <td>3.0</td>\n",
              "      <td>1.0</td>\n",
              "      <td>2.0</td>\n",
              "      <td>60.0</td>\n",
              "      <td>278.63</td>\n",
              "      <td>0.06</td>\n",
              "      <td>19.56</td>\n",
              "      <td>14.25</td>\n",
              "      <td>5448.79</td>\n",
              "      <td>...</td>\n",
              "      <td>17</td>\n",
              "      <td>1</td>\n",
              "      <td>1</td>\n",
              "      <td>0</td>\n",
              "      <td>16.0</td>\n",
              "      <td>9.0</td>\n",
              "      <td>38.0</td>\n",
              "      <td>22.0</td>\n",
              "      <td>5.0</td>\n",
              "      <td>False</td>\n",
              "    </tr>\n",
              "    <tr>\n",
              "      <th>1</th>\n",
              "      <td>14.0</td>\n",
              "      <td>2.0</td>\n",
              "      <td>1.0</td>\n",
              "      <td>2.0</td>\n",
              "      <td>32.0</td>\n",
              "      <td>151.27</td>\n",
              "      <td>0.14</td>\n",
              "      <td>7.00</td>\n",
              "      <td>21.11</td>\n",
              "      <td>936.71</td>\n",
              "      <td>...</td>\n",
              "      <td>11</td>\n",
              "      <td>0</td>\n",
              "      <td>1</td>\n",
              "      <td>0</td>\n",
              "      <td>11.0</td>\n",
              "      <td>11.0</td>\n",
              "      <td>18.0</td>\n",
              "      <td>14.0</td>\n",
              "      <td>3.0</td>\n",
              "      <td>False</td>\n",
              "    </tr>\n",
              "    <tr>\n",
              "      <th>2</th>\n",
              "      <td>11.0</td>\n",
              "      <td>2.0</td>\n",
              "      <td>1.0</td>\n",
              "      <td>2.0</td>\n",
              "      <td>45.0</td>\n",
              "      <td>197.65</td>\n",
              "      <td>0.11</td>\n",
              "      <td>8.05</td>\n",
              "      <td>22.76</td>\n",
              "      <td>1754.01</td>\n",
              "      <td>...</td>\n",
              "      <td>8</td>\n",
              "      <td>0</td>\n",
              "      <td>1</td>\n",
              "      <td>0</td>\n",
              "      <td>12.0</td>\n",
              "      <td>11.0</td>\n",
              "      <td>28.0</td>\n",
              "      <td>17.0</td>\n",
              "      <td>3.0</td>\n",
              "      <td>False</td>\n",
              "    </tr>\n",
              "    <tr>\n",
              "      <th>...</th>\n",
              "      <td>...</td>\n",
              "      <td>...</td>\n",
              "      <td>...</td>\n",
              "      <td>...</td>\n",
              "      <td>...</td>\n",
              "      <td>...</td>\n",
              "      <td>...</td>\n",
              "      <td>...</td>\n",
              "      <td>...</td>\n",
              "      <td>...</td>\n",
              "      <td>...</td>\n",
              "      <td>...</td>\n",
              "      <td>...</td>\n",
              "      <td>...</td>\n",
              "      <td>...</td>\n",
              "      <td>...</td>\n",
              "      <td>...</td>\n",
              "      <td>...</td>\n",
              "      <td>...</td>\n",
              "      <td>...</td>\n",
              "      <td>...</td>\n",
              "    </tr>\n",
              "    <tr>\n",
              "      <th>101760</th>\n",
              "      <td>26.0</td>\n",
              "      <td>1.0</td>\n",
              "      <td>1.0</td>\n",
              "      <td>1.0</td>\n",
              "      <td>83.0</td>\n",
              "      <td>360.17</td>\n",
              "      <td>0.04</td>\n",
              "      <td>22.75</td>\n",
              "      <td>12.56</td>\n",
              "      <td>5893.69</td>\n",
              "      <td>...</td>\n",
              "      <td>20</td>\n",
              "      <td>0</td>\n",
              "      <td>4</td>\n",
              "      <td>0</td>\n",
              "      <td>10.0</td>\n",
              "      <td>8.0</td>\n",
              "      <td>51.0</td>\n",
              "      <td>28.0</td>\n",
              "      <td>1.0</td>\n",
              "      <td>False</td>\n",
              "    </tr>\n",
              "    <tr>\n",
              "      <th>101761</th>\n",
              "      <td>10.0</td>\n",
              "      <td>2.0</td>\n",
              "      <td>1.0</td>\n",
              "      <td>2.0</td>\n",
              "      <td>43.0</td>\n",
              "      <td>191.76</td>\n",
              "      <td>0.15</td>\n",
              "      <td>6.46</td>\n",
              "      <td>29.53</td>\n",
              "      <td>1534.04</td>\n",
              "      <td>...</td>\n",
              "      <td>7</td>\n",
              "      <td>0</td>\n",
              "      <td>1</td>\n",
              "      <td>0</td>\n",
              "      <td>11.0</td>\n",
              "      <td>14.0</td>\n",
              "      <td>24.0</td>\n",
              "      <td>19.0</td>\n",
              "      <td>3.0</td>\n",
              "      <td>False</td>\n",
              "    </tr>\n",
              "    <tr>\n",
              "      <th>101762</th>\n",
              "      <td>136.0</td>\n",
              "      <td>18.0</td>\n",
              "      <td>18.0</td>\n",
              "      <td>1.0</td>\n",
              "      <td>296.0</td>\n",
              "      <td>1704.57</td>\n",
              "      <td>0.02</td>\n",
              "      <td>44.82</td>\n",
              "      <td>44.08</td>\n",
              "      <td>77011.02</td>\n",
              "      <td>...</td>\n",
              "      <td>102</td>\n",
              "      <td>1</td>\n",
              "      <td>11</td>\n",
              "      <td>0</td>\n",
              "      <td>22.0</td>\n",
              "      <td>31.0</td>\n",
              "      <td>162.0</td>\n",
              "      <td>135.0</td>\n",
              "      <td>35.0</td>\n",
              "      <td>False</td>\n",
              "    </tr>\n",
              "  </tbody>\n",
              "</table>\n",
              "<p>101763 rows × 22 columns</p>\n",
              "</div>"
            ],
            "text/plain": [
              "          loc  v(g)  ev(g)  iv(g)      n        v     l      d      i  \\\n",
              "id                                                                      \n",
              "0        22.0   3.0    1.0    2.0   60.0   278.63  0.06  19.56  14.25   \n",
              "1        14.0   2.0    1.0    2.0   32.0   151.27  0.14   7.00  21.11   \n",
              "2        11.0   2.0    1.0    2.0   45.0   197.65  0.11   8.05  22.76   \n",
              "...       ...   ...    ...    ...    ...      ...   ...    ...    ...   \n",
              "101760   26.0   1.0    1.0    1.0   83.0   360.17  0.04  22.75  12.56   \n",
              "101761   10.0   2.0    1.0    2.0   43.0   191.76  0.15   6.46  29.53   \n",
              "101762  136.0  18.0   18.0    1.0  296.0  1704.57  0.02  44.82  44.08   \n",
              "\n",
              "               e  ...  lOCode  lOComment  lOBlank  locCodeAndComment  uniq_Op  \\\n",
              "id                ...                                                           \n",
              "0        5448.79  ...      17          1        1                  0     16.0   \n",
              "1         936.71  ...      11          0        1                  0     11.0   \n",
              "2        1754.01  ...       8          0        1                  0     12.0   \n",
              "...          ...  ...     ...        ...      ...                ...      ...   \n",
              "101760   5893.69  ...      20          0        4                  0     10.0   \n",
              "101761   1534.04  ...       7          0        1                  0     11.0   \n",
              "101762  77011.02  ...     102          1       11                  0     22.0   \n",
              "\n",
              "        uniq_Opnd  total_Op  total_Opnd  branchCount  defects  \n",
              "id                                                             \n",
              "0             9.0      38.0        22.0          5.0    False  \n",
              "1            11.0      18.0        14.0          3.0    False  \n",
              "2            11.0      28.0        17.0          3.0    False  \n",
              "...           ...       ...         ...          ...      ...  \n",
              "101760        8.0      51.0        28.0          1.0    False  \n",
              "101761       14.0      24.0        19.0          3.0    False  \n",
              "101762       31.0     162.0       135.0         35.0    False  \n",
              "\n",
              "[101763 rows x 22 columns]"
            ]
          },
          "metadata": {},
          "output_type": "display_data"
        }
      ],
      "source": [
        "# read data\n",
        "result_list = []\n",
        "base_url = './playground-series-s3e23/'\n",
        "train = pd.read_csv(base_url+'train.csv', index_col='id')\n",
        "test = pd.read_csv(base_url+'test.csv', index_col='id')\n",
        "submission = pd.read_csv(base_url+'sample_submission.csv', index_col='id')\n",
        "\n",
        "with pd.option_context('display.min_rows', 6) :\n",
        "  display(train)"
      ]
    },
    {
      "cell_type": "code",
      "execution_count": null,
      "metadata": {
        "id": "KsXgKK5A0MZf"
      },
      "outputs": [],
      "source": [
        "# PCA"
      ]
    },
    {
      "cell_type": "code",
      "execution_count": null,
      "metadata": {
        "id": "rUr3wox6IIag"
      },
      "outputs": [],
      "source": [
        "# vif\n",
        "selected_col = ['loc', 'v(g)', 'ev(g)', 'iv(g)', 'v', 'l', 'd', 'i', 'e', 't', 'lOComment', 'lOBlank', 'locCodeAndComment', 'uniq_Opnd']"
      ]
    },
    {
      "cell_type": "code",
      "execution_count": null,
      "metadata": {
        "id": "cPE2SWjs07bc"
      },
      "outputs": [],
      "source": [
        "# data split for baseline model\n",
        "from sklearn.model_selection import train_test_split\n",
        "\n",
        "X = train.drop(columns=['defects'])\n",
        "#X = train[selected_col]\n",
        "y = train.defects\n",
        "\n",
        "X_train, X_val, y_train, y_val = train_test_split(X, y, test_size=0.2, random_state=61)"
      ]
    },
    {
      "cell_type": "code",
      "execution_count": null,
      "metadata": {
        "colab": {
          "base_uri": "https://localhost:8080/"
        },
        "id": "wTRvtY9I1sHX",
        "outputId": "a624f1ce-3e2a-4736-9286-654a7387654a"
      },
      "outputs": [
        {
          "name": "stdout",
          "output_type": "stream",
          "text": [
            "(81410, 21) (81410,) (20353, 21) (20353,)\n"
          ]
        }
      ],
      "source": [
        "print(X_train.shape, y_train.shape, X_val.shape, y_val.shape)"
      ]
    },
    {
      "cell_type": "markdown",
      "metadata": {
        "id": "GavXEb7M30MX"
      },
      "source": [
        "## Baseline Model"
      ]
    },
    {
      "cell_type": "markdown",
      "metadata": {
        "id": "mJUBp3PG32cY"
      },
      "source": [
        "## Optuna"
      ]
    },
    {
      "cell_type": "code",
      "execution_count": null,
      "metadata": {
        "id": "mH53aZYP3dJ3"
      },
      "outputs": [],
      "source": [
        "def optimizer(trial, X, y, K) :\n",
        "  l2_regularization = trial.suggest_loguniform('l2_regularization',1e-10,10.0)\n",
        "  #learning_rate = trial.suggest_loguniform('learning_rate', 0.001,0.1)\n",
        "  learning_rate = 0.03924433450133721\n",
        "  max_iter = trial.suggest_categorical('max_iter', [1000])\n",
        "  max_depth = trial.suggest_int('max_depth', 2,30)\n",
        "  max_bins = trial.suggest_int('max_bins', 100,255)\n",
        "  #min_samples_leaf = trial.suggest_int('min_samples_leaf', 20,100000)\n",
        "  min_samples_leaf = 4597\n",
        "  max_leaf_nodes = trial.suggest_int('max_leaf_nodes', 20,80)\n",
        "\n",
        "\n",
        "  model = HistGradientBoostingClassifier(l2_regularization=l2_regularization,\n",
        "                        early_stopping=False,\n",
        "                        learning_rate=learning_rate,\n",
        "                        max_iter=max_iter,\n",
        "                        max_depth=max_depth,\n",
        "                        max_bins=max_bins,\n",
        "                        min_samples_leaf=min_samples_leaf,\n",
        "                        max_leaf_nodes=max_leaf_nodes,\n",
        "                        random_state=61)\n",
        "\n",
        "  folds = StratifiedKFold(shuffle=True, random_state=61)\n",
        "  oof = np.full(len(train), np.nan)\n",
        "  auc_list = []\n",
        "\n",
        "  for train_idx, val_idx in folds.split(X, y) :\n",
        "    X_train = X.iloc[train_idx, :]\n",
        "    y_train = y.iloc[train_idx]\n",
        "\n",
        "    X_val = X.iloc[val_idx, :]\n",
        "    y_val = y.iloc[val_idx]\n",
        "\n",
        "    model.fit(X_train, y_train)\n",
        "\n",
        "    try :\n",
        "      y_val_pred = model.predict_proba(X_val)[:, 1]\n",
        "    except :\n",
        "      y_val_pred = model.decision_function(X_val)\n",
        "    oof[val_idx] = y_val_pred\n",
        "    auc = roc_auc_score(y_val, y_val_pred)\n",
        "    auc_list.append(auc)\n",
        "\n",
        "  return np.mean(auc_list)"
      ]
    },
    {
      "cell_type": "code",
      "execution_count": null,
      "metadata": {
        "colab": {
          "base_uri": "https://localhost:8080/"
        },
        "id": "AkioR4Ms58pf",
        "outputId": "3d9429a5-2459-41ea-eaaa-02d8c2a233a2"
      },
      "outputs": [
        {
          "name": "stderr",
          "output_type": "stream",
          "text": [
            "[I 2023-10-18 02:26:58,162] A new study created in memory with name: no-name-ca69740c-c80d-4ed4-ac85-56bc55e48a27\n",
            "C:\\Users\\TT21\\AppData\\Local\\Temp\\ipykernel_15620\\402317748.py:2: FutureWarning:\n",
            "\n",
            "suggest_loguniform has been deprecated in v3.0.0. This feature will be removed in v6.0.0. See https://github.com/optuna/optuna/releases/tag/v3.0.0. Use suggest_float(..., log=True) instead.\n",
            "\n",
            "[I 2023-10-18 02:27:38,336] Trial 0 finished with value: 0.7928133051878142 and parameters: {'l2_regularization': 3.364319416638674e-10, 'max_iter': 1000, 'max_depth': 18, 'max_bins': 178, 'max_leaf_nodes': 77}. Best is trial 0 with value: 0.7928133051878142.\n",
            "C:\\Users\\TT21\\AppData\\Local\\Temp\\ipykernel_15620\\402317748.py:2: FutureWarning:\n",
            "\n",
            "suggest_loguniform has been deprecated in v3.0.0. This feature will be removed in v6.0.0. See https://github.com/optuna/optuna/releases/tag/v3.0.0. Use suggest_float(..., log=True) instead.\n",
            "\n",
            "[I 2023-10-18 02:28:11,605] Trial 1 finished with value: 0.7932590048658652 and parameters: {'l2_regularization': 1.346702311491295e-10, 'max_iter': 1000, 'max_depth': 6, 'max_bins': 247, 'max_leaf_nodes': 31}. Best is trial 1 with value: 0.7932590048658652.\n",
            "C:\\Users\\TT21\\AppData\\Local\\Temp\\ipykernel_15620\\402317748.py:2: FutureWarning:\n",
            "\n",
            "suggest_loguniform has been deprecated in v3.0.0. This feature will be removed in v6.0.0. See https://github.com/optuna/optuna/releases/tag/v3.0.0. Use suggest_float(..., log=True) instead.\n",
            "\n",
            "[I 2023-10-18 02:28:51,065] Trial 2 finished with value: 0.792677754843361 and parameters: {'l2_regularization': 1.4400714031767775e-07, 'max_iter': 1000, 'max_depth': 13, 'max_bins': 250, 'max_leaf_nodes': 74}. Best is trial 1 with value: 0.7932590048658652.\n",
            "C:\\Users\\TT21\\AppData\\Local\\Temp\\ipykernel_15620\\402317748.py:2: FutureWarning:\n",
            "\n",
            "suggest_loguniform has been deprecated in v3.0.0. This feature will be removed in v6.0.0. See https://github.com/optuna/optuna/releases/tag/v3.0.0. Use suggest_float(..., log=True) instead.\n",
            "\n",
            "[I 2023-10-18 02:29:30,258] Trial 3 finished with value: 0.79291832420994 and parameters: {'l2_regularization': 0.007689795525268849, 'max_iter': 1000, 'max_depth': 25, 'max_bins': 102, 'max_leaf_nodes': 80}. Best is trial 1 with value: 0.7932590048658652.\n",
            "C:\\Users\\TT21\\AppData\\Local\\Temp\\ipykernel_15620\\402317748.py:2: FutureWarning:\n",
            "\n",
            "suggest_loguniform has been deprecated in v3.0.0. This feature will be removed in v6.0.0. See https://github.com/optuna/optuna/releases/tag/v3.0.0. Use suggest_float(..., log=True) instead.\n",
            "\n",
            "[I 2023-10-18 02:30:09,904] Trial 4 finished with value: 0.7928908009598863 and parameters: {'l2_regularization': 8.447337796660399, 'max_iter': 1000, 'max_depth': 22, 'max_bins': 233, 'max_leaf_nodes': 56}. Best is trial 1 with value: 0.7932590048658652.\n",
            "C:\\Users\\TT21\\AppData\\Local\\Temp\\ipykernel_15620\\402317748.py:2: FutureWarning:\n",
            "\n",
            "suggest_loguniform has been deprecated in v3.0.0. This feature will be removed in v6.0.0. See https://github.com/optuna/optuna/releases/tag/v3.0.0. Use suggest_float(..., log=True) instead.\n",
            "\n",
            "[I 2023-10-18 02:30:48,575] Trial 5 finished with value: 0.792659798192611 and parameters: {'l2_regularization': 1.6568738799351823e-09, 'max_iter': 1000, 'max_depth': 16, 'max_bins': 133, 'max_leaf_nodes': 53}. Best is trial 1 with value: 0.7932590048658652.\n",
            "C:\\Users\\TT21\\AppData\\Local\\Temp\\ipykernel_15620\\402317748.py:2: FutureWarning:\n",
            "\n",
            "suggest_loguniform has been deprecated in v3.0.0. This feature will be removed in v6.0.0. See https://github.com/optuna/optuna/releases/tag/v3.0.0. Use suggest_float(..., log=True) instead.\n",
            "\n",
            "[I 2023-10-18 02:31:27,451] Trial 6 finished with value: 0.7926332431635477 and parameters: {'l2_regularization': 8.356717204748777e-06, 'max_iter': 1000, 'max_depth': 23, 'max_bins': 161, 'max_leaf_nodes': 39}. Best is trial 1 with value: 0.7932590048658652.\n",
            "C:\\Users\\TT21\\AppData\\Local\\Temp\\ipykernel_15620\\402317748.py:2: FutureWarning:\n",
            "\n",
            "suggest_loguniform has been deprecated in v3.0.0. This feature will be removed in v6.0.0. See https://github.com/optuna/optuna/releases/tag/v3.0.0. Use suggest_float(..., log=True) instead.\n",
            "\n",
            "[I 2023-10-18 02:32:04,071] Trial 7 finished with value: 0.7928541538893421 and parameters: {'l2_regularization': 0.07859227965420275, 'max_iter': 1000, 'max_depth': 8, 'max_bins': 238, 'max_leaf_nodes': 24}. Best is trial 1 with value: 0.7932590048658652.\n",
            "C:\\Users\\TT21\\AppData\\Local\\Temp\\ipykernel_15620\\402317748.py:2: FutureWarning:\n",
            "\n",
            "suggest_loguniform has been deprecated in v3.0.0. This feature will be removed in v6.0.0. See https://github.com/optuna/optuna/releases/tag/v3.0.0. Use suggest_float(..., log=True) instead.\n",
            "\n",
            "[I 2023-10-18 02:32:42,666] Trial 8 finished with value: 0.7927984194637279 and parameters: {'l2_regularization': 8.502312920753274, 'max_iter': 1000, 'max_depth': 21, 'max_bins': 193, 'max_leaf_nodes': 46}. Best is trial 1 with value: 0.7932590048658652.\n",
            "C:\\Users\\TT21\\AppData\\Local\\Temp\\ipykernel_15620\\402317748.py:2: FutureWarning:\n",
            "\n",
            "suggest_loguniform has been deprecated in v3.0.0. This feature will be removed in v6.0.0. See https://github.com/optuna/optuna/releases/tag/v3.0.0. Use suggest_float(..., log=True) instead.\n",
            "\n",
            "[I 2023-10-18 02:33:21,115] Trial 9 finished with value: 0.792650924956676 and parameters: {'l2_regularization': 6.488289886498087e-06, 'max_iter': 1000, 'max_depth': 12, 'max_bins': 180, 'max_leaf_nodes': 20}. Best is trial 1 with value: 0.7932590048658652.\n",
            "C:\\Users\\TT21\\AppData\\Local\\Temp\\ipykernel_15620\\402317748.py:2: FutureWarning:\n",
            "\n",
            "suggest_loguniform has been deprecated in v3.0.0. This feature will be removed in v6.0.0. See https://github.com/optuna/optuna/releases/tag/v3.0.0. Use suggest_float(..., log=True) instead.\n",
            "\n",
            "[I 2023-10-18 02:33:42,787] Trial 10 finished with value: 0.7935110295219919 and parameters: {'l2_regularization': 2.302997046894984e-08, 'max_iter': 1000, 'max_depth': 2, 'max_bins': 220, 'max_leaf_nodes': 32}. Best is trial 10 with value: 0.7935110295219919.\n",
            "C:\\Users\\TT21\\AppData\\Local\\Temp\\ipykernel_15620\\402317748.py:2: FutureWarning:\n",
            "\n",
            "suggest_loguniform has been deprecated in v3.0.0. This feature will be removed in v6.0.0. See https://github.com/optuna/optuna/releases/tag/v3.0.0. Use suggest_float(..., log=True) instead.\n",
            "\n",
            "[I 2023-10-18 02:34:04,502] Trial 11 finished with value: 0.7934472611419084 and parameters: {'l2_regularization': 1.1625301852678409e-10, 'max_iter': 1000, 'max_depth': 2, 'max_bins': 221, 'max_leaf_nodes': 33}. Best is trial 10 with value: 0.7935110295219919.\n",
            "C:\\Users\\TT21\\AppData\\Local\\Temp\\ipykernel_15620\\402317748.py:2: FutureWarning:\n",
            "\n",
            "suggest_loguniform has been deprecated in v3.0.0. This feature will be removed in v6.0.0. See https://github.com/optuna/optuna/releases/tag/v3.0.0. Use suggest_float(..., log=True) instead.\n",
            "\n",
            "[I 2023-10-18 02:34:26,110] Trial 12 finished with value: 0.7934647041162609 and parameters: {'l2_regularization': 1.552680247713813e-08, 'max_iter': 1000, 'max_depth': 2, 'max_bins': 211, 'max_leaf_nodes': 35}. Best is trial 10 with value: 0.7935110295219919.\n",
            "C:\\Users\\TT21\\AppData\\Local\\Temp\\ipykernel_15620\\402317748.py:2: FutureWarning:\n",
            "\n",
            "suggest_loguniform has been deprecated in v3.0.0. This feature will be removed in v6.0.0. See https://github.com/optuna/optuna/releases/tag/v3.0.0. Use suggest_float(..., log=True) instead.\n",
            "\n",
            "[I 2023-10-18 02:34:50,801] Trial 13 finished with value: 0.7936821954202998 and parameters: {'l2_regularization': 5.754023204726408e-08, 'max_iter': 1000, 'max_depth': 3, 'max_bins': 209, 'max_leaf_nodes': 41}. Best is trial 13 with value: 0.7936821954202998.\n",
            "C:\\Users\\TT21\\AppData\\Local\\Temp\\ipykernel_15620\\402317748.py:2: FutureWarning:\n",
            "\n",
            "suggest_loguniform has been deprecated in v3.0.0. This feature will be removed in v6.0.0. See https://github.com/optuna/optuna/releases/tag/v3.0.0. Use suggest_float(..., log=True) instead.\n",
            "\n",
            "[I 2023-10-18 02:35:25,987] Trial 14 finished with value: 0.7929182635816941 and parameters: {'l2_regularization': 1.9077532157367322e-07, 'max_iter': 1000, 'max_depth': 7, 'max_bins': 210, 'max_leaf_nodes': 63}. Best is trial 13 with value: 0.7936821954202998.\n",
            "C:\\Users\\TT21\\AppData\\Local\\Temp\\ipykernel_15620\\402317748.py:2: FutureWarning:\n",
            "\n",
            "suggest_loguniform has been deprecated in v3.0.0. This feature will be removed in v6.0.0. See https://github.com/optuna/optuna/releases/tag/v3.0.0. Use suggest_float(..., log=True) instead.\n",
            "\n",
            "[I 2023-10-18 02:35:56,513] Trial 15 finished with value: 0.7933737849146412 and parameters: {'l2_regularization': 3.112849982061209e-08, 'max_iter': 1000, 'max_depth': 5, 'max_bins': 198, 'max_leaf_nodes': 45}. Best is trial 13 with value: 0.7936821954202998.\n",
            "C:\\Users\\TT21\\AppData\\Local\\Temp\\ipykernel_15620\\402317748.py:2: FutureWarning:\n",
            "\n",
            "suggest_loguniform has been deprecated in v3.0.0. This feature will be removed in v6.0.0. See https://github.com/optuna/optuna/releases/tag/v3.0.0. Use suggest_float(..., log=True) instead.\n",
            "\n",
            "[I 2023-10-18 02:36:35,110] Trial 16 finished with value: 0.7927369764904163 and parameters: {'l2_regularization': 1.938868667284453e-06, 'max_iter': 1000, 'max_depth': 30, 'max_bins': 150, 'max_leaf_nodes': 28}. Best is trial 13 with value: 0.7936821954202998.\n",
            "C:\\Users\\TT21\\AppData\\Local\\Temp\\ipykernel_15620\\402317748.py:2: FutureWarning:\n",
            "\n",
            "suggest_loguniform has been deprecated in v3.0.0. This feature will be removed in v6.0.0. See https://github.com/optuna/optuna/releases/tag/v3.0.0. Use suggest_float(..., log=True) instead.\n",
            "\n",
            "[I 2023-10-18 02:37:13,951] Trial 17 finished with value: 0.7928084652498508 and parameters: {'l2_regularization': 0.00012667478630789788, 'max_iter': 1000, 'max_depth': 11, 'max_bins': 222, 'max_leaf_nodes': 40}. Best is trial 13 with value: 0.7936821954202998.\n",
            "C:\\Users\\TT21\\AppData\\Local\\Temp\\ipykernel_15620\\402317748.py:2: FutureWarning:\n",
            "\n",
            "suggest_loguniform has been deprecated in v3.0.0. This feature will be removed in v6.0.0. See https://github.com/optuna/optuna/releases/tag/v3.0.0. Use suggest_float(..., log=True) instead.\n",
            "\n",
            "[I 2023-10-18 02:37:35,564] Trial 18 finished with value: 0.7935428429983832 and parameters: {'l2_regularization': 1.3031130392010982e-08, 'max_iter': 1000, 'max_depth': 2, 'max_bins': 195, 'max_leaf_nodes': 58}. Best is trial 13 with value: 0.7936821954202998.\n",
            "C:\\Users\\TT21\\AppData\\Local\\Temp\\ipykernel_15620\\402317748.py:2: FutureWarning:\n",
            "\n",
            "suggest_loguniform has been deprecated in v3.0.0. This feature will be removed in v6.0.0. See https://github.com/optuna/optuna/releases/tag/v3.0.0. Use suggest_float(..., log=True) instead.\n",
            "\n",
            "[I 2023-10-18 02:38:13,854] Trial 19 finished with value: 0.7928844201304467 and parameters: {'l2_regularization': 1.6648729717242099e-09, 'max_iter': 1000, 'max_depth': 9, 'max_bins': 195, 'max_leaf_nodes': 63}. Best is trial 13 with value: 0.7936821954202998.\n",
            "C:\\Users\\TT21\\AppData\\Local\\Temp\\ipykernel_15620\\402317748.py:2: FutureWarning:\n",
            "\n",
            "suggest_loguniform has been deprecated in v3.0.0. This feature will be removed in v6.0.0. See https://github.com/optuna/optuna/releases/tag/v3.0.0. Use suggest_float(..., log=True) instead.\n",
            "\n",
            "[I 2023-10-18 02:38:44,555] Trial 20 finished with value: 0.7935477091042907 and parameters: {'l2_regularization': 2.883204227164372e-07, 'max_iter': 1000, 'max_depth': 5, 'max_bins': 166, 'max_leaf_nodes': 60}. Best is trial 13 with value: 0.7936821954202998.\n",
            "C:\\Users\\TT21\\AppData\\Local\\Temp\\ipykernel_15620\\402317748.py:2: FutureWarning:\n",
            "\n",
            "suggest_loguniform has been deprecated in v3.0.0. This feature will be removed in v6.0.0. See https://github.com/optuna/optuna/releases/tag/v3.0.0. Use suggest_float(..., log=True) instead.\n",
            "\n",
            "[I 2023-10-18 02:39:15,355] Trial 21 finished with value: 0.7933700645659038 and parameters: {'l2_regularization': 4.791052664341461e-07, 'max_iter': 1000, 'max_depth': 5, 'max_bins': 160, 'max_leaf_nodes': 61}. Best is trial 13 with value: 0.7936821954202998.\n",
            "C:\\Users\\TT21\\AppData\\Local\\Temp\\ipykernel_15620\\402317748.py:2: FutureWarning:\n",
            "\n",
            "suggest_loguniform has been deprecated in v3.0.0. This feature will be removed in v6.0.0. See https://github.com/optuna/optuna/releases/tag/v3.0.0. Use suggest_float(..., log=True) instead.\n",
            "\n",
            "[I 2023-10-18 02:39:46,349] Trial 22 finished with value: 0.7932854822325166 and parameters: {'l2_regularization': 8.563323371458107e-09, 'max_iter': 1000, 'max_depth': 5, 'max_bins': 131, 'max_leaf_nodes': 71}. Best is trial 13 with value: 0.7936821954202998.\n",
            "C:\\Users\\TT21\\AppData\\Local\\Temp\\ipykernel_15620\\402317748.py:2: FutureWarning:\n",
            "\n",
            "suggest_loguniform has been deprecated in v3.0.0. This feature will be removed in v6.0.0. See https://github.com/optuna/optuna/releases/tag/v3.0.0. Use suggest_float(..., log=True) instead.\n",
            "\n",
            "[I 2023-10-18 02:40:14,320] Trial 23 finished with value: 0.7936297779660368 and parameters: {'l2_regularization': 6.173852830628415e-07, 'max_iter': 1000, 'max_depth': 4, 'max_bins': 168, 'max_leaf_nodes': 68}. Best is trial 13 with value: 0.7936821954202998.\n",
            "C:\\Users\\TT21\\AppData\\Local\\Temp\\ipykernel_15620\\402317748.py:2: FutureWarning:\n",
            "\n",
            "suggest_loguniform has been deprecated in v3.0.0. This feature will be removed in v6.0.0. See https://github.com/optuna/optuna/releases/tag/v3.0.0. Use suggest_float(..., log=True) instead.\n",
            "\n",
            "[I 2023-10-18 02:40:53,494] Trial 24 finished with value: 0.7927430577450225 and parameters: {'l2_regularization': 6.794331298150264e-07, 'max_iter': 1000, 'max_depth': 10, 'max_bins': 166, 'max_leaf_nodes': 67}. Best is trial 13 with value: 0.7936821954202998.\n",
            "C:\\Users\\TT21\\AppData\\Local\\Temp\\ipykernel_15620\\402317748.py:2: FutureWarning:\n",
            "\n",
            "suggest_loguniform has been deprecated in v3.0.0. This feature will be removed in v6.0.0. See https://github.com/optuna/optuna/releases/tag/v3.0.0. Use suggest_float(..., log=True) instead.\n",
            "\n",
            "[I 2023-10-18 02:41:32,126] Trial 25 finished with value: 0.7926542935235684 and parameters: {'l2_regularization': 4.5001679873201165e-05, 'max_iter': 1000, 'max_depth': 14, 'max_bins': 143, 'max_leaf_nodes': 50}. Best is trial 13 with value: 0.7936821954202998.\n",
            "C:\\Users\\TT21\\AppData\\Local\\Temp\\ipykernel_15620\\402317748.py:2: FutureWarning:\n",
            "\n",
            "suggest_loguniform has been deprecated in v3.0.0. This feature will be removed in v6.0.0. See https://github.com/optuna/optuna/releases/tag/v3.0.0. Use suggest_float(..., log=True) instead.\n",
            "\n",
            "[I 2023-10-18 02:42:00,518] Trial 26 finished with value: 0.79348819307626 and parameters: {'l2_regularization': 1.0301795815300105e-07, 'max_iter': 1000, 'max_depth': 4, 'max_bins': 172, 'max_leaf_nodes': 69}. Best is trial 13 with value: 0.7936821954202998.\n",
            "C:\\Users\\TT21\\AppData\\Local\\Temp\\ipykernel_15620\\402317748.py:2: FutureWarning:\n",
            "\n",
            "suggest_loguniform has been deprecated in v3.0.0. This feature will be removed in v6.0.0. See https://github.com/optuna/optuna/releases/tag/v3.0.0. Use suggest_float(..., log=True) instead.\n",
            "\n",
            "[I 2023-10-18 02:42:38,109] Trial 27 finished with value: 0.7924893902087135 and parameters: {'l2_regularization': 1.6384073197785404e-06, 'max_iter': 1000, 'max_depth': 9, 'max_bins': 115, 'max_leaf_nodes': 48}. Best is trial 13 with value: 0.7936821954202998.\n",
            "C:\\Users\\TT21\\AppData\\Local\\Temp\\ipykernel_15620\\402317748.py:2: FutureWarning:\n",
            "\n",
            "suggest_loguniform has been deprecated in v3.0.0. This feature will be removed in v6.0.0. See https://github.com/optuna/optuna/releases/tag/v3.0.0. Use suggest_float(..., log=True) instead.\n",
            "\n",
            "[I 2023-10-18 02:43:13,374] Trial 28 finished with value: 0.792935478114031 and parameters: {'l2_regularization': 1.1566573020051862e-07, 'max_iter': 1000, 'max_depth': 7, 'max_bins': 182, 'max_leaf_nodes': 54}. Best is trial 13 with value: 0.7936821954202998.\n",
            "C:\\Users\\TT21\\AppData\\Local\\Temp\\ipykernel_15620\\402317748.py:2: FutureWarning:\n",
            "\n",
            "suggest_loguniform has been deprecated in v3.0.0. This feature will be removed in v6.0.0. See https://github.com/optuna/optuna/releases/tag/v3.0.0. Use suggest_float(..., log=True) instead.\n",
            "\n",
            "[I 2023-10-18 02:43:51,934] Trial 29 finished with value: 0.7926513191871023 and parameters: {'l2_regularization': 5.607212963472376e-10, 'max_iter': 1000, 'max_depth': 17, 'max_bins': 149, 'max_leaf_nodes': 75}. Best is trial 13 with value: 0.7936821954202998.\n",
            "C:\\Users\\TT21\\AppData\\Local\\Temp\\ipykernel_15620\\402317748.py:2: FutureWarning:\n",
            "\n",
            "suggest_loguniform has been deprecated in v3.0.0. This feature will be removed in v6.0.0. See https://github.com/optuna/optuna/releases/tag/v3.0.0. Use suggest_float(..., log=True) instead.\n",
            "\n",
            "[I 2023-10-18 02:44:31,300] Trial 30 finished with value: 0.7927915742943676 and parameters: {'l2_regularization': 1.6278039282625808e-09, 'max_iter': 1000, 'max_depth': 19, 'max_bins': 183, 'max_leaf_nodes': 41}. Best is trial 13 with value: 0.7936821954202998.\n",
            "C:\\Users\\TT21\\AppData\\Local\\Temp\\ipykernel_15620\\402317748.py:2: FutureWarning:\n",
            "\n",
            "suggest_loguniform has been deprecated in v3.0.0. This feature will be removed in v6.0.0. See https://github.com/optuna/optuna/releases/tag/v3.0.0. Use suggest_float(..., log=True) instead.\n",
            "\n",
            "[I 2023-10-18 02:44:56,186] Trial 31 finished with value: 0.7935316250722387 and parameters: {'l2_regularization': 2.8192276708543236e-08, 'max_iter': 1000, 'max_depth': 3, 'max_bins': 201, 'max_leaf_nodes': 58}. Best is trial 13 with value: 0.7936821954202998.\n",
            "C:\\Users\\TT21\\AppData\\Local\\Temp\\ipykernel_15620\\402317748.py:2: FutureWarning:\n",
            "\n",
            "suggest_loguniform has been deprecated in v3.0.0. This feature will be removed in v6.0.0. See https://github.com/optuna/optuna/releases/tag/v3.0.0. Use suggest_float(..., log=True) instead.\n",
            "\n",
            "[I 2023-10-18 02:45:24,385] Trial 32 finished with value: 0.7935817946560384 and parameters: {'l2_regularization': 5.576911938889738e-09, 'max_iter': 1000, 'max_depth': 4, 'max_bins': 189, 'max_leaf_nodes': 66}. Best is trial 13 with value: 0.7936821954202998.\n",
            "C:\\Users\\TT21\\AppData\\Local\\Temp\\ipykernel_15620\\402317748.py:2: FutureWarning:\n",
            "\n",
            "suggest_loguniform has been deprecated in v3.0.0. This feature will be removed in v6.0.0. See https://github.com/optuna/optuna/releases/tag/v3.0.0. Use suggest_float(..., log=True) instead.\n",
            "\n",
            "[I 2023-10-18 02:45:57,662] Trial 33 finished with value: 0.793213934740737 and parameters: {'l2_regularization': 4.027881043968691e-09, 'max_iter': 1000, 'max_depth': 6, 'max_bins': 173, 'max_leaf_nodes': 66}. Best is trial 13 with value: 0.7936821954202998.\n",
            "C:\\Users\\TT21\\AppData\\Local\\Temp\\ipykernel_15620\\402317748.py:2: FutureWarning:\n",
            "\n",
            "suggest_loguniform has been deprecated in v3.0.0. This feature will be removed in v6.0.0. See https://github.com/optuna/optuna/releases/tag/v3.0.0. Use suggest_float(..., log=True) instead.\n",
            "\n",
            "[I 2023-10-18 02:46:26,322] Trial 34 finished with value: 0.7935158279819958 and parameters: {'l2_regularization': 4.452549467973298e-10, 'max_iter': 1000, 'max_depth': 4, 'max_bins': 209, 'max_leaf_nodes': 71}. Best is trial 13 with value: 0.7936821954202998.\n",
            "C:\\Users\\TT21\\AppData\\Local\\Temp\\ipykernel_15620\\402317748.py:2: FutureWarning:\n",
            "\n",
            "suggest_loguniform has been deprecated in v3.0.0. This feature will be removed in v6.0.0. See https://github.com/optuna/optuna/releases/tag/v3.0.0. Use suggest_float(..., log=True) instead.\n",
            "\n",
            "[I 2023-10-18 02:47:01,109] Trial 35 finished with value: 0.7931085211688156 and parameters: {'l2_regularization': 9.034924639295111e-08, 'max_iter': 1000, 'max_depth': 7, 'max_bins': 187, 'max_leaf_nodes': 79}. Best is trial 13 with value: 0.7936821954202998.\n",
            "C:\\Users\\TT21\\AppData\\Local\\Temp\\ipykernel_15620\\402317748.py:2: FutureWarning:\n",
            "\n",
            "suggest_loguniform has been deprecated in v3.0.0. This feature will be removed in v6.0.0. See https://github.com/optuna/optuna/releases/tag/v3.0.0. Use suggest_float(..., log=True) instead.\n",
            "\n",
            "[I 2023-10-18 02:47:29,196] Trial 36 finished with value: 0.7936020192977449 and parameters: {'l2_regularization': 4.350267123039065e-07, 'max_iter': 1000, 'max_depth': 4, 'max_bins': 167, 'max_leaf_nodes': 61}. Best is trial 13 with value: 0.7936821954202998.\n",
            "C:\\Users\\TT21\\AppData\\Local\\Temp\\ipykernel_15620\\402317748.py:2: FutureWarning:\n",
            "\n",
            "suggest_loguniform has been deprecated in v3.0.0. This feature will be removed in v6.0.0. See https://github.com/optuna/optuna/releases/tag/v3.0.0. Use suggest_float(..., log=True) instead.\n",
            "\n",
            "[I 2023-10-18 02:48:08,195] Trial 37 finished with value: 0.792727313776108 and parameters: {'l2_regularization': 4.975388089268286e-09, 'max_iter': 1000, 'max_depth': 13, 'max_bins': 155, 'max_leaf_nodes': 75}. Best is trial 13 with value: 0.7936821954202998.\n",
            "C:\\Users\\TT21\\AppData\\Local\\Temp\\ipykernel_15620\\402317748.py:2: FutureWarning:\n",
            "\n",
            "suggest_loguniform has been deprecated in v3.0.0. This feature will be removed in v6.0.0. See https://github.com/optuna/optuna/releases/tag/v3.0.0. Use suggest_float(..., log=True) instead.\n",
            "\n",
            "[I 2023-10-18 02:48:36,656] Trial 38 finished with value: 0.7935032154424269 and parameters: {'l2_regularization': 7.331811927067834e-08, 'max_iter': 1000, 'max_depth': 4, 'max_bins': 242, 'max_leaf_nodes': 65}. Best is trial 13 with value: 0.7936821954202998.\n",
            "C:\\Users\\TT21\\AppData\\Local\\Temp\\ipykernel_15620\\402317748.py:2: FutureWarning:\n",
            "\n",
            "suggest_loguniform has been deprecated in v3.0.0. This feature will be removed in v6.0.0. See https://github.com/optuna/optuna/releases/tag/v3.0.0. Use suggest_float(..., log=True) instead.\n",
            "\n",
            "[I 2023-10-18 02:49:13,146] Trial 39 finished with value: 0.7927048527402528 and parameters: {'l2_regularization': 1.5783096283688345e-06, 'max_iter': 1000, 'max_depth': 8, 'max_bins': 137, 'max_leaf_nodes': 52}. Best is trial 13 with value: 0.7936821954202998.\n",
            "C:\\Users\\TT21\\AppData\\Local\\Temp\\ipykernel_15620\\402317748.py:2: FutureWarning:\n",
            "\n",
            "suggest_loguniform has been deprecated in v3.0.0. This feature will be removed in v6.0.0. See https://github.com/optuna/optuna/releases/tag/v3.0.0. Use suggest_float(..., log=True) instead.\n",
            "\n",
            "[I 2023-10-18 02:49:51,762] Trial 40 finished with value: 0.7927907231721922 and parameters: {'l2_regularization': 7.354216835431665e-06, 'max_iter': 1000, 'max_depth': 15, 'max_bins': 252, 'max_leaf_nodes': 71}. Best is trial 13 with value: 0.7936821954202998.\n",
            "C:\\Users\\TT21\\AppData\\Local\\Temp\\ipykernel_15620\\402317748.py:2: FutureWarning:\n",
            "\n",
            "suggest_loguniform has been deprecated in v3.0.0. This feature will be removed in v6.0.0. See https://github.com/optuna/optuna/releases/tag/v3.0.0. Use suggest_float(..., log=True) instead.\n",
            "\n",
            "[I 2023-10-18 02:50:25,105] Trial 41 finished with value: 0.7930896831670686 and parameters: {'l2_regularization': 3.114945284080011e-07, 'max_iter': 1000, 'max_depth': 6, 'max_bins': 170, 'max_leaf_nodes': 60}. Best is trial 13 with value: 0.7936821954202998.\n",
            "C:\\Users\\TT21\\AppData\\Local\\Temp\\ipykernel_15620\\402317748.py:2: FutureWarning:\n",
            "\n",
            "suggest_loguniform has been deprecated in v3.0.0. This feature will be removed in v6.0.0. See https://github.com/optuna/optuna/releases/tag/v3.0.0. Use suggest_float(..., log=True) instead.\n",
            "\n",
            "[I 2023-10-18 02:50:50,176] Trial 42 finished with value: 0.7936050230215095 and parameters: {'l2_regularization': 5.001551193006515e-07, 'max_iter': 1000, 'max_depth': 3, 'max_bins': 162, 'max_leaf_nodes': 57}. Best is trial 13 with value: 0.7936821954202998.\n",
            "C:\\Users\\TT21\\AppData\\Local\\Temp\\ipykernel_15620\\402317748.py:2: FutureWarning:\n",
            "\n",
            "suggest_loguniform has been deprecated in v3.0.0. This feature will be removed in v6.0.0. See https://github.com/optuna/optuna/releases/tag/v3.0.0. Use suggest_float(..., log=True) instead.\n",
            "\n",
            "[I 2023-10-18 02:51:15,126] Trial 43 finished with value: 0.7936720706240634 and parameters: {'l2_regularization': 4.001343280613995e-08, 'max_iter': 1000, 'max_depth': 3, 'max_bins': 176, 'max_leaf_nodes': 44}. Best is trial 13 with value: 0.7936821954202998.\n",
            "C:\\Users\\TT21\\AppData\\Local\\Temp\\ipykernel_15620\\402317748.py:2: FutureWarning:\n",
            "\n",
            "suggest_loguniform has been deprecated in v3.0.0. This feature will be removed in v6.0.0. See https://github.com/optuna/optuna/releases/tag/v3.0.0. Use suggest_float(..., log=True) instead.\n",
            "\n",
            "[I 2023-10-18 02:51:40,115] Trial 44 finished with value: 0.7936344728483478 and parameters: {'l2_regularization': 4.313835789484122e-08, 'max_iter': 1000, 'max_depth': 3, 'max_bins': 160, 'max_leaf_nodes': 44}. Best is trial 13 with value: 0.7936821954202998.\n",
            "C:\\Users\\TT21\\AppData\\Local\\Temp\\ipykernel_15620\\402317748.py:2: FutureWarning:\n",
            "\n",
            "suggest_loguniform has been deprecated in v3.0.0. This feature will be removed in v6.0.0. See https://github.com/optuna/optuna/releases/tag/v3.0.0. Use suggest_float(..., log=True) instead.\n",
            "\n",
            "[I 2023-10-18 02:52:01,717] Trial 45 finished with value: 0.7935271265836648 and parameters: {'l2_regularization': 4.0977199486581614e-08, 'max_iter': 1000, 'max_depth': 2, 'max_bins': 123, 'max_leaf_nodes': 45}. Best is trial 13 with value: 0.7936821954202998.\n",
            "C:\\Users\\TT21\\AppData\\Local\\Temp\\ipykernel_15620\\402317748.py:2: FutureWarning:\n",
            "\n",
            "suggest_loguniform has been deprecated in v3.0.0. This feature will be removed in v6.0.0. See https://github.com/optuna/optuna/releases/tag/v3.0.0. Use suggest_float(..., log=True) instead.\n",
            "\n",
            "[I 2023-10-18 02:52:26,548] Trial 46 finished with value: 0.7935655236413051 and parameters: {'l2_regularization': 3.282035143198055e-08, 'max_iter': 1000, 'max_depth': 3, 'max_bins': 158, 'max_leaf_nodes': 42}. Best is trial 13 with value: 0.7936821954202998.\n",
            "C:\\Users\\TT21\\AppData\\Local\\Temp\\ipykernel_15620\\402317748.py:2: FutureWarning:\n",
            "\n",
            "suggest_loguniform has been deprecated in v3.0.0. This feature will be removed in v6.0.0. See https://github.com/optuna/optuna/releases/tag/v3.0.0. Use suggest_float(..., log=True) instead.\n",
            "\n",
            "[I 2023-10-18 02:53:05,621] Trial 47 finished with value: 0.7926394968910746 and parameters: {'l2_regularization': 1.1082101040287889e-07, 'max_iter': 1000, 'max_depth': 26, 'max_bins': 177, 'max_leaf_nodes': 36}. Best is trial 13 with value: 0.7936821954202998.\n",
            "C:\\Users\\TT21\\AppData\\Local\\Temp\\ipykernel_15620\\402317748.py:2: FutureWarning:\n",
            "\n",
            "suggest_loguniform has been deprecated in v3.0.0. This feature will be removed in v6.0.0. See https://github.com/optuna/optuna/releases/tag/v3.0.0. Use suggest_float(..., log=True) instead.\n",
            "\n",
            "[I 2023-10-18 02:53:30,389] Trial 48 finished with value: 0.7936333039970498 and parameters: {'l2_regularization': 3.2333471349727154e-06, 'max_iter': 1000, 'max_depth': 3, 'max_bins': 151, 'max_leaf_nodes': 36}. Best is trial 13 with value: 0.7936821954202998.\n",
            "C:\\Users\\TT21\\AppData\\Local\\Temp\\ipykernel_15620\\402317748.py:2: FutureWarning:\n",
            "\n",
            "suggest_loguniform has been deprecated in v3.0.0. This feature will be removed in v6.0.0. See https://github.com/optuna/optuna/releases/tag/v3.0.0. Use suggest_float(..., log=True) instead.\n",
            "\n",
            "[I 2023-10-18 02:54:07,102] Trial 49 finished with value: 0.7927960988741913 and parameters: {'l2_regularization': 4.0479865783146315e-06, 'max_iter': 1000, 'max_depth': 8, 'max_bins': 150, 'max_leaf_nodes': 29}. Best is trial 13 with value: 0.7936821954202998.\n"
          ]
        }
      ],
      "source": [
        "K = 10\n",
        "opt_func = partial(optimizer, X=X_train, y=y_train, K=K)\n",
        "\n",
        "study = optuna.create_study(direction='maximize')\n",
        "study.optimize(opt_func, n_trials=50)"
      ]
    },
    {
      "cell_type": "code",
      "execution_count": null,
      "metadata": {
        "id": "DuLq8ZGq8s8p"
      },
      "outputs": [],
      "source": [
        "study.trials_dataframe()"
      ]
    },
    {
      "cell_type": "code",
      "execution_count": null,
      "metadata": {
        "colab": {
          "base_uri": "https://localhost:8080/"
        },
        "id": "ZiBHdSXd9ZuY",
        "outputId": "55f3423f-3b88-4e4d-eed6-7543fa320859"
      },
      "outputs": [
        {
          "name": "stdout",
          "output_type": "stream",
          "text": [
            "Best Score: 0.7935\n",
            "Best Params:  {'l2_regularization': 1.284769510598831e-06, 'learning_rate': 0.009179082877914113, 'max_iter': 1000, 'max_depth': 30, 'max_bins': 251, 'min_samples_leaf': 4597, 'max_leaf_nodes': 61}\n"
          ]
        }
      ],
      "source": [
        "print('Best Score: %.4f' % study.best_value)\n",
        "print('Best Params: ', study.best_trial.params)"
      ]
    },
    {
      "cell_type": "code",
      "execution_count": null,
      "metadata": {
        "colab": {
          "base_uri": "https://localhost:8080/"
        },
        "id": "NbKhQGEYGVFS",
        "outputId": "cf6891d7-843e-43c6-f5bb-f43d87a9363a"
      },
      "outputs": [
        {
          "name": "stdout",
          "output_type": "stream",
          "text": [
            "Best Score: 0.7937\n",
            "Best Params:  {'l2_regularization': 1.7717489298171432e-09, 'learning_rate': 0.03924433450133721, 'max_iter': 1000, 'max_depth': 3, 'max_bins': 243, 'max_leaf_nodes': 51}\n"
          ]
        }
      ],
      "source": [
        "# fix min_sample_leaf 4597\n",
        "print('Best Score: %.4f' % study.best_value)\n",
        "print('Best Params: ', study.best_trial.params)"
      ]
    },
    {
      "cell_type": "code",
      "execution_count": null,
      "metadata": {
        "id": "yCnD_9A2IIak",
        "outputId": "b4cbf60f-ad9e-4b01-f340-79692eec2d8d"
      },
      "outputs": [
        {
          "name": "stdout",
          "output_type": "stream",
          "text": [
            "Best Score: 0.7937\n",
            "Best Params:  {'l2_regularization': 5.754023204726408e-08, 'max_iter': 1000, 'max_depth': 3, 'max_bins': 209, 'max_leaf_nodes': 41}\n"
          ]
        }
      ],
      "source": [
        "# fix min_sample_leaf 4597 + learning_rate 0.03924433450133721\n",
        "print('Best Score: %.4f' % study.best_value)\n",
        "print('Best Params: ', study.best_trial.params)"
      ]
    },
    {
      "cell_type": "code",
      "execution_count": null,
      "metadata": {
        "colab": {
          "base_uri": "https://localhost:8080/",
          "height": 542
        },
        "id": "QErC9E7X9lgA",
        "outputId": "3768e3c5-65ae-4e15-c482-7c0ae4ec4c67"
      },
      "outputs": [
        {
          "data": {
            "application/vnd.plotly.v1+json": {
              "config": {
                "plotlyServerURL": "https://plot.ly"
              },
              "data": [
                {
                  "cliponaxis": false,
                  "hovertemplate": [
                    "max_iter (CategoricalDistribution): 0.0<extra></extra>",
                    "l2_regularization (FloatDistribution): 8.047689270182418e-05<extra></extra>",
                    "max_leaf_nodes (IntDistribution): 0.03272500755474745<extra></extra>",
                    "max_depth (IntDistribution): 0.10186804658763045<extra></extra>",
                    "max_bins (IntDistribution): 0.13473997166012902<extra></extra>",
                    "learning_rate (FloatDistribution): 0.7305864973047912<extra></extra>"
                  ],
                  "marker": {
                    "color": "rgb(66,146,198)"
                  },
                  "orientation": "h",
                  "text": [
                    "<0.01",
                    "<0.01",
                    "0.03",
                    "0.10",
                    "0.13",
                    "0.73"
                  ],
                  "textposition": "outside",
                  "type": "bar",
                  "x": [
                    0,
                    0.00008047689270182418,
                    0.03272500755474745,
                    0.10186804658763045,
                    0.13473997166012902,
                    0.7305864973047912
                  ],
                  "y": [
                    "max_iter",
                    "l2_regularization",
                    "max_leaf_nodes",
                    "max_depth",
                    "max_bins",
                    "learning_rate"
                  ]
                }
              ],
              "layout": {
                "showlegend": false,
                "template": {
                  "data": {
                    "bar": [
                      {
                        "error_x": {
                          "color": "#2a3f5f"
                        },
                        "error_y": {
                          "color": "#2a3f5f"
                        },
                        "marker": {
                          "line": {
                            "color": "#E5ECF6",
                            "width": 0.5
                          },
                          "pattern": {
                            "fillmode": "overlay",
                            "size": 10,
                            "solidity": 0.2
                          }
                        },
                        "type": "bar"
                      }
                    ],
                    "barpolar": [
                      {
                        "marker": {
                          "line": {
                            "color": "#E5ECF6",
                            "width": 0.5
                          },
                          "pattern": {
                            "fillmode": "overlay",
                            "size": 10,
                            "solidity": 0.2
                          }
                        },
                        "type": "barpolar"
                      }
                    ],
                    "carpet": [
                      {
                        "aaxis": {
                          "endlinecolor": "#2a3f5f",
                          "gridcolor": "white",
                          "linecolor": "white",
                          "minorgridcolor": "white",
                          "startlinecolor": "#2a3f5f"
                        },
                        "baxis": {
                          "endlinecolor": "#2a3f5f",
                          "gridcolor": "white",
                          "linecolor": "white",
                          "minorgridcolor": "white",
                          "startlinecolor": "#2a3f5f"
                        },
                        "type": "carpet"
                      }
                    ],
                    "choropleth": [
                      {
                        "colorbar": {
                          "outlinewidth": 0,
                          "ticks": ""
                        },
                        "type": "choropleth"
                      }
                    ],
                    "contour": [
                      {
                        "colorbar": {
                          "outlinewidth": 0,
                          "ticks": ""
                        },
                        "colorscale": [
                          [
                            0,
                            "#0d0887"
                          ],
                          [
                            0.1111111111111111,
                            "#46039f"
                          ],
                          [
                            0.2222222222222222,
                            "#7201a8"
                          ],
                          [
                            0.3333333333333333,
                            "#9c179e"
                          ],
                          [
                            0.4444444444444444,
                            "#bd3786"
                          ],
                          [
                            0.5555555555555556,
                            "#d8576b"
                          ],
                          [
                            0.6666666666666666,
                            "#ed7953"
                          ],
                          [
                            0.7777777777777778,
                            "#fb9f3a"
                          ],
                          [
                            0.8888888888888888,
                            "#fdca26"
                          ],
                          [
                            1,
                            "#f0f921"
                          ]
                        ],
                        "type": "contour"
                      }
                    ],
                    "contourcarpet": [
                      {
                        "colorbar": {
                          "outlinewidth": 0,
                          "ticks": ""
                        },
                        "type": "contourcarpet"
                      }
                    ],
                    "heatmap": [
                      {
                        "colorbar": {
                          "outlinewidth": 0,
                          "ticks": ""
                        },
                        "colorscale": [
                          [
                            0,
                            "#0d0887"
                          ],
                          [
                            0.1111111111111111,
                            "#46039f"
                          ],
                          [
                            0.2222222222222222,
                            "#7201a8"
                          ],
                          [
                            0.3333333333333333,
                            "#9c179e"
                          ],
                          [
                            0.4444444444444444,
                            "#bd3786"
                          ],
                          [
                            0.5555555555555556,
                            "#d8576b"
                          ],
                          [
                            0.6666666666666666,
                            "#ed7953"
                          ],
                          [
                            0.7777777777777778,
                            "#fb9f3a"
                          ],
                          [
                            0.8888888888888888,
                            "#fdca26"
                          ],
                          [
                            1,
                            "#f0f921"
                          ]
                        ],
                        "type": "heatmap"
                      }
                    ],
                    "heatmapgl": [
                      {
                        "colorbar": {
                          "outlinewidth": 0,
                          "ticks": ""
                        },
                        "colorscale": [
                          [
                            0,
                            "#0d0887"
                          ],
                          [
                            0.1111111111111111,
                            "#46039f"
                          ],
                          [
                            0.2222222222222222,
                            "#7201a8"
                          ],
                          [
                            0.3333333333333333,
                            "#9c179e"
                          ],
                          [
                            0.4444444444444444,
                            "#bd3786"
                          ],
                          [
                            0.5555555555555556,
                            "#d8576b"
                          ],
                          [
                            0.6666666666666666,
                            "#ed7953"
                          ],
                          [
                            0.7777777777777778,
                            "#fb9f3a"
                          ],
                          [
                            0.8888888888888888,
                            "#fdca26"
                          ],
                          [
                            1,
                            "#f0f921"
                          ]
                        ],
                        "type": "heatmapgl"
                      }
                    ],
                    "histogram": [
                      {
                        "marker": {
                          "pattern": {
                            "fillmode": "overlay",
                            "size": 10,
                            "solidity": 0.2
                          }
                        },
                        "type": "histogram"
                      }
                    ],
                    "histogram2d": [
                      {
                        "colorbar": {
                          "outlinewidth": 0,
                          "ticks": ""
                        },
                        "colorscale": [
                          [
                            0,
                            "#0d0887"
                          ],
                          [
                            0.1111111111111111,
                            "#46039f"
                          ],
                          [
                            0.2222222222222222,
                            "#7201a8"
                          ],
                          [
                            0.3333333333333333,
                            "#9c179e"
                          ],
                          [
                            0.4444444444444444,
                            "#bd3786"
                          ],
                          [
                            0.5555555555555556,
                            "#d8576b"
                          ],
                          [
                            0.6666666666666666,
                            "#ed7953"
                          ],
                          [
                            0.7777777777777778,
                            "#fb9f3a"
                          ],
                          [
                            0.8888888888888888,
                            "#fdca26"
                          ],
                          [
                            1,
                            "#f0f921"
                          ]
                        ],
                        "type": "histogram2d"
                      }
                    ],
                    "histogram2dcontour": [
                      {
                        "colorbar": {
                          "outlinewidth": 0,
                          "ticks": ""
                        },
                        "colorscale": [
                          [
                            0,
                            "#0d0887"
                          ],
                          [
                            0.1111111111111111,
                            "#46039f"
                          ],
                          [
                            0.2222222222222222,
                            "#7201a8"
                          ],
                          [
                            0.3333333333333333,
                            "#9c179e"
                          ],
                          [
                            0.4444444444444444,
                            "#bd3786"
                          ],
                          [
                            0.5555555555555556,
                            "#d8576b"
                          ],
                          [
                            0.6666666666666666,
                            "#ed7953"
                          ],
                          [
                            0.7777777777777778,
                            "#fb9f3a"
                          ],
                          [
                            0.8888888888888888,
                            "#fdca26"
                          ],
                          [
                            1,
                            "#f0f921"
                          ]
                        ],
                        "type": "histogram2dcontour"
                      }
                    ],
                    "mesh3d": [
                      {
                        "colorbar": {
                          "outlinewidth": 0,
                          "ticks": ""
                        },
                        "type": "mesh3d"
                      }
                    ],
                    "parcoords": [
                      {
                        "line": {
                          "colorbar": {
                            "outlinewidth": 0,
                            "ticks": ""
                          }
                        },
                        "type": "parcoords"
                      }
                    ],
                    "pie": [
                      {
                        "automargin": true,
                        "type": "pie"
                      }
                    ],
                    "scatter": [
                      {
                        "fillpattern": {
                          "fillmode": "overlay",
                          "size": 10,
                          "solidity": 0.2
                        },
                        "type": "scatter"
                      }
                    ],
                    "scatter3d": [
                      {
                        "line": {
                          "colorbar": {
                            "outlinewidth": 0,
                            "ticks": ""
                          }
                        },
                        "marker": {
                          "colorbar": {
                            "outlinewidth": 0,
                            "ticks": ""
                          }
                        },
                        "type": "scatter3d"
                      }
                    ],
                    "scattercarpet": [
                      {
                        "marker": {
                          "colorbar": {
                            "outlinewidth": 0,
                            "ticks": ""
                          }
                        },
                        "type": "scattercarpet"
                      }
                    ],
                    "scattergeo": [
                      {
                        "marker": {
                          "colorbar": {
                            "outlinewidth": 0,
                            "ticks": ""
                          }
                        },
                        "type": "scattergeo"
                      }
                    ],
                    "scattergl": [
                      {
                        "marker": {
                          "colorbar": {
                            "outlinewidth": 0,
                            "ticks": ""
                          }
                        },
                        "type": "scattergl"
                      }
                    ],
                    "scattermapbox": [
                      {
                        "marker": {
                          "colorbar": {
                            "outlinewidth": 0,
                            "ticks": ""
                          }
                        },
                        "type": "scattermapbox"
                      }
                    ],
                    "scatterpolar": [
                      {
                        "marker": {
                          "colorbar": {
                            "outlinewidth": 0,
                            "ticks": ""
                          }
                        },
                        "type": "scatterpolar"
                      }
                    ],
                    "scatterpolargl": [
                      {
                        "marker": {
                          "colorbar": {
                            "outlinewidth": 0,
                            "ticks": ""
                          }
                        },
                        "type": "scatterpolargl"
                      }
                    ],
                    "scatterternary": [
                      {
                        "marker": {
                          "colorbar": {
                            "outlinewidth": 0,
                            "ticks": ""
                          }
                        },
                        "type": "scatterternary"
                      }
                    ],
                    "surface": [
                      {
                        "colorbar": {
                          "outlinewidth": 0,
                          "ticks": ""
                        },
                        "colorscale": [
                          [
                            0,
                            "#0d0887"
                          ],
                          [
                            0.1111111111111111,
                            "#46039f"
                          ],
                          [
                            0.2222222222222222,
                            "#7201a8"
                          ],
                          [
                            0.3333333333333333,
                            "#9c179e"
                          ],
                          [
                            0.4444444444444444,
                            "#bd3786"
                          ],
                          [
                            0.5555555555555556,
                            "#d8576b"
                          ],
                          [
                            0.6666666666666666,
                            "#ed7953"
                          ],
                          [
                            0.7777777777777778,
                            "#fb9f3a"
                          ],
                          [
                            0.8888888888888888,
                            "#fdca26"
                          ],
                          [
                            1,
                            "#f0f921"
                          ]
                        ],
                        "type": "surface"
                      }
                    ],
                    "table": [
                      {
                        "cells": {
                          "fill": {
                            "color": "#EBF0F8"
                          },
                          "line": {
                            "color": "white"
                          }
                        },
                        "header": {
                          "fill": {
                            "color": "#C8D4E3"
                          },
                          "line": {
                            "color": "white"
                          }
                        },
                        "type": "table"
                      }
                    ]
                  },
                  "layout": {
                    "annotationdefaults": {
                      "arrowcolor": "#2a3f5f",
                      "arrowhead": 0,
                      "arrowwidth": 1
                    },
                    "autotypenumbers": "strict",
                    "coloraxis": {
                      "colorbar": {
                        "outlinewidth": 0,
                        "ticks": ""
                      }
                    },
                    "colorscale": {
                      "diverging": [
                        [
                          0,
                          "#8e0152"
                        ],
                        [
                          0.1,
                          "#c51b7d"
                        ],
                        [
                          0.2,
                          "#de77ae"
                        ],
                        [
                          0.3,
                          "#f1b6da"
                        ],
                        [
                          0.4,
                          "#fde0ef"
                        ],
                        [
                          0.5,
                          "#f7f7f7"
                        ],
                        [
                          0.6,
                          "#e6f5d0"
                        ],
                        [
                          0.7,
                          "#b8e186"
                        ],
                        [
                          0.8,
                          "#7fbc41"
                        ],
                        [
                          0.9,
                          "#4d9221"
                        ],
                        [
                          1,
                          "#276419"
                        ]
                      ],
                      "sequential": [
                        [
                          0,
                          "#0d0887"
                        ],
                        [
                          0.1111111111111111,
                          "#46039f"
                        ],
                        [
                          0.2222222222222222,
                          "#7201a8"
                        ],
                        [
                          0.3333333333333333,
                          "#9c179e"
                        ],
                        [
                          0.4444444444444444,
                          "#bd3786"
                        ],
                        [
                          0.5555555555555556,
                          "#d8576b"
                        ],
                        [
                          0.6666666666666666,
                          "#ed7953"
                        ],
                        [
                          0.7777777777777778,
                          "#fb9f3a"
                        ],
                        [
                          0.8888888888888888,
                          "#fdca26"
                        ],
                        [
                          1,
                          "#f0f921"
                        ]
                      ],
                      "sequentialminus": [
                        [
                          0,
                          "#0d0887"
                        ],
                        [
                          0.1111111111111111,
                          "#46039f"
                        ],
                        [
                          0.2222222222222222,
                          "#7201a8"
                        ],
                        [
                          0.3333333333333333,
                          "#9c179e"
                        ],
                        [
                          0.4444444444444444,
                          "#bd3786"
                        ],
                        [
                          0.5555555555555556,
                          "#d8576b"
                        ],
                        [
                          0.6666666666666666,
                          "#ed7953"
                        ],
                        [
                          0.7777777777777778,
                          "#fb9f3a"
                        ],
                        [
                          0.8888888888888888,
                          "#fdca26"
                        ],
                        [
                          1,
                          "#f0f921"
                        ]
                      ]
                    },
                    "colorway": [
                      "#636efa",
                      "#EF553B",
                      "#00cc96",
                      "#ab63fa",
                      "#FFA15A",
                      "#19d3f3",
                      "#FF6692",
                      "#B6E880",
                      "#FF97FF",
                      "#FECB52"
                    ],
                    "font": {
                      "color": "#2a3f5f"
                    },
                    "geo": {
                      "bgcolor": "white",
                      "lakecolor": "white",
                      "landcolor": "#E5ECF6",
                      "showlakes": true,
                      "showland": true,
                      "subunitcolor": "white"
                    },
                    "hoverlabel": {
                      "align": "left"
                    },
                    "hovermode": "closest",
                    "mapbox": {
                      "style": "light"
                    },
                    "paper_bgcolor": "white",
                    "plot_bgcolor": "#E5ECF6",
                    "polar": {
                      "angularaxis": {
                        "gridcolor": "white",
                        "linecolor": "white",
                        "ticks": ""
                      },
                      "bgcolor": "#E5ECF6",
                      "radialaxis": {
                        "gridcolor": "white",
                        "linecolor": "white",
                        "ticks": ""
                      }
                    },
                    "scene": {
                      "xaxis": {
                        "backgroundcolor": "#E5ECF6",
                        "gridcolor": "white",
                        "gridwidth": 2,
                        "linecolor": "white",
                        "showbackground": true,
                        "ticks": "",
                        "zerolinecolor": "white"
                      },
                      "yaxis": {
                        "backgroundcolor": "#E5ECF6",
                        "gridcolor": "white",
                        "gridwidth": 2,
                        "linecolor": "white",
                        "showbackground": true,
                        "ticks": "",
                        "zerolinecolor": "white"
                      },
                      "zaxis": {
                        "backgroundcolor": "#E5ECF6",
                        "gridcolor": "white",
                        "gridwidth": 2,
                        "linecolor": "white",
                        "showbackground": true,
                        "ticks": "",
                        "zerolinecolor": "white"
                      }
                    },
                    "shapedefaults": {
                      "line": {
                        "color": "#2a3f5f"
                      }
                    },
                    "ternary": {
                      "aaxis": {
                        "gridcolor": "white",
                        "linecolor": "white",
                        "ticks": ""
                      },
                      "baxis": {
                        "gridcolor": "white",
                        "linecolor": "white",
                        "ticks": ""
                      },
                      "bgcolor": "#E5ECF6",
                      "caxis": {
                        "gridcolor": "white",
                        "linecolor": "white",
                        "ticks": ""
                      }
                    },
                    "title": {
                      "x": 0.05
                    },
                    "xaxis": {
                      "automargin": true,
                      "gridcolor": "white",
                      "linecolor": "white",
                      "ticks": "",
                      "title": {
                        "standoff": 15
                      },
                      "zerolinecolor": "white",
                      "zerolinewidth": 2
                    },
                    "yaxis": {
                      "automargin": true,
                      "gridcolor": "white",
                      "linecolor": "white",
                      "ticks": "",
                      "title": {
                        "standoff": 15
                      },
                      "zerolinecolor": "white",
                      "zerolinewidth": 2
                    }
                  }
                },
                "title": {
                  "text": "Hyperparameter Importances"
                },
                "xaxis": {
                  "title": {
                    "text": "Importance for Objective Value"
                  }
                },
                "yaxis": {
                  "title": {
                    "text": "Hyperparameter"
                  }
                }
              }
            }
          },
          "metadata": {},
          "output_type": "display_data"
        }
      ],
      "source": [
        "# hyper-parameter들의 중요도\n",
        "optuna.visualization.plot_param_importances(study)"
      ]
    },
    {
      "cell_type": "markdown",
      "metadata": {
        "id": "4vihPqM1Gs4x"
      },
      "source": [
        "## Test & Submission file"
      ]
    },
    {
      "cell_type": "code",
      "execution_count": null,
      "metadata": {
        "id": "wFaFEGes9tyK"
      },
      "outputs": [],
      "source": [
        "def oof_preds(best_model) :\n",
        "  folds = StratifiedKFold(shuffle=True, random_state=61)\n",
        "  final_preds = []\n",
        "  auc_list = []\n",
        "\n",
        "  for i, (train_idx, val_idx) in enumerate(folds.split(X, y)) :\n",
        "    X_train = X.iloc[train_idx, :]\n",
        "    y_train = y.iloc[train_idx]\n",
        "    X_val = X.iloc[val_idx, :]\n",
        "    y_val = y.iloc[val_idx]\n",
        "\n",
        "    print(f\"========== Fold {i+1} ==========\")\n",
        "    best_model.fit(X_train, y_train)\n",
        "    preds = best_model.predict_proba(X_val)[:, 1]\n",
        "    test_preds = best_model.predict_proba(test)[:, 1]\n",
        "    final_preds.append(test_preds)\n",
        "    auc = roc_auc_score(y_val, preds)\n",
        "\n",
        "    auc_list.append(auc)\n",
        "\n",
        "  print(f'AUC :', np.mean(auc))\n",
        "  return final_preds"
      ]
    },
    {
      "cell_type": "code",
      "execution_count": null,
      "metadata": {
        "colab": {
          "base_uri": "https://localhost:8080/"
        },
        "id": "OCnH0oIoIbK0",
        "outputId": "d64962d0-7408-4ece-d371-487e1166669d"
      },
      "outputs": [
        {
          "name": "stdout",
          "output_type": "stream",
          "text": [
            "========== Fold 1 ==========\n",
            "[LightGBM] [Info] Number of positive: 18451, number of negative: 62959\n",
            "[LightGBM] [Warning] Auto-choosing col-wise multi-threading, the overhead of testing was 0.030658 seconds.\n",
            "You can set `force_col_wise=true` to remove the overhead.\n",
            "[LightGBM] [Info] Total Bins 3547\n",
            "[LightGBM] [Info] Number of data points in the train set: 81410, number of used features: 21\n",
            "[LightGBM] [Info] [binary:BoostFromScore]: pavg=0.226643 -> initscore=-1.227365\n",
            "[LightGBM] [Info] Start training from score -1.227365\n",
            "[LightGBM] [Warning] No further splits with positive gain, best gain: -inf\n",
            "[LightGBM] [Warning] No further splits with positive gain, best gain: -inf\n",
            "[LightGBM] [Warning] No further splits with positive gain, best gain: -inf\n",
            "[LightGBM] [Warning] No further splits with positive gain, best gain: -inf\n",
            "[LightGBM] [Warning] No further splits with positive gain, best gain: -inf\n",
            "[LightGBM] [Warning] No further splits with positive gain, best gain: -inf\n",
            "[LightGBM] [Warning] No further splits with positive gain, best gain: -inf\n",
            "[LightGBM] [Warning] No further splits with positive gain, best gain: -inf\n",
            "[LightGBM] [Warning] No further splits with positive gain, best gain: -inf\n",
            "[LightGBM] [Warning] No further splits with positive gain, best gain: -inf\n",
            "[LightGBM] [Warning] No further splits with positive gain, best gain: -inf\n",
            "[LightGBM] [Warning] No further splits with positive gain, best gain: -inf\n",
            "[LightGBM] [Warning] No further splits with positive gain, best gain: -inf\n",
            "[LightGBM] [Warning] No further splits with positive gain, best gain: -inf\n",
            "[LightGBM] [Warning] No further splits with positive gain, best gain: -inf\n",
            "[LightGBM] [Warning] No further splits with positive gain, best gain: -inf\n",
            "[LightGBM] [Warning] No further splits with positive gain, best gain: -inf\n",
            "[LightGBM] [Warning] No further splits with positive gain, best gain: -inf\n",
            "[LightGBM] [Warning] No further splits with positive gain, best gain: -inf\n",
            "[LightGBM] [Warning] No further splits with positive gain, best gain: -inf\n",
            "[LightGBM] [Warning] No further splits with positive gain, best gain: -inf\n",
            "[LightGBM] [Warning] No further splits with positive gain, best gain: -inf\n",
            "[LightGBM] [Warning] No further splits with positive gain, best gain: -inf\n",
            "[LightGBM] [Warning] No further splits with positive gain, best gain: -inf\n",
            "[LightGBM] [Warning] No further splits with positive gain, best gain: -inf\n",
            "========== Fold 2 ==========\n",
            "[LightGBM] [Info] Number of positive: 18451, number of negative: 62959\n",
            "[LightGBM] [Warning] Auto-choosing col-wise multi-threading, the overhead of testing was 0.026928 seconds.\n",
            "You can set `force_col_wise=true` to remove the overhead.\n",
            "[LightGBM] [Info] Total Bins 3546\n",
            "[LightGBM] [Info] Number of data points in the train set: 81410, number of used features: 21\n",
            "[LightGBM] [Info] [binary:BoostFromScore]: pavg=0.226643 -> initscore=-1.227365\n",
            "[LightGBM] [Info] Start training from score -1.227365\n",
            "[LightGBM] [Warning] No further splits with positive gain, best gain: -inf\n",
            "[LightGBM] [Warning] No further splits with positive gain, best gain: -inf\n",
            "[LightGBM] [Warning] No further splits with positive gain, best gain: -inf\n",
            "[LightGBM] [Warning] No further splits with positive gain, best gain: -inf\n",
            "[LightGBM] [Warning] No further splits with positive gain, best gain: -inf\n",
            "[LightGBM] [Warning] No further splits with positive gain, best gain: -inf\n",
            "[LightGBM] [Warning] No further splits with positive gain, best gain: -inf\n",
            "[LightGBM] [Warning] No further splits with positive gain, best gain: -inf\n",
            "[LightGBM] [Warning] No further splits with positive gain, best gain: -inf\n",
            "[LightGBM] [Warning] No further splits with positive gain, best gain: -inf\n",
            "[LightGBM] [Warning] No further splits with positive gain, best gain: -inf\n",
            "[LightGBM] [Warning] No further splits with positive gain, best gain: -inf\n",
            "[LightGBM] [Warning] No further splits with positive gain, best gain: -inf\n",
            "[LightGBM] [Warning] No further splits with positive gain, best gain: -inf\n",
            "[LightGBM] [Warning] No further splits with positive gain, best gain: -inf\n",
            "[LightGBM] [Warning] No further splits with positive gain, best gain: -inf\n",
            "[LightGBM] [Warning] No further splits with positive gain, best gain: -inf\n",
            "[LightGBM] [Warning] No further splits with positive gain, best gain: -inf\n",
            "[LightGBM] [Warning] No further splits with positive gain, best gain: -inf\n",
            "[LightGBM] [Warning] No further splits with positive gain, best gain: -inf\n",
            "[LightGBM] [Warning] No further splits with positive gain, best gain: -inf\n",
            "[LightGBM] [Warning] No further splits with positive gain, best gain: -inf\n",
            "[LightGBM] [Warning] No further splits with positive gain, best gain: -inf\n",
            "[LightGBM] [Warning] No further splits with positive gain, best gain: -inf\n",
            "[LightGBM] [Warning] No further splits with positive gain, best gain: -inf\n",
            "[LightGBM] [Warning] No further splits with positive gain, best gain: -inf\n",
            "[LightGBM] [Warning] No further splits with positive gain, best gain: -inf\n",
            "[LightGBM] [Warning] No further splits with positive gain, best gain: -inf\n",
            "[LightGBM] [Warning] No further splits with positive gain, best gain: -inf\n",
            "[LightGBM] [Warning] No further splits with positive gain, best gain: -inf\n",
            "[LightGBM] [Warning] No further splits with positive gain, best gain: -inf\n",
            "========== Fold 3 ==========\n",
            "[LightGBM] [Info] Number of positive: 18451, number of negative: 62959\n",
            "[LightGBM] [Warning] Auto-choosing col-wise multi-threading, the overhead of testing was 0.017829 seconds.\n",
            "You can set `force_col_wise=true` to remove the overhead.\n",
            "[LightGBM] [Info] Total Bins 3551\n",
            "[LightGBM] [Info] Number of data points in the train set: 81410, number of used features: 21\n",
            "[LightGBM] [Info] [binary:BoostFromScore]: pavg=0.226643 -> initscore=-1.227365\n",
            "[LightGBM] [Info] Start training from score -1.227365\n",
            "[LightGBM] [Warning] No further splits with positive gain, best gain: -inf\n",
            "[LightGBM] [Warning] No further splits with positive gain, best gain: -inf\n",
            "[LightGBM] [Warning] No further splits with positive gain, best gain: -inf\n",
            "[LightGBM] [Warning] No further splits with positive gain, best gain: -inf\n",
            "[LightGBM] [Warning] No further splits with positive gain, best gain: -inf\n",
            "[LightGBM] [Warning] No further splits with positive gain, best gain: -inf\n",
            "[LightGBM] [Warning] No further splits with positive gain, best gain: -inf\n",
            "[LightGBM] [Warning] No further splits with positive gain, best gain: -inf\n",
            "[LightGBM] [Warning] No further splits with positive gain, best gain: -inf\n",
            "[LightGBM] [Warning] No further splits with positive gain, best gain: -inf\n",
            "[LightGBM] [Warning] No further splits with positive gain, best gain: -inf\n",
            "[LightGBM] [Warning] No further splits with positive gain, best gain: -inf\n",
            "[LightGBM] [Warning] No further splits with positive gain, best gain: -inf\n",
            "[LightGBM] [Warning] No further splits with positive gain, best gain: -inf\n",
            "[LightGBM] [Warning] No further splits with positive gain, best gain: -inf\n",
            "[LightGBM] [Warning] No further splits with positive gain, best gain: -inf\n",
            "[LightGBM] [Warning] No further splits with positive gain, best gain: -inf\n",
            "[LightGBM] [Warning] No further splits with positive gain, best gain: -inf\n",
            "[LightGBM] [Warning] No further splits with positive gain, best gain: -inf\n",
            "[LightGBM] [Warning] No further splits with positive gain, best gain: -inf\n",
            "[LightGBM] [Warning] No further splits with positive gain, best gain: -inf\n",
            "[LightGBM] [Warning] No further splits with positive gain, best gain: -inf\n",
            "[LightGBM] [Warning] No further splits with positive gain, best gain: -inf\n",
            "[LightGBM] [Warning] No further splits with positive gain, best gain: -inf\n",
            "[LightGBM] [Warning] No further splits with positive gain, best gain: -inf\n",
            "[LightGBM] [Warning] No further splits with positive gain, best gain: -inf\n",
            "[LightGBM] [Warning] No further splits with positive gain, best gain: -inf\n",
            "[LightGBM] [Warning] No further splits with positive gain, best gain: -inf\n",
            "[LightGBM] [Warning] No further splits with positive gain, best gain: -inf\n",
            "========== Fold 4 ==========\n",
            "[LightGBM] [Info] Number of positive: 18452, number of negative: 62959\n",
            "[LightGBM] [Warning] Auto-choosing col-wise multi-threading, the overhead of testing was 0.017132 seconds.\n",
            "You can set `force_col_wise=true` to remove the overhead.\n",
            "[LightGBM] [Info] Total Bins 3558\n",
            "[LightGBM] [Info] Number of data points in the train set: 81411, number of used features: 21\n",
            "[LightGBM] [Info] [binary:BoostFromScore]: pavg=0.226652 -> initscore=-1.227311\n",
            "[LightGBM] [Info] Start training from score -1.227311\n",
            "[LightGBM] [Warning] No further splits with positive gain, best gain: -inf\n",
            "[LightGBM] [Warning] No further splits with positive gain, best gain: -inf\n",
            "[LightGBM] [Warning] No further splits with positive gain, best gain: -inf\n",
            "[LightGBM] [Warning] No further splits with positive gain, best gain: -inf\n",
            "[LightGBM] [Warning] No further splits with positive gain, best gain: -inf\n",
            "[LightGBM] [Warning] No further splits with positive gain, best gain: -inf\n",
            "[LightGBM] [Warning] No further splits with positive gain, best gain: -inf\n",
            "[LightGBM] [Warning] No further splits with positive gain, best gain: -inf\n",
            "[LightGBM] [Warning] No further splits with positive gain, best gain: -inf\n",
            "[LightGBM] [Warning] No further splits with positive gain, best gain: -inf\n",
            "[LightGBM] [Warning] No further splits with positive gain, best gain: -inf\n",
            "[LightGBM] [Warning] No further splits with positive gain, best gain: -inf\n",
            "[LightGBM] [Warning] No further splits with positive gain, best gain: -inf\n",
            "[LightGBM] [Warning] No further splits with positive gain, best gain: -inf\n",
            "[LightGBM] [Warning] No further splits with positive gain, best gain: -inf\n",
            "[LightGBM] [Warning] No further splits with positive gain, best gain: -inf\n",
            "[LightGBM] [Warning] No further splits with positive gain, best gain: -inf\n",
            "[LightGBM] [Warning] No further splits with positive gain, best gain: -inf\n",
            "[LightGBM] [Warning] No further splits with positive gain, best gain: -inf\n",
            "[LightGBM] [Warning] No further splits with positive gain, best gain: -inf\n",
            "[LightGBM] [Warning] No further splits with positive gain, best gain: -inf\n",
            "[LightGBM] [Warning] No further splits with positive gain, best gain: -inf\n",
            "[LightGBM] [Warning] No further splits with positive gain, best gain: -inf\n",
            "[LightGBM] [Warning] No further splits with positive gain, best gain: -inf\n",
            "[LightGBM] [Warning] No further splits with positive gain, best gain: -inf\n",
            "[LightGBM] [Warning] No further splits with positive gain, best gain: -inf\n",
            "========== Fold 5 ==========\n",
            "[LightGBM] [Info] Number of positive: 18451, number of negative: 62960\n",
            "[LightGBM] [Warning] Auto-choosing col-wise multi-threading, the overhead of testing was 0.017379 seconds.\n",
            "You can set `force_col_wise=true` to remove the overhead.\n",
            "[LightGBM] [Info] Total Bins 3552\n",
            "[LightGBM] [Info] Number of data points in the train set: 81411, number of used features: 21\n",
            "[LightGBM] [Info] [binary:BoostFromScore]: pavg=0.226640 -> initscore=-1.227381\n",
            "[LightGBM] [Info] Start training from score -1.227381\n",
            "[LightGBM] [Warning] No further splits with positive gain, best gain: -inf\n",
            "[LightGBM] [Warning] No further splits with positive gain, best gain: -inf\n",
            "[LightGBM] [Warning] No further splits with positive gain, best gain: -inf\n",
            "[LightGBM] [Warning] No further splits with positive gain, best gain: -inf\n",
            "[LightGBM] [Warning] No further splits with positive gain, best gain: -inf\n",
            "[LightGBM] [Warning] No further splits with positive gain, best gain: -inf\n",
            "[LightGBM] [Warning] No further splits with positive gain, best gain: -inf\n",
            "[LightGBM] [Warning] No further splits with positive gain, best gain: -inf\n",
            "[LightGBM] [Warning] No further splits with positive gain, best gain: -inf\n",
            "[LightGBM] [Warning] No further splits with positive gain, best gain: -inf\n",
            "[LightGBM] [Warning] No further splits with positive gain, best gain: -inf\n",
            "[LightGBM] [Warning] No further splits with positive gain, best gain: -inf\n",
            "[LightGBM] [Warning] No further splits with positive gain, best gain: -inf\n",
            "[LightGBM] [Warning] No further splits with positive gain, best gain: -inf\n",
            "[LightGBM] [Warning] No further splits with positive gain, best gain: -inf\n",
            "[LightGBM] [Warning] No further splits with positive gain, best gain: -inf\n",
            "[LightGBM] [Warning] No further splits with positive gain, best gain: -inf\n",
            "[LightGBM] [Warning] No further splits with positive gain, best gain: -inf\n",
            "[LightGBM] [Warning] No further splits with positive gain, best gain: -inf\n",
            "[LightGBM] [Warning] No further splits with positive gain, best gain: -inf\n",
            "[LightGBM] [Warning] No further splits with positive gain, best gain: -inf\n",
            "[LightGBM] [Warning] No further splits with positive gain, best gain: -inf\n",
            "[LightGBM] [Warning] No further splits with positive gain, best gain: -inf\n",
            "[LightGBM] [Warning] No further splits with positive gain, best gain: -inf\n",
            "[LightGBM] [Warning] No further splits with positive gain, best gain: -inf\n",
            "[LightGBM] [Warning] No further splits with positive gain, best gain: -inf\n",
            "[LightGBM] [Warning] No further splits with positive gain, best gain: -inf\n",
            "[LightGBM] [Warning] No further splits with positive gain, best gain: -inf\n",
            "[LightGBM] [Warning] No further splits with positive gain, best gain: -inf\n",
            "[LightGBM] [Warning] No further splits with positive gain, best gain: -inf\n",
            "AUC : 0.7844138547339405\n"
          ]
        },
        {
          "data": {
            "text/plain": [
              "array([0.23844273, 0.18092279, 0.65751052, ..., 0.17297542, 0.09837831,\n",
              "       0.83926669])"
            ]
          },
          "execution_count": 32,
          "metadata": {},
          "output_type": "execute_result"
        }
      ],
      "source": [
        "best_params = study.best_trial.params\n",
        "\n",
        "best_model = LGBMClassifier(**best_params,\n",
        "                            random_state=61)\n",
        "\n",
        "preds = oof_preds(best_model)\n",
        "preds = np.mean(preds, axis=0)\n",
        "\n",
        "preds"
      ]
    },
    {
      "cell_type": "code",
      "execution_count": null,
      "metadata": {
        "id": "By566me_J7lq"
      },
      "outputs": [],
      "source": [
        "submission.defects = preds"
      ]
    },
    {
      "cell_type": "code",
      "execution_count": null,
      "metadata": {
        "id": "ul-pt-04J_IW"
      },
      "outputs": [],
      "source": [
        "submission.to_csv('submission_lightGBM_is_balance.csv')"
      ]
    },
    {
      "cell_type": "code",
      "execution_count": null,
      "metadata": {
        "id": "ROR1NfsIN4w2"
      },
      "outputs": [],
      "source": []
    }
  ],
  "metadata": {
    "colab": {
      "provenance": [],
      "include_colab_link": true
    },
    "kernelspec": {
      "display_name": "Python 3",
      "name": "python3"
    },
    "language_info": {
      "codemirror_mode": {
        "name": "ipython",
        "version": 3
      },
      "file_extension": ".py",
      "mimetype": "text/x-python",
      "name": "python",
      "nbconvert_exporter": "python",
      "pygments_lexer": "ipython3",
      "version": "3.11.3"
    }
  },
  "nbformat": 4,
  "nbformat_minor": 0
}