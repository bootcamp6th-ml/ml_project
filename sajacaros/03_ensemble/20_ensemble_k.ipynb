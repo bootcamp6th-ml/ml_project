{
 "cells": [
  {
   "cell_type": "code",
   "execution_count": 70,
   "outputs": [],
   "source": [
    "# 각 알고리즘 별 oof를 수집하여 Ridge를 이용하여 weight를 추출\n",
    "# Voting model을 구성하여 위에서 구한 weight기반하여 결과 추출"
   ],
   "metadata": {
    "collapsed": false,
    "pycharm": {
     "name": "#%%\n"
    }
   }
  },
  {
   "cell_type": "code",
   "execution_count": 71,
   "metadata": {
    "collapsed": true
   },
   "outputs": [],
   "source": [
    "import pandas as pd\n",
    "import numpy as np\n",
    "import seaborn as sns\n",
    "import matplotlib.pyplot as plt"
   ]
  },
  {
   "cell_type": "code",
   "execution_count": 72,
   "outputs": [],
   "source": [
    "from sklearn.neural_network import MLPClassifier\n",
    "from sklearn.calibration import CalibratedClassifierCV\n",
    "from lightgbm import LGBMClassifier\n",
    "from sklearn.metrics import roc_auc_score\n",
    "from xgboost import XGBClassifier\n",
    "from sklearn.neighbors import KNeighborsClassifier\n",
    "from sklearn.ensemble import ExtraTreesClassifier, RandomForestClassifier, HistGradientBoostingClassifier\n",
    "from sklearn.kernel_approximation import Nystroem\n",
    "from sklearn.linear_model import LogisticRegression\n",
    "from sklearn.svm import LinearSVC\n",
    "from sklearn.preprocessing import FunctionTransformer, PolynomialFeatures, StandardScaler, OneHotEncoder\n",
    "from sklearn.pipeline import make_pipeline\n",
    "from sklearn.model_selection import train_test_split"
   ],
   "metadata": {
    "collapsed": false,
    "pycharm": {
     "name": "#%%\n"
    }
   }
  },
  {
   "cell_type": "code",
   "execution_count": 73,
   "outputs": [],
   "source": [
    "data_path='../../data/'"
   ],
   "metadata": {
    "collapsed": false,
    "pycharm": {
     "name": "#%%\n"
    }
   }
  },
  {
   "cell_type": "code",
   "execution_count": 74,
   "outputs": [],
   "source": [
    "ambrosm_oof_df = pd.read_csv(data_path+'oof/ambrosm.csv')\n",
    "lightgbm_oof_df = pd.read_csv(data_path+'oof/lightgbm.csv')\n",
    "xgboost_oof_df = pd.read_csv(data_path+'oof/xgboost.csv')"
   ],
   "metadata": {
    "collapsed": false,
    "pycharm": {
     "name": "#%%\n"
    }
   }
  },
  {
   "cell_type": "code",
   "execution_count": 75,
   "outputs": [],
   "source": [
    "# train_df = pd.read_csv(data_path + 'train.csv', index_col='id')\n",
    "# test_df = pd.read_csv(data_path + 'test.csv', index_col='id')\n",
    "train_df = pd.read_csv(data_path + 'train_f7.csv', index_col='id')\n",
    "test_df = pd.read_csv(data_path + 'test_f7.csv', index_col='id')\n",
    "# train_vif20 = pd.read_csv(data_path + 'train_vif20.csv', index_col='id')\n",
    "# test_vif20 = pd.read_csv(data_path + 'test_vif20.csv', index_col='id')\n",
    "submission = pd.read_csv(data_path + 'sample_submission.csv', index_col='id')\n",
    "train = train_df\n",
    "test = test_df"
   ],
   "metadata": {
    "collapsed": false,
    "pycharm": {
     "name": "#%%\n"
    }
   }
  },
  {
   "cell_type": "code",
   "execution_count": 76,
   "outputs": [],
   "source": [
    "train['lOBlank_c'] = train['lOBlank_c'].astype('category')\n",
    "test['lOBlank_c'] = test['lOBlank_c'].astype('category')\n",
    "train['branchCount_c'] = train['branchCount_c'].astype('category')\n",
    "test['branchCount_c'] = test['branchCount_c'].astype('category')\n",
    "train['mean_sum'] = train['mean_sum'].astype('category')\n",
    "test['mean_sum'] = test['mean_sum'].astype('category')\n",
    "train['pure_sum'] = train['pure_sum'].astype('category')\n",
    "test['pure_sum'] = test['pure_sum'].astype('category')\n",
    "# train['pure'] = train['pure'].astype('category')\n",
    "# test['pure'] = test['pure'].astype('category')"
   ],
   "metadata": {
    "collapsed": false,
    "pycharm": {
     "name": "#%%\n"
    }
   }
  },
  {
   "cell_type": "code",
   "execution_count": 77,
   "outputs": [],
   "source": [
    "X = train_df.drop(columns=['defects'])\n",
    "y = train_df.defects\n",
    "X_origin_train, X_origin_val, y_origin_train, y_origin_val = train_test_split(X, y, test_size=0.2, random_state=61, stratify=y)"
   ],
   "metadata": {
    "collapsed": false,
    "pycharm": {
     "name": "#%%\n"
    }
   }
  },
  {
   "cell_type": "code",
   "execution_count": 78,
   "outputs": [],
   "source": [
    "from sklearn.compose import ColumnTransformer\n",
    "\n",
    "categories=['lOBlank_c', 'branchCount_c', 'mean_sum', 'pure_sum']\n",
    "\n",
    "models = {\n",
    "    'xgboost': XGBClassifier(\n",
    "        max_depth=5,\n",
    "        colsample_bynode=0.6352660246900071,\n",
    "        reg_lambda=3.9554666984172338,\n",
    "        n_estimators=458,\n",
    "        learning_rate=0.010447954272327755,\n",
    "        random_state=61,\n",
    "        tree_method='hist',\n",
    "        enable_categorical=True,\n",
    "    ),\n",
    "    'lightgbm': LGBMClassifier(\n",
    "        max_depth=20,\n",
    "        num_leaves=32,\n",
    "        min_child_samples=36,\n",
    "        colsample_bytree=0.5428020772717417,\n",
    "        n_estimators=434,\n",
    "        learning_rate=0.014397706060401805,\n",
    "        random_state=61,\n",
    "    ),\n",
    "    'hgb':HistGradientBoostingClassifier(random_state=61),\n",
    "    'logistic_nystroem': make_pipeline(\n",
    "        # ColumnTransformer([('drop', 'drop', categories)], remainder='passthrough'),\n",
    "        ColumnTransformer([('onehot',OneHotEncoder(handle_unknown=\"ignore\"),categories)], remainder='passthrough'),\n",
    "        FunctionTransformer(np.log1p),\n",
    "        Nystroem(n_components=400, random_state=61),\n",
    "        StandardScaler(),\n",
    "        LogisticRegression(dual=False, C=0.0042, max_iter=1500, random_state=61)\n",
    "    ),\n",
    "    'extra': make_pipeline(\n",
    "        ColumnTransformer(\n",
    "            [('drop', 'drop', ['iv(g)', 't', 'b', 'n', 'lOCode', 'v','branchCount', 'e', 'i', 'lOComment']+categories)],\n",
    "            remainder='passthrough'\n",
    "        ),\n",
    "        FunctionTransformer(np.log1p),\n",
    "        ExtraTreesClassifier(\n",
    "            n_estimators=100,\n",
    "            min_samples_leaf=130,\n",
    "            max_features=1.0,\n",
    "            random_state=61\n",
    "        ),\n",
    "    ),\n",
    "\n",
    "}"
   ],
   "metadata": {
    "collapsed": false,
    "pycharm": {
     "name": "#%%\n"
    }
   }
  },
  {
   "cell_type": "code",
   "execution_count": 79,
   "outputs": [],
   "source": [
    "from sklearn.model_selection import StratifiedKFold, train_test_split\n",
    "\n",
    "# Make KFold OOF prediction\n",
    "K=5\n",
    "def oof_preds(df_X, df_y, best_model, model_name=None):\n",
    "    if model_name:\n",
    "        print(f\"{model_name}'s oof prediction\")\n",
    "\n",
    "    # make KFold\n",
    "    folds = StratifiedKFold(n_splits=K, random_state=61, shuffle=True)\n",
    "    losses = []\n",
    "    # fitting with best_model\n",
    "    # X = train_df.drop(columns='defects')\n",
    "    # y = train_df['defects']\n",
    "\n",
    "    oof = np.full(len(X), np.nan)\n",
    "    for i, (train_idx, val_idx) in enumerate(folds.split(df_X, df_y)):\n",
    "        X_train = df_X.iloc[train_idx, :]\n",
    "        y_train = df_y.iloc[train_idx]\n",
    "        X_val = df_X.iloc[val_idx, :]\n",
    "        y_val = df_y.iloc[val_idx]\n",
    "\n",
    "        print(f\"========== Fold {i+1} ==========\")\n",
    "        best_model.fit(X_train, y_train)\n",
    "        preds = best_model.predict_proba(X_val)[:, 1]\n",
    "        oof[val_idx] = preds\n",
    "        loss = roc_auc_score(y_val, preds)\n",
    "\n",
    "        losses.append(loss)\n",
    "\n",
    "    avg_loss = np.mean(losses)\n",
    "    print(f\"Loss : {avg_loss:.4f}\")\n",
    "    return oof, avg_loss"
   ],
   "metadata": {
    "collapsed": false,
    "pycharm": {
     "name": "#%%\n"
    }
   }
  },
  {
   "cell_type": "code",
   "execution_count": 80,
   "outputs": [
    {
     "name": "stdout",
     "output_type": "stream",
     "text": [
      "xgboost's oof prediction\n",
      "========== Fold 1 ==========\n",
      "========== Fold 2 ==========\n",
      "========== Fold 3 ==========\n",
      "========== Fold 4 ==========\n",
      "========== Fold 5 ==========\n",
      "Loss : 0.7910\n",
      "lightgbm's oof prediction\n",
      "========== Fold 1 ==========\n",
      "========== Fold 2 ==========\n",
      "========== Fold 3 ==========\n",
      "========== Fold 4 ==========\n",
      "========== Fold 5 ==========\n",
      "Loss : 0.7913\n",
      "hgb's oof prediction\n",
      "========== Fold 1 ==========\n",
      "========== Fold 2 ==========\n",
      "========== Fold 3 ==========\n",
      "========== Fold 4 ==========\n",
      "========== Fold 5 ==========\n",
      "Loss : 0.7906\n",
      "logistic_nystroem's oof prediction\n",
      "========== Fold 1 ==========\n",
      "========== Fold 2 ==========\n",
      "========== Fold 3 ==========\n",
      "========== Fold 4 ==========\n",
      "========== Fold 5 ==========\n",
      "Loss : 0.7912\n",
      "extra's oof prediction\n",
      "========== Fold 1 ==========\n",
      "========== Fold 2 ==========\n",
      "========== Fold 3 ==========\n",
      "========== Fold 4 ==========\n",
      "========== Fold 5 ==========\n",
      "Loss : 0.7904\n"
     ]
    },
    {
     "data": {
      "text/plain": "[('lightgbm', 0.7913496473161246),\n ('logistic_nystroem', 0.7911723359459766),\n ('xgboost', 0.7910420253404198),\n ('hgb', 0.7905872171295754),\n ('extra', 0.7903603576273408)]"
     },
     "execution_count": 80,
     "metadata": {},
     "output_type": "execute_result"
    }
   ],
   "source": [
    "# 개별 모델 oof 후 스코어순으로 출력\n",
    "model_scores = [(model_name, oof_preds(X_origin_train, y_origin_train, model, model_name)[1]) for model_name, model in models.items()]\n",
    "model_scores.sort(key=lambda m: m[1], reverse=True)\n",
    "model_scores"
   ],
   "metadata": {
    "collapsed": false,
    "pycharm": {
     "name": "#%%\n"
    }
   }
  },
  {
   "cell_type": "code",
   "execution_count": 81,
   "outputs": [],
   "source": [
    "from sklearn.ensemble import VotingClassifier\n",
    "def run_k_fold(df_X, df_y, models, model_scores, num=5, weight=None):\n",
    "    start = 2\n",
    "    weights = [n for n in range(num, 0, -1)]\n",
    "    if weight=='balance':\n",
    "        weights = [1]*num\n",
    "    elif weight=='square':\n",
    "        weights = np.square(weights)\n",
    "    elif weight=='sqrt':\n",
    "        weights = np.sqrt(weights)\n",
    "    elif weight=='log':\n",
    "        weights = np.log1p(weights)\n",
    "\n",
    "    print(f'{weight}!!', weights)\n",
    "    best_score = 0\n",
    "    best_model_num = 0\n",
    "    best_model = None\n",
    "    for model_num in range(start, start+num-1):\n",
    "        chosen_models = [(model_scores[m_idx][0], models[model_scores[m_idx][0]]) for m_idx in range(model_num)]\n",
    "        chosen_model_names = [model_scores[m_idx][0] for m_idx in range(model_num)]\n",
    "        print(f'chosen models : {chosen_model_names}, weights : {weights[num-model_num:]}')\n",
    "        voter_model = VotingClassifier(chosen_models, weights = weights[num-model_num:], voting = 'soft')\n",
    "        oof, oof_score = oof_preds(df_X, df_y, voter_model)\n",
    "        if model_num==2 or best_score<oof_score:\n",
    "            best_score = oof_score\n",
    "            best_model_num = model_num\n",
    "            best_model = voter_model\n",
    "    print(f'best model 개수 : {best_model_num}, best oof score : {best_score}')\n",
    "    return best_model, best_model_num, best_score, weights[:best_model_num]"
   ],
   "metadata": {
    "collapsed": false,
    "pycharm": {
     "name": "#%%\n"
    }
   }
  },
  {
   "cell_type": "code",
   "execution_count": 82,
   "outputs": [],
   "source": [
    "from sklearn.metrics import confusion_matrix\n",
    "\n",
    "def plot_confusion_matrix(cm, title, model_name):\n",
    "    plt.figure(figsize=(5,5))\n",
    "    sns.heatmap(cm, annot=True, cmap='GnBu_r', cbar=False, fmt='.0f', annot_kws={\"size\": 17})\n",
    "    plt.xlabel('Predicted')\n",
    "    plt.ylabel('True')\n",
    "    plt.suptitle(title, fontsize=12, fontweight='bold')\n",
    "    plt.savefig(f'{model_name}_baseline.png')\n",
    "    plt.show()"
   ],
   "metadata": {
    "collapsed": false,
    "pycharm": {
     "name": "#%%\n"
    }
   }
  },
  {
   "cell_type": "code",
   "execution_count": 83,
   "outputs": [
    {
     "name": "stdout",
     "output_type": "stream",
     "text": [
      "None!! [5, 4, 3, 2, 1]\n",
      "chosen models : ['lightgbm', 'logistic_nystroem'], weights : [2, 1]\n",
      "========== Fold 1 ==========\n",
      "========== Fold 2 ==========\n",
      "========== Fold 3 ==========\n",
      "========== Fold 4 ==========\n",
      "========== Fold 5 ==========\n",
      "Loss : 0.7919\n",
      "chosen models : ['lightgbm', 'logistic_nystroem', 'xgboost'], weights : [3, 2, 1]\n",
      "========== Fold 1 ==========\n",
      "========== Fold 2 ==========\n",
      "========== Fold 3 ==========\n",
      "========== Fold 4 ==========\n",
      "========== Fold 5 ==========\n",
      "Loss : 0.7920\n",
      "chosen models : ['lightgbm', 'logistic_nystroem', 'xgboost', 'hgb'], weights : [4, 3, 2, 1]\n",
      "========== Fold 1 ==========\n",
      "========== Fold 2 ==========\n",
      "========== Fold 3 ==========\n",
      "========== Fold 4 ==========\n",
      "========== Fold 5 ==========\n",
      "Loss : 0.7920\n",
      "chosen models : ['lightgbm', 'logistic_nystroem', 'xgboost', 'hgb', 'extra'], weights : [5, 4, 3, 2, 1]\n",
      "========== Fold 1 ==========\n",
      "========== Fold 2 ==========\n",
      "========== Fold 3 ==========\n",
      "========== Fold 4 ==========\n",
      "========== Fold 5 ==========\n",
      "Loss : 0.7920\n",
      "best model 개수 : 4, best oof score : 0.7919821543568085\n"
     ]
    }
   ],
   "source": [
    "# auto\n",
    "best_model, k, best_score, weights = run_k_fold(X_origin_train, y_origin_train, models, model_scores, num=5)"
   ],
   "metadata": {
    "collapsed": false,
    "pycharm": {
     "name": "#%%\n"
    }
   }
  },
  {
   "cell_type": "code",
   "execution_count": 84,
   "outputs": [
    {
     "name": "stdout",
     "output_type": "stream",
     "text": [
      "4개 앙상블, chosen models : ['lightgbm', 'logistic_nystroem', 'xgboost', 'hgb']\n",
      "Validation auc roc : 0.7927\n",
      "Validation acc : 0.8154\n",
      "Validation f1_score : 0.4946\n"
     ]
    }
   ],
   "source": [
    "from sklearn.metrics import accuracy_score, f1_score\n",
    "\n",
    "# 위에서 최고의 앙상블 모델 validation auc score 측정\n",
    "chosen_models = [(model_scores[m_idx][0], models[model_scores[m_idx][0]]) for m_idx in range(k)]\n",
    "chosen_model_names = [model_scores[m_idx][0] for m_idx in range(k)]\n",
    "val_preds_proba = best_model.predict_proba(X_origin_val)[:, 1]\n",
    "val_preds = best_model.predict(X_origin_val)\n",
    "val_score = roc_auc_score(y_origin_val, val_preds_proba)\n",
    "\n",
    "print(f'{k}개 앙상블, chosen models : {chosen_model_names}')\n",
    "print(\"Validation auc roc : %.4f\" % val_score)\n",
    "print(\"Validation acc : %.4f\" % accuracy_score(y_origin_val, val_preds))\n",
    "print(\"Validation f1_score : %.4f\" % f1_score(y_origin_val, val_preds))"
   ],
   "metadata": {
    "collapsed": false,
    "pycharm": {
     "name": "#%%\n"
    }
   }
  },
  {
   "cell_type": "code",
   "execution_count": 85,
   "outputs": [
    {
     "data": {
      "text/plain": "<Figure size 500x500 with 1 Axes>",
      "image/png": "[encoded data removed]"
     },
     "metadata": {},
     "output_type": "display_data"
    }
   ],
   "source": [
    "cm=confusion_matrix(y_origin_val, val_preds)\n",
    "plot_confusion_matrix(cm, 'ensemble Confusion Matrix', 'ensemble')"
   ],
   "metadata": {
    "collapsed": false,
    "pycharm": {
     "name": "#%%\n"
    }
   }
  },
  {
   "cell_type": "code",
   "execution_count": 86,
   "outputs": [
    {
     "name": "stdout",
     "output_type": "stream",
     "text": [
      "balance!! [1, 1, 1, 1, 1]\n",
      "chosen models : ['lightgbm', 'logistic_nystroem'], weights : [1, 1]\n",
      "========== Fold 1 ==========\n",
      "========== Fold 2 ==========\n",
      "========== Fold 3 ==========\n",
      "========== Fold 4 ==========\n",
      "========== Fold 5 ==========\n",
      "Loss : 0.7920\n",
      "chosen models : ['lightgbm', 'logistic_nystroem', 'xgboost'], weights : [1, 1, 1]\n",
      "========== Fold 1 ==========\n",
      "========== Fold 2 ==========\n",
      "========== Fold 3 ==========\n",
      "========== Fold 4 ==========\n",
      "========== Fold 5 ==========\n",
      "Loss : 0.7919\n",
      "chosen models : ['lightgbm', 'logistic_nystroem', 'xgboost', 'hgb'], weights : [1, 1, 1, 1]\n",
      "========== Fold 1 ==========\n",
      "========== Fold 2 ==========\n",
      "========== Fold 3 ==========\n",
      "========== Fold 4 ==========\n",
      "========== Fold 5 ==========\n",
      "Loss : 0.7919\n",
      "chosen models : ['lightgbm', 'logistic_nystroem', 'xgboost', 'hgb', 'extra'], weights : [1, 1, 1, 1, 1]\n",
      "========== Fold 1 ==========\n",
      "========== Fold 2 ==========\n",
      "========== Fold 3 ==========\n",
      "========== Fold 4 ==========\n",
      "========== Fold 5 ==========\n",
      "Loss : 0.7919\n",
      "best model 개수 : 2, best oof score : 0.7919978569024118\n",
      "2개 앙상블, chosen models : ['lightgbm', 'logistic_nystroem']\n",
      "Validation auc roc : 0.7927\n",
      "Validation acc : 0.8150\n",
      "Validation f1_score : 0.4924\n"
     ]
    },
    {
     "data": {
      "text/plain": "<Figure size 500x500 with 1 Axes>",
      "image/png": "[encoded data removed]"
     },
     "metadata": {},
     "output_type": "display_data"
    }
   ],
   "source": [
    "# balance\n",
    "best_model, k, best_score, weights = run_k_fold(X_origin_train, y_origin_train, models, model_scores, num=5, weight='balance')\n",
    "# 위에서 최고의 앙상블 모델 validation auc score 측정\n",
    "chosen_models = [(model_scores[m_idx][0], models[model_scores[m_idx][0]]) for m_idx in range(k)]\n",
    "chosen_model_names = [model_scores[m_idx][0] for m_idx in range(k)]\n",
    "val_preds_proba = best_model.predict_proba(X_origin_val)[:, 1]\n",
    "val_preds = best_model.predict(X_origin_val)\n",
    "val_score = roc_auc_score(y_origin_val, val_preds_proba)\n",
    "\n",
    "print(f'{k}개 앙상블, chosen models : {chosen_model_names}')\n",
    "print(\"Validation auc roc : %.4f\" % val_score)\n",
    "print(\"Validation acc : %.4f\" % accuracy_score(y_origin_val, val_preds))\n",
    "print(\"Validation f1_score : %.4f\" % f1_score(y_origin_val, val_preds))\n",
    "cm=confusion_matrix(y_origin_val, val_preds)\n",
    "plot_confusion_matrix(cm, 'ensemble Confusion Matrix', 'ensemble')"
   ],
   "metadata": {
    "collapsed": false,
    "pycharm": {
     "name": "#%%\n"
    }
   }
  },
  {
   "cell_type": "code",
   "execution_count": 87,
   "outputs": [
    {
     "name": "stdout",
     "output_type": "stream",
     "text": [
      "square!! [25 16  9  4  1]\n",
      "chosen models : ['lightgbm', 'logistic_nystroem'], weights : [4 1]\n",
      "========== Fold 1 ==========\n",
      "========== Fold 2 ==========\n",
      "========== Fold 3 ==========\n",
      "========== Fold 4 ==========\n",
      "========== Fold 5 ==========\n",
      "Loss : 0.7918\n",
      "chosen models : ['lightgbm', 'logistic_nystroem', 'xgboost'], weights : [9 4 1]\n",
      "========== Fold 1 ==========\n",
      "========== Fold 2 ==========\n",
      "========== Fold 3 ==========\n",
      "========== Fold 4 ==========\n",
      "========== Fold 5 ==========\n",
      "Loss : 0.7919\n",
      "chosen models : ['lightgbm', 'logistic_nystroem', 'xgboost', 'hgb'], weights : [16  9  4  1]\n",
      "========== Fold 1 ==========\n",
      "========== Fold 2 ==========\n",
      "========== Fold 3 ==========\n",
      "========== Fold 4 ==========\n",
      "========== Fold 5 ==========\n",
      "Loss : 0.7920\n",
      "chosen models : ['lightgbm', 'logistic_nystroem', 'xgboost', 'hgb', 'extra'], weights : [25 16  9  4  1]\n",
      "========== Fold 1 ==========\n",
      "========== Fold 2 ==========\n",
      "========== Fold 3 ==========\n",
      "========== Fold 4 ==========\n",
      "========== Fold 5 ==========\n",
      "Loss : 0.7920\n",
      "best model 개수 : 5, best oof score : 0.7919733656599268\n",
      "5개 앙상블, chosen models : ['lightgbm', 'logistic_nystroem', 'xgboost', 'hgb', 'extra']\n",
      "Validation auc roc : 0.7927\n",
      "Validation acc : 0.8154\n",
      "Validation f1_score : 0.4943\n"
     ]
    },
    {
     "data": {
      "text/plain": "<Figure size 500x500 with 1 Axes>",
      "image/png": "[encoded data removed]"
     },
     "metadata": {},
     "output_type": "display_data"
    }
   ],
   "source": [
    "# None\n",
    "best_model, k, best_score, weights = run_k_fold(X_origin_train, y_origin_train, models, model_scores, num=5, weight='square')\n",
    "# 위에서 최고의 앙상블 모델 validation auc score 측정\n",
    "chosen_models = [(model_scores[m_idx][0], models[model_scores[m_idx][0]]) for m_idx in range(k)]\n",
    "chosen_model_names = [model_scores[m_idx][0] for m_idx in range(k)]\n",
    "val_preds_proba = best_model.predict_proba(X_origin_val)[:, 1]\n",
    "val_preds = best_model.predict(X_origin_val)\n",
    "val_score = roc_auc_score(y_origin_val, val_preds_proba)\n",
    "\n",
    "print(f'{k}개 앙상블, chosen models : {chosen_model_names}')\n",
    "print(\"Validation auc roc : %.4f\" % val_score)\n",
    "print(\"Validation acc : %.4f\" % accuracy_score(y_origin_val, val_preds))\n",
    "print(\"Validation f1_score : %.4f\" % f1_score(y_origin_val, val_preds))\n",
    "cm=confusion_matrix(y_origin_val, val_preds)\n",
    "plot_confusion_matrix(cm, 'ensemble Confusion Matrix', 'ensemble')"
   ],
   "metadata": {
    "collapsed": false,
    "pycharm": {
     "name": "#%%\n"
    }
   }
  },
  {
   "cell_type": "code",
   "execution_count": 88,
   "outputs": [
    {
     "name": "stdout",
     "output_type": "stream",
     "text": [
      "sqrt!! [2.23606798 2.         1.73205081 1.41421356 1.        ]\n",
      "chosen models : ['lightgbm', 'logistic_nystroem'], weights : [1.41421356 1.        ]\n",
      "========== Fold 1 ==========\n",
      "========== Fold 2 ==========\n",
      "========== Fold 3 ==========\n",
      "========== Fold 4 ==========\n",
      "========== Fold 5 ==========\n",
      "Loss : 0.7920\n",
      "chosen models : ['lightgbm', 'logistic_nystroem', 'xgboost'], weights : [1.73205081 1.41421356 1.        ]\n",
      "========== Fold 1 ==========\n",
      "========== Fold 2 ==========\n",
      "========== Fold 3 ==========\n",
      "========== Fold 4 ==========\n",
      "========== Fold 5 ==========\n",
      "Loss : 0.7919\n",
      "chosen models : ['lightgbm', 'logistic_nystroem', 'xgboost', 'hgb'], weights : [2.         1.73205081 1.41421356 1.        ]\n",
      "========== Fold 1 ==========\n",
      "========== Fold 2 ==========\n",
      "========== Fold 3 ==========\n",
      "========== Fold 4 ==========\n",
      "========== Fold 5 ==========\n",
      "Loss : 0.7920\n",
      "chosen models : ['lightgbm', 'logistic_nystroem', 'xgboost', 'hgb', 'extra'], weights : [2.23606798 2.         1.73205081 1.41421356 1.        ]\n",
      "========== Fold 1 ==========\n",
      "========== Fold 2 ==========\n",
      "========== Fold 3 ==========\n",
      "========== Fold 4 ==========\n",
      "========== Fold 5 ==========\n",
      "Loss : 0.7919\n",
      "best model 개수 : 2, best oof score : 0.7919900252820173\n",
      "2개 앙상블, chosen models : ['lightgbm', 'logistic_nystroem']\n",
      "Validation auc roc : 0.7927\n",
      "Validation acc : 0.8147\n",
      "Validation f1_score : 0.4918\n"
     ]
    },
    {
     "data": {
      "text/plain": "<Figure size 500x500 with 1 Axes>",
      "image/png": "[encoded data removed]"
     },
     "metadata": {},
     "output_type": "display_data"
    }
   ],
   "source": [
    "# None\n",
    "best_model, k, best_score, weights = run_k_fold(X_origin_train, y_origin_train, models, model_scores, num=5, weight='sqrt')\n",
    "# 위에서 최고의 앙상블 모델 validation auc score 측정\n",
    "chosen_models = [(model_scores[m_idx][0], models[model_scores[m_idx][0]]) for m_idx in range(k)]\n",
    "chosen_model_names = [model_scores[m_idx][0] for m_idx in range(k)]\n",
    "val_preds_proba = best_model.predict_proba(X_origin_val)[:, 1]\n",
    "val_preds = best_model.predict(X_origin_val)\n",
    "val_score = roc_auc_score(y_origin_val, val_preds_proba)\n",
    "\n",
    "print(f'{k}개 앙상블, chosen models : {chosen_model_names}')\n",
    "print(\"Validation auc roc : %.4f\" % val_score)\n",
    "print(\"Validation acc : %.4f\" % accuracy_score(y_origin_val, val_preds))\n",
    "print(\"Validation f1_score : %.4f\" % f1_score(y_origin_val, val_preds))\n",
    "cm=confusion_matrix(y_origin_val, val_preds)\n",
    "plot_confusion_matrix(cm, 'ensemble Confusion Matrix', 'ensemble')"
   ],
   "metadata": {
    "collapsed": false,
    "pycharm": {
     "name": "#%%\n"
    }
   }
  },
  {
   "cell_type": "code",
   "execution_count": 89,
   "outputs": [
    {
     "name": "stdout",
     "output_type": "stream",
     "text": [
      "log!! [1.79175947 1.60943791 1.38629436 1.09861229 0.69314718]\n",
      "chosen models : ['lightgbm', 'logistic_nystroem'], weights : [1.09861229 0.69314718]\n",
      "========== Fold 1 ==========\n",
      "========== Fold 2 ==========\n",
      "========== Fold 3 ==========\n",
      "========== Fold 4 ==========\n",
      "========== Fold 5 ==========\n",
      "Loss : 0.7920\n",
      "chosen models : ['lightgbm', 'logistic_nystroem', 'xgboost'], weights : [1.38629436 1.09861229 0.69314718]\n",
      "========== Fold 1 ==========\n",
      "========== Fold 2 ==========\n",
      "========== Fold 3 ==========\n",
      "========== Fold 4 ==========\n",
      "========== Fold 5 ==========\n",
      "Loss : 0.7920\n",
      "chosen models : ['lightgbm', 'logistic_nystroem', 'xgboost', 'hgb'], weights : [1.60943791 1.38629436 1.09861229 0.69314718]\n",
      "========== Fold 1 ==========\n",
      "========== Fold 2 ==========\n",
      "========== Fold 3 ==========\n",
      "========== Fold 4 ==========\n",
      "========== Fold 5 ==========\n",
      "Loss : 0.7920\n",
      "chosen models : ['lightgbm', 'logistic_nystroem', 'xgboost', 'hgb', 'extra'], weights : [1.79175947 1.60943791 1.38629436 1.09861229 0.69314718]\n",
      "========== Fold 1 ==========\n",
      "========== Fold 2 ==========\n",
      "========== Fold 3 ==========\n",
      "========== Fold 4 ==========\n",
      "========== Fold 5 ==========\n",
      "Loss : 0.7919\n",
      "best model 개수 : 2, best oof score : 0.791980289674686\n",
      "2개 앙상블, chosen models : ['lightgbm', 'logistic_nystroem']\n",
      "Validation auc roc : 0.7927\n",
      "Validation acc : 0.8149\n",
      "Validation f1_score : 0.4925\n"
     ]
    },
    {
     "data": {
      "text/plain": "<Figure size 500x500 with 1 Axes>",
      "image/png": "[encoded data removed]"
     },
     "metadata": {},
     "output_type": "display_data"
    }
   ],
   "source": [
    "# None\n",
    "best_model, k, best_score, weights = run_k_fold(X_origin_train, y_origin_train, models, model_scores, num=5, weight='log')\n",
    "# 위에서 최고의 앙상블 모델 validation auc score 측정\n",
    "chosen_models = [(model_scores[m_idx][0], models[model_scores[m_idx][0]]) for m_idx in range(k)]\n",
    "chosen_model_names = [model_scores[m_idx][0] for m_idx in range(k)]\n",
    "val_preds_proba = best_model.predict_proba(X_origin_val)[:, 1]\n",
    "val_preds = best_model.predict(X_origin_val)\n",
    "val_score = roc_auc_score(y_origin_val, val_preds_proba)\n",
    "\n",
    "print(f'{k}개 앙상블, chosen models : {chosen_model_names}')\n",
    "print(\"Validation auc roc : %.4f\" % val_score)\n",
    "print(\"Validation acc : %.4f\" % accuracy_score(y_origin_val, val_preds))\n",
    "print(\"Validation f1_score : %.4f\" % f1_score(y_origin_val, val_preds))\n",
    "cm=confusion_matrix(y_origin_val, val_preds)\n",
    "plot_confusion_matrix(cm, 'ensemble Confusion Matrix', 'ensemble')"
   ],
   "metadata": {
    "collapsed": false,
    "pycharm": {
     "name": "#%%\n"
    }
   }
  },
  {
   "cell_type": "code",
   "execution_count": 89,
   "outputs": [],
   "source": [],
   "metadata": {
    "collapsed": false,
    "pycharm": {
     "name": "#%%\n"
    }
   }
  },
  {
   "cell_type": "code",
   "execution_count": 89,
   "outputs": [],
   "source": [],
   "metadata": {
    "collapsed": false,
    "pycharm": {
     "name": "#%%\n"
    }
   }
  },
  {
   "cell_type": "code",
   "execution_count": 89,
   "outputs": [],
   "source": [],
   "metadata": {
    "collapsed": false,
    "pycharm": {
     "name": "#%%\n"
    }
   }
  },
  {
   "cell_type": "code",
   "execution_count": 93,
   "outputs": [
    {
     "data": {
      "text/plain": "[('lightgbm',\n  LGBMClassifier(colsample_bytree=0.5428020772717417,\n                 learning_rate=0.014397706060401805, max_depth=20,\n                 min_child_samples=36, n_estimators=434, num_leaves=32,\n                 random_state=61)),\n ('logistic_nystroem',\n  Pipeline(steps=[('columntransformer',\n                   ColumnTransformer(remainder='passthrough',\n                                     transformers=[('onehot',\n                                                    OneHotEncoder(handle_unknown='ignore'),\n                                                    ['lOBlank_c', 'branchCount_c',\n                                                     'mean_sum', 'pure_sum'])])),\n                  ('functiontransformer',\n                   FunctionTransformer(func=<ufunc 'log1p'>)),\n                  ('nystroem', Nystroem(n_components=400, random_state=61)),\n                  ('standardscaler', StandardScaler()),\n                  ('logisticregression',\n                   LogisticRegression(C=0.0042, max_iter=1500, random_state=61))])),\n ('xgboost',\n  XGBClassifier(base_score=None, booster=None, callbacks=None,\n                colsample_bylevel=None, colsample_bynode=0.6352660246900071,\n                colsample_bytree=None, early_stopping_rounds=None,\n                enable_categorical=True, eval_metric=None, feature_types=None,\n                gamma=None, gpu_id=None, grow_policy=None, importance_type=None,\n                interaction_constraints=None, learning_rate=0.010447954272327755,\n                max_bin=None, max_cat_threshold=None, max_cat_to_onehot=None,\n                max_delta_step=None, max_depth=5, max_leaves=None,\n                min_child_weight=None, missing=nan, monotone_constraints=None,\n                n_estimators=458, n_jobs=None, num_parallel_tree=None,\n                predictor=None, random_state=61, ...)),\n ('hgb', HistGradientBoostingClassifier(random_state=61))]"
     },
     "execution_count": 93,
     "metadata": {},
     "output_type": "execute_result"
    }
   ],
   "source": [
    "# 같은 옵션으로 앙상블 모델 구성\n",
    "# 전체 데이터로 학습\n",
    "model_num = 4\n",
    "weights = [5,4,3,2,1]\n",
    "chosen_models = [(model_scores[m_idx][0], models[model_scores[m_idx][0]]) for m_idx in range(model_num)]\n",
    "chosen_models"
   ],
   "metadata": {
    "collapsed": false,
    "pycharm": {
     "name": "#%%\n"
    }
   }
  },
  {
   "cell_type": "code",
   "execution_count": 94,
   "outputs": [
    {
     "name": "stdout",
     "output_type": "stream",
     "text": [
      "========== Fold 1 ==========\n",
      "========== Fold 2 ==========\n",
      "========== Fold 3 ==========\n",
      "========== Fold 4 ==========\n",
      "========== Fold 5 ==========\n",
      "Loss : 0.7924\n",
      "전체 데이터 validation auc score : 0.7923548375081776\n"
     ]
    }
   ],
   "source": [
    "final_model = VotingClassifier(chosen_models, weights = weights[5-model_num:], voting = 'soft')\n",
    "oof, oof_score = oof_preds(X, y, final_model)\n",
    "print(f'전체 데이터 validation auc score : {oof_score}')"
   ],
   "metadata": {
    "collapsed": false,
    "pycharm": {
     "name": "#%%\n"
    }
   }
  },
  {
   "cell_type": "code",
   "execution_count": 95,
   "outputs": [],
   "source": [
    "submission['defects'] = final_model.predict_proba(test_df)[:, 1]"
   ],
   "metadata": {
    "collapsed": false,
    "pycharm": {
     "name": "#%%\n"
    }
   }
  },
  {
   "cell_type": "code",
   "execution_count": 96,
   "outputs": [],
   "source": [
    "submission.to_csv(data_path+'submission/ensemble_final.csv')"
   ],
   "metadata": {
    "collapsed": false,
    "pycharm": {
     "name": "#%%\n"
    }
   }
  },
  {
   "cell_type": "code",
   "execution_count": 97,
   "outputs": [
    {
     "data": {
      "text/plain": "<Figure size 500x500 with 1 Axes>",
      "image/png": "[encoded data removed]"
     },
     "metadata": {},
     "output_type": "display_data"
    }
   ],
   "source": [
    "cm=confusion_matrix(y, oof>=0.5)\n",
    "plot_confusion_matrix(cm, 'ensemble Confusion Matrix', 'ensemble')"
   ],
   "metadata": {
    "collapsed": false,
    "pycharm": {
     "name": "#%%\n"
    }
   }
  },
  {
   "cell_type": "code",
   "execution_count": null,
   "outputs": [],
   "source": [],
   "metadata": {
    "collapsed": false,
    "pycharm": {
     "name": "#%%\n"
    }
   }
  }
 ],
 "metadata": {
  "kernelspec": {
   "display_name": "Python 3",
   "language": "python",
   "name": "python3"
  },
  "language_info": {
   "codemirror_mode": {
    "name": "ipython",
    "version": 2
   },
   "file_extension": ".py",
   "mimetype": "text/x-python",
   "name": "python",
   "nbconvert_exporter": "python",
   "pygments_lexer": "ipython2",
   "version": "2.7.6"
  }
 },
 "nbformat": 4,
 "nbformat_minor": 0
}