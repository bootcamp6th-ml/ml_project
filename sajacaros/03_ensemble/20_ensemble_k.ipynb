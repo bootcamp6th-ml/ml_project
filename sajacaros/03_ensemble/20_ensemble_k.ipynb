{
 "cells": [
  {
   "cell_type": "code",
   "execution_count": 1,
   "outputs": [],
   "source": [
    "# 각 알고리즘 별 oof를 수집하여 Ridge를 이용하여 weight를 추출\n",
    "# Voting model을 구성하여 위에서 구한 weight기반하여 결과 추출"
   ],
   "metadata": {
    "collapsed": false,
    "pycharm": {
     "name": "#%%\n"
    }
   }
  },
  {
   "cell_type": "code",
   "execution_count": 2,
   "metadata": {
    "collapsed": true
   },
   "outputs": [],
   "source": [
    "import pandas as pd\n",
    "import numpy as np\n",
    "import seaborn as sns\n",
    "import matplotlib.pyplot as plt"
   ]
  },
  {
   "cell_type": "code",
   "execution_count": 3,
   "outputs": [],
   "source": [
    "from sklearn.neural_network import MLPClassifier\n",
    "from sklearn.calibration import CalibratedClassifierCV\n",
    "from lightgbm import LGBMClassifier\n",
    "from sklearn.metrics import roc_auc_score\n",
    "from xgboost import XGBClassifier\n",
    "from sklearn.neighbors import KNeighborsClassifier\n",
    "from sklearn.ensemble import ExtraTreesClassifier, RandomForestClassifier, HistGradientBoostingClassifier\n",
    "from sklearn.kernel_approximation import Nystroem\n",
    "from sklearn.linear_model import LogisticRegression\n",
    "from sklearn.svm import LinearSVC\n",
    "from sklearn.preprocessing import FunctionTransformer, PolynomialFeatures, StandardScaler, OneHotEncoder\n",
    "from sklearn.pipeline import make_pipeline\n",
    "from sklearn.model_selection import train_test_split"
   ],
   "metadata": {
    "collapsed": false,
    "pycharm": {
     "name": "#%%\n"
    }
   }
  },
  {
   "cell_type": "code",
   "execution_count": 4,
   "outputs": [],
   "source": [
    "data_path='../../data/'"
   ],
   "metadata": {
    "collapsed": false,
    "pycharm": {
     "name": "#%%\n"
    }
   }
  },
  {
   "cell_type": "code",
   "execution_count": 5,
   "outputs": [],
   "source": [
    "ambrosm_oof_df = pd.read_csv(data_path+'oof/ambrosm.csv')\n",
    "lightgbm_oof_df = pd.read_csv(data_path+'oof/lightgbm.csv')\n",
    "xgboost_oof_df = pd.read_csv(data_path+'oof/xgboost.csv')"
   ],
   "metadata": {
    "collapsed": false,
    "pycharm": {
     "name": "#%%\n"
    }
   }
  },
  {
   "cell_type": "code",
   "execution_count": 6,
   "outputs": [],
   "source": [
    "# train_df = pd.read_csv(data_path + 'train.csv', index_col='id')\n",
    "# test_df = pd.read_csv(data_path + 'test.csv', index_col='id')\n",
    "train_df = pd.read_csv(data_path + 'train_f7.csv', index_col='id')\n",
    "test_df = pd.read_csv(data_path + 'test_f7.csv', index_col='id')\n",
    "# train_vif20 = pd.read_csv(data_path + 'train_vif20.csv', index_col='id')\n",
    "# test_vif20 = pd.read_csv(data_path + 'test_vif20.csv', index_col='id')\n",
    "submission = pd.read_csv(data_path + 'sample_submission.csv', index_col='id')\n",
    "train = train_df\n",
    "test = test_df"
   ],
   "metadata": {
    "collapsed": false,
    "pycharm": {
     "name": "#%%\n"
    }
   }
  },
  {
   "cell_type": "code",
   "execution_count": 7,
   "outputs": [],
   "source": [
    "train['lOBlank_n'] = train['lOBlank_n'].astype('category')\n",
    "test['lOBlank_n'] = test['lOBlank_n'].astype('category')\n",
    "train['branchCount_n'] = train['branchCount_n'].astype('category')\n",
    "test['branchCount_n'] = test['branchCount_n'].astype('category')\n",
    "train['total_Op_n'] = train['total_Op_n'].astype('category')\n",
    "test['total_Op_n'] = test['total_Op_n'].astype('category')\n",
    "train['total_Opnd_n'] = train['total_Opnd_n'].astype('category')\n",
    "test['total_Opnd_n'] = test['total_Opnd_n'].astype('category')\n",
    "train['pure'] = train['pure'].astype('category')\n",
    "test['pure'] = test['pure'].astype('category')"
   ],
   "metadata": {
    "collapsed": false,
    "pycharm": {
     "name": "#%%\n"
    }
   }
  },
  {
   "cell_type": "code",
   "execution_count": 8,
   "outputs": [],
   "source": [
    "X = train_df.drop(columns=['defects'])\n",
    "y = train_df.defects\n",
    "X_origin_train, X_origin_val, y_origin_train, y_origin_val = train_test_split(X, y, test_size=0.2, random_state=61, stratify=y)"
   ],
   "metadata": {
    "collapsed": false,
    "pycharm": {
     "name": "#%%\n"
    }
   }
  },
  {
   "cell_type": "code",
   "execution_count": 9,
   "outputs": [],
   "source": [
    "from sklearn.compose import ColumnTransformer\n",
    "\n",
    "categories=['lOBlank_n', 'branchCount_n', 'total_Op_n', 'total_Opnd_n', 'pure']\n",
    "removal_category = ['lOBlank', 'branchCount', 'total_Opnd', 'total_Op']\n",
    "\n",
    "models = {\n",
    "    'xgboost': XGBClassifier(\n",
    "        max_depth=5,\n",
    "        colsample_bynode=0.5024109259312827,\n",
    "        reg_lambda=0.6157751837177088,\n",
    "        n_estimators=450,\n",
    "        learning_rate=0.011355052436639446,\n",
    "        random_state=61,\n",
    "        tree_method='hist',\n",
    "        enable_categorical=True,\n",
    "    ),\n",
    "    'lightgbm': LGBMClassifier(\n",
    "        max_depth=22,\n",
    "        num_leaves=32,\n",
    "        min_child_samples=36,\n",
    "        colsample_bytree=0.5713741447015739,\n",
    "        n_estimators=213,\n",
    "        learning_rate=0.03731196155852431,\n",
    "        random_state=61,\n",
    "    ),\n",
    "    'rf':RandomForestClassifier(min_samples_leaf=190, max_features=1.0, random_state=61),\n",
    "    'hgb':HistGradientBoostingClassifier(random_state=61),\n",
    "    'logistic_nystroem': make_pipeline(\n",
    "        ColumnTransformer([('onehot',OneHotEncoder(handle_unknown=\"ignore\"),categories)], remainder='passthrough'),\n",
    "        FunctionTransformer(np.log1p),\n",
    "        Nystroem(n_components=400, random_state=61),\n",
    "        StandardScaler(),\n",
    "        LogisticRegression(dual=False, C=0.0042, max_iter=1500, random_state=61)\n",
    "    ),\n",
    "    'extra': make_pipeline(\n",
    "        ColumnTransformer(\n",
    "            [('drop', 'drop', ['iv(g)', 't', 'b', 'n', 'lOCode', 'v','branchCount', 'e', 'i', 'lOComment'])],\n",
    "            remainder='passthrough'\n",
    "        ),\n",
    "        FunctionTransformer(np.log1p),\n",
    "        ExtraTreesClassifier(\n",
    "            n_estimators=100,\n",
    "            min_samples_leaf=130,\n",
    "            max_features=1.0,\n",
    "            random_state=61\n",
    "        ),\n",
    "    ),\n",
    "\n",
    "}"
   ],
   "metadata": {
    "collapsed": false,
    "pycharm": {
     "name": "#%%\n"
    }
   }
  },
  {
   "cell_type": "code",
   "execution_count": 10,
   "outputs": [],
   "source": [
    "from sklearn.model_selection import StratifiedKFold, train_test_split\n",
    "\n",
    "# Make KFold OOF prediction\n",
    "K=10\n",
    "def oof_preds(df_X, df_y, best_model, model_name=None):\n",
    "    if model_name:\n",
    "        print(f\"{model_name}'s oof prediction\")\n",
    "\n",
    "    # make KFold\n",
    "    folds = StratifiedKFold(n_splits=K, random_state=61, shuffle=True)\n",
    "    losses = []\n",
    "    # fitting with best_model\n",
    "    # X = train_df.drop(columns='defects')\n",
    "    # y = train_df['defects']\n",
    "\n",
    "    oof = np.full(len(X), np.nan)\n",
    "    for i, (train_idx, val_idx) in enumerate(folds.split(df_X, df_y)):\n",
    "        X_train = df_X.iloc[train_idx, :]\n",
    "        y_train = df_y.iloc[train_idx]\n",
    "        X_val = df_X.iloc[val_idx, :]\n",
    "        y_val = df_y.iloc[val_idx]\n",
    "\n",
    "        print(f\"========== Fold {i+1} ==========\")\n",
    "        best_model.fit(X_train, y_train)\n",
    "        preds = best_model.predict_proba(X_val)[:, 1]\n",
    "        oof[val_idx] = preds\n",
    "        loss = roc_auc_score(y_val, preds)\n",
    "\n",
    "        losses.append(loss)\n",
    "\n",
    "    avg_loss = np.mean(losses)\n",
    "    print(f\"Loss : {avg_loss:.4f}\")\n",
    "    return oof, avg_loss"
   ],
   "metadata": {
    "collapsed": false,
    "pycharm": {
     "name": "#%%\n"
    }
   }
  },
  {
   "cell_type": "code",
   "execution_count": 11,
   "outputs": [
    {
     "name": "stdout",
     "output_type": "stream",
     "text": [
      "xgboost's oof prediction\n",
      "========== Fold 1 ==========\n",
      "========== Fold 2 ==========\n",
      "========== Fold 3 ==========\n",
      "========== Fold 4 ==========\n",
      "========== Fold 5 ==========\n",
      "========== Fold 6 ==========\n",
      "========== Fold 7 ==========\n",
      "========== Fold 8 ==========\n",
      "========== Fold 9 ==========\n",
      "========== Fold 10 ==========\n",
      "Loss : 0.7919\n",
      "lightgbm's oof prediction\n",
      "========== Fold 1 ==========\n",
      "========== Fold 2 ==========\n",
      "========== Fold 3 ==========\n",
      "========== Fold 4 ==========\n",
      "========== Fold 5 ==========\n",
      "========== Fold 6 ==========\n",
      "========== Fold 7 ==========\n",
      "========== Fold 8 ==========\n",
      "========== Fold 9 ==========\n",
      "========== Fold 10 ==========\n",
      "Loss : 0.7914\n",
      "rf's oof prediction\n",
      "========== Fold 1 ==========\n",
      "========== Fold 2 ==========\n",
      "========== Fold 3 ==========\n",
      "========== Fold 4 ==========\n",
      "========== Fold 5 ==========\n",
      "========== Fold 6 ==========\n",
      "========== Fold 7 ==========\n",
      "========== Fold 8 ==========\n",
      "========== Fold 9 ==========\n",
      "========== Fold 10 ==========\n",
      "Loss : 0.7900\n",
      "hgb's oof prediction\n",
      "========== Fold 1 ==========\n",
      "========== Fold 2 ==========\n",
      "========== Fold 3 ==========\n",
      "========== Fold 4 ==========\n",
      "========== Fold 5 ==========\n",
      "========== Fold 6 ==========\n",
      "========== Fold 7 ==========\n",
      "========== Fold 8 ==========\n",
      "========== Fold 9 ==========\n",
      "========== Fold 10 ==========\n",
      "Loss : 0.7907\n",
      "logistic_nystroem's oof prediction\n",
      "========== Fold 1 ==========\n",
      "========== Fold 2 ==========\n",
      "========== Fold 3 ==========\n",
      "========== Fold 4 ==========\n",
      "========== Fold 5 ==========\n",
      "========== Fold 6 ==========\n",
      "========== Fold 7 ==========\n",
      "========== Fold 8 ==========\n",
      "========== Fold 9 ==========\n",
      "========== Fold 10 ==========\n",
      "Loss : 0.7907\n",
      "extra's oof prediction\n",
      "========== Fold 1 ==========\n",
      "========== Fold 2 ==========\n",
      "========== Fold 3 ==========\n",
      "========== Fold 4 ==========\n",
      "========== Fold 5 ==========\n",
      "========== Fold 6 ==========\n",
      "========== Fold 7 ==========\n",
      "========== Fold 8 ==========\n",
      "========== Fold 9 ==========\n",
      "========== Fold 10 ==========\n",
      "Loss : 0.7905\n"
     ]
    },
    {
     "data": {
      "text/plain": "[('xgboost', 0.7918582778035104),\n ('lightgbm', 0.7914190645996935),\n ('hgb', 0.7906928030592991),\n ('logistic_nystroem', 0.7906819089135675),\n ('extra', 0.7904825664807638),\n ('rf', 0.789982695960962)]"
     },
     "execution_count": 11,
     "metadata": {},
     "output_type": "execute_result"
    }
   ],
   "source": [
    "# 개별 모델 oof 후 스코어순으로 출력\n",
    "model_scores = [(model_name, oof_preds(X_origin_train, y_origin_train, model, model_name)[1]) for model_name, model in models.items()]\n",
    "model_scores.sort(key=lambda m: m[1], reverse=True)\n",
    "model_scores"
   ],
   "metadata": {
    "collapsed": false,
    "pycharm": {
     "name": "#%%\n"
    }
   }
  },
  {
   "cell_type": "code",
   "execution_count": 12,
   "outputs": [],
   "source": [
    "from sklearn.ensemble import VotingClassifier\n",
    "def run_k_fold(df_X, df_y, models, model_scores, num=6, weight=None):\n",
    "    start = 2\n",
    "    weights = [n for n in range(num, 0, -1)]\n",
    "    if weight=='balance':\n",
    "        weights = [1]*num\n",
    "    elif weight=='square':\n",
    "        weights = np.square(weights)\n",
    "    elif weight=='sqrt':\n",
    "        weights = np.sqrt(weights)\n",
    "    elif weight=='log':\n",
    "        weights = np.log(weights)\n",
    "\n",
    "    print(f'{weight}!!', weights)\n",
    "    best_score = 0\n",
    "    best_model_num = 0\n",
    "    best_model = None\n",
    "    for model_num in range(start, start+num-1):\n",
    "        chosen_models = [(model_scores[m_idx][0], models[model_scores[m_idx][0]]) for m_idx in range(model_num)]\n",
    "        chosen_model_names = [model_scores[m_idx][0] for m_idx in range(model_num)]\n",
    "        print(f'chosen models : {chosen_model_names}, weights : {weights[num-model_num:]}')\n",
    "        voter_model = VotingClassifier(chosen_models, weights = weights[num-model_num:], voting = 'soft')\n",
    "        oof, oof_score = oof_preds(df_X, df_y, voter_model)\n",
    "        if model_num==2 or best_score<oof_score:\n",
    "            best_score = oof_score\n",
    "            best_model_num = model_num\n",
    "            best_model = voter_model\n",
    "    print(f'best model 개수 : {best_model_num}, best oof score : {best_score}')\n",
    "    return best_model, best_model_num, best_score, weights[:best_model_num]"
   ],
   "metadata": {
    "collapsed": false,
    "pycharm": {
     "name": "#%%\n"
    }
   }
  },
  {
   "cell_type": "code",
   "execution_count": 13,
   "outputs": [],
   "source": [
    "from sklearn.metrics import confusion_matrix\n",
    "\n",
    "def plot_confusion_matrix(cm, title, model_name):\n",
    "    plt.figure(figsize=(5,5))\n",
    "    sns.heatmap(cm, annot=True, cmap='GnBu_r', cbar=False, fmt='.0f', annot_kws={\"size\": 17})\n",
    "    plt.xlabel('Predicted')\n",
    "    plt.ylabel('True')\n",
    "    plt.suptitle(title, fontsize=12, fontweight='bold')\n",
    "    plt.savefig(f'{model_name}_baseline.png')\n",
    "    plt.show()"
   ],
   "metadata": {
    "collapsed": false,
    "pycharm": {
     "name": "#%%\n"
    }
   }
  },
  {
   "cell_type": "code",
   "execution_count": 14,
   "outputs": [
    {
     "name": "stdout",
     "output_type": "stream",
     "text": [
      "None!! [6, 5, 4, 3, 2, 1]\n",
      "chosen models : ['xgboost', 'lightgbm'], weights : [2, 1]\n",
      "========== Fold 1 ==========\n",
      "========== Fold 2 ==========\n",
      "========== Fold 3 ==========\n",
      "========== Fold 4 ==========\n",
      "========== Fold 5 ==========\n",
      "========== Fold 6 ==========\n",
      "========== Fold 7 ==========\n",
      "========== Fold 8 ==========\n",
      "========== Fold 9 ==========\n",
      "========== Fold 10 ==========\n",
      "Loss : 0.7919\n",
      "chosen models : ['xgboost', 'lightgbm', 'hgb'], weights : [3, 2, 1]\n",
      "========== Fold 1 ==========\n",
      "========== Fold 2 ==========\n",
      "========== Fold 3 ==========\n",
      "========== Fold 4 ==========\n",
      "========== Fold 5 ==========\n",
      "========== Fold 6 ==========\n",
      "========== Fold 7 ==========\n",
      "========== Fold 8 ==========\n",
      "========== Fold 9 ==========\n",
      "========== Fold 10 ==========\n",
      "Loss : 0.7919\n",
      "chosen models : ['xgboost', 'lightgbm', 'hgb', 'logistic_nystroem'], weights : [4, 3, 2, 1]\n",
      "========== Fold 1 ==========\n",
      "========== Fold 2 ==========\n",
      "========== Fold 3 ==========\n",
      "========== Fold 4 ==========\n",
      "========== Fold 5 ==========\n",
      "========== Fold 6 ==========\n",
      "========== Fold 7 ==========\n",
      "========== Fold 8 ==========\n",
      "========== Fold 9 ==========\n",
      "========== Fold 10 ==========\n",
      "Loss : 0.7921\n",
      "chosen models : ['xgboost', 'lightgbm', 'hgb', 'logistic_nystroem', 'extra'], weights : [5, 4, 3, 2, 1]\n",
      "========== Fold 1 ==========\n",
      "========== Fold 2 ==========\n",
      "========== Fold 3 ==========\n",
      "========== Fold 4 ==========\n",
      "========== Fold 5 ==========\n",
      "========== Fold 6 ==========\n",
      "========== Fold 7 ==========\n",
      "========== Fold 8 ==========\n",
      "========== Fold 9 ==========\n",
      "========== Fold 10 ==========\n",
      "Loss : 0.7921\n",
      "chosen models : ['xgboost', 'lightgbm', 'hgb', 'logistic_nystroem', 'extra', 'rf'], weights : [6, 5, 4, 3, 2, 1]\n",
      "========== Fold 1 ==========\n",
      "========== Fold 2 ==========\n",
      "========== Fold 3 ==========\n",
      "========== Fold 4 ==========\n",
      "========== Fold 5 ==========\n",
      "========== Fold 6 ==========\n",
      "========== Fold 7 ==========\n",
      "========== Fold 8 ==========\n",
      "========== Fold 9 ==========\n",
      "========== Fold 10 ==========\n",
      "Loss : 0.7921\n",
      "best model 개수 : 5, best oof score : 0.7921468645852902\n"
     ]
    }
   ],
   "source": [
    "# auto\n",
    "best_model, k, best_score, weights = run_k_fold(X_origin_train, y_origin_train, models, model_scores, num=6)"
   ],
   "metadata": {
    "collapsed": false,
    "pycharm": {
     "name": "#%%\n"
    }
   }
  },
  {
   "cell_type": "code",
   "execution_count": 15,
   "outputs": [
    {
     "name": "stdout",
     "output_type": "stream",
     "text": [
      "5개 앙상블, chosen models : ['xgboost', 'lightgbm', 'hgb', 'logistic_nystroem', 'extra']\n",
      "Validation auc roc : 0.7929\n",
      "Validation acc : 0.8158\n",
      "Validation f1_score : 0.4949\n"
     ]
    }
   ],
   "source": [
    "from sklearn.metrics import accuracy_score, f1_score\n",
    "\n",
    "# 위에서 최고의 앙상블 모델 validation auc score 측정\n",
    "chosen_models = [(model_scores[m_idx][0], models[model_scores[m_idx][0]]) for m_idx in range(k)]\n",
    "chosen_model_names = [model_scores[m_idx][0] for m_idx in range(k)]\n",
    "val_preds_proba = best_model.predict_proba(X_origin_val)[:, 1]\n",
    "val_preds = best_model.predict(X_origin_val)\n",
    "val_score = roc_auc_score(y_origin_val, val_preds_proba)\n",
    "\n",
    "print(f'{k}개 앙상블, chosen models : {chosen_model_names}')\n",
    "print(\"Validation auc roc : %.4f\" % val_score)\n",
    "print(\"Validation acc : %.4f\" % accuracy_score(y_origin_val, val_preds))\n",
    "print(\"Validation f1_score : %.4f\" % f1_score(y_origin_val, val_preds))"
   ],
   "metadata": {
    "collapsed": false,
    "pycharm": {
     "name": "#%%\n"
    }
   }
  },
  {
   "cell_type": "code",
   "execution_count": 16,
   "outputs": [
    {
     "data": {
      "text/plain": "<Figure size 500x500 with 1 Axes>",
      "image/png": "[encoded data removed]"
     },
     "metadata": {},
     "output_type": "display_data"
    }
   ],
   "source": [
    "cm=confusion_matrix(y_origin_val, val_preds)\n",
    "plot_confusion_matrix(cm, 'ensemble Confusion Matrix', 'ensemble')"
   ],
   "metadata": {
    "collapsed": false,
    "pycharm": {
     "name": "#%%\n"
    }
   }
  },
  {
   "cell_type": "code",
   "execution_count": 17,
   "outputs": [
    {
     "name": "stdout",
     "output_type": "stream",
     "text": [
      "balance!! [1, 1, 1, 1, 1, 1]\n",
      "chosen models : ['xgboost', 'lightgbm'], weights : [1, 1]\n",
      "========== Fold 1 ==========\n",
      "========== Fold 2 ==========\n",
      "========== Fold 3 ==========\n",
      "========== Fold 4 ==========\n",
      "========== Fold 5 ==========\n",
      "========== Fold 6 ==========\n",
      "========== Fold 7 ==========\n",
      "========== Fold 8 ==========\n",
      "========== Fold 9 ==========\n",
      "========== Fold 10 ==========\n",
      "Loss : 0.7919\n",
      "chosen models : ['xgboost', 'lightgbm', 'hgb'], weights : [1, 1, 1]\n",
      "========== Fold 1 ==========\n",
      "========== Fold 2 ==========\n",
      "========== Fold 3 ==========\n",
      "========== Fold 4 ==========\n",
      "========== Fold 5 ==========\n",
      "========== Fold 6 ==========\n",
      "========== Fold 7 ==========\n",
      "========== Fold 8 ==========\n",
      "========== Fold 9 ==========\n",
      "========== Fold 10 ==========\n",
      "Loss : 0.7918\n",
      "chosen models : ['xgboost', 'lightgbm', 'hgb', 'logistic_nystroem'], weights : [1, 1, 1, 1]\n",
      "========== Fold 1 ==========\n",
      "========== Fold 2 ==========\n",
      "========== Fold 3 ==========\n",
      "========== Fold 4 ==========\n",
      "========== Fold 5 ==========\n",
      "========== Fold 6 ==========\n",
      "========== Fold 7 ==========\n",
      "========== Fold 8 ==========\n",
      "========== Fold 9 ==========\n",
      "========== Fold 10 ==========\n",
      "Loss : 0.7922\n",
      "chosen models : ['xgboost', 'lightgbm', 'hgb', 'logistic_nystroem', 'extra'], weights : [1, 1, 1, 1, 1]\n",
      "========== Fold 1 ==========\n",
      "========== Fold 2 ==========\n",
      "========== Fold 3 ==========\n",
      "========== Fold 4 ==========\n",
      "========== Fold 5 ==========\n",
      "========== Fold 6 ==========\n",
      "========== Fold 7 ==========\n",
      "========== Fold 8 ==========\n",
      "========== Fold 9 ==========\n",
      "========== Fold 10 ==========\n",
      "Loss : 0.7922\n",
      "chosen models : ['xgboost', 'lightgbm', 'hgb', 'logistic_nystroem', 'extra', 'rf'], weights : [1, 1, 1, 1, 1, 1]\n",
      "========== Fold 1 ==========\n",
      "========== Fold 2 ==========\n",
      "========== Fold 3 ==========\n",
      "========== Fold 4 ==========\n",
      "========== Fold 5 ==========\n",
      "========== Fold 6 ==========\n",
      "========== Fold 7 ==========\n",
      "========== Fold 8 ==========\n",
      "========== Fold 9 ==========\n",
      "========== Fold 10 ==========\n",
      "Loss : 0.7921\n",
      "best model 개수 : 4, best oof score : 0.7922002911759609\n",
      "4개 앙상블, chosen models : ['xgboost', 'lightgbm', 'hgb', 'logistic_nystroem']\n",
      "Validation auc roc : 0.7928\n",
      "Validation acc : 0.8159\n",
      "Validation f1_score : 0.4949\n"
     ]
    },
    {
     "data": {
      "text/plain": "<Figure size 500x500 with 1 Axes>",
      "image/png": "[encoded data removed]"
     },
     "metadata": {},
     "output_type": "display_data"
    }
   ],
   "source": [
    "# balance\n",
    "best_model, k, best_score, weights = run_k_fold(X_origin_train, y_origin_train, models, model_scores, num=6, weight='balance')\n",
    "# 위에서 최고의 앙상블 모델 validation auc score 측정\n",
    "chosen_models = [(model_scores[m_idx][0], models[model_scores[m_idx][0]]) for m_idx in range(k)]\n",
    "chosen_model_names = [model_scores[m_idx][0] for m_idx in range(k)]\n",
    "val_preds_proba = best_model.predict_proba(X_origin_val)[:, 1]\n",
    "val_preds = best_model.predict(X_origin_val)\n",
    "val_score = roc_auc_score(y_origin_val, val_preds_proba)\n",
    "\n",
    "print(f'{k}개 앙상블, chosen models : {chosen_model_names}')\n",
    "print(\"Validation auc roc : %.4f\" % val_score)\n",
    "print(\"Validation acc : %.4f\" % accuracy_score(y_origin_val, val_preds))\n",
    "print(\"Validation f1_score : %.4f\" % f1_score(y_origin_val, val_preds))\n",
    "cm=confusion_matrix(y_origin_val, val_preds)\n",
    "plot_confusion_matrix(cm, 'ensemble Confusion Matrix', 'ensemble')"
   ],
   "metadata": {
    "collapsed": false,
    "pycharm": {
     "name": "#%%\n"
    }
   }
  },
  {
   "cell_type": "code",
   "execution_count": 18,
   "outputs": [
    {
     "name": "stdout",
     "output_type": "stream",
     "text": [
      "None!! [6, 5, 4, 3, 2, 1]\n",
      "chosen models : ['xgboost', 'lightgbm'], weights : [2, 1]\n",
      "========== Fold 1 ==========\n",
      "========== Fold 2 ==========\n",
      "========== Fold 3 ==========\n",
      "========== Fold 4 ==========\n",
      "========== Fold 5 ==========\n",
      "========== Fold 6 ==========\n",
      "========== Fold 7 ==========\n",
      "========== Fold 8 ==========\n",
      "========== Fold 9 ==========\n",
      "========== Fold 10 ==========\n",
      "Loss : 0.7919\n",
      "chosen models : ['xgboost', 'lightgbm', 'hgb'], weights : [3, 2, 1]\n",
      "========== Fold 1 ==========\n",
      "========== Fold 2 ==========\n",
      "========== Fold 3 ==========\n",
      "========== Fold 4 ==========\n",
      "========== Fold 5 ==========\n",
      "========== Fold 6 ==========\n",
      "========== Fold 7 ==========\n",
      "========== Fold 8 ==========\n",
      "========== Fold 9 ==========\n",
      "========== Fold 10 ==========\n",
      "Loss : 0.7919\n",
      "chosen models : ['xgboost', 'lightgbm', 'hgb', 'logistic_nystroem'], weights : [4, 3, 2, 1]\n",
      "========== Fold 1 ==========\n",
      "========== Fold 2 ==========\n",
      "========== Fold 3 ==========\n",
      "========== Fold 4 ==========\n",
      "========== Fold 5 ==========\n",
      "========== Fold 6 ==========\n",
      "========== Fold 7 ==========\n",
      "========== Fold 8 ==========\n",
      "========== Fold 9 ==========\n",
      "========== Fold 10 ==========\n",
      "Loss : 0.7921\n",
      "chosen models : ['xgboost', 'lightgbm', 'hgb', 'logistic_nystroem', 'extra'], weights : [5, 4, 3, 2, 1]\n",
      "========== Fold 1 ==========\n",
      "========== Fold 2 ==========\n",
      "========== Fold 3 ==========\n",
      "========== Fold 4 ==========\n",
      "========== Fold 5 ==========\n",
      "========== Fold 6 ==========\n",
      "========== Fold 7 ==========\n",
      "========== Fold 8 ==========\n",
      "========== Fold 9 ==========\n",
      "========== Fold 10 ==========\n",
      "Loss : 0.7921\n",
      "chosen models : ['xgboost', 'lightgbm', 'hgb', 'logistic_nystroem', 'extra', 'rf'], weights : [6, 5, 4, 3, 2, 1]\n",
      "========== Fold 1 ==========\n",
      "========== Fold 2 ==========\n",
      "========== Fold 3 ==========\n",
      "========== Fold 4 ==========\n",
      "========== Fold 5 ==========\n",
      "========== Fold 6 ==========\n",
      "========== Fold 7 ==========\n",
      "========== Fold 8 ==========\n",
      "========== Fold 9 ==========\n",
      "========== Fold 10 ==========\n",
      "Loss : 0.7921\n",
      "best model 개수 : 5, best oof score : 0.7921468645852902\n",
      "5개 앙상블, chosen models : ['xgboost', 'lightgbm', 'hgb', 'logistic_nystroem', 'extra']\n",
      "Validation auc roc : 0.7929\n",
      "Validation acc : 0.8158\n",
      "Validation f1_score : 0.4949\n"
     ]
    },
    {
     "data": {
      "text/plain": "<Figure size 500x500 with 1 Axes>",
      "image/png": "[encoded data removed]"
     },
     "metadata": {},
     "output_type": "display_data"
    }
   ],
   "source": [
    "# None\n",
    "best_model, k, best_score, weights = run_k_fold(X_origin_train, y_origin_train, models, model_scores, num=6)\n",
    "# 위에서 최고의 앙상블 모델 validation auc score 측정\n",
    "chosen_models = [(model_scores[m_idx][0], models[model_scores[m_idx][0]]) for m_idx in range(k)]\n",
    "chosen_model_names = [model_scores[m_idx][0] for m_idx in range(k)]\n",
    "val_preds_proba = best_model.predict_proba(X_origin_val)[:, 1]\n",
    "val_preds = best_model.predict(X_origin_val)\n",
    "val_score = roc_auc_score(y_origin_val, val_preds_proba)\n",
    "\n",
    "print(f'{k}개 앙상블, chosen models : {chosen_model_names}')\n",
    "print(\"Validation auc roc : %.4f\" % val_score)\n",
    "print(\"Validation acc : %.4f\" % accuracy_score(y_origin_val, val_preds))\n",
    "print(\"Validation f1_score : %.4f\" % f1_score(y_origin_val, val_preds))\n",
    "cm=confusion_matrix(y_origin_val, val_preds)\n",
    "plot_confusion_matrix(cm, 'ensemble Confusion Matrix', 'ensemble')"
   ],
   "metadata": {
    "collapsed": false,
    "pycharm": {
     "name": "#%%\n"
    }
   }
  },
  {
   "cell_type": "code",
   "execution_count": 19,
   "outputs": [
    {
     "name": "stdout",
     "output_type": "stream",
     "text": [
      "square!! [36 25 16  9  4  1]\n",
      "chosen models : ['xgboost', 'lightgbm'], weights : [4 1]\n",
      "========== Fold 1 ==========\n",
      "========== Fold 2 ==========\n",
      "========== Fold 3 ==========\n",
      "========== Fold 4 ==========\n",
      "========== Fold 5 ==========\n",
      "========== Fold 6 ==========\n",
      "========== Fold 7 ==========\n",
      "========== Fold 8 ==========\n",
      "========== Fold 9 ==========\n",
      "========== Fold 10 ==========\n",
      "Loss : 0.7919\n",
      "chosen models : ['xgboost', 'lightgbm', 'hgb'], weights : [9 4 1]\n",
      "========== Fold 1 ==========\n",
      "========== Fold 2 ==========\n",
      "========== Fold 3 ==========\n",
      "========== Fold 4 ==========\n",
      "========== Fold 5 ==========\n",
      "========== Fold 6 ==========\n",
      "========== Fold 7 ==========\n",
      "========== Fold 8 ==========\n",
      "========== Fold 9 ==========\n",
      "========== Fold 10 ==========\n",
      "Loss : 0.7919\n",
      "chosen models : ['xgboost', 'lightgbm', 'hgb', 'logistic_nystroem'], weights : [16  9  4  1]\n",
      "========== Fold 1 ==========\n",
      "========== Fold 2 ==========\n",
      "========== Fold 3 ==========\n",
      "========== Fold 4 ==========\n",
      "========== Fold 5 ==========\n",
      "========== Fold 6 ==========\n",
      "========== Fold 7 ==========\n",
      "========== Fold 8 ==========\n",
      "========== Fold 9 ==========\n",
      "========== Fold 10 ==========\n",
      "Loss : 0.7920\n",
      "chosen models : ['xgboost', 'lightgbm', 'hgb', 'logistic_nystroem', 'extra'], weights : [25 16  9  4  1]\n",
      "========== Fold 1 ==========\n",
      "========== Fold 2 ==========\n",
      "========== Fold 3 ==========\n",
      "========== Fold 4 ==========\n",
      "========== Fold 5 ==========\n",
      "========== Fold 6 ==========\n",
      "========== Fold 7 ==========\n",
      "========== Fold 8 ==========\n",
      "========== Fold 9 ==========\n",
      "========== Fold 10 ==========\n",
      "Loss : 0.7921\n",
      "chosen models : ['xgboost', 'lightgbm', 'hgb', 'logistic_nystroem', 'extra', 'rf'], weights : [36 25 16  9  4  1]\n",
      "========== Fold 1 ==========\n",
      "========== Fold 2 ==========\n",
      "========== Fold 3 ==========\n",
      "========== Fold 4 ==========\n",
      "========== Fold 5 ==========\n",
      "========== Fold 6 ==========\n",
      "========== Fold 7 ==========\n",
      "========== Fold 8 ==========\n",
      "========== Fold 9 ==========\n",
      "========== Fold 10 ==========\n",
      "Loss : 0.7921\n",
      "best model 개수 : 6, best oof score : 0.7920994394242162\n",
      "6개 앙상블, chosen models : ['xgboost', 'lightgbm', 'hgb', 'logistic_nystroem', 'extra', 'rf']\n",
      "Validation auc roc : 0.7928\n",
      "Validation acc : 0.8157\n",
      "Validation f1_score : 0.4950\n"
     ]
    },
    {
     "data": {
      "text/plain": "<Figure size 500x500 with 1 Axes>",
      "image/png": "[encoded data removed]"
     },
     "metadata": {},
     "output_type": "display_data"
    }
   ],
   "source": [
    "# None\n",
    "best_model, k, best_score, weights = run_k_fold(X_origin_train, y_origin_train, models, model_scores, num=6, weight='square')\n",
    "# 위에서 최고의 앙상블 모델 validation auc score 측정\n",
    "chosen_models = [(model_scores[m_idx][0], models[model_scores[m_idx][0]]) for m_idx in range(k)]\n",
    "chosen_model_names = [model_scores[m_idx][0] for m_idx in range(k)]\n",
    "val_preds_proba = best_model.predict_proba(X_origin_val)[:, 1]\n",
    "val_preds = best_model.predict(X_origin_val)\n",
    "val_score = roc_auc_score(y_origin_val, val_preds_proba)\n",
    "\n",
    "print(f'{k}개 앙상블, chosen models : {chosen_model_names}')\n",
    "print(\"Validation auc roc : %.4f\" % val_score)\n",
    "print(\"Validation acc : %.4f\" % accuracy_score(y_origin_val, val_preds))\n",
    "print(\"Validation f1_score : %.4f\" % f1_score(y_origin_val, val_preds))\n",
    "cm=confusion_matrix(y_origin_val, val_preds)\n",
    "plot_confusion_matrix(cm, 'ensemble Confusion Matrix', 'ensemble')"
   ],
   "metadata": {
    "collapsed": false,
    "pycharm": {
     "name": "#%%\n"
    }
   }
  },
  {
   "cell_type": "code",
   "execution_count": 20,
   "outputs": [
    {
     "name": "stdout",
     "output_type": "stream",
     "text": [
      "sqrt!! [2.44948974 2.23606798 2.         1.73205081 1.41421356 1.        ]\n",
      "chosen models : ['xgboost', 'lightgbm'], weights : [1.41421356 1.        ]\n",
      "========== Fold 1 ==========\n",
      "========== Fold 2 ==========\n",
      "========== Fold 3 ==========\n",
      "========== Fold 4 ==========\n",
      "========== Fold 5 ==========\n",
      "========== Fold 6 ==========\n",
      "========== Fold 7 ==========\n",
      "========== Fold 8 ==========\n",
      "========== Fold 9 ==========\n",
      "========== Fold 10 ==========\n",
      "Loss : 0.7919\n",
      "chosen models : ['xgboost', 'lightgbm', 'hgb'], weights : [1.73205081 1.41421356 1.        ]\n",
      "========== Fold 1 ==========\n",
      "========== Fold 2 ==========\n",
      "========== Fold 3 ==========\n",
      "========== Fold 4 ==========\n",
      "========== Fold 5 ==========\n",
      "========== Fold 6 ==========\n",
      "========== Fold 7 ==========\n",
      "========== Fold 8 ==========\n",
      "========== Fold 9 ==========\n",
      "========== Fold 10 ==========\n",
      "Loss : 0.7919\n",
      "chosen models : ['xgboost', 'lightgbm', 'hgb', 'logistic_nystroem'], weights : [2.         1.73205081 1.41421356 1.        ]\n",
      "========== Fold 1 ==========\n",
      "========== Fold 2 ==========\n",
      "========== Fold 3 ==========\n",
      "========== Fold 4 ==========\n",
      "========== Fold 5 ==========\n",
      "========== Fold 6 ==========\n",
      "========== Fold 7 ==========\n",
      "========== Fold 8 ==========\n",
      "========== Fold 9 ==========\n",
      "========== Fold 10 ==========\n",
      "Loss : 0.7921\n",
      "chosen models : ['xgboost', 'lightgbm', 'hgb', 'logistic_nystroem', 'extra'], weights : [2.23606798 2.         1.73205081 1.41421356 1.        ]\n",
      "========== Fold 1 ==========\n",
      "========== Fold 2 ==========\n",
      "========== Fold 3 ==========\n",
      "========== Fold 4 ==========\n",
      "========== Fold 5 ==========\n",
      "========== Fold 6 ==========\n",
      "========== Fold 7 ==========\n",
      "========== Fold 8 ==========\n",
      "========== Fold 9 ==========\n",
      "========== Fold 10 ==========\n",
      "Loss : 0.7922\n",
      "chosen models : ['xgboost', 'lightgbm', 'hgb', 'logistic_nystroem', 'extra', 'rf'], weights : [2.44948974 2.23606798 2.         1.73205081 1.41421356 1.        ]\n",
      "========== Fold 1 ==========\n",
      "========== Fold 2 ==========\n",
      "========== Fold 3 ==========\n",
      "========== Fold 4 ==========\n",
      "========== Fold 5 ==========\n",
      "========== Fold 6 ==========\n",
      "========== Fold 7 ==========\n",
      "========== Fold 8 ==========\n",
      "========== Fold 9 ==========\n",
      "========== Fold 10 ==========\n",
      "Loss : 0.7921\n",
      "best model 개수 : 5, best oof score : 0.79218688738881\n",
      "5개 앙상블, chosen models : ['xgboost', 'lightgbm', 'hgb', 'logistic_nystroem', 'extra']\n",
      "Validation auc roc : 0.7930\n",
      "Validation acc : 0.8158\n",
      "Validation f1_score : 0.4943\n"
     ]
    },
    {
     "data": {
      "text/plain": "<Figure size 500x500 with 1 Axes>",
      "image/png": "[encoded data removed]"
     },
     "metadata": {},
     "output_type": "display_data"
    }
   ],
   "source": [
    "# None\n",
    "best_model, k, best_score, weights = run_k_fold(X_origin_train, y_origin_train, models, model_scores, num=6, weight='sqrt')\n",
    "# 위에서 최고의 앙상블 모델 validation auc score 측정\n",
    "chosen_models = [(model_scores[m_idx][0], models[model_scores[m_idx][0]]) for m_idx in range(k)]\n",
    "chosen_model_names = [model_scores[m_idx][0] for m_idx in range(k)]\n",
    "val_preds_proba = best_model.predict_proba(X_origin_val)[:, 1]\n",
    "val_preds = best_model.predict(X_origin_val)\n",
    "val_score = roc_auc_score(y_origin_val, val_preds_proba)\n",
    "\n",
    "print(f'{k}개 앙상블, chosen models : {chosen_model_names}')\n",
    "print(\"Validation auc roc : %.4f\" % val_score)\n",
    "print(\"Validation acc : %.4f\" % accuracy_score(y_origin_val, val_preds))\n",
    "print(\"Validation f1_score : %.4f\" % f1_score(y_origin_val, val_preds))\n",
    "cm=confusion_matrix(y_origin_val, val_preds)\n",
    "plot_confusion_matrix(cm, 'ensemble Confusion Matrix', 'ensemble')"
   ],
   "metadata": {
    "collapsed": false,
    "pycharm": {
     "name": "#%%\n"
    }
   }
  },
  {
   "cell_type": "code",
   "execution_count": 21,
   "outputs": [
    {
     "name": "stdout",
     "output_type": "stream",
     "text": [
      "log!! [1.79175947 1.60943791 1.38629436 1.09861229 0.69314718 0.        ]\n",
      "chosen models : ['xgboost', 'lightgbm'], weights : [0.69314718 0.        ]\n",
      "========== Fold 1 ==========\n",
      "========== Fold 2 ==========\n",
      "========== Fold 3 ==========\n",
      "========== Fold 4 ==========\n",
      "========== Fold 5 ==========\n",
      "========== Fold 6 ==========\n",
      "========== Fold 7 ==========\n",
      "========== Fold 8 ==========\n",
      "========== Fold 9 ==========\n",
      "========== Fold 10 ==========\n",
      "Loss : 0.7919\n",
      "chosen models : ['xgboost', 'lightgbm', 'hgb'], weights : [1.09861229 0.69314718 0.        ]\n",
      "========== Fold 1 ==========\n",
      "========== Fold 2 ==========\n",
      "========== Fold 3 ==========\n",
      "========== Fold 4 ==========\n",
      "========== Fold 5 ==========\n",
      "========== Fold 6 ==========\n",
      "========== Fold 7 ==========\n",
      "========== Fold 8 ==========\n",
      "========== Fold 9 ==========\n",
      "========== Fold 10 ==========\n",
      "Loss : 0.7919\n",
      "chosen models : ['xgboost', 'lightgbm', 'hgb', 'logistic_nystroem'], weights : [1.38629436 1.09861229 0.69314718 0.        ]\n",
      "========== Fold 1 ==========\n",
      "========== Fold 2 ==========\n",
      "========== Fold 3 ==========\n",
      "========== Fold 4 ==========\n",
      "========== Fold 5 ==========\n",
      "========== Fold 6 ==========\n",
      "========== Fold 7 ==========\n",
      "========== Fold 8 ==========\n",
      "========== Fold 9 ==========\n",
      "========== Fold 10 ==========\n",
      "Loss : 0.7919\n",
      "chosen models : ['xgboost', 'lightgbm', 'hgb', 'logistic_nystroem', 'extra'], weights : [1.60943791 1.38629436 1.09861229 0.69314718 0.        ]\n",
      "========== Fold 1 ==========\n",
      "========== Fold 2 ==========\n",
      "========== Fold 3 ==========\n",
      "========== Fold 4 ==========\n",
      "========== Fold 5 ==========\n",
      "========== Fold 6 ==========\n",
      "========== Fold 7 ==========\n",
      "========== Fold 8 ==========\n",
      "========== Fold 9 ==========\n",
      "========== Fold 10 ==========\n",
      "Loss : 0.7921\n",
      "chosen models : ['xgboost', 'lightgbm', 'hgb', 'logistic_nystroem', 'extra', 'rf'], weights : [1.79175947 1.60943791 1.38629436 1.09861229 0.69314718 0.        ]\n",
      "========== Fold 1 ==========\n",
      "========== Fold 2 ==========\n",
      "========== Fold 3 ==========\n",
      "========== Fold 4 ==========\n",
      "========== Fold 5 ==========\n",
      "========== Fold 6 ==========\n",
      "========== Fold 7 ==========\n",
      "========== Fold 8 ==========\n",
      "========== Fold 9 ==========\n",
      "========== Fold 10 ==========\n",
      "Loss : 0.7922\n",
      "best model 개수 : 6, best oof score : 0.7921848467415175\n",
      "6개 앙상블, chosen models : ['xgboost', 'lightgbm', 'hgb', 'logistic_nystroem', 'extra', 'rf']\n",
      "Validation auc roc : 0.7930\n",
      "Validation acc : 0.8156\n",
      "Validation f1_score : 0.4940\n"
     ]
    },
    {
     "data": {
      "text/plain": "<Figure size 500x500 with 1 Axes>",
      "image/png": "[encoded data removed]"
     },
     "metadata": {},
     "output_type": "display_data"
    }
   ],
   "source": [
    "# None\n",
    "best_model, k, best_score, weights = run_k_fold(X_origin_train, y_origin_train, models, model_scores, num=6, weight='log')\n",
    "# 위에서 최고의 앙상블 모델 validation auc score 측정\n",
    "chosen_models = [(model_scores[m_idx][0], models[model_scores[m_idx][0]]) for m_idx in range(k)]\n",
    "chosen_model_names = [model_scores[m_idx][0] for m_idx in range(k)]\n",
    "val_preds_proba = best_model.predict_proba(X_origin_val)[:, 1]\n",
    "val_preds = best_model.predict(X_origin_val)\n",
    "val_score = roc_auc_score(y_origin_val, val_preds_proba)\n",
    "\n",
    "print(f'{k}개 앙상블, chosen models : {chosen_model_names}')\n",
    "print(\"Validation auc roc : %.4f\" % val_score)\n",
    "print(\"Validation acc : %.4f\" % accuracy_score(y_origin_val, val_preds))\n",
    "print(\"Validation f1_score : %.4f\" % f1_score(y_origin_val, val_preds))\n",
    "cm=confusion_matrix(y_origin_val, val_preds)\n",
    "plot_confusion_matrix(cm, 'ensemble Confusion Matrix', 'ensemble')"
   ],
   "metadata": {
    "collapsed": false,
    "pycharm": {
     "name": "#%%\n"
    }
   }
  },
  {
   "cell_type": "code",
   "execution_count": 21,
   "outputs": [],
   "source": [],
   "metadata": {
    "collapsed": false,
    "pycharm": {
     "name": "#%%\n"
    }
   }
  },
  {
   "cell_type": "code",
   "execution_count": 21,
   "outputs": [],
   "source": [],
   "metadata": {
    "collapsed": false,
    "pycharm": {
     "name": "#%%\n"
    }
   }
  },
  {
   "cell_type": "code",
   "execution_count": 21,
   "outputs": [],
   "source": [],
   "metadata": {
    "collapsed": false,
    "pycharm": {
     "name": "#%%\n"
    }
   }
  },
  {
   "cell_type": "code",
   "execution_count": 26,
   "outputs": [
    {
     "name": "stdout",
     "output_type": "stream",
     "text": [
      "========== Fold 1 ==========\n",
      "========== Fold 2 ==========\n",
      "========== Fold 3 ==========\n",
      "========== Fold 4 ==========\n",
      "========== Fold 5 ==========\n",
      "========== Fold 6 ==========\n",
      "========== Fold 7 ==========\n",
      "========== Fold 8 ==========\n",
      "========== Fold 9 ==========\n",
      "========== Fold 10 ==========\n",
      "Loss : 0.7926\n",
      "전체 데이터 validation auc score : 0.7926293025586119\n"
     ]
    }
   ],
   "source": [
    "# 같은 옵션으로 앙상블 모델 구성\n",
    "# 전체 데이터로 학습\n",
    "weights = [2.23606798, 2.,         1.73205081, 1.41421356, 1.        ]\n",
    "final_model = VotingClassifier(chosen_models[:5], weights = weights, voting = 'soft')\n",
    "oof, oof_score = oof_preds(X, y, final_model)\n",
    "print(f'전체 데이터 validation auc score : {oof_score}')"
   ],
   "metadata": {
    "collapsed": false,
    "pycharm": {
     "name": "#%%\n"
    }
   }
  },
  {
   "cell_type": "code",
   "execution_count": 27,
   "outputs": [],
   "source": [
    "submission['defects'] = final_model.predict_proba(test_df)[:, 1]"
   ],
   "metadata": {
    "collapsed": false,
    "pycharm": {
     "name": "#%%\n"
    }
   }
  },
  {
   "cell_type": "code",
   "execution_count": 28,
   "outputs": [],
   "source": [
    "submission.to_csv(data_path+'submission/ensemble_final.csv')"
   ],
   "metadata": {
    "collapsed": false,
    "pycharm": {
     "name": "#%%\n"
    }
   }
  },
  {
   "cell_type": "code",
   "execution_count": 29,
   "outputs": [
    {
     "data": {
      "text/plain": "<Axes: xlabel='id'>"
     },
     "execution_count": 29,
     "metadata": {},
     "output_type": "execute_result"
    },
    {
     "data": {
      "text/plain": "<Figure size 640x480 with 1 Axes>",
      "image/png": "[encoded data removed]"
     },
     "metadata": {},
     "output_type": "display_data"
    }
   ],
   "source": [
    "submission['defects'].cumsum().plot()"
   ],
   "metadata": {
    "collapsed": false,
    "pycharm": {
     "name": "#%%\n"
    }
   }
  },
  {
   "cell_type": "code",
   "execution_count": 25,
   "outputs": [],
   "source": [],
   "metadata": {
    "collapsed": false,
    "pycharm": {
     "name": "#%%\n"
    }
   }
  }
 ],
 "metadata": {
  "kernelspec": {
   "display_name": "Python 3",
   "language": "python",
   "name": "python3"
  },
  "language_info": {
   "codemirror_mode": {
    "name": "ipython",
    "version": 2
   },
   "file_extension": ".py",
   "mimetype": "text/x-python",
   "name": "python",
   "nbconvert_exporter": "python",
   "pygments_lexer": "ipython2",
   "version": "2.7.6"
  }
 },
 "nbformat": 4,
 "nbformat_minor": 0
}