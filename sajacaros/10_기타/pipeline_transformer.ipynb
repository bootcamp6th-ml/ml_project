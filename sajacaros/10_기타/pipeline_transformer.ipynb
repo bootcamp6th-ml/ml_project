{
 "cells": [
  {
   "cell_type": "markdown",
   "source": [
    "# sklearn pipeline & transformer\n",
    "# [ColumnTransformer API](https://scikit-learn.org/stable/modules/generated/sklearn.compose.ColumnTransformer.html)"
   ],
   "metadata": {
    "collapsed": false,
    "pycharm": {
     "name": "#%% md\n"
    }
   }
  },
  {
   "cell_type": "code",
   "execution_count": 1,
   "metadata": {
    "collapsed": true
   },
   "outputs": [],
   "source": [
    "import pandas as pd\n",
    "from sklearn.preprocessing import OneHotEncoder\n",
    "from sklearn.compose import make_column_transformer\n",
    "from sklearn.preprocessing import MinMaxScaler\n",
    "from sklearn.pipeline import make_pipeline"
   ]
  },
  {
   "cell_type": "code",
   "execution_count": 7,
   "outputs": [
    {
     "name": "stdout",
     "output_type": "stream",
     "text": [
      "[[ 0.  1.  0.  2.  1.]\n",
      " [ 0.  1.  0.  3.  2.]\n",
      " [ 0.  1.  0.  3.  4.]\n",
      " [ 0.  1.  0.  5.  5.]\n",
      " [ 1.  0.  0.  7.  5.]\n",
      " [ 0.  1.  0.  2.  5.]\n",
      " [ 1.  0.  0.  8.  9.]\n",
      " [ 1.  0.  0.  9. 10.]\n",
      " [ 1.  0.  0.  6. 12.]\n",
      " [ 1.  0.  0.  9.  2.]\n",
      " [ 1.  0.  0.  6. 10.]\n",
      " [ 0.  0.  1.  2.  4.]]\n"
     ]
    }
   ],
   "source": [
    "#hour, attendance, region, score\n",
    "df = pd.DataFrame([\n",
    "    [2, 1, 'country', 3],\n",
    "    [3, 2, 'country', 5],\n",
    "    [3, 4, 'country', 7],\n",
    "    [5, 5, 'country', 10],\n",
    "    [7, 5, 'city', 12],\n",
    "    [2, 5, 'country', 7],\n",
    "    [8, 9, 'city', 13],\n",
    "    [9, 10, 'city', 13],\n",
    "    [6, 12, 'city', 12],\n",
    "    [9, 2, 'city', 13],\n",
    "    [6, 10, 'city', 12],\n",
    "    [2, 4, 'world', 6]\n",
    "], columns=['hour', 'attendance', 'region', 'score'])\n",
    "\n",
    "##########데이터 전처리\n",
    "x_data = df.drop(['score'], axis=1)\n",
    "y_data = df['score']\n",
    "\n",
    "preprocess = make_column_transformer(\n",
    "        (OneHotEncoder(), [2]),\n",
    "        remainder='passthrough')\n",
    "transformer = make_pipeline(preprocess, MinMaxScaler())\n",
    "transformer.fit(x_data)\n",
    "x_data = transformer.transform(x_data)\n",
    "print(x_data)"
   ],
   "metadata": {
    "collapsed": false,
    "pycharm": {
     "name": "#%%\n"
    }
   }
  },
  {
   "cell_type": "code",
   "execution_count": null,
   "outputs": [],
   "source": [],
   "metadata": {
    "collapsed": false,
    "pycharm": {
     "name": "#%%\n"
    }
   }
  }
 ],
 "metadata": {
  "kernelspec": {
   "display_name": "Python 3",
   "language": "python",
   "name": "python3"
  },
  "language_info": {
   "codemirror_mode": {
    "name": "ipython",
    "version": 2
   },
   "file_extension": ".py",
   "mimetype": "text/x-python",
   "name": "python",
   "nbconvert_exporter": "python",
   "pygments_lexer": "ipython2",
   "version": "2.7.6"
  }
 },
 "nbformat": 4,
 "nbformat_minor": 0
}